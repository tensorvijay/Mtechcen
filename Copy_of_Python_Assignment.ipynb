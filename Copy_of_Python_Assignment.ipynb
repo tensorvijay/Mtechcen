{
  "nbformat": 4,
  "nbformat_minor": 0,
  "metadata": {
    "colab": {
      "provenance": [],
      "mount_file_id": "1Ynqdu8OeZHyNk3nRQsPN8u8JSnjMfYjA",
      "authorship_tag": "ABX9TyN59jdLovanwBNV75rGpblg",
      "include_colab_link": true
    },
    "kernelspec": {
      "name": "python3",
      "display_name": "Python 3"
    },
    "language_info": {
      "name": "python"
    }
  },
  "cells": [
    {
      "cell_type": "markdown",
      "metadata": {
        "id": "view-in-github",
        "colab_type": "text"
      },
      "source": [
        "<a href=\"https://colab.research.google.com/github/tensorvijay/Mtechcen/blob/master/Copy_of_Python_Assignment.ipynb\" target=\"_parent\"><img src=\"https://colab.research.google.com/assets/colab-badge.svg\" alt=\"Open In Colab\"/></a>"
      ]
    },
    {
      "cell_type": "code",
      "execution_count": null,
      "metadata": {
        "id": "hPmvdLWkc9MN"
      },
      "outputs": [],
      "source": [
        "import numpy as np\n",
        "import pandas as pd\n",
        "import os"
      ]
    },
    {
      "cell_type": "markdown",
      "source": [
        "3. A shopkeeper want to give his clients the balance amount with minimum number of notes.\n",
        "Write a program to find out the notes and their counts, so that the total number of notes is\n",
        "minimum.\n",
        "Eg: If he has entered 1339, the system should display ( the counts given for 5 in the question is wrong )"
      ],
      "metadata": {
        "id": "N0s4eJNgRDFv"
      }
    },
    {
      "cell_type": "code",
      "source": [
        "def c_n_notes(m,n):    # current and next notes\n",
        "  return m // n, m %n"
      ],
      "metadata": {
        "id": "mbRnPx93sR_D"
      },
      "execution_count": null,
      "outputs": []
    },
    {
      "cell_type": "code",
      "source": [
        "def r_m_change(a):\n",
        "  counts = []\n",
        "  notes = [\"2000\", \"500\", \"200\",\"100\",\"50\",\"20\",\"10\",\"5\",\"2\",\"1\"]\n",
        "  for i in notes:\n",
        "    m,n = c_n_notes(a,int(i))\n",
        "    counts.append(m)\n",
        "    a=n\n",
        "  data = {\"Notes\":notes,\"Counts\":counts}\n",
        "  df=pd.DataFrame(data)\n",
        "  return df\n"
      ],
      "metadata": {
        "id": "CjjBpVCENZet"
      },
      "execution_count": null,
      "outputs": []
    },
    {
      "cell_type": "code",
      "source": [
        "r_m_change(2339)"
      ],
      "metadata": {
        "colab": {
          "base_uri": "https://localhost:8080/",
          "height": 363
        },
        "id": "d5GgwudaDaaD",
        "outputId": "0382834a-0a41-46fc-f0f0-071f099ab05d"
      },
      "execution_count": null,
      "outputs": [
        {
          "output_type": "execute_result",
          "data": {
            "text/plain": [
              "  Notes  Counts\n",
              "0  2000       1\n",
              "1   500       0\n",
              "2   200       1\n",
              "3   100       1\n",
              "4    50       0\n",
              "5    20       1\n",
              "6    10       1\n",
              "7     5       1\n",
              "8     2       2\n",
              "9     1       0"
            ],
            "text/html": [
              "\n",
              "  <div id=\"df-7efbb05d-db67-4d15-8b38-3277e4e1b956\" class=\"colab-df-container\">\n",
              "    <div>\n",
              "<style scoped>\n",
              "    .dataframe tbody tr th:only-of-type {\n",
              "        vertical-align: middle;\n",
              "    }\n",
              "\n",
              "    .dataframe tbody tr th {\n",
              "        vertical-align: top;\n",
              "    }\n",
              "\n",
              "    .dataframe thead th {\n",
              "        text-align: right;\n",
              "    }\n",
              "</style>\n",
              "<table border=\"1\" class=\"dataframe\">\n",
              "  <thead>\n",
              "    <tr style=\"text-align: right;\">\n",
              "      <th></th>\n",
              "      <th>Notes</th>\n",
              "      <th>Counts</th>\n",
              "    </tr>\n",
              "  </thead>\n",
              "  <tbody>\n",
              "    <tr>\n",
              "      <th>0</th>\n",
              "      <td>2000</td>\n",
              "      <td>1</td>\n",
              "    </tr>\n",
              "    <tr>\n",
              "      <th>1</th>\n",
              "      <td>500</td>\n",
              "      <td>0</td>\n",
              "    </tr>\n",
              "    <tr>\n",
              "      <th>2</th>\n",
              "      <td>200</td>\n",
              "      <td>1</td>\n",
              "    </tr>\n",
              "    <tr>\n",
              "      <th>3</th>\n",
              "      <td>100</td>\n",
              "      <td>1</td>\n",
              "    </tr>\n",
              "    <tr>\n",
              "      <th>4</th>\n",
              "      <td>50</td>\n",
              "      <td>0</td>\n",
              "    </tr>\n",
              "    <tr>\n",
              "      <th>5</th>\n",
              "      <td>20</td>\n",
              "      <td>1</td>\n",
              "    </tr>\n",
              "    <tr>\n",
              "      <th>6</th>\n",
              "      <td>10</td>\n",
              "      <td>1</td>\n",
              "    </tr>\n",
              "    <tr>\n",
              "      <th>7</th>\n",
              "      <td>5</td>\n",
              "      <td>1</td>\n",
              "    </tr>\n",
              "    <tr>\n",
              "      <th>8</th>\n",
              "      <td>2</td>\n",
              "      <td>2</td>\n",
              "    </tr>\n",
              "    <tr>\n",
              "      <th>9</th>\n",
              "      <td>1</td>\n",
              "      <td>0</td>\n",
              "    </tr>\n",
              "  </tbody>\n",
              "</table>\n",
              "</div>\n",
              "    <div class=\"colab-df-buttons\">\n",
              "\n",
              "  <div class=\"colab-df-container\">\n",
              "    <button class=\"colab-df-convert\" onclick=\"convertToInteractive('df-7efbb05d-db67-4d15-8b38-3277e4e1b956')\"\n",
              "            title=\"Convert this dataframe to an interactive table.\"\n",
              "            style=\"display:none;\">\n",
              "\n",
              "  <svg xmlns=\"http://www.w3.org/2000/svg\" height=\"24px\" viewBox=\"0 -960 960 960\">\n",
              "    <path d=\"M120-120v-720h720v720H120Zm60-500h600v-160H180v160Zm220 220h160v-160H400v160Zm0 220h160v-160H400v160ZM180-400h160v-160H180v160Zm440 0h160v-160H620v160ZM180-180h160v-160H180v160Zm440 0h160v-160H620v160Z\"/>\n",
              "  </svg>\n",
              "    </button>\n",
              "\n",
              "  <style>\n",
              "    .colab-df-container {\n",
              "      display:flex;\n",
              "      gap: 12px;\n",
              "    }\n",
              "\n",
              "    .colab-df-convert {\n",
              "      background-color: #E8F0FE;\n",
              "      border: none;\n",
              "      border-radius: 50%;\n",
              "      cursor: pointer;\n",
              "      display: none;\n",
              "      fill: #1967D2;\n",
              "      height: 32px;\n",
              "      padding: 0 0 0 0;\n",
              "      width: 32px;\n",
              "    }\n",
              "\n",
              "    .colab-df-convert:hover {\n",
              "      background-color: #E2EBFA;\n",
              "      box-shadow: 0px 1px 2px rgba(60, 64, 67, 0.3), 0px 1px 3px 1px rgba(60, 64, 67, 0.15);\n",
              "      fill: #174EA6;\n",
              "    }\n",
              "\n",
              "    .colab-df-buttons div {\n",
              "      margin-bottom: 4px;\n",
              "    }\n",
              "\n",
              "    [theme=dark] .colab-df-convert {\n",
              "      background-color: #3B4455;\n",
              "      fill: #D2E3FC;\n",
              "    }\n",
              "\n",
              "    [theme=dark] .colab-df-convert:hover {\n",
              "      background-color: #434B5C;\n",
              "      box-shadow: 0px 1px 3px 1px rgba(0, 0, 0, 0.15);\n",
              "      filter: drop-shadow(0px 1px 2px rgba(0, 0, 0, 0.3));\n",
              "      fill: #FFFFFF;\n",
              "    }\n",
              "  </style>\n",
              "\n",
              "    <script>\n",
              "      const buttonEl =\n",
              "        document.querySelector('#df-7efbb05d-db67-4d15-8b38-3277e4e1b956 button.colab-df-convert');\n",
              "      buttonEl.style.display =\n",
              "        google.colab.kernel.accessAllowed ? 'block' : 'none';\n",
              "\n",
              "      async function convertToInteractive(key) {\n",
              "        const element = document.querySelector('#df-7efbb05d-db67-4d15-8b38-3277e4e1b956');\n",
              "        const dataTable =\n",
              "          await google.colab.kernel.invokeFunction('convertToInteractive',\n",
              "                                                    [key], {});\n",
              "        if (!dataTable) return;\n",
              "\n",
              "        const docLinkHtml = 'Like what you see? Visit the ' +\n",
              "          '<a target=\"_blank\" href=https://colab.research.google.com/notebooks/data_table.ipynb>data table notebook</a>'\n",
              "          + ' to learn more about interactive tables.';\n",
              "        element.innerHTML = '';\n",
              "        dataTable['output_type'] = 'display_data';\n",
              "        await google.colab.output.renderOutput(dataTable, element);\n",
              "        const docLink = document.createElement('div');\n",
              "        docLink.innerHTML = docLinkHtml;\n",
              "        element.appendChild(docLink);\n",
              "      }\n",
              "    </script>\n",
              "  </div>\n",
              "\n",
              "\n",
              "<div id=\"df-726ab274-57e2-4ecb-adb8-175fc33dd24c\">\n",
              "  <button class=\"colab-df-quickchart\" onclick=\"quickchart('df-726ab274-57e2-4ecb-adb8-175fc33dd24c')\"\n",
              "            title=\"Suggest charts\"\n",
              "            style=\"display:none;\">\n",
              "\n",
              "<svg xmlns=\"http://www.w3.org/2000/svg\" height=\"24px\"viewBox=\"0 0 24 24\"\n",
              "     width=\"24px\">\n",
              "    <g>\n",
              "        <path d=\"M19 3H5c-1.1 0-2 .9-2 2v14c0 1.1.9 2 2 2h14c1.1 0 2-.9 2-2V5c0-1.1-.9-2-2-2zM9 17H7v-7h2v7zm4 0h-2V7h2v10zm4 0h-2v-4h2v4z\"/>\n",
              "    </g>\n",
              "</svg>\n",
              "  </button>\n",
              "\n",
              "<style>\n",
              "  .colab-df-quickchart {\n",
              "      --bg-color: #E8F0FE;\n",
              "      --fill-color: #1967D2;\n",
              "      --hover-bg-color: #E2EBFA;\n",
              "      --hover-fill-color: #174EA6;\n",
              "      --disabled-fill-color: #AAA;\n",
              "      --disabled-bg-color: #DDD;\n",
              "  }\n",
              "\n",
              "  [theme=dark] .colab-df-quickchart {\n",
              "      --bg-color: #3B4455;\n",
              "      --fill-color: #D2E3FC;\n",
              "      --hover-bg-color: #434B5C;\n",
              "      --hover-fill-color: #FFFFFF;\n",
              "      --disabled-bg-color: #3B4455;\n",
              "      --disabled-fill-color: #666;\n",
              "  }\n",
              "\n",
              "  .colab-df-quickchart {\n",
              "    background-color: var(--bg-color);\n",
              "    border: none;\n",
              "    border-radius: 50%;\n",
              "    cursor: pointer;\n",
              "    display: none;\n",
              "    fill: var(--fill-color);\n",
              "    height: 32px;\n",
              "    padding: 0;\n",
              "    width: 32px;\n",
              "  }\n",
              "\n",
              "  .colab-df-quickchart:hover {\n",
              "    background-color: var(--hover-bg-color);\n",
              "    box-shadow: 0 1px 2px rgba(60, 64, 67, 0.3), 0 1px 3px 1px rgba(60, 64, 67, 0.15);\n",
              "    fill: var(--button-hover-fill-color);\n",
              "  }\n",
              "\n",
              "  .colab-df-quickchart-complete:disabled,\n",
              "  .colab-df-quickchart-complete:disabled:hover {\n",
              "    background-color: var(--disabled-bg-color);\n",
              "    fill: var(--disabled-fill-color);\n",
              "    box-shadow: none;\n",
              "  }\n",
              "\n",
              "  .colab-df-spinner {\n",
              "    border: 2px solid var(--fill-color);\n",
              "    border-color: transparent;\n",
              "    border-bottom-color: var(--fill-color);\n",
              "    animation:\n",
              "      spin 1s steps(1) infinite;\n",
              "  }\n",
              "\n",
              "  @keyframes spin {\n",
              "    0% {\n",
              "      border-color: transparent;\n",
              "      border-bottom-color: var(--fill-color);\n",
              "      border-left-color: var(--fill-color);\n",
              "    }\n",
              "    20% {\n",
              "      border-color: transparent;\n",
              "      border-left-color: var(--fill-color);\n",
              "      border-top-color: var(--fill-color);\n",
              "    }\n",
              "    30% {\n",
              "      border-color: transparent;\n",
              "      border-left-color: var(--fill-color);\n",
              "      border-top-color: var(--fill-color);\n",
              "      border-right-color: var(--fill-color);\n",
              "    }\n",
              "    40% {\n",
              "      border-color: transparent;\n",
              "      border-right-color: var(--fill-color);\n",
              "      border-top-color: var(--fill-color);\n",
              "    }\n",
              "    60% {\n",
              "      border-color: transparent;\n",
              "      border-right-color: var(--fill-color);\n",
              "    }\n",
              "    80% {\n",
              "      border-color: transparent;\n",
              "      border-right-color: var(--fill-color);\n",
              "      border-bottom-color: var(--fill-color);\n",
              "    }\n",
              "    90% {\n",
              "      border-color: transparent;\n",
              "      border-bottom-color: var(--fill-color);\n",
              "    }\n",
              "  }\n",
              "</style>\n",
              "\n",
              "  <script>\n",
              "    async function quickchart(key) {\n",
              "      const quickchartButtonEl =\n",
              "        document.querySelector('#' + key + ' button');\n",
              "      quickchartButtonEl.disabled = true;  // To prevent multiple clicks.\n",
              "      quickchartButtonEl.classList.add('colab-df-spinner');\n",
              "      try {\n",
              "        const charts = await google.colab.kernel.invokeFunction(\n",
              "            'suggestCharts', [key], {});\n",
              "      } catch (error) {\n",
              "        console.error('Error during call to suggestCharts:', error);\n",
              "      }\n",
              "      quickchartButtonEl.classList.remove('colab-df-spinner');\n",
              "      quickchartButtonEl.classList.add('colab-df-quickchart-complete');\n",
              "    }\n",
              "    (() => {\n",
              "      let quickchartButtonEl =\n",
              "        document.querySelector('#df-726ab274-57e2-4ecb-adb8-175fc33dd24c button');\n",
              "      quickchartButtonEl.style.display =\n",
              "        google.colab.kernel.accessAllowed ? 'block' : 'none';\n",
              "    })();\n",
              "  </script>\n",
              "</div>\n",
              "\n",
              "    </div>\n",
              "  </div>\n"
            ],
            "application/vnd.google.colaboratory.intrinsic+json": {
              "type": "dataframe",
              "summary": "{\n  \"name\": \"r_m_change(2339)\",\n  \"rows\": 10,\n  \"fields\": [\n    {\n      \"column\": \"Notes\",\n      \"properties\": {\n        \"dtype\": \"string\",\n        \"num_unique_values\": 10,\n        \"samples\": [\n          \"2\",\n          \"500\",\n          \"20\"\n        ],\n        \"semantic_type\": \"\",\n        \"description\": \"\"\n      }\n    },\n    {\n      \"column\": \"Counts\",\n      \"properties\": {\n        \"dtype\": \"number\",\n        \"std\": 0,\n        \"min\": 0,\n        \"max\": 2,\n        \"num_unique_values\": 3,\n        \"samples\": [\n          1,\n          0,\n          2\n        ],\n        \"semantic_type\": \"\",\n        \"description\": \"\"\n      }\n    }\n  ]\n}"
            }
          },
          "metadata": {},
          "execution_count": 60
        }
      ]
    },
    {
      "cell_type": "markdown",
      "source": [
        "2. Get a number, Make the 2 MSBs one. Print the result – both as decimal and binary."
      ],
      "metadata": {
        "id": "8RP5K_xFSu7O"
      }
    },
    {
      "cell_type": "code",
      "source": [
        "def bin_dec(bl):\n",
        " dl=[]\n",
        " #l,_=bl\n",
        " ind=0\n",
        " for i in bl:\n",
        "  ind+=1\n",
        "  p=2**(ind-1)\n",
        "  dl.append(int(i)*p)\n",
        "  #dl.append(int(i)*2**(ind-1))\n",
        " dec=sum(dl)\n",
        " return dec\n",
        "\n",
        "def dec_bin(a):\n",
        "  bin=[]\n",
        "  mm=['1','1']\n",
        "  while a >0:\n",
        "   r=a%2\n",
        "   q=a//2\n",
        "   bin.append(str(r))\n",
        "   #bin[::-1]\n",
        "   a=q\n",
        "  #print(\"odec,obin,mdec,mbin\",a,\"\".join(bin[::-1],bin_dec(bin[:-2]+mm),\"\".join(bin[:-2]+mm)))\n",
        "  return bin\n",
        "\n",
        "def fprint(a):\n",
        "  t1=dec_bin(a)  #before we get the reverse\n",
        "  t2=t1[:-2]+['1','1']\n",
        "  print(\"od,ob,md,mb\",a,\"\".join(t1[::-1]),bin_dec(t2),\"\".join(t2[::-1]))  #original decimal, original binary, modified decimal, modified binary\n"
      ],
      "metadata": {
        "id": "eov9laF8RA65"
      },
      "execution_count": null,
      "outputs": []
    },
    {
      "cell_type": "code",
      "source": [
        "fprint(10)    #original decimal, original binary, modified decimal, modified binary"
      ],
      "metadata": {
        "colab": {
          "base_uri": "https://localhost:8080/"
        },
        "id": "i2COvrM8KTqX",
        "outputId": "50b86f92-9a8a-4131-e95f-4ac312df5dce"
      },
      "execution_count": null,
      "outputs": [
        {
          "output_type": "stream",
          "name": "stdout",
          "text": [
            "od,ob,md,mb 10 1010 14 1110\n"
          ]
        }
      ]
    },
    {
      "cell_type": "markdown",
      "source": [
        "4. Caesar cipher is a method to encrypt (make a secret code) a string. It is achieved by\n",
        "advancing each digit n places. Write a program to read a text file, get the string and encrypt\n",
        "it first using Caesar and then XORing with a salt and write it back to <filename>_enc.txt.\n",
        "Eg: abcd\n",
        "places to shift: 3\n",
        "Encrypted Caesar String: defg\n",
        "Now encrypt it with a salt lets say ‘abc’"
      ],
      "metadata": {
        "id": "Ud-Vi8pgT_dN"
      }
    },
    {
      "cell_type": "code",
      "source": [
        "def cixor(source,tshift,salt):\n",
        " #tshift=4\n",
        " k=0\n",
        " result = []\n",
        " salt\n",
        " filename=os.path.basename(source)\n",
        " #print(source)\n",
        " with open(source, \"r\") as f:\n",
        "  for line in f:\n",
        "    for word in line: #line.split():\n",
        "      #print(word)\n",
        "      for char in word:\n",
        "        if char.isalpha():\n",
        "          k+=1\n",
        "\n",
        "          slt=ord(salt[k%len(salt)])\n",
        "          fin=chr((((ord(char)+tshift-97)%26+97)^slt)+97)\n",
        "\n",
        "          result.append(fin)\n",
        "\n",
        "        if char.isspace():\n",
        "          #print(char)\n",
        "          result.append(char)\n",
        "\n",
        "  tog=\"\".join(result)\n",
        "  with open(filename + \"_enc\",'w') as f:\n",
        "    f.write(tog)\n",
        "  return \"\".join(result)\n",
        "\n",
        "\n",
        "\n",
        "\n",
        "\n"
      ],
      "metadata": {
        "id": "-nMDEpuMQZOg"
      },
      "execution_count": null,
      "outputs": []
    },
    {
      "cell_type": "markdown",
      "source": [],
      "metadata": {
        "id": "p5W70TbB7YZ9"
      }
    },
    {
      "cell_type": "code",
      "source": [
        "txt=cixor(\"/content/Textfileforpythonassignment\",7,\"abc\")\n",
        "txt"
      ],
      "metadata": {
        "colab": {
          "base_uri": "https://localhost:8080/",
          "height": 72
        },
        "id": "6vrlhdWgmvHb",
        "outputId": "08d7213e-0d7f-4254-c2f4-57ff76093fbc"
      },
      "execution_count": null,
      "outputs": [
        {
          "output_type": "execute_result",
          "data": {
            "text/plain": [
              "'io l gpyo cx rvxq vco{ anp fnvso hx|qk dv mswk uba dmn ivdxcye xxyc ysjorf nxixgpk gtan lsr coo hnkqan uxgpy kwk lpjach dmjd wjdbyo jjx knycxg luj tu yvvo uskjny l co{h vlykiryp xx pj|co i coswt i zoubsj uxswa dv lxirk \\n'"
            ],
            "application/vnd.google.colaboratory.intrinsic+json": {
              "type": "string"
            }
          },
          "metadata": {},
          "execution_count": 228
        }
      ]
    },
    {
      "cell_type": "code",
      "source": [
        "import csv"
      ],
      "metadata": {
        "id": "sfLguQ61jAzc"
      },
      "execution_count": null,
      "outputs": []
    },
    {
      "cell_type": "code",
      "source": [
        "def rdwrt_csv(source):\n",
        "  nums = []\n",
        "  ncsv = []\n",
        "  with open(source, 'r') as f:\n",
        "    reader = csv.reader(f)\n",
        "    next(reader, None)\n",
        "    for row in reader:\n",
        "      ncsv.append((row[0], row[1]))\n",
        "      try:\n",
        "        tmp = int(row[1])\n",
        "        nums.append(tmp)\n",
        "      except ValueError:\n",
        "        pass\n",
        "  ncsv.append(('Average', avsum(nums)))\n",
        "  ncsv.append(('Variance', var(nums)))\n",
        "  ncsv.append(('std', np.sqrt(var(nums))))\n",
        "  return ncsv,nums\n",
        "\n",
        "def avsum(nmb):\n",
        "  #tmp=nmb\n",
        "  sum=0\n",
        "  for i in nmb:\n",
        "   #print('number',i)\n",
        "   sum += i\n",
        "   #print('sum',sum)\n",
        "  return round(sum/len(nmb),2)\n",
        "\n",
        "def write(source):\n",
        " with open(source, 'w') as f:\n",
        "  writer = csv.writer(f)\n",
        "  writer.writerow(['Average',vsum(rdwrt_csv(source))])\n",
        "  #writer.writerow([vsum(rdwrt_csv(source))])\n",
        "  #f.write(str(vsum(rdwrt_csv(source))))\n",
        "  #reader = csv.reader(f)\n",
        "\n",
        "def var(nmb):\n",
        "  mu=avsum(nmb)\n",
        "  return avsum((np.array(nmb)-mu)**2)\n"
      ],
      "metadata": {
        "id": "xoBpKxMyj6xU"
      },
      "execution_count": null,
      "outputs": []
    },
    {
      "cell_type": "code",
      "source": [
        "loc='/content/sample_test.csv'\n",
        "tocsv,nums=rdwrt_csv(loc)"
      ],
      "metadata": {
        "id": "VOsWlFk6Mn_R"
      },
      "execution_count": null,
      "outputs": []
    },
    {
      "cell_type": "code",
      "source": [
        "with open('newsample.csv', 'w', newline='') as csvfile:\n",
        "    writer = csv.writer(csvfile)\n",
        "    writer.writerow(['Username', 'Identifier'])\n",
        "    writer.writerows(tocsv)"
      ],
      "metadata": {
        "id": "K1sEeBM9Y1IZ"
      },
      "execution_count": null,
      "outputs": []
    },
    {
      "cell_type": "code",
      "source": [
        "import matplotlib.pyplot as plt"
      ],
      "metadata": {
        "id": "WrX-8m84aOYa"
      },
      "execution_count": null,
      "outputs": []
    },
    {
      "cell_type": "code",
      "source": [
        "tocsv[0][0]"
      ],
      "metadata": {
        "colab": {
          "base_uri": "https://localhost:8080/",
          "height": 35
        },
        "id": "-wQJzYHibPQ6",
        "outputId": "4347d687-9fa0-41e5-d248-298753675693"
      },
      "execution_count": null,
      "outputs": [
        {
          "output_type": "execute_result",
          "data": {
            "text/plain": [
              "'booker12'"
            ],
            "application/vnd.google.colaboratory.intrinsic+json": {
              "type": "string"
            }
          },
          "metadata": {},
          "execution_count": 372
        }
      ]
    },
    {
      "cell_type": "code",
      "source": [
        "keys, values = zip(*tocsv)\n",
        "n_n_v = list(map(int, values))"
      ],
      "metadata": {
        "id": "5MaLKtyfjInK"
      },
      "execution_count": null,
      "outputs": []
    },
    {
      "cell_type": "code",
      "source": [
        "non_numeric_values"
      ],
      "metadata": {
        "colab": {
          "base_uri": "https://localhost:8080/"
        },
        "id": "iknFlr1Qjzn3",
        "outputId": "4b72fef4-cf20-4f6a-9f10-694cc2285b0d"
      },
      "execution_count": null,
      "outputs": [
        {
          "output_type": "execute_result",
          "data": {
            "text/plain": [
              "[9012, 2070, 4081, 9346, 5079, 1234, 5678, 22323, 1233, 6672, 38683511, 6219]"
            ]
          },
          "metadata": {},
          "execution_count": 380
        }
      ]
    },
    {
      "cell_type": "code",
      "source": [
        "plt.figure(figsize=(10, 5))\n",
        "bar=plt.bar(keys, n_n_v, color='blue',width=0.5)\n",
        "bar[-1].set_color('red')\n",
        "bar[-2].set_color('green')\n",
        "bar[-3].set_color('black')\n",
        "plt.xticks(rotation=45, ha='right')\n",
        "plt.yscale('log')\n",
        "plt.xlabel('Usernames and metrics')\n",
        "plt.ylabel('Identifiers')\n",
        "plt.title('Bar plot of data')\n",
        "plt.show()"
      ],
      "metadata": {
        "colab": {
          "base_uri": "https://localhost:8080/",
          "height": 534
        },
        "id": "kmJcu7CjY6E7",
        "outputId": "6fc080a7-9ef2-4b8e-d67c-5257f54d7d59"
      },
      "execution_count": null,
      "outputs": [
        {
          "output_type": "display_data",
          "data": {
            "text/plain": [
              "<Figure size 1000x500 with 1 Axes>"
            ],
            "image/png": "[encoded data removed]"
          },
          "metadata": {}
        }
      ]
    },
    {
      "cell_type": "code",
      "source": [
        "import json"
      ],
      "metadata": {
        "id": "lk0LbW8dY4rS"
      },
      "execution_count": null,
      "outputs": []
    },
    {
      "cell_type": "markdown",
      "source": [
        "6. Write a program to compare two JSONS which are structurally similar. The output should be\n",
        "another JSON which contains the tags that has different values. You may expect the JSONS\n",
        "can have nested structures."
      ],
      "metadata": {
        "id": "02AIo8ZUT233"
      }
    },
    {
      "cell_type": "code",
      "source": [
        "def strtonum(word):\n",
        "    date = word.split('-')\n",
        "    day = int(date[0])\n",
        "    month = int(date[1])\n",
        "    year = int(date[2])\n",
        "    return day, month, year\n",
        "\n",
        "def compare_dates(info1, info2):\n",
        "    date1 = info1['dob']\n",
        "    date2 = info2['dob']\n",
        "    date11, date22 = strtonum(date1), strtonum(date2)\n",
        "    yr = abs(date11[0] - date22[0])\n",
        "    mnth = abs(date11[1] - date22[1])\n",
        "    day = abs(date11[2] - date22[2])\n",
        "    return str(yr * 365 + mnth * 30 + day)\n",
        "\n",
        "def only_in(info1, info2):\n",
        "    keys_list1 = list(info1.keys())\n",
        "    keys_list2 = list(info2.keys())\n",
        "    if len(keys_list1) > len(keys_list2):\n",
        "        for x in keys_list1:\n",
        "            if x not in keys_list2:\n",
        "                return x + \": Only in 1\"\n",
        "    else:\n",
        "        for x in keys_list2:\n",
        "            if x not in keys_list1:\n",
        "                return x + \": Only in 2\"\n",
        "\n",
        "def name_change(info1, info2):\n",
        "    if info1[\"name\"] != info2[\"name\"]:\n",
        "        return \"Text change\"\n",
        "    return None\n",
        "\n",
        "def dec_comp(info1, info2, key):\n",
        "    return str(round(info1[key] - info2[key], 2))\n",
        "\n",
        "def create_Json(info1, info2):\n",
        "    data3 = {}\n",
        "\n",
        "    # Compare numeric keys only if they exist in both JSON objects\n",
        "    for key in ['x', 'y', 'z']:\n",
        "        if key in info1 and key in info2:\n",
        "            data3[key] = dec_comp(info1, info2, key)\n",
        "        elif key in info1:\n",
        "            data3[key] = \"Only in 1\"\n",
        "        elif key in info2:\n",
        "            data3[key] = \"Only in 2\"\n",
        "\n",
        "    # Handle name comparison\n",
        "    name_diff = name_change(info1, info2)\n",
        "    if name_diff:\n",
        "        data3['name'] = name_diff\n",
        "\n",
        "    # Handle date comparison\n",
        "    data3['dob'] = compare_dates(info1, info2)\n",
        "\n",
        "    # Handle any additional keys that may be missing in one of the JSONs\n",
        "    only_in_key = only_in(info1, info2)\n",
        "    if only_in_key:\n",
        "        key, value = only_in_key.split(\":\")\n",
        "        data3[key] = value.strip()\n",
        "\n",
        "    return json.dumps(data3, indent=4)\n",
        "\n",
        "# Example data\n",
        "data1 = '''{\n",
        "    \"x\": 10.1,\n",
        "    \"y\": 20,\n",
        "    \"name\": \"Anu\",\n",
        "    \"dob\": \"2010-10-10\"\n",
        "}'''\n",
        "\n",
        "data2 = '''{\n",
        "    \"x\": 10,\n",
        "    \"y\": 20,\n",
        "    \"name\": \"Ani\",\n",
        "    \"dob\": \"2010-10-11\",\n",
        "    \"z\": 100\n",
        "}'''\n",
        "\n",
        "info1 = json.loads(data1)\n",
        "info2 = json.loads(data2)\n",
        "\n",
        "output_json = create_Json(info1, info2)\n",
        "print(output_json)\n",
        "\n",
        "# Example data\n",
        "data1 = '''{\n",
        "    \"x\": 10.1,\n",
        "    \"y\": 20,\n",
        "    \"name\": \"Anu\",\n",
        "    \"dob\": \"2010-10-10\"\n",
        "}'''\n",
        "\n",
        "data2 = '''{\n",
        "    \"x\": 10,\n",
        "    \"y\": 20,\n",
        "    \"name\": \"Ani\",\n",
        "    \"dob\": \"2010-10-11\",\n",
        "    \"z\": 100\n",
        "}'''\n",
        "\n",
        "info1 = json.loads(data1)\n",
        "info2 = json.loads(data2)\n",
        "\n",
        "output_json = create_Json(info1, info2)\n",
        "print(output_json)"
      ],
      "metadata": {
        "colab": {
          "base_uri": "https://localhost:8080/"
        },
        "id": "9QjlLtNjRLN1",
        "outputId": "f57ff365-79a6-434a-c726-41445e2294a1"
      },
      "execution_count": null,
      "outputs": [
        {
          "output_type": "stream",
          "name": "stdout",
          "text": [
            "{\n",
            "    \"x\": \"0.1\",\n",
            "    \"y\": \"0\",\n",
            "    \"z\": \"Only in 2\",\n",
            "    \"name\": \"Text change\",\n",
            "    \"dob\": \"1\"\n",
            "}\n",
            "{\n",
            "    \"x\": \"0.1\",\n",
            "    \"y\": \"0\",\n",
            "    \"z\": \"Only in 2\",\n",
            "    \"name\": \"Text change\",\n",
            "    \"dob\": \"1\"\n",
            "}\n"
          ]
        }
      ]
    },
    {
      "cell_type": "markdown",
      "source": [
        "5. Calculate Cos (x) using Maclaurin Series and plot the series with matplotlib\n",
        "You should implement a package mymath and import that. Don’t use any of the prebuilt\n",
        "libraries for finding power or factorial."
      ],
      "metadata": {
        "id": "5-I6JZR7-xZ5"
      }
    },
    {
      "cell_type": "markdown",
      "source": [
        "Contents of the Mymath.pyfile"
      ],
      "metadata": {
        "id": "6N84L97Cv7hj"
      }
    },
    {
      "cell_type": "code",
      "source": [
        "'''\n",
        "contents of the mymath.py file\n",
        "def factorial(n):\n",
        "  if n == 0:\n",
        "    return 1\n",
        "  else:\n",
        "    return n * factorial(n-1)\n",
        "\n",
        "def tcos(x):\n",
        " res=0\n",
        " for i in range(1,34):\n",
        "  res+=power(-1,i)*power(x,(2*i))/factorial(2*i)\n",
        " return 1+res\n",
        "\n",
        "def power(n,p):\n",
        "  if p==1:\n",
        "    #print(\"hai\",n,p)\n",
        "    return n\n",
        "  else:\n",
        "    #print(\"hello\",n,p)\n",
        "   # print(p)\n",
        "    return n*power(n,p-1)\n",
        "\n",
        "def series(li):\n",
        "  x=[]\n",
        "  for i in range(0,li):\n",
        "    x.append(i)\n",
        "  return x\n",
        "\n",
        "def tcoslist(x,li):\n",
        "  tli=[]\n",
        "  for i in x:\n",
        "   tli.append(tcos(x[i],li))\n",
        "  return tli\n",
        "\n",
        "'''"
      ],
      "metadata": {
        "colab": {
          "base_uri": "https://localhost:8080/",
          "height": 69
        },
        "id": "dztSL1XOvpn7",
        "outputId": "d47fe937-3ff7-4f1c-c788-70f3855fd1fb"
      },
      "execution_count": null,
      "outputs": [
        {
          "output_type": "execute_result",
          "data": {
            "text/plain": [
              "'\\ncontents of the mymath.py file\\ndef factorial(n):\\n  if n == 0:\\n    return 1\\n  else:\\n    return n * factorial(n-1)\\n\\ndef tcos(x):\\n res=0\\n for i in range(1,34):\\n  res+=power(-1,i)*power(x,(2*i))/factorial(2*i)\\n return 1+res\\n\\ndef power(n,p):\\n  if p==1:\\n    #print(\"hai\",n,p)\\n    return n\\n  else:\\n    #print(\"hello\",n,p)\\n   # print(p)\\n    return n*power(n,p-1)\\n\\n'"
            ],
            "application/vnd.google.colaboratory.intrinsic+json": {
              "type": "string"
            }
          },
          "metadata": {},
          "execution_count": 188
        }
      ]
    },
    {
      "cell_type": "code",
      "source": [
        "pip install /mymath_package.tar.xz"
      ],
      "metadata": {
        "colab": {
          "base_uri": "https://localhost:8080/",
          "height": 292
        },
        "id": "i2m5oxXv8mAa",
        "outputId": "1862bfc2-3335-487c-85e4-8c4bbbb07808"
      },
      "execution_count": null,
      "outputs": [
        {
          "output_type": "stream",
          "name": "stdout",
          "text": [
            "Processing /mymath_package.tar.xz\n",
            "  Preparing metadata (setup.py) ... \u001b[?25l\u001b[?25hdone\n",
            "Building wheels for collected packages: mymath_package\n",
            "  Building wheel for mymath_package (setup.py) ... \u001b[?25l\u001b[?25hdone\n",
            "  Created wheel for mymath_package: filename=mymath_package-0.1-py3-none-any.whl size=1659 sha256=4606cce4f8cd40dbf80d07444e4dd787d2c47e9d00bc1ade9e87bdce88a59ce4\n",
            "  Stored in directory: /tmp/pip-ephem-wheel-cache-scchvquc/wheels/ad/4f/96/d63443594eb3e8212263a89fe67af1c5c853116b1050d20417\n",
            "Successfully built mymath_package\n",
            "Installing collected packages: mymath_package\n",
            "Successfully installed mymath_package-0.1\n"
          ]
        },
        {
          "output_type": "display_data",
          "data": {
            "application/vnd.colab-display-data+json": {
              "pip_warning": {
                "packages": [
                  "mymath"
                ]
              },
              "id": "643a314c271d44688ecf9d5b4775f2aa"
            }
          },
          "metadata": {}
        }
      ]
    },
    {
      "cell_type": "code",
      "source": [
        "import matplotlib.pyplot as plt"
      ],
      "metadata": {
        "id": "-_lPQ1oO-X-n"
      },
      "execution_count": null,
      "outputs": []
    },
    {
      "cell_type": "code",
      "source": [
        "from mymath import factorial, tcos, power, series, tcoslist\n",
        "\n",
        "# Example usage\n",
        "print(factorial(5))\n",
        "print(tcos(0.5,20))\n"
      ],
      "metadata": {
        "colab": {
          "base_uri": "https://localhost:8080/"
        },
        "id": "5q5tiuvK9ssp",
        "outputId": "d851fb10-3fee-451e-831d-ae169a091f62"
      },
      "execution_count": null,
      "outputs": [
        {
          "output_type": "stream",
          "name": "stdout",
          "text": [
            "120\n",
            "0.8775825618903728\n"
          ]
        }
      ]
    },
    {
      "cell_type": "code",
      "source": [
        "x1=series(20)\n",
        "plt.plot(x1,tcoslist(x1,34))\n",
        "plt.xlabel('range')\n",
        "plt.ylabel('value')"
      ],
      "metadata": {
        "colab": {
          "base_uri": "https://localhost:8080/",
          "height": 466
        },
        "id": "R4cYsHzZ-NHv",
        "outputId": "2da03673-844e-4e73-8097-6793c75ba2ef"
      },
      "execution_count": null,
      "outputs": [
        {
          "output_type": "execute_result",
          "data": {
            "text/plain": [
              "Text(0, 0.5, 'value')"
            ]
          },
          "metadata": {},
          "execution_count": 5
        },
        {
          "output_type": "display_data",
          "data": {
            "text/plain": [
              "<Figure size 640x480 with 1 Axes>"
            ],
            "image/png": "[encoded data removed]"
          },
          "metadata": {}
        }
      ]
    },
    {
      "cell_type": "markdown",
      "source": [],
      "metadata": {
        "id": "7nAdQhVN3oAG"
      }
    }
  ]
}