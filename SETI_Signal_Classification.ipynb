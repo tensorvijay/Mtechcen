{
  "cells": [
    {
      "cell_type": "markdown",
      "metadata": {
        "id": "view-in-github",
        "colab_type": "text"
      },
      "source": [
        "<a href=\"https://colab.research.google.com/github/tensorvijay/Mtechcen/blob/master/SETI_Signal_Classification.ipynb\" target=\"_parent\"><img src=\"https://colab.research.google.com/assets/colab-badge.svg\" alt=\"Open In Colab\"/></a>"
      ]
    },
    {
      "metadata": {
        "trusted": true,
        "_uuid": "a4857941b6f359253c907be425829e29d58eeb4b",
        "id": "SqWJEstCHYeV"
      },
      "cell_type": "code",
      "source": [
        "import os\n",
        "import cv2\n",
        "import numpy as np\n",
        "import time\n",
        "import itertools\n",
        "\n",
        "from sklearn.preprocessing import LabelEncoder\n",
        "import tensorflow as tf\n",
        "from keras import callbacks\n",
        "from keras.preprocessing.image import ImageDataGenerator\n",
        "from keras.models import Sequential, Model, load_model\n",
        "from keras.optimizers import Adam\n",
        "from keras.regularizers import l1\n",
        "from keras.applications import ResNet50\n",
        "from keras.layers import Dense, LeakyReLU, Flatten, Dropout, GlobalAveragePooling2D, Conv2D, AveragePooling2D\n",
        "from keras.utils.np_utils import to_categorical\n",
        "\n",
        "from keras.wrappers.scikit_learn import KerasClassifier\n",
        "from sklearn.metrics import confusion_matrix, classification_report, accuracy_score\n",
        "import matplotlib.pyplot as plt\n",
        "%matplotlib inline"
      ],
      "execution_count": null,
      "outputs": []
    },
    {
      "metadata": {
        "_uuid": "545fda77f9c2ec39fd8bc2aecb8d354c702507c4",
        "id": "qpAdPnBqHYeY"
      },
      "cell_type": "markdown",
      "source": [
        "We will start by defining some global constants which includes hyper-parameters as well. I will be adding more comments/explanation about the model and classification as I get some time."
      ]
    },
    {
      "metadata": {
        "trusted": true,
        "_uuid": "4a14a1bbe58c19dd1edc6d4c09e70172ad91b9bf",
        "id": "3iUYVx-EHYea"
      },
      "cell_type": "code",
      "source": [
        "# some global constants\n",
        "sclasses = [\"brightpixel\",\n",
        "            \"narrowband\",\n",
        "            \"narrowbanddrd\",\n",
        "            \"noise\",\n",
        "            \"squarepulsednarrowband\",\n",
        "            \"squiggle\",\n",
        "            \"squigglesquarepulsednarrowband\"]\n",
        "\n",
        "model_name = \"seti_model\"\n",
        "epochs = 10\n",
        "learning_rate = 0.00146\n",
        "batch_size = 50\n",
        "steps_per_epoch = 150\n",
        "output_classes = len(sclasses)\n",
        "loss = \"categorical_crossentropy\"\n",
        "parameter_scaling = 36\n",
        "regularizer = 0.0 #1.0e-7\n",
        "model_location = \"./model\"\n",
        "tensorboard = \"./tensorboard\"\n",
        "channels = 1\n",
        "preprocess = True\n",
        "clip_outliers = True\n",
        "preprocess = True\n",
        "gaussian_blurr = False\n",
        "augument = True\n",
        "augument_size = 200\n",
        "image_width = 224\n",
        "image_hieght = 224\n",
        "input_shape = (image_width, image_hieght, channels)"
      ],
      "execution_count": null,
      "outputs": []
    },
    {
      "metadata": {
        "trusted": true,
        "_uuid": "c6bede8e2a77d26faed31e9287de35d2d915b834",
        "id": "5eCRc9ScHYed"
      },
      "cell_type": "code",
      "source": [
        "# pre process and image passed\n",
        "def preprocess_image(image, resize=True, grayscale=False):\n",
        "    # if grayscale\n",
        "    if grayscale:\n",
        "        image = cv2.cvtColor(image, cv2.COLOR_BGR2GRAY)\n",
        "    if clip_outliers:\n",
        "        mean = np.mean(image)\n",
        "        std = np.std(image)\n",
        "        # clip all the values which are 3.5 standard deviations away from mean\n",
        "        image = np.clip(image, mean-3.5*std, mean+3.5*std)\n",
        "    if gaussian_blurr:\n",
        "        image = cv2.GaussianBlur(image, (3, 3), 1)\n",
        "    # morph close\n",
        "    morphed = cv2.morphologyEx(image, cv2.MORPH_CLOSE, kernel=np.ones((3, 3), dtype=np.float32))\n",
        "    # gradient in both directions\n",
        "    sobelx = cv2.Sobel(morphed, cv2.CV_64F, 1, 0, 2)\n",
        "    sobely = cv2.Sobel(morphed, cv2.CV_64F, 0, 1, 2)\n",
        "    # final weight with a concentration in horizontal gradient\n",
        "    blended = cv2.addWeighted(src1=sobelx, alpha=0.7, src2=sobely, beta=0.3, gamma=0)\n",
        "    if resize:\n",
        "        resized = cv2.resize(blended, (image_width, image_hieght))\n",
        "    reshaped = resized.reshape(image_width, image_hieght, channels)\n",
        "    _image = reshaped/255.0\n",
        "    # start by resizing the image\n",
        "\n",
        "    return _image"
      ],
      "execution_count": null,
      "outputs": []
    },
    {
      "metadata": {
        "trusted": true,
        "_uuid": "74412f033abe38a5d93ab397fb9e0cec772abc19",
        "id": "OX87djueHYef"
      },
      "cell_type": "code",
      "source": [
        "def augument_images(images=None):\n",
        "    datagen = ImageDataGenerator(width_shift_range=0.01,\n",
        "                                 height_shift_range=0.01,\n",
        "                                 zoom_range=0.01,\n",
        "                                 shear_range=0.01,\n",
        "                                 horizontal_flip=True,\n",
        "                                 vertical_flip=True,\n",
        "                                 preprocessing_function=preprocess_image,\n",
        "                                 rotation_range=3.0)\n",
        "    #datagen.fit(images)\n",
        "    #images_batch = next(datagen.flow(x=images, y=None, batch_size=augument_size))\n",
        "    return datagen"
      ],
      "execution_count": null,
      "outputs": []
    },
    {
      "metadata": {
        "id": "shtDFmuvHYef"
      },
      "cell_type": "markdown",
      "source": []
    },
    {
      "metadata": {
        "trusted": true,
        "id": "syMSSjXBHYeg",
        "outputId": "d6e286bb-560d-43dc-d13a-c6172ce7d230"
      },
      "cell_type": "code",
      "source": [
        "print('helloworld')"
      ],
      "execution_count": null,
      "outputs": [
        {
          "output_type": "stream",
          "text": "helloworld\n",
          "name": "stdout"
        }
      ]
    },
    {
      "metadata": {
        "trusted": true,
        "_uuid": "657db4aa7c250fc9f1e8eee8999881a1e4d24b9e",
        "id": "ET86nbz1HYeg"
      },
      "cell_type": "code",
      "source": [
        "# gets the data from a directory, applies preprocessing to each image and stores in a numpy array\n",
        "def get_data(primary_dir, augument=False):\n",
        "    X = np.empty(shape=(0, image_width, image_hieght, channels))\n",
        "    Y = np.empty(shape=(0, ))\n",
        "    _global_index = -1\n",
        "    for sclass in sclasses:\n",
        "        # loop through directories\n",
        "        sclass_dir = os.path.join(primary_dir, sclass)\n",
        "        print(\"Sclass: {}\".format(sclass))\n",
        "        _x = []\n",
        "        _y = []\n",
        "        for index, filename in enumerate(os.listdir(sclass_dir)):\n",
        "            if index % 200 == 0:\n",
        "                print(\"Pre-processing {}st image in {} class\".format(index+1, sclass))\n",
        "            _global_index += 1\n",
        "            _image = cv2.imread(os.path.join(sclass_dir, filename))\n",
        "            _image = preprocess_image(_image, resize=True, grayscale=True)\n",
        "            # into local list\n",
        "            _x.insert(index, _image)\n",
        "            _y.insert(index, sclass)\n",
        "        # augument to generate more training data\n",
        "        if augument:\n",
        "            x_aug = augument_images(np.array(_x))\n",
        "            y_aug = [sclass]*len(x_aug)\n",
        "            _x.extend(x_aug.tolist())\n",
        "            _y.extend(y_aug)\n",
        "            _global_index += augument_size\n",
        "            print(\"Augumented {} images for the class: \\\"{}\\\"\".format(augument_size, sclass))\n",
        "        _x = np.array(_x)\n",
        "        _y = np.array(_y)\n",
        "        # print(\"yshape: {}\".format(_y.shape))\n",
        "        # into global list\n",
        "        X = np.append(X, _x, axis=0)\n",
        "        Y = np.append(Y, _y, axis=0)\n",
        "        print(\"Data Extraction complete for class: \\\"{}\\\"\".format(sclass))\n",
        "        encoder = LabelEncoder()\n",
        "        Y = encoder.fit_transform(Y)\n",
        "        print(\"Encoded target labels...\")\n",
        "        # print(\"Global Index: {}\".format(_global_index))\n",
        "    return X, Y"
      ],
      "execution_count": null,
      "outputs": []
    },
    {
      "metadata": {
        "trusted": true,
        "_uuid": "9f8180aede6fd0051a0c63cf05debba8afe65d62",
        "id": "Hc3FBrYpHYeh",
        "outputId": "01196505-6e8f-439d-e3f7-80a2790044a8"
      },
      "cell_type": "code",
      "source": [
        "\"\"\"\n",
        "def model():\n",
        "    scale = parameter_scaling\n",
        "    # model architecture\n",
        "    _model = Sequential()\n",
        "\n",
        "    # convolution 1\n",
        "    _model.add(Conv2D(scale, (3, 3), input_shape=input_shape))\n",
        "    _model.add(LeakyReLU(alpha=0.1))\n",
        "    _model.add(MaxPooling2D(pool_size=(2, 2)))\n",
        "    _model.add(Dropout(0.2))\n",
        "\n",
        "    # convolution 2\n",
        "    _model.add(Conv2D(2*scale, (3, 3)))\n",
        "    _model.add(LeakyReLU(alpha=0.1))\n",
        "    _model.add(MaxPooling2D(pool_size=(2, 2)))\n",
        "    _model.add(Dropout(0.1))\n",
        "\n",
        "    # convolution 3\n",
        "    _model.add(Conv2D(3*scale, (3, 3)))\n",
        "    _model.add(LeakyReLU(alpha=0.1))\n",
        "    _model.add(MaxPooling2D(pool_size=(2, 2)))\n",
        "    _model.add(Dropout(0.1))\n",
        "\n",
        "    # convolution 4\n",
        "    _model.add(Conv2D(4*scale, (3, 3)))\n",
        "    _model.add(LeakyReLU(alpha=0.1))\n",
        "    _model.add(MaxPooling2D(pool_size=(2, 2)))\n",
        "    _model.add(Dropout(0.1))\n",
        "\n",
        "    # convolution 5\n",
        "    _model.add(Conv2D(5*scale, (3, 3)))\n",
        "    _model.add(LeakyReLU(alpha=0.1))\n",
        "    _model.add(MaxPooling2D(pool_size=(2, 2)))\n",
        "    _model.add(Dropout(0.1))\n",
        "\n",
        "    # convolution 6\n",
        "    _model.add(Conv2D(6*scale, (3, 3)))\n",
        "    _model.add(LeakyReLU(alpha=0.1))\n",
        "    _model.add(MaxPooling2D(pool_size=(2, 2)))\n",
        "    _model.add(Dropout(0.1))\n",
        "\n",
        "    # convolution 7\n",
        "    _model.add(Conv2D(7*scale, (3, 3)))\n",
        "    _model.add(LeakyReLU(alpha=0.1))\n",
        "    _model.add(MaxPooling2D(pool_size=(2, 2)))\n",
        "    _model.add(Dropout(0.1))\n",
        "\n",
        "    # flattening layer\n",
        "    _model.add(Flatten())\n",
        "\n",
        "    # first dense layer\n",
        "    _model.add(Dense(units=7*scale))\n",
        "    _model.add(LeakyReLU(alpha=0.1))\n",
        "    _model.add(Dropout(0.5))\n",
        "\n",
        "    # second dense layer\n",
        "    _model.add(Dense(units=7*scale))\n",
        "    _model.add(LeakyReLU(alpha=0.1))\n",
        "    _model.add(Dropout(0.5))\n",
        "\n",
        "    # third dense layer\n",
        "    _model.add(Dense(units=7*scale))\n",
        "    _model.add(LeakyReLU(alpha=0.1))\n",
        "    _model.add(Dropout(0.5))\n",
        "\n",
        "    # output layer\n",
        "    _model.add(Dense(output_classes, activation=\"softmax\"))\n",
        "\n",
        "    # optimizer\n",
        "    _model.compile(Adam(lr=learning_rate), loss=loss, metrics=[\"accuracy\"])\n",
        "    print(_model.summary())\n",
        "    return _model\n",
        "\"\"\"\n",
        "\n",
        "\n",
        "\n",
        "\n"
      ],
      "execution_count": null,
      "outputs": [
        {
          "output_type": "execute_result",
          "execution_count": 46,
          "data": {
            "text/plain": "'\\ndef model():\\n    scale = parameter_scaling\\n    # model architecture\\n    _model = Sequential()\\n\\n    # convolution 1\\n    _model.add(Conv2D(scale, (3, 3), input_shape=input_shape))\\n    _model.add(LeakyReLU(alpha=0.1))\\n    _model.add(MaxPooling2D(pool_size=(2, 2)))\\n    _model.add(Dropout(0.2))\\n\\n    # convolution 2\\n    _model.add(Conv2D(2*scale, (3, 3)))\\n    _model.add(LeakyReLU(alpha=0.1))\\n    _model.add(MaxPooling2D(pool_size=(2, 2)))\\n    _model.add(Dropout(0.1))\\n\\n    # convolution 3\\n    _model.add(Conv2D(3*scale, (3, 3)))\\n    _model.add(LeakyReLU(alpha=0.1))\\n    _model.add(MaxPooling2D(pool_size=(2, 2)))\\n    _model.add(Dropout(0.1))\\n\\n    # convolution 4\\n    _model.add(Conv2D(4*scale, (3, 3)))\\n    _model.add(LeakyReLU(alpha=0.1))\\n    _model.add(MaxPooling2D(pool_size=(2, 2)))\\n    _model.add(Dropout(0.1))\\n\\n    # convolution 5\\n    _model.add(Conv2D(5*scale, (3, 3)))\\n    _model.add(LeakyReLU(alpha=0.1))\\n    _model.add(MaxPooling2D(pool_size=(2, 2)))\\n    _model.add(Dropout(0.1))\\n\\n    # convolution 6\\n    _model.add(Conv2D(6*scale, (3, 3)))\\n    _model.add(LeakyReLU(alpha=0.1))\\n    _model.add(MaxPooling2D(pool_size=(2, 2)))\\n    _model.add(Dropout(0.1))\\n\\n    # convolution 7\\n    _model.add(Conv2D(7*scale, (3, 3)))\\n    _model.add(LeakyReLU(alpha=0.1))\\n    _model.add(MaxPooling2D(pool_size=(2, 2)))\\n    _model.add(Dropout(0.1))\\n\\n    # flattening layer\\n    _model.add(Flatten())\\n\\n    # first dense layer\\n    _model.add(Dense(units=7*scale))\\n    _model.add(LeakyReLU(alpha=0.1))\\n    _model.add(Dropout(0.5))\\n\\n    # second dense layer\\n    _model.add(Dense(units=7*scale))\\n    _model.add(LeakyReLU(alpha=0.1))\\n    _model.add(Dropout(0.5))\\n\\n    # third dense layer\\n    _model.add(Dense(units=7*scale))\\n    _model.add(LeakyReLU(alpha=0.1))\\n    _model.add(Dropout(0.5))\\n\\n    # output layer\\n    _model.add(Dense(output_classes, activation=\"softmax\"))\\n\\n    # optimizer\\n    _model.compile(Adam(lr=learning_rate), loss=loss, metrics=[\"accuracy\"])\\n    print(_model.summary())\\n    return _model\\n'"
          },
          "metadata": {}
        }
      ]
    },
    {
      "metadata": {
        "trusted": true,
        "id": "O818mFgrHYei"
      },
      "cell_type": "code",
      "source": [
        "def model():\n",
        "    _model = ResNet50(\n",
        "        weights= None,\n",
        "        include_top=False,\n",
        "        input_shape= (image_width, image_hieght, 1)\n",
        "    )\n",
        "    x = _model.output\n",
        "    x = GlobalAveragePooling2D()(x)\n",
        "    x = Dropout(0.7)(x)\n",
        "    predictions = Dense(output_classes, activation= \"softmax\")(x)\n",
        "    model = Model(inputs = _model.input, outputs = predictions)\n",
        "    return model"
      ],
      "execution_count": null,
      "outputs": []
    },
    {
      "metadata": {
        "trusted": true,
        "_uuid": "1ead231b07c723f122f9b21e57d731974e8d3469",
        "id": "14bwgdqnHYei"
      },
      "cell_type": "code",
      "source": [
        "def fit(model, train, X_val, y_val, save_model=False):\n",
        "        # callbacks\n",
        "        h_callbacks = [\n",
        "            callbacks.TensorBoard(\n",
        "                log_dir=tensorboard,\n",
        "                write_graph=True,\n",
        "                write_images=False\n",
        "            )\n",
        "        ]\n",
        "        # train on default gpu\n",
        "        with tf.device('/gpu:0'):\n",
        "            config = tf.ConfigProto()\n",
        "            config.gpu_options.allow_growth = True\n",
        "            sess = tf.Session(config=config)\n",
        "            # fit the data\n",
        "            history = model.fit_generator(train,\n",
        "                                          epochs=epochs,\n",
        "                                          steps_per_epoch=steps_per_epoch,\n",
        "                                          validation_data=(X_val, y_val),\n",
        "                                          shuffle=True,\n",
        "                                          verbose=1,\n",
        "                                          callbacks=None)\n",
        "        if save_model:\n",
        "            # write model configs back\n",
        "            with open(os.path.join(model_location, \"{}.json\".format(model_name)), \"w\") as model_json:\n",
        "                model_json.write(model.to_json())\n",
        "                print(\"Saved Model json to disk\")\n",
        "            # save weights to h5\n",
        "            model.save_weights(os.path.join(model_location, \"{}.h5\".format(model_name)))\n",
        "            print(\"Saved Model weights to disk\")\n",
        "        return history"
      ],
      "execution_count": null,
      "outputs": []
    },
    {
      "metadata": {
        "trusted": true,
        "_uuid": "b9b342c94c5ecd0e2dfb3b721640c9bcafd9fdc6",
        "id": "oeL4zcXvHYej"
      },
      "cell_type": "code",
      "source": [
        "# wrapper for the fit just in case if needed additional functionality\n",
        "def train(train, X_val, y_val):\n",
        "        _model = model()\n",
        "        _model.compile(loss=\"categorical_crossentropy\",\n",
        "                       optimizer=\"adam\",\n",
        "                       metrics=[\"accuracy\"])\n",
        "        history = fit(_model, train, X_val, y_val, save_model=False)\n",
        "        return _model, history"
      ],
      "execution_count": null,
      "outputs": []
    },
    {
      "metadata": {
        "trusted": true,
        "_uuid": "27aaa6ad88dce23bc86d42d3412e8c2bf13a0428",
        "scrolled": true,
        "id": "Fiu_XcJGHYej",
        "outputId": "bd6f320e-9fa2-4ca4-fbd2-2fb29652c100"
      },
      "cell_type": "code",
      "source": [
        "# train generator because the training data is large and having it in memory is expensive\n",
        "image_generator = augument_images()\n",
        "train_image_generator = image_generator.flow_from_directory(os.path.join(\"../input/primary_small/train\"),\n",
        "                                                           batch_size=batch_size,\n",
        "                                                           color_mode=\"grayscale\",\n",
        "                                                           target_size=(image_width, image_hieght))"
      ],
      "execution_count": null,
      "outputs": [
        {
          "output_type": "stream",
          "text": "Found 5600 images belonging to 7 classes.\n",
          "name": "stdout"
        }
      ]
    },
    {
      "metadata": {
        "trusted": true,
        "_uuid": "8119748990db2d0e9dd21601f3a7773fc95f0218",
        "scrolled": true,
        "id": "nqWzZNH6HYek",
        "outputId": "0b9993af-4a8c-4150-a23d-74f96e12e020"
      },
      "cell_type": "code",
      "source": [
        "X_val, y_val = get_data(os.path.join(\"../input/primary_small/valid\"))\n",
        "X_test, y_test = get_data(os.path.join(\"../input/primary_small/test\"))"
      ],
      "execution_count": null,
      "outputs": [
        {
          "output_type": "stream",
          "text": "Sclass: brightpixel\nPre-processing 1st image in brightpixel class\nData Extraction complete for class: \"brightpixel\"\nEncoded target labels...\nSclass: narrowband\nPre-processing 1st image in narrowband class\nData Extraction complete for class: \"narrowband\"\nEncoded target labels...\nSclass: narrowbanddrd\nPre-processing 1st image in narrowbanddrd class\nData Extraction complete for class: \"narrowbanddrd\"\nEncoded target labels...\nSclass: noise\nPre-processing 1st image in noise class\nData Extraction complete for class: \"noise\"\nEncoded target labels...\nSclass: squarepulsednarrowband\nPre-processing 1st image in squarepulsednarrowband class\nData Extraction complete for class: \"squarepulsednarrowband\"\nEncoded target labels...\nSclass: squiggle\nPre-processing 1st image in squiggle class\nData Extraction complete for class: \"squiggle\"\nEncoded target labels...\nSclass: squigglesquarepulsednarrowband\nPre-processing 1st image in squigglesquarepulsednarrowband class\nData Extraction complete for class: \"squigglesquarepulsednarrowband\"\nEncoded target labels...\nSclass: brightpixel\nPre-processing 1st image in brightpixel class\nData Extraction complete for class: \"brightpixel\"\nEncoded target labels...\nSclass: narrowband\nPre-processing 1st image in narrowband class\nData Extraction complete for class: \"narrowband\"\nEncoded target labels...\nSclass: narrowbanddrd\nPre-processing 1st image in narrowbanddrd class\nData Extraction complete for class: \"narrowbanddrd\"\nEncoded target labels...\nSclass: noise\nPre-processing 1st image in noise class\nData Extraction complete for class: \"noise\"\nEncoded target labels...\nSclass: squarepulsednarrowband\nPre-processing 1st image in squarepulsednarrowband class\nData Extraction complete for class: \"squarepulsednarrowband\"\nEncoded target labels...\nSclass: squiggle\nPre-processing 1st image in squiggle class\nData Extraction complete for class: \"squiggle\"\nEncoded target labels...\nSclass: squigglesquarepulsednarrowband\nPre-processing 1st image in squigglesquarepulsednarrowband class\nData Extraction complete for class: \"squigglesquarepulsednarrowband\"\nEncoded target labels...\n",
          "name": "stdout"
        }
      ]
    },
    {
      "metadata": {
        "trusted": true,
        "_uuid": "4a251a1096b0028360ece72602322b6cc0def747",
        "id": "sFsCXnyJHYel"
      },
      "cell_type": "code",
      "source": [
        "# encode labels\n",
        "#encoder = LabelEncoder()\n",
        "#encoder.fit(y_val)\n",
        "#encoded_ = encoder.transform(y_val)\n",
        "y_val = to_categorical(y_val, output_classes)"
      ],
      "execution_count": null,
      "outputs": []
    },
    {
      "metadata": {
        "trusted": true,
        "_uuid": "950de5ea26cd544fbe563fe2efd38bf30da5e239",
        "id": "ZRn8kBwAHYel",
        "outputId": "63220669-8f2e-4f0e-d315-520f82483bf1"
      },
      "cell_type": "code",
      "source": [
        "# train for the given configs\n",
        "__model, history = train(train_image_generator, X_val, y_val)"
      ],
      "execution_count": null,
      "outputs": [
        {
          "output_type": "stream",
          "text": "Epoch 1/10\n150/150 [==============================] - 131s 873ms/step - loss: 2.0046 - acc: 0.3635 - val_loss: 8.2765 - val_acc: 0.1814\nEpoch 2/10\n150/150 [==============================] - 113s 751ms/step - loss: 1.5915 - acc: 0.4531 - val_loss: 4.9328 - val_acc: 0.2386\nEpoch 3/10\n150/150 [==============================] - 114s 759ms/step - loss: 1.4433 - acc: 0.5063 - val_loss: 11.7934 - val_acc: 0.2043\nEpoch 4/10\n150/150 [==============================] - 114s 758ms/step - loss: 1.4392 - acc: 0.5111 - val_loss: 9.1042 - val_acc: 0.1614\nEpoch 5/10\n150/150 [==============================] - 114s 761ms/step - loss: 1.4320 - acc: 0.5161 - val_loss: 4.4243 - val_acc: 0.3357\nEpoch 6/10\n150/150 [==============================] - 114s 759ms/step - loss: 1.1994 - acc: 0.5813 - val_loss: 1.7818 - val_acc: 0.4171\nEpoch 7/10\n150/150 [==============================] - 113s 757ms/step - loss: 1.1687 - acc: 0.5849 - val_loss: 8.2944 - val_acc: 0.1614\nEpoch 8/10\n150/150 [==============================] - 113s 756ms/step - loss: 1.1196 - acc: 0.6108 - val_loss: 8.7627 - val_acc: 0.1857\nEpoch 9/10\n150/150 [==============================] - 114s 758ms/step - loss: 1.0705 - acc: 0.6159 - val_loss: 2.9231 - val_acc: 0.3371\nEpoch 10/10\n150/150 [==============================] - 114s 760ms/step - loss: 1.0430 - acc: 0.6252 - val_loss: 5.3235 - val_acc: 0.2329\n",
          "name": "stdout"
        }
      ]
    },
    {
      "metadata": {
        "trusted": true,
        "_uuid": "a38e40452f6cd63d8cf771b6b695fe238e732dad",
        "scrolled": false,
        "_kg_hide-output": false,
        "id": "-mAz6VG7HYel"
      },
      "cell_type": "code",
      "source": [
        "y_hat = __model.predict(X_test)\n"
      ],
      "execution_count": null,
      "outputs": []
    },
    {
      "metadata": {
        "trusted": true,
        "id": "UlHYTJ_pHYel"
      },
      "cell_type": "code",
      "source": [
        "\n",
        "y_hat = np.argmax(y_hat, axis=1)"
      ],
      "execution_count": null,
      "outputs": []
    },
    {
      "metadata": {
        "trusted": true,
        "_uuid": "1c0ac46e501b9d7764cd01e3464504c83370fbaf",
        "id": "AlSyVTvRHYem"
      },
      "cell_type": "code",
      "source": [
        "encoder_test = LabelEncoder()\n",
        "encoder_test.fit(y_test)\n",
        "encoded_test = encoder_test.transform(y_test)\n",
        "y_test = to_categorical(encoded_test, output_classes)\n",
        "y_test = np.argmax(y_test, axis=1)"
      ],
      "execution_count": null,
      "outputs": []
    },
    {
      "metadata": {
        "trusted": true,
        "id": "UDc1dPIzHYem",
        "outputId": "1ea77f27-3f27-447c-ee5f-f92d3ccb2b06"
      },
      "cell_type": "code",
      "source": [
        "print(y_test.shape)"
      ],
      "execution_count": null,
      "outputs": [
        {
          "output_type": "stream",
          "text": "(700,)\n",
          "name": "stdout"
        }
      ]
    },
    {
      "metadata": {
        "trusted": true,
        "_uuid": "af7432ba38ec936792042f92df053c98bab7215c",
        "id": "yTuu0NF-HYem",
        "outputId": "1327d4db-c7d9-41b5-d55e-93b29a36648f"
      },
      "cell_type": "code",
      "source": [
        "# plot the loss\n",
        "plt.plot(history.history['loss'])\n",
        "plt.plot(history.history['val_loss'])\n",
        "plt.title('model loss')\n",
        "plt.ylabel('loss')\n",
        "plt.xlabel('epoch')\n",
        "plt.legend(['train', 'test'], loc='upper left')\n",
        "plt.show()"
      ],
      "execution_count": null,
      "outputs": [
        {
          "output_type": "display_data",
          "data": {
            "text/plain": "<Figure size 432x288 with 1 Axes>",
            "image/png": "[encoded data removed]"
          },
          "metadata": {
            "needs_background": "light"
          }
        }
      ]
    },
    {
      "metadata": {
        "trusted": true,
        "_uuid": "7b18ac623bbd018ef2a54b0d9d50853ea6c055dc",
        "id": "uW0vo2qcHYen",
        "outputId": "de7dcf85-bb27-4003-a65e-05db1014886e"
      },
      "cell_type": "code",
      "source": [
        "# plotting accuracy\n",
        "plt.plot(history.history['acc'])\n",
        "plt.plot(history.history['val_acc'])\n",
        "plt.title('model accuracy')\n",
        "plt.ylabel('accuracy')\n",
        "plt.xlabel('epoch')\n",
        "plt.legend(['train', 'test'], loc='upper left')\n",
        "plt.show()"
      ],
      "execution_count": null,
      "outputs": [
        {
          "output_type": "display_data",
          "data": {
            "text/plain": "<Figure size 432x288 with 1 Axes>",
            "image/png": "[encoded data removed]"
          },
          "metadata": {
            "needs_background": "light"
          }
        }
      ]
    },
    {
      "metadata": {
        "trusted": true,
        "_uuid": "88e8eb8fe50700c23a9b53348bea3ea0dce1930d",
        "id": "YO8gVCaoHYen",
        "outputId": "781ae624-f263-4012-d4cc-5e9340e995c2"
      },
      "cell_type": "code",
      "source": [
        "print(\"Classification Report\")\n",
        "print(classification_report(y_test, y_hat, digits=5))"
      ],
      "execution_count": null,
      "outputs": [
        {
          "output_type": "stream",
          "text": "Classification Report\n              precision    recall  f1-score   support\n\n           0    0.95349   0.41000   0.57343       100\n           1    0.18116   1.00000   0.30675       100\n           2    0.00000   0.00000   0.00000       100\n           3    0.00000   0.00000   0.00000       100\n           4    0.18557   0.18000   0.18274       100\n           5    1.00000   0.02000   0.03922       100\n           6    1.00000   0.01000   0.01980       100\n\n    accuracy                        0.23143       700\n   macro avg    0.47432   0.23143   0.16028       700\nweighted avg    0.47432   0.23143   0.16028       700\n\n",
          "name": "stdout"
        },
        {
          "output_type": "stream",
          "text": "/opt/conda/lib/python3.6/site-packages/sklearn/metrics/classification.py:1437: UndefinedMetricWarning: Precision and F-score are ill-defined and being set to 0.0 in labels with no predicted samples.\n  'precision', 'predicted', average, warn_for)\n",
          "name": "stderr"
        }
      ]
    },
    {
      "metadata": {
        "trusted": true,
        "_uuid": "967da61795b79a962bddd76700c77b5d33c99aa6",
        "id": "0pYF8EBsHYeo",
        "outputId": "6018cc52-a28d-464a-94ef-282be656399c"
      },
      "cell_type": "code",
      "source": [
        "print(\"Accuracy: {}\".format(accuracy_score(y_test, y_hat)))"
      ],
      "execution_count": null,
      "outputs": [
        {
          "output_type": "stream",
          "text": "Accuracy: 0.23142857142857143\n",
          "name": "stdout"
        }
      ]
    },
    {
      "metadata": {
        "trusted": true,
        "id": "oZKNmOz_HYep",
        "outputId": "1d0427a7-9596-407d-85cd-8bd21f4649a4"
      },
      "cell_type": "code",
      "source": [
        "print(y_test)"
      ],
      "execution_count": null,
      "outputs": [
        {
          "output_type": "stream",
          "text": "[4 0 4 0 4 1 0 1 0 4 4 0 1 0 1 4 0 1 1 4 1 1 4 1 0 1 0 1 1 1 4 4 4 4 0 0 0\n 0 0 0 1 1 0 0 4 0 1 1 4 1 0 0 1 4 1 0 0 4 1 1 0 1 0 0 1 0 1 0 4 1 0 0 0 0\n 1 1 1 0 0 4 4 1 0 0 4 4 4 1 0 1 4 0 0 0 0 1 0 1 4 4 1 1 1 1 1 1 1 1 1 1 1\n 1 1 1 1 1 1 1 1 1 1 1 1 1 1 1 1 1 1 1 1 1 1 1 1 1 1 1 1 1 1 1 1 1 1 1 1 1\n 1 1 1 1 1 1 1 1 1 1 1 1 1 1 1 1 1 1 1 1 1 1 1 1 1 1 1 1 1 1 1 1 1 1 1 1 1\n 1 1 1 1 1 1 1 1 1 1 1 1 1 1 1 1 1 1 1 1 1 1 1 1 1 1 1 1 1 1 1 1 1 1 1 1 1\n 1 1 1 1 1 1 1 1 1 1 1 1 1 1 1 1 1 1 1 1 1 1 1 1 1 1 1 1 1 1 1 1 1 1 1 1 1\n 1 1 1 1 1 1 1 1 1 1 1 1 1 1 1 1 1 1 1 1 1 1 1 1 1 1 1 1 1 1 1 1 1 1 1 1 1\n 1 1 1 1 1 1 1 1 1 1 1 1 1 1 1 1 1 1 1 1 1 1 1 1 1 1 1 1 1 1 1 1 1 1 1 1 1\n 1 1 1 1 1 1 1 1 1 1 1 1 1 1 1 1 1 1 1 1 1 1 1 1 1 1 1 1 1 1 1 1 1 1 1 1 1\n 1 1 1 1 1 1 1 1 1 1 1 1 1 1 1 1 1 1 1 1 1 1 1 1 1 1 1 1 1 1 1 1 1 1 4 1 4\n 1 1 1 1 1 1 1 1 1 4 1 1 1 1 1 1 1 1 1 1 1 1 1 4 1 1 1 1 1 1 1 4 1 1 4 1 1\n 1 1 1 1 1 1 1 1 1 4 1 4 1 1 1 1 4 1 4 4 1 1 1 1 1 1 1 1 1 1 1 1 1 4 1 1 4\n 4 4 1 4 1 1 4 1 1 1 1 1 1 1 1 1 1 1 4 1 1 1 5 1 1 1 4 2 1 1 1 1 1 1 1 1 1\n 1 1 1 1 2 1 1 1 1 1 1 1 4 1 1 1 1 1 1 1 1 1 1 1 1 1 1 1 1 1 1 1 1 1 2 1 1\n 1 1 1 1 1 1 1 1 1 1 1 1 1 1 1 1 1 1 1 2 1 1 1 1 5 1 1 1 1 2 1 1 1 1 1 1 1\n 1 1 1 1 1 1 1 1 1 1 1 0 1 1 1 4 1 4 0 1 4 4 1 1 4 4 4 4 4 4 4 1 4 4 4 1 4\n 1 4 4 1 4 4 4 1 4 4 1 1 1 4 1 1 4 4 1 4 4 4 1 4 4 4 1 1 4 4 1 1 4 1 1 4 1\n 1 1 1 4 1 1 4 4 1 4 4 4 4 1 4 4 4 1 1 4 1 4 1 4 1 1 1 4 4 6 1 1 4 4]\n",
          "name": "stdout"
        }
      ]
    },
    {
      "metadata": {
        "trusted": true,
        "_uuid": "0314a5c0a4a67b4bfe8f3ebe5bc8b2ed3a32be52",
        "id": "fImjRy0yHYeq"
      },
      "cell_type": "code",
      "source": [],
      "execution_count": null,
      "outputs": []
    }
  ],
  "metadata": {
    "kernelspec": {
      "display_name": "Python 3",
      "language": "python",
      "name": "python3"
    },
    "language_info": {
      "name": "python",
      "version": "3.6.6",
      "mimetype": "text/x-python",
      "codemirror_mode": {
        "name": "ipython",
        "version": 3
      },
      "pygments_lexer": "ipython3",
      "nbconvert_exporter": "python",
      "file_extension": ".py"
    },
    "colab": {
      "provenance": [],
      "include_colab_link": true
    }
  },
  "nbformat": 4,
  "nbformat_minor": 0
}