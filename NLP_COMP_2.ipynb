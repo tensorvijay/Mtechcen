{
  "nbformat": 4,
  "nbformat_minor": 0,
  "metadata": {
    "colab": {
      "provenance": [],
      "mount_file_id": "1T6oD7hvcMYp-MQUs2QnA8cNoCYIRGn9N",
      "authorship_tag": "ABX9TyPrRIJILF4TW14Qy8A+Bxcm",
      "include_colab_link": true
    },
    "kernelspec": {
      "name": "python3",
      "display_name": "Python 3"
    },
    "accelerator": "GPU"
  },
  "cells": [
    {
      "cell_type": "markdown",
      "metadata": {
        "id": "view-in-github",
        "colab_type": "text"
      },
      "source": [
        "<a href=\"https://colab.research.google.com/github/tensorvijay/Mtechcen/blob/master/NLP_COMP_2.ipynb\" target=\"_parent\"><img src=\"https://colab.research.google.com/assets/colab-badge.svg\" alt=\"Open In Colab\"/></a>"
      ]
    },
    {
      "cell_type": "markdown",
      "metadata": {
        "id": "uGsTZHowudDx"
      },
      "source": [
        "Some non linearility is here becaue of constant reloading of saved models and subsequent experimentation\n",
        "\n"
      ]
    },
    {
      "cell_type": "code",
      "metadata": {
        "id": "hFEkwbsULaUS"
      },
      "source": [
        "import pandas as pd\n",
        "import numpy as np\n",
        "from keras.preprocessing.sequence import pad_sequences"
      ],
      "execution_count": null,
      "outputs": []
    },
    {
      "cell_type": "code",
      "metadata": {
        "id": "jGWy-ahCOH69"
      },
      "source": [
        "df=pd.read_csv('/content/drive/MyDrive/Thirdsem/TimeSeries/ner_hindi_train.txt',sep='\\t',names=['Name','Entity'])"
      ],
      "execution_count": null,
      "outputs": []
    },
    {
      "cell_type": "code",
      "metadata": {
        "id": "NGK9dXVLn5I7"
      },
      "source": [
        "import seaborn as sns"
      ],
      "execution_count": null,
      "outputs": []
    },
    {
      "cell_type": "code",
      "metadata": {
        "id": "D92qpGcooXJh"
      },
      "source": [
        "import matplotlib.pyplot as plt\n"
      ],
      "execution_count": null,
      "outputs": []
    },
    {
      "cell_type": "code",
      "metadata": {
        "colab": {
          "base_uri": "https://localhost:8080/",
          "height": 387
        },
        "id": "K-_oM5RAoJLx",
        "outputId": "664b07a7-5c55-48f6-bce2-ef2bd794ef89"
      },
      "source": [
        "ax = sns.countplot(df.Entity,)\n",
        "ax.set_xticklabels(ax.get_xticklabels(), rotation=40, ha=\"right\")\n",
        "#plt.figure(figsize=(8,8))\n",
        "#img=\n",
        "plt.xlabel('Entity')\n",
        "plt.title('Number of entities')\n",
        "plt.savefig('entity_number.png')"
      ],
      "execution_count": null,
      "outputs": [
        {
          "output_type": "stream",
          "text": [
            "/usr/local/lib/python3.6/dist-packages/seaborn/_decorators.py:43: FutureWarning: Pass the following variable as a keyword arg: x. From version 0.12, the only valid positional argument will be `data`, and passing other arguments without an explicit keyword will result in an error or misinterpretation.\n",
            "  FutureWarning\n"
          ],
          "name": "stderr"
        },
        {
          "output_type": "display_data",
          "data": {
            "image/png": "[encoded data removed]",
            "text/plain": [
              "<Figure size 432x288 with 1 Axes>"
            ]
          },
          "metadata": {
            "tags": [],
            "needs_background": "light"
          }
        }
      ]
    },
    {
      "cell_type": "code",
      "metadata": {
        "id": "YcEbDTIk0gkT"
      },
      "source": [
        "Test_dict=np.load('/content/drive/MyDrive/Thirdsem/TimeSeries/dict.npy',allow_pickle=True)"
      ],
      "execution_count": null,
      "outputs": []
    },
    {
      "cell_type": "code",
      "metadata": {
        "id": "3YqZ7tKC1J5S"
      },
      "source": [
        "w2n = np.load('/content/drive/MyDrive/Thirdsem/TimeSeries/dict.npy',allow_pickle=True)[()]"
      ],
      "execution_count": null,
      "outputs": []
    },
    {
      "cell_type": "code",
      "metadata": {
        "id": "VztbEbZt2VJd"
      },
      "source": [
        "new_w2i = {**w2n, **{'': 0}}"
      ],
      "execution_count": null,
      "outputs": []
    },
    {
      "cell_type": "code",
      "metadata": {
        "colab": {
          "base_uri": "https://localhost:8080/"
        },
        "id": "UPIORWGp2_FL",
        "outputId": "3ff72b33-949f-4e47-c9cb-b860d5d67282"
      },
      "source": [
        "new_w2i['1986']"
      ],
      "execution_count": null,
      "outputs": [
        {
          "output_type": "execute_result",
          "data": {
            "text/plain": [
              "53436"
            ]
          },
          "metadata": {
            "tags": []
          },
          "execution_count": 19
        }
      ]
    },
    {
      "cell_type": "code",
      "metadata": {
        "id": "ZNYw5ayF1sn2"
      },
      "source": [
        "X_ = [[new_w2i[w] for w in s] for s in NS]"
      ],
      "execution_count": null,
      "outputs": []
    },
    {
      "cell_type": "code",
      "metadata": {
        "id": "OUj9RTg329QN"
      },
      "source": [
        "X = pad_sequences(maxlen=609, sequences=X_, padding=\"post\",value=53436)"
      ],
      "execution_count": null,
      "outputs": []
    },
    {
      "cell_type": "code",
      "metadata": {
        "id": "Tjg0C26FPGVH"
      },
      "source": [
        "data=df.fillna('limit')"
      ],
      "execution_count": null,
      "outputs": []
    },
    {
      "cell_type": "code",
      "metadata": {
        "id": "D1sBarR_vMuf"
      },
      "source": [
        "df2=pd.read_csv('/content/ner_hindi_test .csv')"
      ],
      "execution_count": null,
      "outputs": []
    },
    {
      "cell_type": "code",
      "metadata": {
        "colab": {
          "base_uri": "https://localhost:8080/",
          "height": 204
        },
        "id": "MY8Hw0c7veIe",
        "outputId": "12e0310f-fa47-47a6-cf6f-92491b2288fe"
      },
      "source": [
        "df2.head()"
      ],
      "execution_count": null,
      "outputs": [
        {
          "output_type": "execute_result",
          "data": {
            "text/html": [
              "<div>\n",
              "<style scoped>\n",
              "    .dataframe tbody tr th:only-of-type {\n",
              "        vertical-align: middle;\n",
              "    }\n",
              "\n",
              "    .dataframe tbody tr th {\n",
              "        vertical-align: top;\n",
              "    }\n",
              "\n",
              "    .dataframe thead th {\n",
              "        text-align: right;\n",
              "    }\n",
              "</style>\n",
              "<table border=\"1\" class=\"dataframe\">\n",
              "  <thead>\n",
              "    <tr style=\"text-align: right;\">\n",
              "      <th></th>\n",
              "      <th>ID</th>\n",
              "      <th>Words</th>\n",
              "    </tr>\n",
              "  </thead>\n",
              "  <tbody>\n",
              "    <tr>\n",
              "      <th>0</th>\n",
              "      <td>NER_0001</td>\n",
              "      <td>उनके</td>\n",
              "    </tr>\n",
              "    <tr>\n",
              "      <th>1</th>\n",
              "      <td>NER_0002</td>\n",
              "      <td>माता</td>\n",
              "    </tr>\n",
              "    <tr>\n",
              "      <th>2</th>\n",
              "      <td>NER_0003</td>\n",
              "      <td>-</td>\n",
              "    </tr>\n",
              "    <tr>\n",
              "      <th>3</th>\n",
              "      <td>NER_0004</td>\n",
              "      <td>पिता</td>\n",
              "    </tr>\n",
              "    <tr>\n",
              "      <th>4</th>\n",
              "      <td>NER_0005</td>\n",
              "      <td>तथा</td>\n",
              "    </tr>\n",
              "  </tbody>\n",
              "</table>\n",
              "</div>"
            ],
            "text/plain": [
              "         ID Words\n",
              "0  NER_0001  उनके\n",
              "1  NER_0002  माता\n",
              "2  NER_0003     -\n",
              "3  NER_0004  पिता\n",
              "4  NER_0005   तथा"
            ]
          },
          "metadata": {
            "tags": []
          },
          "execution_count": 32
        }
      ]
    },
    {
      "cell_type": "code",
      "metadata": {
        "colab": {
          "base_uri": "https://localhost:8080/"
        },
        "id": "ezi1_wubS4MK",
        "outputId": "e172dfa4-c476-4a90-d050-83c9cf19d932"
      },
      "source": [
        "df2.count"
      ],
      "execution_count": null,
      "outputs": [
        {
          "output_type": "execute_result",
          "data": {
            "text/plain": [
              "<bound method DataFrame.count of               ID    Words\n",
              "0       NER_0001     उनके\n",
              "1       NER_0002     माता\n",
              "2       NER_0003        -\n",
              "3       NER_0004     पिता\n",
              "4       NER_0005      तथा\n",
              "...          ...      ...\n",
              "12660  NER_12661       के\n",
              "12661  NER_12662    सदस्य\n",
              "12662  NER_12663      हैं\n",
              "12663  NER_12664        .\n",
              "12664  NER_12665  newline\n",
              "\n",
              "[12665 rows x 2 columns]>"
            ]
          },
          "metadata": {
            "tags": []
          },
          "execution_count": 33
        }
      ]
    },
    {
      "cell_type": "code",
      "metadata": {
        "id": "BWYYbX3kdN-J"
      },
      "source": [
        "import numpy as np"
      ],
      "execution_count": null,
      "outputs": []
    },
    {
      "cell_type": "markdown",
      "metadata": {
        "id": "wIg6wJululqa"
      },
      "source": [
        "Conversion of columns into a single large string and the subsequent representation by splitting it so that the sentences are split as per the given parametes"
      ]
    },
    {
      "cell_type": "code",
      "metadata": {
        "id": "UXsvXTCpwPgL"
      },
      "source": [
        "ES=data.Entity.str.cat(sep=' ') #convert entire column into single string"
      ],
      "execution_count": null,
      "outputs": []
    },
    {
      "cell_type": "code",
      "metadata": {
        "id": "XxQ2Ubdpndgz"
      },
      "source": [
        "ES=ES.split('limit')    #seperate into sentences"
      ],
      "execution_count": null,
      "outputs": []
    },
    {
      "cell_type": "code",
      "metadata": {
        "id": "DJ6ay7SjngCP"
      },
      "source": [
        "ES=[s.strip() for s in ES]       #remove the first and the last space"
      ],
      "execution_count": null,
      "outputs": []
    },
    {
      "cell_type": "code",
      "metadata": {
        "id": "Q5Ezr24AnsYr"
      },
      "source": [
        "ES=[s.split(' ') for s in ES]     #separate each sentence into a word"
      ],
      "execution_count": null,
      "outputs": []
    },
    {
      "cell_type": "code",
      "metadata": {
        "colab": {
          "base_uri": "https://localhost:8080/"
        },
        "id": "qwHvThl7n1SX",
        "outputId": "e9355392-9ba4-453f-85f8-05a289b1a4fd"
      },
      "source": [
        "ES[0]"
      ],
      "execution_count": null,
      "outputs": [
        {
          "output_type": "execute_result",
          "data": {
            "text/plain": [
              "['other',\n",
              " 'other',\n",
              " 'other',\n",
              " 'other',\n",
              " 'other',\n",
              " 'other',\n",
              " 'other',\n",
              " 'other',\n",
              " 'other',\n",
              " 'other',\n",
              " 'other',\n",
              " 'location',\n",
              " 'other',\n",
              " 'other',\n",
              " 'other',\n",
              " 'other',\n",
              " 'other',\n",
              " 'other']"
            ]
          },
          "metadata": {
            "tags": []
          },
          "execution_count": 27
        }
      ]
    },
    {
      "cell_type": "code",
      "metadata": {
        "colab": {
          "base_uri": "https://localhost:8080/"
        },
        "id": "rIv95fheE1g3",
        "outputId": "788b57b2-5690-48f4-b94a-382cfaccf61d"
      },
      "source": [
        "NS=data.Name.str.cat(sep=' ')\n",
        "NS=NS.split('newline')\n",
        "NS=[s.strip() for s in NS]\n",
        "NS=[s.split(' ') for s in NS]\n",
        "len(NS)"
      ],
      "execution_count": null,
      "outputs": [
        {
          "output_type": "execute_result",
          "data": {
            "text/plain": [
              "75884"
            ]
          },
          "metadata": {
            "tags": []
          },
          "execution_count": 10
        }
      ]
    },
    {
      "cell_type": "code",
      "metadata": {
        "id": "Rybehd8rFj-h"
      },
      "source": [
        "words = list(set(data[\"Name\"].values))\n",
        "#words.append(\"ENDPAD\")"
      ],
      "execution_count": null,
      "outputs": []
    },
    {
      "cell_type": "code",
      "metadata": {
        "id": "QSTK2bCXvqmP"
      },
      "source": [
        "words_=list(set(df2[\"Words\"].values))"
      ],
      "execution_count": null,
      "outputs": []
    },
    {
      "cell_type": "code",
      "metadata": {
        "colab": {
          "base_uri": "https://localhost:8080/"
        },
        "id": "rkKIr9FKxBZo",
        "outputId": "58f286c2-b173-4bab-cd9c-08c1eab9a5b2"
      },
      "source": [
        "len(words_)"
      ],
      "execution_count": null,
      "outputs": [
        {
          "output_type": "execute_result",
          "data": {
            "text/plain": [
              "3402"
            ]
          },
          "metadata": {
            "tags": []
          },
          "execution_count": 15
        }
      ]
    },
    {
      "cell_type": "code",
      "metadata": {
        "id": "uDu4rCA3wdOH"
      },
      "source": [
        "w=np.concatenate([words,words_])"
      ],
      "execution_count": null,
      "outputs": []
    },
    {
      "cell_type": "code",
      "metadata": {
        "colab": {
          "base_uri": "https://localhost:8080/"
        },
        "id": "PLQk_zekwlTz",
        "outputId": "81a5720e-31ac-49c3-f366-68fdd565dd39"
      },
      "source": [
        "len(w)"
      ],
      "execution_count": null,
      "outputs": [
        {
          "output_type": "execute_result",
          "data": {
            "text/plain": [
              "91173"
            ]
          },
          "metadata": {
            "tags": []
          },
          "execution_count": 17
        }
      ]
    },
    {
      "cell_type": "code",
      "metadata": {
        "colab": {
          "base_uri": "https://localhost:8080/"
        },
        "id": "U7QP-8Mpwhrz",
        "outputId": "89728126-d587-4952-ba88-962bd680c52b"
      },
      "source": [
        "len(words)"
      ],
      "execution_count": null,
      "outputs": [
        {
          "output_type": "execute_result",
          "data": {
            "text/plain": [
              "87771"
            ]
          },
          "metadata": {
            "tags": []
          },
          "execution_count": 18
        }
      ]
    },
    {
      "cell_type": "code",
      "metadata": {
        "colab": {
          "base_uri": "https://localhost:8080/"
        },
        "id": "_HRqOq4KcT7_",
        "outputId": "87e8f3e4-fc8a-494b-8745-ae564821e437"
      },
      "source": [
        "n_words = len(w); n_words"
      ],
      "execution_count": null,
      "outputs": [
        {
          "output_type": "execute_result",
          "data": {
            "text/plain": [
              "91173"
            ]
          },
          "metadata": {
            "tags": []
          },
          "execution_count": 19
        }
      ]
    },
    {
      "cell_type": "code",
      "metadata": {
        "id": "Znlk5AoNc3Ht"
      },
      "source": [
        "tags = list(set(data[\"Entity\"].values))"
      ],
      "execution_count": null,
      "outputs": []
    },
    {
      "cell_type": "code",
      "metadata": {
        "colab": {
          "base_uri": "https://localhost:8080/"
        },
        "id": "hcqUDQKZc-1O",
        "outputId": "f46e1778-8641-4cfe-aa75-e82088301e88"
      },
      "source": [
        "n_tags = len(tags); n_tags"
      ],
      "execution_count": null,
      "outputs": [
        {
          "output_type": "execute_result",
          "data": {
            "text/plain": [
              "10"
            ]
          },
          "metadata": {
            "tags": []
          },
          "execution_count": 29
        }
      ]
    },
    {
      "cell_type": "code",
      "metadata": {
        "colab": {
          "base_uri": "https://localhost:8080/"
        },
        "id": "6Nbta69idDgQ",
        "outputId": "61cfd8d9-f914-4599-8ea8-fb394ab8daf7"
      },
      "source": [
        "tags"
      ],
      "execution_count": null,
      "outputs": [
        {
          "output_type": "execute_result",
          "data": {
            "text/plain": [
              "['event',\n",
              " 'name',\n",
              " 'occupation',\n",
              " 'location',\n",
              " 'limit',\n",
              " 'other',\n",
              " 'organization',\n",
              " 'datenum',\n",
              " 'number',\n",
              " 'things']"
            ]
          },
          "metadata": {
            "tags": []
          },
          "execution_count": 30
        }
      ]
    },
    {
      "cell_type": "code",
      "metadata": {
        "id": "S2QyVIeA3koF"
      },
      "source": [
        "tag2idx = {t: i for i, t in enumerate(tags)}"
      ],
      "execution_count": null,
      "outputs": []
    },
    {
      "cell_type": "code",
      "metadata": {
        "colab": {
          "base_uri": "https://localhost:8080/"
        },
        "id": "-r0_Lbok3mlg",
        "outputId": "71349383-5514-49f1-9beb-e6df2cc234b3"
      },
      "source": [
        "tag2idx"
      ],
      "execution_count": null,
      "outputs": [
        {
          "output_type": "execute_result",
          "data": {
            "text/plain": [
              "{'datenum': 7,\n",
              " 'event': 0,\n",
              " 'limit': 4,\n",
              " 'location': 3,\n",
              " 'name': 1,\n",
              " 'number': 8,\n",
              " 'occupation': 2,\n",
              " 'organization': 6,\n",
              " 'other': 5,\n",
              " 'things': 9}"
            ]
          },
          "metadata": {
            "tags": []
          },
          "execution_count": 32
        }
      ]
    },
    {
      "cell_type": "markdown",
      "metadata": {
        "id": "Tv9e68HEuw-1"
      },
      "source": [
        "Tagging words and Entities based on uniqueness of word number mapping"
      ]
    },
    {
      "cell_type": "code",
      "metadata": {
        "id": "Ppm5RAqbde-z"
      },
      "source": [
        "word2idx = {w: i for i, w in enumerate(w)}\n",
        "tag2idx = {t: i for i, t in enumerate(tags)}"
      ],
      "execution_count": null,
      "outputs": []
    },
    {
      "cell_type": "code",
      "metadata": {
        "colab": {
          "base_uri": "https://localhost:8080/"
        },
        "id": "qUK3lPa8htP_",
        "outputId": "28379f37-08f7-49d3-dfbb-1d6857ef9902"
      },
      "source": [
        "tag2idx"
      ],
      "execution_count": null,
      "outputs": [
        {
          "output_type": "execute_result",
          "data": {
            "text/plain": [
              "{'datenum': 6,\n",
              " 'event': 5,\n",
              " 'limit': 3,\n",
              " 'location': 7,\n",
              " 'name': 0,\n",
              " 'number': 1,\n",
              " 'occupation': 2,\n",
              " 'organization': 9,\n",
              " 'other': 4,\n",
              " 'things': 8}"
            ]
          },
          "metadata": {
            "tags": []
          },
          "execution_count": 24
        }
      ]
    },
    {
      "cell_type": "code",
      "metadata": {
        "id": "ROEfg35l3vMI"
      },
      "source": [
        "y = [[new_t2i_[w] for w in s] for s in ES]"
      ],
      "execution_count": null,
      "outputs": []
    },
    {
      "cell_type": "code",
      "metadata": {
        "id": "kXtBgl980tTa"
      },
      "source": [
        "y = pad_sequences(maxlen=609, sequences=y, padding=\"post\", value=1)"
      ],
      "execution_count": null,
      "outputs": []
    },
    {
      "cell_type": "code",
      "metadata": {
        "colab": {
          "base_uri": "https://localhost:8080/"
        },
        "id": "9Td2eOV4dg9C",
        "outputId": "ec14e1f5-7778-45ee-b02b-c1cfe7bbe5da"
      },
      "source": [
        "word2idx['1986']"
      ],
      "execution_count": null,
      "outputs": [
        {
          "output_type": "execute_result",
          "data": {
            "text/plain": [
              "53436"
            ]
          },
          "metadata": {
            "tags": []
          },
          "execution_count": 76
        }
      ]
    },
    {
      "cell_type": "code",
      "metadata": {
        "id": "PdV_L0TAeUDu"
      },
      "source": [
        "new_w2i = {**word2idx, **{'': 0}}"
      ],
      "execution_count": null,
      "outputs": []
    },
    {
      "cell_type": "code",
      "metadata": {
        "id": "4CH8yP3lhWhv"
      },
      "source": [
        "new_t2i={**tag2idx,**{'t':9}}"
      ],
      "execution_count": null,
      "outputs": []
    },
    {
      "cell_type": "code",
      "metadata": {
        "id": "-3WUqhyNiZGN"
      },
      "source": [
        "new_t2i_={**tag2idx,**{'':3}}"
      ],
      "execution_count": null,
      "outputs": []
    },
    {
      "cell_type": "code",
      "metadata": {
        "colab": {
          "base_uri": "https://localhost:8080/"
        },
        "id": "7NLmjADzfwDN",
        "outputId": "7c6ab513-4540-4de2-e4cd-1929f254ca7d"
      },
      "source": [
        "maxlen = max([len(s) for s in NS])\n",
        "print ('Maximum sequence length:', maxlen)"
      ],
      "execution_count": null,
      "outputs": [
        {
          "output_type": "stream",
          "text": [
            "Maximum sequence length: 609\n"
          ],
          "name": "stdout"
        }
      ]
    },
    {
      "cell_type": "code",
      "metadata": {
        "id": "bBYtk5mHeFlI"
      },
      "source": [
        "X = [[new_w2i[w] for w in s] for s in NS]"
      ],
      "execution_count": null,
      "outputs": []
    },
    {
      "cell_type": "code",
      "metadata": {
        "id": "v_pJSA-QfRr5"
      },
      "source": [
        "from keras.preprocessing.sequence import pad_sequences"
      ],
      "execution_count": null,
      "outputs": []
    },
    {
      "cell_type": "code",
      "metadata": {
        "id": "pqs2jcdE71Zi"
      },
      "source": [
        "new_t2i_={'': 0,\n",
        " 'datenum': 6,\n",
        " 'event': 5,\n",
        " 'limit': 3,\n",
        " 'location': 7,\n",
        " 'name': 0,\n",
        " 'number': 1,\n",
        " 'occupation': 2,\n",
        " 'organization': 9,\n",
        " 'other': 4,\n",
        " 'things': 8}"
      ],
      "execution_count": null,
      "outputs": []
    },
    {
      "cell_type": "code",
      "metadata": {
        "id": "Blm4zi87femV"
      },
      "source": [
        "X = pad_sequences(maxlen=609, sequences=X, padding=\"post\",value=88696)"
      ],
      "execution_count": null,
      "outputs": []
    },
    {
      "cell_type": "code",
      "metadata": {
        "id": "oi1IVVOjg4HC"
      },
      "source": [
        "y = [[new_t2i_[w] for w in s] for s in ES]"
      ],
      "execution_count": null,
      "outputs": []
    },
    {
      "cell_type": "code",
      "metadata": {
        "id": "RGUzJDTW5Tx-"
      },
      "source": [
        "y_trial=y[75000:75883]"
      ],
      "execution_count": null,
      "outputs": []
    },
    {
      "cell_type": "code",
      "metadata": {
        "colab": {
          "base_uri": "https://localhost:8080/"
        },
        "id": "lQFqhCu65eS9",
        "outputId": "114a4753-db2e-48ca-cb8f-f16a8348b635"
      },
      "source": [
        "len(y_trial)"
      ],
      "execution_count": null,
      "outputs": [
        {
          "output_type": "execute_result",
          "data": {
            "text/plain": [
              "883"
            ]
          },
          "metadata": {
            "tags": []
          },
          "execution_count": 57
        }
      ]
    },
    {
      "cell_type": "code",
      "metadata": {
        "colab": {
          "base_uri": "https://localhost:8080/"
        },
        "id": "vxnKkwpt6G5i",
        "outputId": "3dd8ef0c-cbee-4485-c5fd-75342d652317"
      },
      "source": [
        "y_label=np.hstack(y_trial)\n",
        "len(y_label)"
      ],
      "execution_count": null,
      "outputs": [
        {
          "output_type": "execute_result",
          "data": {
            "text/plain": [
              "16557"
            ]
          },
          "metadata": {
            "tags": []
          },
          "execution_count": 58
        }
      ]
    },
    {
      "cell_type": "code",
      "metadata": {
        "colab": {
          "base_uri": "https://localhost:8080/"
        },
        "id": "2VU_0h7i5hQb",
        "outputId": "8d1c76d9-27e4-4e82-dc2b-0d6ed4a79f6f"
      },
      "source": [
        "y_trial[10]"
      ],
      "execution_count": null,
      "outputs": [
        {
          "output_type": "execute_result",
          "data": {
            "text/plain": [
              "[4, 4, 4, 4, 1, 4, 4, 7, 4, 7, 4, 4, 7, 4, 4, 7, 7, 4, 7, 7, 4, 4, 7, 4, 4]"
            ]
          },
          "metadata": {
            "tags": []
          },
          "execution_count": 59
        }
      ]
    },
    {
      "cell_type": "code",
      "metadata": {
        "colab": {
          "base_uri": "https://localhost:8080/"
        },
        "id": "D3VvPZcOij_f",
        "outputId": "b94561cb-6e10-4259-9095-4a8bef292208"
      },
      "source": [
        "new_t2i_"
      ],
      "execution_count": null,
      "outputs": [
        {
          "output_type": "execute_result",
          "data": {
            "text/plain": [
              "{'': 0,\n",
              " 'datenum': 6,\n",
              " 'event': 5,\n",
              " 'limit': 3,\n",
              " 'location': 7,\n",
              " 'name': 0,\n",
              " 'number': 1,\n",
              " 'occupation': 2,\n",
              " 'organization': 9,\n",
              " 'other': 4,\n",
              " 'things': 8}"
            ]
          },
          "metadata": {
            "tags": []
          },
          "execution_count": 60
        }
      ]
    },
    {
      "cell_type": "code",
      "metadata": {
        "id": "3OFll4qUi0-v"
      },
      "source": [
        "y = pad_sequences(maxlen=609, sequences=y, padding=\"post\", value=9)"
      ],
      "execution_count": null,
      "outputs": []
    },
    {
      "cell_type": "code",
      "metadata": {
        "colab": {
          "base_uri": "https://localhost:8080/"
        },
        "id": "0q4oJqGFjr8i",
        "outputId": "0e8e24eb-af6b-4668-e283-6ba73770a186"
      },
      "source": [
        "len(y)"
      ],
      "execution_count": null,
      "outputs": [
        {
          "output_type": "execute_result",
          "data": {
            "text/plain": [
              "75884"
            ]
          },
          "metadata": {
            "tags": []
          },
          "execution_count": 62
        }
      ]
    },
    {
      "cell_type": "code",
      "metadata": {
        "colab": {
          "base_uri": "https://localhost:8080/"
        },
        "id": "_A-b9rFEj5zQ",
        "outputId": "c39f1413-f26c-4be8-d7cd-d91477806dc3"
      },
      "source": [
        "y.shape"
      ],
      "execution_count": null,
      "outputs": [
        {
          "output_type": "execute_result",
          "data": {
            "text/plain": [
              "(75884, 609)"
            ]
          },
          "metadata": {
            "tags": []
          },
          "execution_count": 63
        }
      ]
    },
    {
      "cell_type": "code",
      "metadata": {
        "id": "ouEK5npBjtpV"
      },
      "source": [
        "Y_test=y[75000:75883]\n",
        "X_test=X[75000:75883]"
      ],
      "execution_count": null,
      "outputs": []
    },
    {
      "cell_type": "code",
      "metadata": {
        "colab": {
          "base_uri": "https://localhost:8080/"
        },
        "id": "3KRm3O-M4eRb",
        "outputId": "4522b233-7ec8-4975-c1d5-e65a99c20bda"
      },
      "source": [
        "len(X_test)"
      ],
      "execution_count": null,
      "outputs": [
        {
          "output_type": "execute_result",
          "data": {
            "text/plain": [
              "883"
            ]
          },
          "metadata": {
            "tags": []
          },
          "execution_count": 65
        }
      ]
    },
    {
      "cell_type": "code",
      "metadata": {
        "colab": {
          "base_uri": "https://localhost:8080/"
        },
        "id": "P9zFhoYs8wDO",
        "outputId": "9e4dea09-29aa-43e4-bc0c-5b982f0d3203"
      },
      "source": [
        "mm=load_model('/content/drive/MyDrive/Thirdsem/TimeSeries/NER_Hindi.hdf5')"
      ],
      "execution_count": null,
      "outputs": [
        {
          "output_type": "stream",
          "text": [
            "WARNING:tensorflow:Layer lstm will not use cuDNN kernel since it doesn't meet the cuDNN kernel criteria. It will use generic GPU kernel as fallback when running on GPU\n",
            "WARNING:tensorflow:Layer lstm will not use cuDNN kernel since it doesn't meet the cuDNN kernel criteria. It will use generic GPU kernel as fallback when running on GPU\n",
            "WARNING:tensorflow:Layer lstm will not use cuDNN kernel since it doesn't meet the cuDNN kernel criteria. It will use generic GPU kernel as fallback when running on GPU\n"
          ],
          "name": "stdout"
        }
      ]
    },
    {
      "cell_type": "code",
      "metadata": {
        "id": "beObIbCO67gD"
      },
      "source": [
        "met_res=[]\n",
        "for i in range(0,len(X_test)):\n",
        "  p = mm.predict(np.array([X_test[i]]))\n",
        "  p = np.argmax(p, axis=-1)\n",
        "  met_res.append(p[0][0:len(y_trial[i])])"
      ],
      "execution_count": null,
      "outputs": []
    },
    {
      "cell_type": "code",
      "metadata": {
        "colab": {
          "base_uri": "https://localhost:8080/"
        },
        "id": "51qiCOfq97_c",
        "outputId": "b2016c3c-f5bb-4b37-e77d-b11704a98756"
      },
      "source": [
        "met_t=np.hstack(met_res)\n",
        "len(met_t)"
      ],
      "execution_count": null,
      "outputs": [
        {
          "output_type": "execute_result",
          "data": {
            "text/plain": [
              "16557"
            ]
          },
          "metadata": {
            "tags": []
          },
          "execution_count": 70
        }
      ]
    },
    {
      "cell_type": "code",
      "metadata": {
        "id": "GaNOu9X_-E5n"
      },
      "source": [
        "from sklearn.metrics import confusion_matrix,classification_report"
      ],
      "execution_count": null,
      "outputs": []
    },
    {
      "cell_type": "code",
      "metadata": {
        "id": "4rkyt-dh-Ib7"
      },
      "source": [
        "CF=confusion_matrix(met_t,y_label)"
      ],
      "execution_count": null,
      "outputs": []
    },
    {
      "cell_type": "code",
      "metadata": {
        "id": "WnyXB1dVCvn7"
      },
      "source": [
        "img=classification_report(met_t,y_label,output_dict=True,target_names={0:'name',1:'number',2:'occupation',3:'other',4:'event',5:'datenum',6:'location',7:'things',8:'organization'})"
      ],
      "execution_count": null,
      "outputs": []
    },
    {
      "cell_type": "code",
      "metadata": {
        "id": "CNC8hm6n-ewT"
      },
      "source": [
        "data=pd.DataFrame(img)"
      ],
      "execution_count": null,
      "outputs": []
    },
    {
      "cell_type": "code",
      "metadata": {
        "id": "_VfsP8FiFred"
      },
      "source": [
        "tmp=data.rename(columns={0:'name',1:'number',2:'occupation',3:'other',4:'event',5:'datenum',6:'location',7:'things',8:'organization'})"
      ],
      "execution_count": null,
      "outputs": []
    },
    {
      "cell_type": "code",
      "metadata": {
        "colab": {
          "base_uri": "https://localhost:8080/",
          "height": 173
        },
        "id": "lWiXnncJF5o8",
        "outputId": "74e3a652-861a-47b3-a222-9e8c851c9ed4"
      },
      "source": [
        "tmp"
      ],
      "execution_count": null,
      "outputs": [
        {
          "output_type": "execute_result",
          "data": {
            "text/html": [
              "<div>\n",
              "<style scoped>\n",
              "    .dataframe tbody tr th:only-of-type {\n",
              "        vertical-align: middle;\n",
              "    }\n",
              "\n",
              "    .dataframe tbody tr th {\n",
              "        vertical-align: top;\n",
              "    }\n",
              "\n",
              "    .dataframe thead th {\n",
              "        text-align: right;\n",
              "    }\n",
              "</style>\n",
              "<table border=\"1\" class=\"dataframe\">\n",
              "  <thead>\n",
              "    <tr style=\"text-align: right;\">\n",
              "      <th></th>\n",
              "      <th>name</th>\n",
              "      <th>number</th>\n",
              "      <th>occupation</th>\n",
              "      <th>other</th>\n",
              "      <th>event</th>\n",
              "      <th>datenum</th>\n",
              "      <th>location</th>\n",
              "      <th>things</th>\n",
              "      <th>organization</th>\n",
              "      <th>accuracy</th>\n",
              "      <th>macro avg</th>\n",
              "      <th>weighted avg</th>\n",
              "    </tr>\n",
              "  </thead>\n",
              "  <tbody>\n",
              "    <tr>\n",
              "      <th>precision</th>\n",
              "      <td>0.796004</td>\n",
              "      <td>0.940503</td>\n",
              "      <td>0.889571</td>\n",
              "      <td>0.992471</td>\n",
              "      <td>0.903226</td>\n",
              "      <td>0.513514</td>\n",
              "      <td>0.963155</td>\n",
              "      <td>0.717949</td>\n",
              "      <td>0.868966</td>\n",
              "      <td>0.972761</td>\n",
              "      <td>0.842818</td>\n",
              "      <td>0.975343</td>\n",
              "    </tr>\n",
              "    <tr>\n",
              "      <th>recall</th>\n",
              "      <td>0.945069</td>\n",
              "      <td>0.947005</td>\n",
              "      <td>0.906250</td>\n",
              "      <td>0.976198</td>\n",
              "      <td>1.000000</td>\n",
              "      <td>0.950000</td>\n",
              "      <td>0.976079</td>\n",
              "      <td>0.965517</td>\n",
              "      <td>0.919708</td>\n",
              "      <td>0.972761</td>\n",
              "      <td>0.953981</td>\n",
              "      <td>0.972761</td>\n",
              "    </tr>\n",
              "    <tr>\n",
              "      <th>f1-score</th>\n",
              "      <td>0.864155</td>\n",
              "      <td>0.943743</td>\n",
              "      <td>0.897833</td>\n",
              "      <td>0.984267</td>\n",
              "      <td>0.949153</td>\n",
              "      <td>0.666667</td>\n",
              "      <td>0.969574</td>\n",
              "      <td>0.823529</td>\n",
              "      <td>0.893617</td>\n",
              "      <td>0.972761</td>\n",
              "      <td>0.888060</td>\n",
              "      <td>0.973563</td>\n",
              "    </tr>\n",
              "    <tr>\n",
              "      <th>support</th>\n",
              "      <td>801.000000</td>\n",
              "      <td>434.000000</td>\n",
              "      <td>160.000000</td>\n",
              "      <td>13234.000000</td>\n",
              "      <td>28.000000</td>\n",
              "      <td>20.000000</td>\n",
              "      <td>1714.000000</td>\n",
              "      <td>29.000000</td>\n",
              "      <td>137.000000</td>\n",
              "      <td>0.972761</td>\n",
              "      <td>16557.000000</td>\n",
              "      <td>16557.000000</td>\n",
              "    </tr>\n",
              "  </tbody>\n",
              "</table>\n",
              "</div>"
            ],
            "text/plain": [
              "                 name      number  ...     macro avg  weighted avg\n",
              "precision    0.796004    0.940503  ...      0.842818      0.975343\n",
              "recall       0.945069    0.947005  ...      0.953981      0.972761\n",
              "f1-score     0.864155    0.943743  ...      0.888060      0.973563\n",
              "support    801.000000  434.000000  ...  16557.000000  16557.000000\n",
              "\n",
              "[4 rows x 12 columns]"
            ]
          },
          "metadata": {
            "tags": []
          },
          "execution_count": 111
        }
      ]
    },
    {
      "cell_type": "code",
      "metadata": {
        "colab": {
          "base_uri": "https://localhost:8080/",
          "height": 323
        },
        "id": "6BjIsC1YEkNv",
        "outputId": "70ed6bcf-598d-488b-81e9-c0694c9eff03"
      },
      "source": [
        "im=sb."
      ],
      "execution_count": null,
      "outputs": [
        {
          "output_type": "display_data",
          "data": {
            "image/png": "[encoded data removed]",
            "text/plain": [
              "<Figure size 432x288 with 2 Axes>"
            ]
          },
          "metadata": {
            "tags": [],
            "needs_background": "light"
          }
        }
      ]
    },
    {
      "cell_type": "code",
      "metadata": {
        "id": "WnYgk9WZAolJ"
      },
      "source": [
        "def metrics(CF):\n",
        "  TN=[]\n",
        "  D=np.diag(CF)\n",
        "  DS=np.sum(D)\n",
        "  D_=np.diagflat(D)\n",
        "  DF=CF-D_\n",
        "  FP=np.sum(DF,1)\n",
        "  FN=np.sum(DF,0)\n",
        "  TP=D\n",
        "  for i in D:\n",
        "   TN.append(DS-i)\n",
        "  A=np.divide(TP+TN,TP+TN+FP+FN)\n",
        "  P=np.divide(TP,TP+FP)\n",
        "  R=np.divide(TP,TP+FN)\n",
        "  F1=np.divide(2*(P * R),(P + R))\n",
        "  return A,P,R,F1"
      ],
      "execution_count": null,
      "outputs": []
    },
    {
      "cell_type": "code",
      "metadata": {
        "id": "52tmRIhTCamX"
      },
      "source": [
        "import seaborn as sb"
      ],
      "execution_count": null,
      "outputs": []
    },
    {
      "cell_type": "code",
      "metadata": {
        "colab": {
          "base_uri": "https://localhost:8080/",
          "height": 328
        },
        "id": "ULe30WaXDKDh",
        "outputId": "29787811-ea99-4666-b932-b7188429248e"
      },
      "source": [
        "data_"
      ],
      "execution_count": null,
      "outputs": [
        {
          "output_type": "execute_result",
          "data": {
            "text/html": [
              "<div>\n",
              "<style scoped>\n",
              "    .dataframe tbody tr th:only-of-type {\n",
              "        vertical-align: middle;\n",
              "    }\n",
              "\n",
              "    .dataframe tbody tr th {\n",
              "        vertical-align: top;\n",
              "    }\n",
              "\n",
              "    .dataframe thead th {\n",
              "        text-align: right;\n",
              "    }\n",
              "</style>\n",
              "<table border=\"1\" class=\"dataframe\">\n",
              "  <thead>\n",
              "    <tr style=\"text-align: right;\">\n",
              "      <th></th>\n",
              "      <th>accuracy</th>\n",
              "      <th>precision</th>\n",
              "      <th>recall</th>\n",
              "      <th>f1score</th>\n",
              "    </tr>\n",
              "  </thead>\n",
              "  <tbody>\n",
              "    <tr>\n",
              "      <th>0</th>\n",
              "      <td>0.985438</td>\n",
              "      <td>0.945069</td>\n",
              "      <td>0.796004</td>\n",
              "      <td>0.864155</td>\n",
              "    </tr>\n",
              "    <tr>\n",
              "      <th>1</th>\n",
              "      <td>0.996967</td>\n",
              "      <td>0.947005</td>\n",
              "      <td>0.940503</td>\n",
              "      <td>0.943743</td>\n",
              "    </tr>\n",
              "    <tr>\n",
              "      <th>2</th>\n",
              "      <td>0.997955</td>\n",
              "      <td>0.906250</td>\n",
              "      <td>0.889571</td>\n",
              "      <td>0.897833</td>\n",
              "    </tr>\n",
              "    <tr>\n",
              "      <th>3</th>\n",
              "      <td>0.974998</td>\n",
              "      <td>0.976198</td>\n",
              "      <td>0.992471</td>\n",
              "      <td>0.984267</td>\n",
              "    </tr>\n",
              "    <tr>\n",
              "      <th>4</th>\n",
              "      <td>0.999814</td>\n",
              "      <td>1.000000</td>\n",
              "      <td>0.903226</td>\n",
              "      <td>0.949153</td>\n",
              "    </tr>\n",
              "    <tr>\n",
              "      <th>5</th>\n",
              "      <td>0.998822</td>\n",
              "      <td>0.950000</td>\n",
              "      <td>0.513514</td>\n",
              "      <td>0.666667</td>\n",
              "    </tr>\n",
              "    <tr>\n",
              "      <th>6</th>\n",
              "      <td>0.993523</td>\n",
              "      <td>0.976079</td>\n",
              "      <td>0.963155</td>\n",
              "      <td>0.969574</td>\n",
              "    </tr>\n",
              "    <tr>\n",
              "      <th>7</th>\n",
              "      <td>0.999255</td>\n",
              "      <td>0.965517</td>\n",
              "      <td>0.717949</td>\n",
              "      <td>0.823529</td>\n",
              "    </tr>\n",
              "    <tr>\n",
              "      <th>8</th>\n",
              "      <td>0.998141</td>\n",
              "      <td>0.919708</td>\n",
              "      <td>0.868966</td>\n",
              "      <td>0.893617</td>\n",
              "    </tr>\n",
              "  </tbody>\n",
              "</table>\n",
              "</div>"
            ],
            "text/plain": [
              "   accuracy  precision    recall   f1score\n",
              "0  0.985438   0.945069  0.796004  0.864155\n",
              "1  0.996967   0.947005  0.940503  0.943743\n",
              "2  0.997955   0.906250  0.889571  0.897833\n",
              "3  0.974998   0.976198  0.992471  0.984267\n",
              "4  0.999814   1.000000  0.903226  0.949153\n",
              "5  0.998822   0.950000  0.513514  0.666667\n",
              "6  0.993523   0.976079  0.963155  0.969574\n",
              "7  0.999255   0.965517  0.717949  0.823529\n",
              "8  0.998141   0.919708  0.868966  0.893617"
            ]
          },
          "metadata": {
            "tags": []
          },
          "execution_count": 90
        }
      ]
    },
    {
      "cell_type": "markdown",
      "metadata": {
        "id": "Gs3jpJy3ShJ3"
      },
      "source": [
        "Metrics from the pretrained model actual implementation of the work is given below"
      ]
    },
    {
      "cell_type": "code",
      "metadata": {
        "colab": {
          "base_uri": "https://localhost:8080/",
          "height": 265
        },
        "id": "5LJ8gM_fAKQe",
        "outputId": "e3fe5876-5b30-4746-94cc-91afe76fcbe4"
      },
      "source": [
        "accuracy,precision,recall,f1score=metrics(CF) #for  running model\n",
        "CR={'accuracy':accuracy,'precision':precision,'recall':recall,'f1score':f1score}\n",
        "data_=pd.DataFrame(CR)\n",
        "#0 Business, 1 sports, 2 Entertainment\n",
        "newdata=data_.rename(index={0:'name',1:'number',2:'occupation',3:'other',4:'event',5:'datenum',6:'location',7:'things',8:'organization'})\n",
        "img=sb.heatmap(newdata,annot=True,fmt='f',robust=True,linewidths=2, cmap=\"YlGnBu\")\n",
        "img.figure.savefig('classification_formalism.png')"
      ],
      "execution_count": null,
      "outputs": [
        {
          "output_type": "display_data",
          "data": {
            "image/png": "[encoded data removed]",
            "text/plain": [
              "<Figure size 432x288 with 2 Axes>"
            ]
          },
          "metadata": {
            "tags": [],
            "needs_background": "light"
          }
        }
      ]
    },
    {
      "cell_type": "code",
      "metadata": {
        "id": "YfozhO6LkzfS"
      },
      "source": [
        "X_train=X[0:75000]\n",
        "Y_train=y[0:75000]"
      ],
      "execution_count": null,
      "outputs": []
    },
    {
      "cell_type": "code",
      "metadata": {
        "id": "TEbz935CkXKA"
      },
      "source": [
        "test_label=np.hstack(Y_test)"
      ],
      "execution_count": null,
      "outputs": []
    },
    {
      "cell_type": "code",
      "metadata": {
        "colab": {
          "base_uri": "https://localhost:8080/"
        },
        "id": "BWD_9cunlWvp",
        "outputId": "6526d83a-0892-45e7-e83a-76ff997beb46"
      },
      "source": [
        "len(test_label)"
      ],
      "execution_count": null,
      "outputs": [
        {
          "output_type": "execute_result",
          "data": {
            "text/plain": [
              "537747"
            ]
          },
          "metadata": {
            "tags": []
          },
          "execution_count": 42
        }
      ]
    },
    {
      "cell_type": "code",
      "metadata": {
        "id": "2-FTYE80lefE"
      },
      "source": [
        "x=[[1,2],[3,4]]"
      ],
      "execution_count": null,
      "outputs": []
    },
    {
      "cell_type": "code",
      "metadata": {
        "colab": {
          "base_uri": "https://localhost:8080/"
        },
        "id": "NX_yBpnMlpXZ",
        "outputId": "411be844-e40d-4657-99fb-ef969b90881c"
      },
      "source": [
        "np.hstack(x)"
      ],
      "execution_count": null,
      "outputs": [
        {
          "output_type": "execute_result",
          "data": {
            "text/plain": [
              "array([1, 2, 3, 4])"
            ]
          },
          "metadata": {
            "tags": []
          },
          "execution_count": 44
        }
      ]
    },
    {
      "cell_type": "code",
      "metadata": {
        "id": "CQgqYR6qkmPQ"
      },
      "source": [
        "train_=np.hstack(X_test)"
      ],
      "execution_count": null,
      "outputs": []
    },
    {
      "cell_type": "code",
      "metadata": {
        "colab": {
          "base_uri": "https://localhost:8080/"
        },
        "id": "UOeGmKnfqFuf",
        "outputId": "1a13e339-8703-4470-fe1e-97b81a834151"
      },
      "source": [
        "len(train_)"
      ],
      "execution_count": null,
      "outputs": [
        {
          "output_type": "execute_result",
          "data": {
            "text/plain": [
              "537747"
            ]
          },
          "metadata": {
            "tags": []
          },
          "execution_count": 46
        }
      ]
    },
    {
      "cell_type": "code",
      "metadata": {
        "colab": {
          "base_uri": "https://localhost:8080/"
        },
        "id": "QB69rEIDkehp",
        "outputId": "98d5ec1c-341b-4440-b5fb-7506cb47e895"
      },
      "source": [
        "test_label[0:10]"
      ],
      "execution_count": null,
      "outputs": [
        {
          "output_type": "execute_result",
          "data": {
            "text/plain": [
              "array([4, 4, 9, 9, 9, 8, 9, 9, 9, 9], dtype=int32)"
            ]
          },
          "metadata": {
            "tags": []
          },
          "execution_count": 134
        }
      ]
    },
    {
      "cell_type": "code",
      "metadata": {
        "colab": {
          "base_uri": "https://localhost:8080/"
        },
        "id": "8Y-ltv0xkhJl",
        "outputId": "83b32130-c149-4158-b173-8e5b05ef22f9"
      },
      "source": [
        "len(X_train)"
      ],
      "execution_count": null,
      "outputs": [
        {
          "output_type": "execute_result",
          "data": {
            "text/plain": [
              "75000"
            ]
          },
          "metadata": {
            "tags": []
          },
          "execution_count": 47
        }
      ]
    },
    {
      "cell_type": "code",
      "metadata": {
        "id": "Kv3L8YyxjFO0"
      },
      "source": [
        "from keras.utils import to_categorical\n",
        "Y_train = [to_categorical(i, num_classes=10) for i in Y_train]"
      ],
      "execution_count": null,
      "outputs": []
    },
    {
      "cell_type": "code",
      "metadata": {
        "id": "2Vr-JoK7HQyT"
      },
      "source": [
        "import pandas as pd\n",
        "import numpy as np\n",
        "import matplotlib.pyplot as plt\n",
        "import seaborn as sns\n",
        "from sklearn.model_selection import train_test_split\n",
        "from sklearn.preprocessing import LabelEncoder\n",
        "from keras.models import Model\n",
        "from keras.layers import LSTM, Activation, Dense, Dropout, Input, Embedding\n",
        "from keras.optimizers import RMSprop\n",
        "from keras.preprocessing.text import Tokenizer\n",
        "from keras.preprocessing import sequence\n",
        "from keras.utils import to_categorical\n",
        "from keras.callbacks import EarlyStopping\n",
        "%matplotlib inline"
      ],
      "execution_count": null,
      "outputs": []
    },
    {
      "cell_type": "code",
      "metadata": {
        "id": "gCDzVBxfOVP6"
      },
      "source": [
        "from keras.models import Model, Input,load_model\n",
        "from keras.layers import LSTM, Embedding, Dense, TimeDistributed, Dropout, Bidirectional"
      ],
      "execution_count": null,
      "outputs": []
    },
    {
      "cell_type": "markdown",
      "metadata": {
        "id": "aNxC4MvAwwGA"
      },
      "source": []
    },
    {
      "cell_type": "code",
      "metadata": {
        "colab": {
          "base_uri": "https://localhost:8080/"
        },
        "id": "IeaFuMNKOmrs",
        "outputId": "8eb49c38-185b-43f8-ab2e-f5caa6ea7642"
      },
      "source": [
        "input = Input(shape=(609,))\n",
        "model = Embedding(input_dim=91173, output_dim=609, input_length=609)(input)\n",
        "model = Dropout(0.1)(model)\n",
        "model = Bidirectional(LSTM(units=100, return_sequences=True, recurrent_dropout=0.1))(model)\n",
        "out = TimeDistributed(Dense(10, activation=\"softmax\"))(model)  # softmax output layer"
      ],
      "execution_count": null,
      "outputs": [
        {
          "output_type": "stream",
          "text": [
            "WARNING:tensorflow:Layer lstm will not use cuDNN kernel since it doesn't meet the cuDNN kernel criteria. It will use generic GPU kernel as fallback when running on GPU\n",
            "WARNING:tensorflow:Layer lstm will not use cuDNN kernel since it doesn't meet the cuDNN kernel criteria. It will use generic GPU kernel as fallback when running on GPU\n",
            "WARNING:tensorflow:Layer lstm will not use cuDNN kernel since it doesn't meet the cuDNN kernel criteria. It will use generic GPU kernel as fallback when running on GPU\n"
          ],
          "name": "stdout"
        }
      ]
    },
    {
      "cell_type": "code",
      "metadata": {
        "id": "8xXGME9COu4j"
      },
      "source": [
        "model = Model(input, out)"
      ],
      "execution_count": null,
      "outputs": []
    },
    {
      "cell_type": "code",
      "metadata": {
        "id": "RvE-rxYMP5DL"
      },
      "source": [
        "model.compile(optimizer=\"adam\", loss=\"categorical_crossentropy\", metrics=[\"accuracy\"])"
      ],
      "execution_count": null,
      "outputs": []
    },
    {
      "cell_type": "code",
      "metadata": {
        "colab": {
          "base_uri": "https://localhost:8080/"
        },
        "id": "gT9mWYx0KsEc",
        "outputId": "94ef9a4a-8adc-4bc4-9b10-06123bbab17f"
      },
      "source": [
        "model.summary()"
      ],
      "execution_count": null,
      "outputs": [
        {
          "output_type": "stream",
          "text": [
            "Model: \"functional_1\"\n",
            "_________________________________________________________________\n",
            "Layer (type)                 Output Shape              Param #   \n",
            "=================================================================\n",
            "input_1 (InputLayer)         [(None, 609)]             0         \n",
            "_________________________________________________________________\n",
            "embedding (Embedding)        (None, 609, 609)          55524357  \n",
            "_________________________________________________________________\n",
            "dropout (Dropout)            (None, 609, 609)          0         \n",
            "_________________________________________________________________\n",
            "bidirectional (Bidirectional (None, 609, 200)          568000    \n",
            "_________________________________________________________________\n",
            "time_distributed (TimeDistri (None, 609, 10)           2010      \n",
            "=================================================================\n",
            "Total params: 56,094,367\n",
            "Trainable params: 56,094,367\n",
            "Non-trainable params: 0\n",
            "_________________________________________________________________\n"
          ],
          "name": "stdout"
        }
      ]
    },
    {
      "cell_type": "code",
      "metadata": {
        "id": "NKKHS38SsCeX"
      },
      "source": [
        "from keras.utils import plot_model"
      ],
      "execution_count": null,
      "outputs": []
    },
    {
      "cell_type": "code",
      "metadata": {
        "colab": {
          "base_uri": "https://localhost:8080/",
          "height": 533
        },
        "id": "OBV5Pd2rsHIv",
        "outputId": "96ad3edd-fe2d-4922-cca5-84f89dc7c6e1"
      },
      "source": [
        "plot_model(model,show_shapes=True)"
      ],
      "execution_count": null,
      "outputs": [
        {
          "output_type": "execute_result",
          "data": {
            "image/png": "[encoded data removed]",
            "text/plain": [
              "<IPython.core.display.Image object>"
            ]
          },
          "metadata": {
            "tags": []
          },
          "execution_count": 29
        }
      ]
    },
    {
      "cell_type": "code",
      "metadata": {
        "colab": {
          "base_uri": "https://localhost:8080/"
        },
        "id": "XEc1bV6MmOKe",
        "outputId": "8b629671-6d77-4a7e-87f7-a33220dca82e"
      },
      "source": [
        "Y_train[0].shape"
      ],
      "execution_count": null,
      "outputs": [
        {
          "output_type": "execute_result",
          "data": {
            "text/plain": [
              "(609, 10)"
            ]
          },
          "metadata": {
            "tags": []
          },
          "execution_count": 55
        }
      ]
    },
    {
      "cell_type": "code",
      "metadata": {
        "colab": {
          "base_uri": "https://localhost:8080/"
        },
        "id": "94osYPolO2ee",
        "outputId": "b5279eeb-34c2-4d9f-c28e-c84cefdacb5f"
      },
      "source": [
        "history = model.fit(X_train, np.array(Y_train), batch_size=32, epochs=1, validation_split=0.2, verbose=1)"
      ],
      "execution_count": null,
      "outputs": [
        {
          "output_type": "stream",
          "text": [
            "1875/1875 [==============================] - 3766s 2s/step - loss: 0.0116 - accuracy: 0.9976 - val_loss: 0.0028 - val_accuracy: 0.9991\n"
          ],
          "name": "stdout"
        }
      ]
    },
    {
      "cell_type": "code",
      "metadata": {
        "id": "a5_Hu61MirlG"
      },
      "source": [
        "model.save('/content/drive/MyDrive/Thirdsem/TimeSeries/NER_Hindi.hdf5',model)"
      ],
      "execution_count": null,
      "outputs": []
    },
    {
      "cell_type": "code",
      "metadata": {
        "id": "hATWiC9h9ve8"
      },
      "source": [
        "np.save('/content/drive/MyDrive/Thirdsem/TimeSeries/dict.npy',word2idx)"
      ],
      "execution_count": null,
      "outputs": []
    },
    {
      "cell_type": "code",
      "metadata": {
        "id": "c0KcLjC5IdXW"
      },
      "source": [],
      "execution_count": null,
      "outputs": []
    },
    {
      "cell_type": "code",
      "metadata": {
        "colab": {
          "base_uri": "https://localhost:8080/"
        },
        "id": "hTAOQWOYIn7Z",
        "outputId": "51f59760-c86d-418f-d619-b88389c74102"
      },
      "source": [
        "len(tw_)"
      ],
      "execution_count": null,
      "outputs": [
        {
          "output_type": "execute_result",
          "data": {
            "text/plain": [
              "12665"
            ]
          },
          "metadata": {
            "tags": []
          },
          "execution_count": 84
        }
      ]
    },
    {
      "cell_type": "code",
      "metadata": {
        "colab": {
          "base_uri": "https://localhost:8080/"
        },
        "id": "_Xy1-tfIErx5",
        "outputId": "b64b3d92-1551-47ce-a776-a5b913a1c598"
      },
      "source": [
        "TS=df2.Words.str.cat(sep=' ')\n",
        "TS=TS.split('newline')\n",
        "TS=[s.strip() for s in TS]\n",
        "TS=[s.split(' ') for s in TS]\n",
        "len(TS)"
      ],
      "execution_count": null,
      "outputs": [
        {
          "output_type": "execute_result",
          "data": {
            "text/plain": [
              "654"
            ]
          },
          "metadata": {
            "tags": []
          },
          "execution_count": 34
        }
      ]
    },
    {
      "cell_type": "code",
      "metadata": {
        "colab": {
          "base_uri": "https://localhost:8080/"
        },
        "id": "wU0__DpQVcn0",
        "outputId": "bf43384d-9a8e-4065-8ef5-d27de5d3dbac"
      },
      "source": [
        "TS[0]"
      ],
      "execution_count": null,
      "outputs": [
        {
          "output_type": "execute_result",
          "data": {
            "text/plain": [
              "['उनके',\n",
              " 'माता',\n",
              " '-',\n",
              " 'पिता',\n",
              " 'तथा',\n",
              " 'विस्तृत',\n",
              " 'परिवार',\n",
              " 'अर्मीनियाई',\n",
              " 'था',\n",
              " 'और',\n",
              " 'उस',\n",
              " 'समय',\n",
              " 'के',\n",
              " 'उस्मानी',\n",
              " 'साम्राज्य',\n",
              " 'के',\n",
              " 'क्षेत्र',\n",
              " 'से',\n",
              " 'अमेरिका',\n",
              " 'के',\n",
              " 'कैलिफ़ोर्निया',\n",
              " 'राज्य',\n",
              " 'के',\n",
              " 'फ्रेज़नो',\n",
              " 'शहर',\n",
              " 'में',\n",
              " 'आ',\n",
              " 'बसा',\n",
              " 'था',\n",
              " '.']"
            ]
          },
          "metadata": {
            "tags": []
          },
          "execution_count": 42
        }
      ]
    },
    {
      "cell_type": "code",
      "metadata": {
        "id": "Vu65cZrPFnbK"
      },
      "source": [
        "T = [[new_w2i[w] for w in s] for s in TS]"
      ],
      "execution_count": null,
      "outputs": []
    },
    {
      "cell_type": "code",
      "metadata": {
        "id": "vn6doJrgFyL8"
      },
      "source": [
        "from keras.preprocessing.sequence import pad_sequences"
      ],
      "execution_count": null,
      "outputs": []
    },
    {
      "cell_type": "code",
      "metadata": {
        "id": "jDvgkri7F8fA"
      },
      "source": [
        "np.save('/content/drive/MyDrive/Thirdsem/TimeSeries/testset.npy',allow_pickle=True)"
      ],
      "execution_count": null,
      "outputs": []
    },
    {
      "cell_type": "code",
      "metadata": {
        "id": "XJQ7Hpx1OBWL"
      },
      "source": [
        "T=np.load('/content/drive/MyDrive/Thirdsem/TimeSeries/testset.npy',allow_pickle=True)"
      ],
      "execution_count": null,
      "outputs": []
    },
    {
      "cell_type": "code",
      "metadata": {
        "id": "Hn1BQ3PxGtZM"
      },
      "source": [
        "Tseq = pad_sequences(maxlen=609, sequences=T, padding=\"post\",value=88696)"
      ],
      "execution_count": null,
      "outputs": []
    },
    {
      "cell_type": "code",
      "metadata": {
        "colab": {
          "base_uri": "https://localhost:8080/"
        },
        "id": "Ei9LM_KXO18q",
        "outputId": "ab70556f-de3a-4d2c-c92c-2a522a6ed82a"
      },
      "source": [
        "mm=load_model('/content/drive/MyDrive/Thirdsem/TimeSeries/NER_Hindi.hdf5')"
      ],
      "execution_count": null,
      "outputs": [
        {
          "output_type": "stream",
          "text": [
            "WARNING:tensorflow:Layer lstm will not use cuDNN kernel since it doesn't meet the cuDNN kernel criteria. It will use generic GPU kernel as fallback when running on GPU\n",
            "WARNING:tensorflow:Layer lstm will not use cuDNN kernel since it doesn't meet the cuDNN kernel criteria. It will use generic GPU kernel as fallback when running on GPU\n",
            "WARNING:tensorflow:Layer lstm will not use cuDNN kernel since it doesn't meet the cuDNN kernel criteria. It will use generic GPU kernel as fallback when running on GPU\n"
          ],
          "name": "stdout"
        }
      ]
    },
    {
      "cell_type": "code",
      "metadata": {
        "id": "oCr90Q2yoMNm"
      },
      "source": [
        "i = 0\n",
        "p = mm.predict(np.array([Tseq[i]]))\n",
        "p = np.argmax(p, axis=-1)"
      ],
      "execution_count": null,
      "outputs": []
    },
    {
      "cell_type": "code",
      "metadata": {
        "colab": {
          "base_uri": "https://localhost:8080/"
        },
        "id": "JiEwTygfPK7U",
        "outputId": "29a6fb48-f8a4-4b05-d7ac-7de58b82488f"
      },
      "source": [
        "p[0][0:len(T[0])]"
      ],
      "execution_count": null,
      "outputs": [
        {
          "output_type": "execute_result",
          "data": {
            "text/plain": [
              "array([4, 0, 4, 0, 4, 4, 0, 4, 4, 4, 4, 4, 4, 4, 9, 4, 7, 4, 7, 4, 7, 7,\n",
              "       4, 4, 7, 4, 4, 4, 4, 4])"
            ]
          },
          "metadata": {
            "tags": []
          },
          "execution_count": 20
        }
      ]
    },
    {
      "cell_type": "markdown",
      "metadata": {
        "id": "_11a8wcMG8V0"
      },
      "source": [
        "The Current Working Repository\n"
      ]
    },
    {
      "cell_type": "code",
      "metadata": {
        "colab": {
          "base_uri": "https://localhost:8080/"
        },
        "id": "jc3UQC9WHHHa",
        "outputId": "7514ff79-e791-4357-e23b-21e2d820f0bb"
      },
      "source": [
        "p.shape"
      ],
      "execution_count": null,
      "outputs": [
        {
          "output_type": "execute_result",
          "data": {
            "text/plain": [
              "(1, 609)"
            ]
          },
          "metadata": {
            "tags": []
          },
          "execution_count": 85
        }
      ]
    },
    {
      "cell_type": "code",
      "metadata": {
        "colab": {
          "base_uri": "https://localhost:8080/"
        },
        "id": "rdxsox3_Ke9v",
        "outputId": "ba33a866-c10a-413f-b000-501e581a40ca"
      },
      "source": [
        "Tseq.shape"
      ],
      "execution_count": null,
      "outputs": [
        {
          "output_type": "execute_result",
          "data": {
            "text/plain": [
              "(654, 609)"
            ]
          },
          "metadata": {
            "tags": []
          },
          "execution_count": 86
        }
      ]
    },
    {
      "cell_type": "code",
      "metadata": {
        "id": "AgSmIx28oObI"
      },
      "source": [
        "#Final_result=[np.argmax(model.predict(np.array(i))[i,0:len(T[])],axis=-1)for i in Tseq]\n",
        "Final_result=[]\n",
        "for i in range(0,len(Tseq)):\n",
        "  p = mm.predict(np.array([Tseq[i]]))\n",
        "  p = np.argmax(p, axis=-1)\n",
        "  Final_result.append(p[0][0:len(TS[i])])"
      ],
      "execution_count": null,
      "outputs": []
    },
    {
      "cell_type": "code",
      "metadata": {
        "colab": {
          "base_uri": "https://localhost:8080/"
        },
        "id": "ulLRRp9mvP61",
        "outputId": "a9456919-420b-4e0d-d708-4a843c25aea1"
      },
      "source": [
        "len(Final_result)"
      ],
      "execution_count": null,
      "outputs": [
        {
          "output_type": "execute_result",
          "data": {
            "text/plain": [
              "654"
            ]
          },
          "metadata": {
            "tags": []
          },
          "execution_count": 36
        }
      ]
    },
    {
      "cell_type": "code",
      "metadata": {
        "colab": {
          "base_uri": "https://localhost:8080/"
        },
        "id": "IF0TOLmUMpE9",
        "outputId": "4ee74344-a15d-4008-b1e6-e52ba2208666"
      },
      "source": [
        "Final_result[13]"
      ],
      "execution_count": null,
      "outputs": [
        {
          "output_type": "execute_result",
          "data": {
            "text/plain": [
              "array([4, 4, 4, 4, 4, 4, 4, 7, 4, 4, 4, 4, 4, 4, 4, 4, 4])"
            ]
          },
          "metadata": {
            "tags": []
          },
          "execution_count": 48
        }
      ]
    },
    {
      "cell_type": "code",
      "metadata": {
        "id": "spG2V2kpRtrk"
      },
      "source": [
        "LS=np.hstack(Final_result)"
      ],
      "execution_count": null,
      "outputs": []
    },
    {
      "cell_type": "code",
      "metadata": {
        "colab": {
          "base_uri": "https://localhost:8080/"
        },
        "id": "JqhF61rwR2Zf",
        "outputId": "188416c3-f0fc-4c7c-9ccf-a3961eea793c"
      },
      "source": [
        "len(LS)"
      ],
      "execution_count": null,
      "outputs": [
        {
          "output_type": "execute_result",
          "data": {
            "text/plain": [
              "11578"
            ]
          },
          "metadata": {
            "tags": []
          },
          "execution_count": 39
        }
      ]
    },
    {
      "cell_type": "code",
      "metadata": {
        "colab": {
          "base_uri": "https://localhost:8080/"
        },
        "id": "e1pqAM_iVj7w",
        "outputId": "752f11f5-d01e-4b5f-b668-8e2aee30f4e2"
      },
      "source": [
        "LHS=np.hstack(TS)\n",
        "len(LHS)"
      ],
      "execution_count": null,
      "outputs": [
        {
          "output_type": "execute_result",
          "data": {
            "text/plain": [
              "11578"
            ]
          },
          "metadata": {
            "tags": []
          },
          "execution_count": 43
        }
      ]
    },
    {
      "cell_type": "code",
      "metadata": {
        "id": "Kbp224Q9V38n"
      },
      "source": [
        "z=zip(LHS,LS)\n",
        "sol=list(z)"
      ],
      "execution_count": null,
      "outputs": []
    },
    {
      "cell_type": "code",
      "metadata": {
        "colab": {
          "base_uri": "https://localhost:8080/",
          "height": 163
        },
        "id": "9iVnbA0SW6we",
        "outputId": "39b4542b-8314-4d0f-fe9b-4fd24b72520e"
      },
      "source": [
        "SUB=pd.DataFrame(sol,names=['Words','Entity'])"
      ],
      "execution_count": null,
      "outputs": [
        {
          "output_type": "error",
          "ename": "TypeError",
          "evalue": "ignored",
          "traceback": [
            "\u001b[0;31m---------------------------------------------------------------------------\u001b[0m",
            "\u001b[0;31mTypeError\u001b[0m                                 Traceback (most recent call last)",
            "\u001b[0;32m<ipython-input-49-9de3e2a936e8>\u001b[0m in \u001b[0;36m<module>\u001b[0;34m()\u001b[0m\n\u001b[0;32m----> 1\u001b[0;31m \u001b[0mSUB\u001b[0m\u001b[0;34m=\u001b[0m\u001b[0mpd\u001b[0m\u001b[0;34m.\u001b[0m\u001b[0mDataFrame\u001b[0m\u001b[0;34m(\u001b[0m\u001b[0msol\u001b[0m\u001b[0;34m,\u001b[0m\u001b[0mnames\u001b[0m\u001b[0;34m=\u001b[0m\u001b[0;34m[\u001b[0m\u001b[0;34m'Words'\u001b[0m\u001b[0;34m,\u001b[0m\u001b[0;34m'Entity'\u001b[0m\u001b[0;34m]\u001b[0m\u001b[0;34m)\u001b[0m\u001b[0;34m\u001b[0m\u001b[0;34m\u001b[0m\u001b[0m\n\u001b[0m",
            "\u001b[0;31mTypeError\u001b[0m: __init__() got an unexpected keyword argument 'names'"
          ]
        }
      ]
    },
    {
      "cell_type": "code",
      "metadata": {
        "id": "Y3D-mI14XaPo"
      },
      "source": [
        "{'': 0,\n",
        " 'datenum': 6,\n",
        " 'event': 5,\n",
        " 'limit': 3,\n",
        " 'location': 7,\n",
        " 'name': 0,\n",
        " 'number': 1,\n",
        " 'occupation': 2,\n",
        " 'organization': 9,\n",
        " 'other': 4,\n",
        " 'things': 8}"
      ],
      "execution_count": null,
      "outputs": []
    },
    {
      "cell_type": "code",
      "metadata": {
        "id": "wH-rp5gfXDCA"
      },
      "source": [
        "df_new = SUB.rename(columns={0:'Words',1: 'Entity'})"
      ],
      "execution_count": null,
      "outputs": []
    },
    {
      "cell_type": "code",
      "metadata": {
        "colab": {
          "base_uri": "https://localhost:8080/",
          "height": 204
        },
        "id": "HgGllZjnZJci",
        "outputId": "a2ceab37-40ed-40b7-9480-15a6ba692204"
      },
      "source": [
        "df_new.head()"
      ],
      "execution_count": null,
      "outputs": [
        {
          "output_type": "execute_result",
          "data": {
            "text/html": [
              "<div>\n",
              "<style scoped>\n",
              "    .dataframe tbody tr th:only-of-type {\n",
              "        vertical-align: middle;\n",
              "    }\n",
              "\n",
              "    .dataframe tbody tr th {\n",
              "        vertical-align: top;\n",
              "    }\n",
              "\n",
              "    .dataframe thead th {\n",
              "        text-align: right;\n",
              "    }\n",
              "</style>\n",
              "<table border=\"1\" class=\"dataframe\">\n",
              "  <thead>\n",
              "    <tr style=\"text-align: right;\">\n",
              "      <th></th>\n",
              "      <th>Words</th>\n",
              "      <th>Entity</th>\n",
              "    </tr>\n",
              "  </thead>\n",
              "  <tbody>\n",
              "    <tr>\n",
              "      <th>0</th>\n",
              "      <td>उनके</td>\n",
              "      <td>4</td>\n",
              "    </tr>\n",
              "    <tr>\n",
              "      <th>1</th>\n",
              "      <td>माता</td>\n",
              "      <td>0</td>\n",
              "    </tr>\n",
              "    <tr>\n",
              "      <th>2</th>\n",
              "      <td>-</td>\n",
              "      <td>4</td>\n",
              "    </tr>\n",
              "    <tr>\n",
              "      <th>3</th>\n",
              "      <td>पिता</td>\n",
              "      <td>0</td>\n",
              "    </tr>\n",
              "    <tr>\n",
              "      <th>4</th>\n",
              "      <td>तथा</td>\n",
              "      <td>4</td>\n",
              "    </tr>\n",
              "  </tbody>\n",
              "</table>\n",
              "</div>"
            ],
            "text/plain": [
              "  Words  Entity\n",
              "0  उनके       4\n",
              "1  माता       0\n",
              "2     -       4\n",
              "3  पिता       0\n",
              "4   तथा       4"
            ]
          },
          "metadata": {
            "tags": []
          },
          "execution_count": 55
        }
      ]
    },
    {
      "cell_type": "code",
      "metadata": {
        "id": "BwCmFynec68m"
      },
      "source": [
        "df.replace({'A': {0: 100, 4: 400}})"
      ],
      "execution_count": null,
      "outputs": []
    },
    {
      "cell_type": "code",
      "metadata": {
        "id": "f5oqHDsic0Ns"
      },
      "source": [
        "Final_CSV=df_new.replace({'Entity':{0:'name',1:'number',2:'occupation',3:'limit',4:'other',5:'event',6:'datenum',7:'location',8:'things',9:'organization'}})"
      ],
      "execution_count": null,
      "outputs": []
    },
    {
      "cell_type": "code",
      "metadata": {
        "colab": {
          "base_uri": "https://localhost:8080/",
          "height": 669
        },
        "id": "E2NcBAxXclAW",
        "outputId": "a629fde6-6475-4315-9fe4-6038f82d2b15"
      },
      "source": [
        "Final_CSV.head(20)"
      ],
      "execution_count": null,
      "outputs": [
        {
          "output_type": "execute_result",
          "data": {
            "text/html": [
              "<div>\n",
              "<style scoped>\n",
              "    .dataframe tbody tr th:only-of-type {\n",
              "        vertical-align: middle;\n",
              "    }\n",
              "\n",
              "    .dataframe tbody tr th {\n",
              "        vertical-align: top;\n",
              "    }\n",
              "\n",
              "    .dataframe thead th {\n",
              "        text-align: right;\n",
              "    }\n",
              "</style>\n",
              "<table border=\"1\" class=\"dataframe\">\n",
              "  <thead>\n",
              "    <tr style=\"text-align: right;\">\n",
              "      <th></th>\n",
              "      <th>Words</th>\n",
              "      <th>Entity</th>\n",
              "    </tr>\n",
              "  </thead>\n",
              "  <tbody>\n",
              "    <tr>\n",
              "      <th>0</th>\n",
              "      <td>उनके</td>\n",
              "      <td>other</td>\n",
              "    </tr>\n",
              "    <tr>\n",
              "      <th>1</th>\n",
              "      <td>माता</td>\n",
              "      <td>name</td>\n",
              "    </tr>\n",
              "    <tr>\n",
              "      <th>2</th>\n",
              "      <td>-</td>\n",
              "      <td>other</td>\n",
              "    </tr>\n",
              "    <tr>\n",
              "      <th>3</th>\n",
              "      <td>पिता</td>\n",
              "      <td>name</td>\n",
              "    </tr>\n",
              "    <tr>\n",
              "      <th>4</th>\n",
              "      <td>तथा</td>\n",
              "      <td>other</td>\n",
              "    </tr>\n",
              "    <tr>\n",
              "      <th>5</th>\n",
              "      <td>विस्तृत</td>\n",
              "      <td>other</td>\n",
              "    </tr>\n",
              "    <tr>\n",
              "      <th>6</th>\n",
              "      <td>परिवार</td>\n",
              "      <td>name</td>\n",
              "    </tr>\n",
              "    <tr>\n",
              "      <th>7</th>\n",
              "      <td>अर्मीनियाई</td>\n",
              "      <td>other</td>\n",
              "    </tr>\n",
              "    <tr>\n",
              "      <th>8</th>\n",
              "      <td>था</td>\n",
              "      <td>other</td>\n",
              "    </tr>\n",
              "    <tr>\n",
              "      <th>9</th>\n",
              "      <td>और</td>\n",
              "      <td>other</td>\n",
              "    </tr>\n",
              "    <tr>\n",
              "      <th>10</th>\n",
              "      <td>उस</td>\n",
              "      <td>other</td>\n",
              "    </tr>\n",
              "    <tr>\n",
              "      <th>11</th>\n",
              "      <td>समय</td>\n",
              "      <td>other</td>\n",
              "    </tr>\n",
              "    <tr>\n",
              "      <th>12</th>\n",
              "      <td>के</td>\n",
              "      <td>other</td>\n",
              "    </tr>\n",
              "    <tr>\n",
              "      <th>13</th>\n",
              "      <td>उस्मानी</td>\n",
              "      <td>other</td>\n",
              "    </tr>\n",
              "    <tr>\n",
              "      <th>14</th>\n",
              "      <td>साम्राज्य</td>\n",
              "      <td>organization</td>\n",
              "    </tr>\n",
              "    <tr>\n",
              "      <th>15</th>\n",
              "      <td>के</td>\n",
              "      <td>other</td>\n",
              "    </tr>\n",
              "    <tr>\n",
              "      <th>16</th>\n",
              "      <td>क्षेत्र</td>\n",
              "      <td>location</td>\n",
              "    </tr>\n",
              "    <tr>\n",
              "      <th>17</th>\n",
              "      <td>से</td>\n",
              "      <td>other</td>\n",
              "    </tr>\n",
              "    <tr>\n",
              "      <th>18</th>\n",
              "      <td>अमेरिका</td>\n",
              "      <td>location</td>\n",
              "    </tr>\n",
              "    <tr>\n",
              "      <th>19</th>\n",
              "      <td>के</td>\n",
              "      <td>other</td>\n",
              "    </tr>\n",
              "  </tbody>\n",
              "</table>\n",
              "</div>"
            ],
            "text/plain": [
              "         Words        Entity\n",
              "0         उनके         other\n",
              "1         माता          name\n",
              "2            -         other\n",
              "3         पिता          name\n",
              "4          तथा         other\n",
              "5      विस्तृत         other\n",
              "6       परिवार          name\n",
              "7   अर्मीनियाई         other\n",
              "8           था         other\n",
              "9           और         other\n",
              "10          उस         other\n",
              "11         समय         other\n",
              "12          के         other\n",
              "13     उस्मानी         other\n",
              "14   साम्राज्य  organization\n",
              "15          के         other\n",
              "16     क्षेत्र      location\n",
              "17          से         other\n",
              "18     अमेरिका      location\n",
              "19          के         other"
            ]
          },
          "metadata": {
            "tags": []
          },
          "execution_count": 59
        }
      ]
    },
    {
      "cell_type": "code",
      "metadata": {
        "id": "XY4w5BrKegNv"
      },
      "source": [
        "Final_CSV.to_csv('19015_Task2.csv')"
      ],
      "execution_count": null,
      "outputs": []
    },
    {
      "cell_type": "code",
      "metadata": {
        "id": "_Q9T6ZRuUcEY"
      },
      "source": [
        "left=df2.ID"
      ],
      "execution_count": null,
      "outputs": []
    },
    {
      "cell_type": "code",
      "metadata": {
        "colab": {
          "base_uri": "https://localhost:8080/"
        },
        "id": "g_MQVQ71Uhsd",
        "outputId": "af177636-1d50-4a5b-d855-bd2f9f161c42"
      },
      "source": [
        "len(left)"
      ],
      "execution_count": null,
      "outputs": [
        {
          "output_type": "execute_result",
          "data": {
            "text/plain": [
              "12665"
            ]
          },
          "metadata": {
            "tags": []
          },
          "execution_count": 41
        }
      ]
    },
    {
      "cell_type": "code",
      "metadata": {
        "colab": {
          "base_uri": "https://localhost:8080/"
        },
        "id": "0Mq_DUNEuooN",
        "outputId": "696b6c75-b331-49ca-b8cc-855f6ca3d2bf"
      },
      "source": [
        "y_test[16]"
      ],
      "execution_count": null,
      "outputs": [
        {
          "output_type": "execute_result",
          "data": {
            "text/plain": [
              "array([[0., 1., 0., ..., 0., 0., 0.],\n",
              "       [0., 1., 0., ..., 0., 0., 0.],\n",
              "       [0., 1., 0., ..., 0., 0., 0.],\n",
              "       ...,\n",
              "       [0., 1., 0., ..., 0., 0., 0.],\n",
              "       [0., 1., 0., ..., 0., 0., 0.],\n",
              "       [0., 1., 0., ..., 0., 0., 0.]], dtype=float32)"
            ]
          },
          "metadata": {
            "tags": []
          },
          "execution_count": 144
        }
      ]
    },
    {
      "cell_type": "code",
      "metadata": {
        "id": "uX_Z1DKWxBSj"
      },
      "source": [
        "from sklearn.metrics import confusion_matrix"
      ],
      "execution_count": null,
      "outputs": []
    },
    {
      "cell_type": "code",
      "metadata": {
        "id": "NuPKHcIL1p_R"
      },
      "source": [
        "p_=to_categorical(p,num_classes=9)"
      ],
      "execution_count": null,
      "outputs": []
    },
    {
      "cell_type": "code",
      "metadata": {
        "id": "atgmrUr911ah"
      },
      "source": [
        "p_=p_.reshape(609,9)"
      ],
      "execution_count": null,
      "outputs": []
    },
    {
      "cell_type": "code",
      "metadata": {
        "colab": {
          "base_uri": "https://localhost:8080/"
        },
        "id": "6c4z9h-V2T5r",
        "outputId": "a2ba89dc-18c1-4d01-d32e-c7e5cae0fc27"
      },
      "source": [
        "p.shape"
      ],
      "execution_count": null,
      "outputs": [
        {
          "output_type": "execute_result",
          "data": {
            "text/plain": [
              "(1, 609)"
            ]
          },
          "metadata": {
            "tags": []
          },
          "execution_count": 156
        }
      ]
    },
    {
      "cell_type": "code",
      "metadata": {
        "colab": {
          "base_uri": "https://localhost:8080/"
        },
        "id": "KQCMJO0X14gZ",
        "outputId": "b967add8-e0c8-4092-d20c-4b77f4f27826"
      },
      "source": [
        "y_test[16].shape"
      ],
      "execution_count": null,
      "outputs": [
        {
          "output_type": "execute_result",
          "data": {
            "text/plain": [
              "(609, 9)"
            ]
          },
          "metadata": {
            "tags": []
          },
          "execution_count": 152
        }
      ]
    },
    {
      "cell_type": "code",
      "metadata": {
        "colab": {
          "base_uri": "https://localhost:8080/"
        },
        "id": "II1srpIC3ZOh",
        "outputId": "f9cd99ab-4cf8-40b0-b9e9-358c827acb02"
      },
      "source": [
        "y_test[16].shape"
      ],
      "execution_count": null,
      "outputs": [
        {
          "output_type": "execute_result",
          "data": {
            "text/plain": [
              "(609, 9)"
            ]
          },
          "metadata": {
            "tags": []
          },
          "execution_count": 160
        }
      ]
    },
    {
      "cell_type": "code",
      "metadata": {
        "colab": {
          "base_uri": "https://localhost:8080/"
        },
        "id": "f8i1yrd23eON",
        "outputId": "ce8a1ef3-a668-4f0e-e514-aa5c6ec49628"
      },
      "source": [
        "print(y_test[14])"
      ],
      "execution_count": null,
      "outputs": [
        {
          "output_type": "stream",
          "text": [
            "[[0. 1. 0. ... 0. 0. 0.]\n",
            " [0. 1. 0. ... 0. 0. 0.]\n",
            " [0. 1. 0. ... 0. 0. 0.]\n",
            " ...\n",
            " [0. 1. 0. ... 0. 0. 0.]\n",
            " [0. 1. 0. ... 0. 0. 0.]\n",
            " [0. 1. 0. ... 0. 0. 0.]]\n"
          ],
          "name": "stdout"
        }
      ]
    },
    {
      "cell_type": "code",
      "metadata": {
        "colab": {
          "base_uri": "https://localhost:8080/"
        },
        "id": "VGJ-c0-82mLu",
        "outputId": "eb76d0e1-4768-4bdf-adfc-136d3dec005a"
      },
      "source": [
        "Num= np.argmax(y_test[12], axis=-1)\n",
        "Num.shape"
      ],
      "execution_count": null,
      "outputs": [
        {
          "output_type": "execute_result",
          "data": {
            "text/plain": [
              "(609,)"
            ]
          },
          "metadata": {
            "tags": []
          },
          "execution_count": 166
        }
      ]
    },
    {
      "cell_type": "code",
      "metadata": {
        "colab": {
          "base_uri": "https://localhost:8080/"
        },
        "id": "CvNJvqaO4_a7",
        "outputId": "834f8679-cba8-4530-8674-51f249a133c8"
      },
      "source": [
        "p"
      ],
      "execution_count": null,
      "outputs": [
        {
          "output_type": "execute_result",
          "data": {
            "text/plain": [
              "array([[1, 1, 1, 2, 1, 2, 2, 1, 1, 1, 2, 1, 2, 2, 1, 1, 2, 1, 1, 1, 1, 1,\n",
              "        1, 1, 1, 1, 1, 1, 1, 1, 1, 1, 1, 1, 1, 1, 1, 1, 1, 1, 1, 1, 1, 1,\n",
              "        1, 1, 1, 1, 1, 1, 1, 1, 1, 1, 1, 1, 1, 1, 1, 1, 1, 1, 1, 1, 1, 1,\n",
              "        1, 1, 1, 1, 1, 1, 1, 1, 1, 1, 1, 1, 1, 1, 1, 1, 1, 1, 1, 1, 1, 1,\n",
              "        1, 1, 1, 1, 1, 1, 1, 1, 1, 1, 1, 1, 1, 1, 1, 1, 1, 1, 1, 1, 1, 1,\n",
              "        1, 1, 1, 1, 1, 1, 1, 1, 1, 1, 1, 1, 1, 1, 1, 1, 1, 1, 1, 1, 1, 1,\n",
              "        1, 1, 1, 1, 1, 1, 1, 1, 1, 1, 1, 1, 1, 1, 1, 1, 1, 1, 1, 1, 1, 1,\n",
              "        1, 1, 1, 1, 1, 1, 1, 1, 1, 1, 1, 1, 1, 1, 1, 1, 1, 1, 1, 1, 1, 1,\n",
              "        1, 1, 1, 1, 1, 1, 1, 1, 1, 1, 1, 1, 1, 1, 1, 1, 1, 1, 1, 1, 1, 1,\n",
              "        1, 1, 1, 1, 1, 1, 1, 1, 1, 1, 1, 1, 1, 1, 1, 1, 1, 1, 1, 1, 1, 1,\n",
              "        1, 1, 1, 1, 1, 1, 1, 1, 1, 1, 1, 1, 1, 1, 1, 1, 1, 1, 1, 1, 1, 1,\n",
              "        1, 1, 1, 1, 1, 1, 1, 1, 1, 1, 1, 1, 1, 1, 1, 1, 1, 1, 1, 1, 1, 1,\n",
              "        1, 1, 1, 1, 1, 1, 1, 1, 1, 1, 1, 1, 1, 1, 1, 1, 1, 1, 1, 1, 1, 1,\n",
              "        1, 1, 1, 1, 1, 1, 1, 1, 1, 1, 1, 1, 1, 1, 1, 1, 1, 1, 1, 1, 1, 1,\n",
              "        1, 1, 1, 1, 1, 1, 1, 1, 1, 1, 1, 1, 1, 1, 1, 1, 1, 1, 1, 1, 1, 1,\n",
              "        1, 1, 1, 1, 1, 1, 1, 1, 1, 1, 1, 1, 1, 1, 1, 1, 1, 1, 1, 1, 1, 1,\n",
              "        1, 1, 1, 1, 1, 1, 1, 1, 1, 1, 1, 1, 1, 1, 1, 1, 1, 1, 1, 1, 1, 1,\n",
              "        1, 1, 1, 1, 1, 1, 1, 1, 1, 1, 1, 1, 1, 1, 1, 1, 1, 1, 1, 1, 1, 1,\n",
              "        1, 1, 1, 1, 1, 1, 1, 1, 1, 1, 1, 1, 1, 1, 1, 1, 1, 1, 1, 1, 1, 1,\n",
              "        1, 1, 1, 1, 1, 1, 1, 1, 1, 1, 1, 1, 1, 1, 1, 1, 1, 1, 1, 1, 1, 1,\n",
              "        1, 1, 1, 1, 1, 1, 1, 1, 1, 1, 1, 1, 1, 1, 1, 1, 1, 1, 1, 1, 1, 1,\n",
              "        1, 1, 1, 1, 1, 1, 1, 1, 1, 1, 1, 1, 1, 1, 1, 1, 1, 1, 1, 1, 1, 1,\n",
              "        1, 1, 1, 1, 1, 1, 1, 1, 1, 1, 1, 1, 1, 1, 1, 1, 1, 1, 1, 1, 1, 1,\n",
              "        1, 1, 1, 1, 1, 1, 1, 1, 1, 1, 1, 1, 1, 1, 1, 1, 1, 1, 1, 1, 1, 1,\n",
              "        1, 1, 1, 1, 1, 1, 1, 1, 1, 1, 1, 1, 1, 1, 1, 1, 1, 1, 1, 1, 1, 1,\n",
              "        1, 1, 1, 1, 1, 1, 1, 1, 1, 1, 1, 1, 1, 1, 1, 1, 1, 1, 1, 1, 1, 1,\n",
              "        1, 1, 1, 1, 1, 1, 1, 1, 1, 1, 1, 1, 1, 1, 1, 1, 1, 1, 1, 1, 1, 1,\n",
              "        1, 1, 1, 1, 1, 1, 1, 1, 1, 1, 1, 1, 1, 1, 1]])"
            ]
          },
          "metadata": {
            "tags": []
          },
          "execution_count": 168
        }
      ]
    },
    {
      "cell_type": "code",
      "metadata": {
        "colab": {
          "base_uri": "https://localhost:8080/"
        },
        "id": "Tq_AgYB645-s",
        "outputId": "e8ecd6fc-168e-4398-be4b-7ccb35e2f58b"
      },
      "source": [
        "Num"
      ],
      "execution_count": null,
      "outputs": [
        {
          "output_type": "execute_result",
          "data": {
            "text/plain": [
              "array([1, 1, 1, 1, 1, 1, 1, 1, 3, 1, 1, 1, 1, 1, 1, 1, 1, 1, 1, 1, 1, 1,\n",
              "       1, 1, 1, 1, 1, 1, 1, 1, 1, 1, 1, 1, 1, 1, 1, 1, 1, 1, 1, 1, 1, 1,\n",
              "       1, 1, 1, 1, 1, 1, 1, 1, 1, 1, 1, 1, 1, 1, 1, 1, 1, 1, 1, 1, 1, 1,\n",
              "       1, 1, 1, 1, 1, 1, 1, 1, 1, 1, 1, 1, 1, 1, 1, 1, 1, 1, 1, 1, 1, 1,\n",
              "       1, 1, 1, 1, 1, 1, 1, 1, 1, 1, 1, 1, 1, 1, 1, 1, 1, 1, 1, 1, 1, 1,\n",
              "       1, 1, 1, 1, 1, 1, 1, 1, 1, 1, 1, 1, 1, 1, 1, 1, 1, 1, 1, 1, 1, 1,\n",
              "       1, 1, 1, 1, 1, 1, 1, 1, 1, 1, 1, 1, 1, 1, 1, 1, 1, 1, 1, 1, 1, 1,\n",
              "       1, 1, 1, 1, 1, 1, 1, 1, 1, 1, 1, 1, 1, 1, 1, 1, 1, 1, 1, 1, 1, 1,\n",
              "       1, 1, 1, 1, 1, 1, 1, 1, 1, 1, 1, 1, 1, 1, 1, 1, 1, 1, 1, 1, 1, 1,\n",
              "       1, 1, 1, 1, 1, 1, 1, 1, 1, 1, 1, 1, 1, 1, 1, 1, 1, 1, 1, 1, 1, 1,\n",
              "       1, 1, 1, 1, 1, 1, 1, 1, 1, 1, 1, 1, 1, 1, 1, 1, 1, 1, 1, 1, 1, 1,\n",
              "       1, 1, 1, 1, 1, 1, 1, 1, 1, 1, 1, 1, 1, 1, 1, 1, 1, 1, 1, 1, 1, 1,\n",
              "       1, 1, 1, 1, 1, 1, 1, 1, 1, 1, 1, 1, 1, 1, 1, 1, 1, 1, 1, 1, 1, 1,\n",
              "       1, 1, 1, 1, 1, 1, 1, 1, 1, 1, 1, 1, 1, 1, 1, 1, 1, 1, 1, 1, 1, 1,\n",
              "       1, 1, 1, 1, 1, 1, 1, 1, 1, 1, 1, 1, 1, 1, 1, 1, 1, 1, 1, 1, 1, 1,\n",
              "       1, 1, 1, 1, 1, 1, 1, 1, 1, 1, 1, 1, 1, 1, 1, 1, 1, 1, 1, 1, 1, 1,\n",
              "       1, 1, 1, 1, 1, 1, 1, 1, 1, 1, 1, 1, 1, 1, 1, 1, 1, 1, 1, 1, 1, 1,\n",
              "       1, 1, 1, 1, 1, 1, 1, 1, 1, 1, 1, 1, 1, 1, 1, 1, 1, 1, 1, 1, 1, 1,\n",
              "       1, 1, 1, 1, 1, 1, 1, 1, 1, 1, 1, 1, 1, 1, 1, 1, 1, 1, 1, 1, 1, 1,\n",
              "       1, 1, 1, 1, 1, 1, 1, 1, 1, 1, 1, 1, 1, 1, 1, 1, 1, 1, 1, 1, 1, 1,\n",
              "       1, 1, 1, 1, 1, 1, 1, 1, 1, 1, 1, 1, 1, 1, 1, 1, 1, 1, 1, 1, 1, 1,\n",
              "       1, 1, 1, 1, 1, 1, 1, 1, 1, 1, 1, 1, 1, 1, 1, 1, 1, 1, 1, 1, 1, 1,\n",
              "       1, 1, 1, 1, 1, 1, 1, 1, 1, 1, 1, 1, 1, 1, 1, 1, 1, 1, 1, 1, 1, 1,\n",
              "       1, 1, 1, 1, 1, 1, 1, 1, 1, 1, 1, 1, 1, 1, 1, 1, 1, 1, 1, 1, 1, 1,\n",
              "       1, 1, 1, 1, 1, 1, 1, 1, 1, 1, 1, 1, 1, 1, 1, 1, 1, 1, 1, 1, 1, 1,\n",
              "       1, 1, 1, 1, 1, 1, 1, 1, 1, 1, 1, 1, 1, 1, 1, 1, 1, 1, 1, 1, 1, 1,\n",
              "       1, 1, 1, 1, 1, 1, 1, 1, 1, 1, 1, 1, 1, 1, 1, 1, 1, 1, 1, 1, 1, 1,\n",
              "       1, 1, 1, 1, 1, 1, 1, 1, 1, 1, 1, 1, 1, 1, 1])"
            ]
          },
          "metadata": {
            "tags": []
          },
          "execution_count": 167
        }
      ]
    },
    {
      "cell_type": "code",
      "metadata": {
        "colab": {
          "base_uri": "https://localhost:8080/"
        },
        "id": "tsOwyKOwxTHp",
        "outputId": "24cc1030-614e-4e20-fda7-109a86ab1889"
      },
      "source": [
        "confusion_matrix(p.T,Num)"
      ],
      "execution_count": null,
      "outputs": [
        {
          "output_type": "execute_result",
          "data": {
            "text/plain": [
              "array([[601,   0,   1],\n",
              "       [  7,   0,   0],\n",
              "       [  0,   0,   0]])"
            ]
          },
          "metadata": {
            "tags": []
          },
          "execution_count": 169
        }
      ]
    },
    {
      "cell_type": "code",
      "metadata": {
        "colab": {
          "base_uri": "https://localhost:8080/"
        },
        "id": "5tGb-Y9Bi159",
        "outputId": "8816f155-b54b-4fcf-d8fa-d7dcbad912e8"
      },
      "source": [
        "i = 16\n",
        "p = model.predict(np.array([X_test[i]]))\n",
        "p = np.argmax(p, axis=-1)\n",
        "print(\"{:14} ({:5}): {}\".format(\"Word\", \"True\", \"Pred\"))\n",
        "for w,pred in zip(X_test[i],p[0]):\n",
        "    print(\"{:14}: {}\".format(words[w],tags.iloc[pred-1].values[0]))"
      ],
      "execution_count": null,
      "outputs": [
        {
          "output_type": "stream",
          "text": [
            "Word           (True ): Pred\n",
            "भगवत          : other\n",
            "नस्तालीक़     : other\n",
            "कीथ           : other\n",
            "कैलोरा        : location\n",
            "मुगलों        : other\n",
            "नैसोफेरिंजाइटिस: location\n",
            "डिक्लेरेटिव   : location\n",
            "मुगलों        : other\n",
            "खगोलविज्ञानी  : other\n",
            "होटलों        : other\n",
            "दाला          : location\n",
            "मुगलों        : other\n",
            "फ़ार्मास्युटिकल: location\n",
            "ಥ             : location\n",
            "नारावारिपल्ली : other\n",
            "आयुसीमाएं     : other\n",
            "परपू          : location\n",
            "चूहे          : other\n",
            "बुधखोला       : other\n",
            "बुधखोला       : other\n",
            "बुधखोला       : other\n",
            "बुधखोला       : other\n",
            "बुधखोला       : other\n",
            "बुधखोला       : other\n",
            "बुधखोला       : other\n",
            "बुधखोला       : other\n",
            "बुधखोला       : other\n",
            "बुधखोला       : other\n",
            "बुधखोला       : other\n",
            "बुधखोला       : other\n",
            "बुधखोला       : other\n",
            "बुधखोला       : other\n",
            "बुधखोला       : other\n",
            "बुधखोला       : other\n",
            "बुधखोला       : other\n",
            "बुधखोला       : other\n",
            "बुधखोला       : other\n",
            "बुधखोला       : other\n",
            "बुधखोला       : other\n",
            "बुधखोला       : other\n",
            "बुधखोला       : other\n",
            "बुधखोला       : other\n",
            "बुधखोला       : other\n",
            "बुधखोला       : other\n",
            "बुधखोला       : other\n",
            "बुधखोला       : other\n",
            "बुधखोला       : other\n",
            "बुधखोला       : other\n",
            "बुधखोला       : other\n",
            "बुधखोला       : other\n",
            "बुधखोला       : other\n",
            "बुधखोला       : other\n",
            "बुधखोला       : other\n",
            "बुधखोला       : other\n",
            "बुधखोला       : other\n",
            "बुधखोला       : other\n",
            "बुधखोला       : other\n",
            "बुधखोला       : other\n",
            "बुधखोला       : other\n",
            "बुधखोला       : other\n",
            "बुधखोला       : other\n",
            "बुधखोला       : other\n",
            "बुधखोला       : other\n",
            "बुधखोला       : other\n",
            "बुधखोला       : other\n",
            "बुधखोला       : other\n",
            "बुधखोला       : other\n",
            "बुधखोला       : other\n",
            "बुधखोला       : other\n",
            "बुधखोला       : other\n",
            "बुधखोला       : other\n",
            "बुधखोला       : other\n",
            "बुधखोला       : other\n",
            "बुधखोला       : other\n",
            "बुधखोला       : other\n",
            "बुधखोला       : other\n",
            "बुधखोला       : other\n",
            "बुधखोला       : other\n",
            "बुधखोला       : other\n",
            "बुधखोला       : other\n",
            "बुधखोला       : other\n",
            "बुधखोला       : other\n",
            "बुधखोला       : other\n",
            "बुधखोला       : other\n",
            "बुधखोला       : other\n",
            "बुधखोला       : other\n",
            "बुधखोला       : other\n",
            "बुधखोला       : other\n",
            "बुधखोला       : other\n",
            "बुधखोला       : other\n",
            "बुधखोला       : other\n",
            "बुधखोला       : other\n",
            "बुधखोला       : other\n",
            "बुधखोला       : other\n",
            "बुधखोला       : other\n",
            "बुधखोला       : other\n",
            "बुधखोला       : other\n",
            "बुधखोला       : other\n",
            "बुधखोला       : other\n",
            "बुधखोला       : other\n",
            "बुधखोला       : other\n",
            "बुधखोला       : other\n",
            "बुधखोला       : other\n",
            "बुधखोला       : other\n",
            "बुधखोला       : other\n",
            "बुधखोला       : other\n",
            "बुधखोला       : other\n",
            "बुधखोला       : other\n",
            "बुधखोला       : other\n",
            "बुधखोला       : other\n",
            "बुधखोला       : other\n",
            "बुधखोला       : other\n",
            "बुधखोला       : other\n",
            "बुधखोला       : other\n",
            "बुधखोला       : other\n",
            "बुधखोला       : other\n",
            "बुधखोला       : other\n",
            "बुधखोला       : other\n",
            "बुधखोला       : other\n",
            "बुधखोला       : other\n",
            "बुधखोला       : other\n",
            "बुधखोला       : other\n",
            "बुधखोला       : other\n",
            "बुधखोला       : other\n",
            "बुधखोला       : other\n",
            "बुधखोला       : other\n",
            "बुधखोला       : other\n",
            "बुधखोला       : other\n",
            "बुधखोला       : other\n",
            "बुधखोला       : other\n",
            "बुधखोला       : other\n",
            "बुधखोला       : other\n",
            "बुधखोला       : other\n",
            "बुधखोला       : other\n",
            "बुधखोला       : other\n",
            "बुधखोला       : other\n",
            "बुधखोला       : other\n",
            "बुधखोला       : other\n",
            "बुधखोला       : other\n",
            "बुधखोला       : other\n",
            "बुधखोला       : other\n",
            "बुधखोला       : other\n",
            "बुधखोला       : other\n",
            "बुधखोला       : other\n",
            "बुधखोला       : other\n",
            "बुधखोला       : other\n",
            "बुधखोला       : other\n",
            "बुधखोला       : other\n",
            "बुधखोला       : other\n",
            "बुधखोला       : other\n",
            "बुधखोला       : other\n",
            "बुधखोला       : other\n",
            "बुधखोला       : other\n",
            "बुधखोला       : other\n",
            "बुधखोला       : other\n",
            "बुधखोला       : other\n",
            "बुधखोला       : other\n",
            "बुधखोला       : other\n",
            "बुधखोला       : other\n",
            "बुधखोला       : other\n",
            "बुधखोला       : other\n",
            "बुधखोला       : other\n",
            "बुधखोला       : other\n",
            "बुधखोला       : other\n",
            "बुधखोला       : other\n",
            "बुधखोला       : other\n",
            "बुधखोला       : other\n",
            "बुधखोला       : other\n",
            "बुधखोला       : other\n",
            "बुधखोला       : other\n",
            "बुधखोला       : other\n",
            "बुधखोला       : other\n",
            "बुधखोला       : other\n",
            "बुधखोला       : other\n",
            "बुधखोला       : other\n",
            "बुधखोला       : other\n",
            "बुधखोला       : other\n",
            "बुधखोला       : other\n",
            "बुधखोला       : other\n",
            "बुधखोला       : other\n",
            "बुधखोला       : other\n",
            "बुधखोला       : other\n",
            "बुधखोला       : other\n",
            "बुधखोला       : other\n",
            "बुधखोला       : other\n",
            "बुधखोला       : other\n",
            "बुधखोला       : other\n",
            "बुधखोला       : other\n",
            "बुधखोला       : other\n",
            "बुधखोला       : other\n",
            "बुधखोला       : other\n",
            "बुधखोला       : other\n",
            "बुधखोला       : other\n",
            "बुधखोला       : other\n",
            "बुधखोला       : other\n",
            "बुधखोला       : other\n",
            "बुधखोला       : other\n",
            "बुधखोला       : other\n",
            "बुधखोला       : other\n",
            "बुधखोला       : other\n",
            "बुधखोला       : other\n",
            "बुधखोला       : other\n",
            "बुधखोला       : other\n",
            "बुधखोला       : other\n",
            "बुधखोला       : other\n",
            "बुधखोला       : other\n",
            "बुधखोला       : other\n",
            "बुधखोला       : other\n",
            "बुधखोला       : other\n",
            "बुधखोला       : other\n",
            "बुधखोला       : other\n",
            "बुधखोला       : other\n",
            "बुधखोला       : other\n",
            "बुधखोला       : other\n",
            "बुधखोला       : other\n",
            "बुधखोला       : other\n",
            "बुधखोला       : other\n",
            "बुधखोला       : other\n",
            "बुधखोला       : other\n",
            "बुधखोला       : other\n",
            "बुधखोला       : other\n",
            "बुधखोला       : other\n",
            "बुधखोला       : other\n",
            "बुधखोला       : other\n",
            "बुधखोला       : other\n",
            "बुधखोला       : other\n",
            "बुधखोला       : other\n",
            "बुधखोला       : other\n",
            "बुधखोला       : other\n",
            "बुधखोला       : other\n",
            "बुधखोला       : other\n",
            "बुधखोला       : other\n",
            "बुधखोला       : other\n",
            "बुधखोला       : other\n",
            "बुधखोला       : other\n",
            "बुधखोला       : other\n",
            "बुधखोला       : other\n",
            "बुधखोला       : other\n",
            "बुधखोला       : other\n",
            "बुधखोला       : other\n",
            "बुधखोला       : other\n",
            "बुधखोला       : other\n",
            "बुधखोला       : other\n",
            "बुधखोला       : other\n",
            "बुधखोला       : other\n",
            "बुधखोला       : other\n",
            "बुधखोला       : other\n",
            "बुधखोला       : other\n",
            "बुधखोला       : other\n",
            "बुधखोला       : other\n",
            "बुधखोला       : other\n",
            "बुधखोला       : other\n",
            "बुधखोला       : other\n",
            "बुधखोला       : other\n",
            "बुधखोला       : other\n",
            "बुधखोला       : other\n",
            "बुधखोला       : other\n",
            "बुधखोला       : other\n",
            "बुधखोला       : other\n",
            "बुधखोला       : other\n",
            "बुधखोला       : other\n",
            "बुधखोला       : other\n",
            "बुधखोला       : other\n",
            "बुधखोला       : other\n",
            "बुधखोला       : other\n",
            "बुधखोला       : other\n",
            "बुधखोला       : other\n",
            "बुधखोला       : other\n",
            "बुधखोला       : other\n",
            "बुधखोला       : other\n",
            "बुधखोला       : other\n",
            "बुधखोला       : other\n",
            "बुधखोला       : other\n",
            "बुधखोला       : other\n",
            "बुधखोला       : other\n",
            "बुधखोला       : other\n",
            "बुधखोला       : other\n",
            "बुधखोला       : other\n",
            "बुधखोला       : other\n",
            "बुधखोला       : other\n",
            "बुधखोला       : other\n",
            "बुधखोला       : other\n",
            "बुधखोला       : other\n",
            "बुधखोला       : other\n",
            "बुधखोला       : other\n",
            "बुधखोला       : other\n",
            "बुधखोला       : other\n",
            "बुधखोला       : other\n",
            "बुधखोला       : other\n",
            "बुधखोला       : other\n",
            "बुधखोला       : other\n",
            "बुधखोला       : other\n",
            "बुधखोला       : other\n",
            "बुधखोला       : other\n",
            "बुधखोला       : other\n",
            "बुधखोला       : other\n",
            "बुधखोला       : other\n",
            "बुधखोला       : other\n",
            "बुधखोला       : other\n",
            "बुधखोला       : other\n",
            "बुधखोला       : other\n",
            "बुधखोला       : other\n",
            "बुधखोला       : other\n",
            "बुधखोला       : other\n",
            "बुधखोला       : other\n",
            "बुधखोला       : other\n",
            "बुधखोला       : other\n",
            "बुधखोला       : other\n",
            "बुधखोला       : other\n",
            "बुधखोला       : other\n",
            "बुधखोला       : other\n",
            "बुधखोला       : other\n",
            "बुधखोला       : other\n",
            "बुधखोला       : other\n",
            "बुधखोला       : other\n",
            "बुधखोला       : other\n",
            "बुधखोला       : other\n",
            "बुधखोला       : other\n",
            "बुधखोला       : other\n",
            "बुधखोला       : other\n",
            "बुधखोला       : other\n",
            "बुधखोला       : other\n",
            "बुधखोला       : other\n",
            "बुधखोला       : other\n",
            "बुधखोला       : other\n",
            "बुधखोला       : other\n",
            "बुधखोला       : other\n",
            "बुधखोला       : other\n",
            "बुधखोला       : other\n",
            "बुधखोला       : other\n",
            "बुधखोला       : other\n",
            "बुधखोला       : other\n",
            "बुधखोला       : other\n",
            "बुधखोला       : other\n",
            "बुधखोला       : other\n",
            "बुधखोला       : other\n",
            "बुधखोला       : other\n",
            "बुधखोला       : other\n",
            "बुधखोला       : other\n",
            "बुधखोला       : other\n",
            "बुधखोला       : other\n",
            "बुधखोला       : other\n",
            "बुधखोला       : other\n",
            "बुधखोला       : other\n",
            "बुधखोला       : other\n",
            "बुधखोला       : other\n",
            "बुधखोला       : other\n",
            "बुधखोला       : other\n",
            "बुधखोला       : other\n",
            "बुधखोला       : other\n",
            "बुधखोला       : other\n",
            "बुधखोला       : other\n",
            "बुधखोला       : other\n",
            "बुधखोला       : other\n",
            "बुधखोला       : other\n",
            "बुधखोला       : other\n",
            "बुधखोला       : other\n",
            "बुधखोला       : other\n",
            "बुधखोला       : other\n",
            "बुधखोला       : other\n",
            "बुधखोला       : other\n",
            "बुधखोला       : other\n",
            "बुधखोला       : other\n",
            "बुधखोला       : other\n",
            "बुधखोला       : other\n",
            "बुधखोला       : other\n",
            "बुधखोला       : other\n",
            "बुधखोला       : other\n",
            "बुधखोला       : other\n",
            "बुधखोला       : other\n",
            "बुधखोला       : other\n",
            "बुधखोला       : other\n",
            "बुधखोला       : other\n",
            "बुधखोला       : other\n",
            "बुधखोला       : other\n",
            "बुधखोला       : other\n",
            "बुधखोला       : other\n",
            "बुधखोला       : other\n",
            "बुधखोला       : other\n",
            "बुधखोला       : other\n",
            "बुधखोला       : other\n",
            "बुधखोला       : other\n",
            "बुधखोला       : other\n",
            "बुधखोला       : other\n",
            "बुधखोला       : other\n",
            "बुधखोला       : other\n",
            "बुधखोला       : other\n",
            "बुधखोला       : other\n",
            "बुधखोला       : other\n",
            "बुधखोला       : other\n",
            "बुधखोला       : other\n",
            "बुधखोला       : other\n",
            "बुधखोला       : other\n",
            "बुधखोला       : other\n",
            "बुधखोला       : other\n",
            "बुधखोला       : other\n",
            "बुधखोला       : other\n",
            "बुधखोला       : other\n",
            "बुधखोला       : other\n",
            "बुधखोला       : other\n",
            "बुधखोला       : other\n",
            "बुधखोला       : other\n",
            "बुधखोला       : other\n",
            "बुधखोला       : other\n",
            "बुधखोला       : other\n",
            "बुधखोला       : other\n",
            "बुधखोला       : other\n",
            "बुधखोला       : other\n",
            "बुधखोला       : other\n",
            "बुधखोला       : other\n",
            "बुधखोला       : other\n",
            "बुधखोला       : other\n",
            "बुधखोला       : other\n",
            "बुधखोला       : other\n",
            "बुधखोला       : other\n",
            "बुधखोला       : other\n",
            "बुधखोला       : other\n",
            "बुधखोला       : other\n",
            "बुधखोला       : other\n",
            "बुधखोला       : other\n",
            "बुधखोला       : other\n",
            "बुधखोला       : other\n",
            "बुधखोला       : other\n",
            "बुधखोला       : other\n",
            "बुधखोला       : other\n",
            "बुधखोला       : other\n",
            "बुधखोला       : other\n",
            "बुधखोला       : other\n",
            "बुधखोला       : other\n",
            "बुधखोला       : other\n",
            "बुधखोला       : other\n",
            "बुधखोला       : other\n",
            "बुधखोला       : other\n",
            "बुधखोला       : other\n",
            "बुधखोला       : other\n",
            "बुधखोला       : other\n",
            "बुधखोला       : other\n",
            "बुधखोला       : other\n",
            "बुधखोला       : other\n",
            "बुधखोला       : other\n",
            "बुधखोला       : other\n",
            "बुधखोला       : other\n",
            "बुधखोला       : other\n",
            "बुधखोला       : other\n",
            "बुधखोला       : other\n",
            "बुधखोला       : other\n",
            "बुधखोला       : other\n",
            "बुधखोला       : other\n",
            "बुधखोला       : other\n",
            "बुधखोला       : other\n",
            "बुधखोला       : other\n",
            "बुधखोला       : other\n",
            "बुधखोला       : other\n",
            "बुधखोला       : other\n",
            "बुधखोला       : other\n",
            "बुधखोला       : other\n",
            "बुधखोला       : other\n",
            "बुधखोला       : other\n",
            "बुधखोला       : other\n",
            "बुधखोला       : other\n",
            "बुधखोला       : other\n",
            "बुधखोला       : other\n",
            "बुधखोला       : other\n",
            "बुधखोला       : other\n",
            "बुधखोला       : other\n",
            "बुधखोला       : other\n",
            "बुधखोला       : other\n",
            "बुधखोला       : other\n",
            "बुधखोला       : other\n",
            "बुधखोला       : other\n",
            "बुधखोला       : other\n",
            "बुधखोला       : other\n",
            "बुधखोला       : other\n",
            "बुधखोला       : other\n",
            "बुधखोला       : other\n",
            "बुधखोला       : other\n",
            "बुधखोला       : other\n",
            "बुधखोला       : other\n",
            "बुधखोला       : other\n",
            "बुधखोला       : other\n",
            "बुधखोला       : other\n",
            "बुधखोला       : other\n",
            "बुधखोला       : other\n",
            "बुधखोला       : other\n",
            "बुधखोला       : other\n",
            "बुधखोला       : other\n",
            "बुधखोला       : other\n",
            "बुधखोला       : other\n",
            "बुधखोला       : other\n",
            "बुधखोला       : other\n",
            "बुधखोला       : other\n",
            "बुधखोला       : other\n",
            "बुधखोला       : other\n",
            "बुधखोला       : other\n",
            "बुधखोला       : other\n",
            "बुधखोला       : other\n",
            "बुधखोला       : other\n",
            "बुधखोला       : other\n",
            "बुधखोला       : other\n",
            "बुधखोला       : other\n",
            "बुधखोला       : other\n",
            "बुधखोला       : other\n",
            "बुधखोला       : other\n",
            "बुधखोला       : other\n",
            "बुधखोला       : other\n",
            "बुधखोला       : other\n",
            "बुधखोला       : other\n",
            "बुधखोला       : other\n",
            "बुधखोला       : other\n",
            "बुधखोला       : other\n",
            "बुधखोला       : other\n",
            "बुधखोला       : other\n",
            "बुधखोला       : other\n",
            "बुधखोला       : other\n",
            "बुधखोला       : other\n",
            "बुधखोला       : other\n",
            "बुधखोला       : other\n",
            "बुधखोला       : other\n",
            "बुधखोला       : other\n",
            "बुधखोला       : other\n",
            "बुधखोला       : other\n",
            "बुधखोला       : other\n",
            "बुधखोला       : other\n",
            "बुधखोला       : other\n",
            "बुधखोला       : other\n",
            "बुधखोला       : other\n",
            "बुधखोला       : other\n",
            "बुधखोला       : other\n",
            "बुधखोला       : other\n",
            "बुधखोला       : other\n",
            "बुधखोला       : other\n",
            "बुधखोला       : other\n",
            "बुधखोला       : other\n",
            "बुधखोला       : other\n",
            "बुधखोला       : other\n",
            "बुधखोला       : other\n",
            "बुधखोला       : other\n",
            "बुधखोला       : other\n",
            "बुधखोला       : other\n",
            "बुधखोला       : other\n",
            "बुधखोला       : other\n",
            "बुधखोला       : other\n",
            "बुधखोला       : other\n",
            "बुधखोला       : other\n",
            "बुधखोला       : other\n",
            "बुधखोला       : other\n",
            "बुधखोला       : other\n",
            "बुधखोला       : other\n",
            "बुधखोला       : other\n",
            "बुधखोला       : other\n",
            "बुधखोला       : other\n",
            "बुधखोला       : other\n",
            "बुधखोला       : other\n",
            "बुधखोला       : other\n",
            "बुधखोला       : other\n",
            "बुधखोला       : other\n",
            "बुधखोला       : other\n",
            "बुधखोला       : other\n",
            "बुधखोला       : other\n",
            "बुधखोला       : other\n",
            "बुधखोला       : other\n",
            "बुधखोला       : other\n",
            "बुधखोला       : other\n",
            "बुधखोला       : other\n",
            "बुधखोला       : other\n",
            "बुधखोला       : other\n",
            "बुधखोला       : other\n",
            "बुधखोला       : other\n",
            "बुधखोला       : other\n",
            "बुधखोला       : other\n",
            "बुधखोला       : other\n",
            "बुधखोला       : other\n",
            "बुधखोला       : other\n",
            "बुधखोला       : other\n",
            "बुधखोला       : other\n",
            "बुधखोला       : other\n",
            "बुधखोला       : other\n",
            "बुधखोला       : other\n",
            "बुधखोला       : other\n",
            "बुधखोला       : other\n",
            "बुधखोला       : other\n",
            "बुधखोला       : other\n",
            "बुधखोला       : other\n",
            "बुधखोला       : other\n",
            "बुधखोला       : other\n",
            "बुधखोला       : other\n",
            "बुधखोला       : other\n",
            "बुधखोला       : other\n",
            "बुधखोला       : other\n",
            "बुधखोला       : other\n",
            "बुधखोला       : other\n",
            "बुधखोला       : other\n",
            "बुधखोला       : other\n",
            "बुधखोला       : other\n",
            "बुधखोला       : other\n",
            "बुधखोला       : other\n",
            "बुधखोला       : other\n",
            "बुधखोला       : other\n",
            "बुधखोला       : other\n",
            "बुधखोला       : other\n",
            "बुधखोला       : other\n",
            "बुधखोला       : other\n",
            "बुधखोला       : other\n",
            "बुधखोला       : other\n",
            "बुधखोला       : other\n",
            "बुधखोला       : other\n",
            "बुधखोला       : other\n",
            "बुधखोला       : other\n",
            "बुधखोला       : other\n"
          ],
          "name": "stdout"
        }
      ]
    },
    {
      "cell_type": "code",
      "metadata": {
        "colab": {
          "base_uri": "https://localhost:8080/",
          "height": 35
        },
        "id": "I-Oyv8RmjMqS",
        "outputId": "d8bff947-ba87-4f78-a7bc-ebeff0a28630"
      },
      "source": [
        "tags.pop(-1)"
      ],
      "execution_count": null,
      "outputs": [
        {
          "output_type": "execute_result",
          "data": {
            "application/vnd.google.colaboratory.intrinsic+json": {
              "type": "string"
            },
            "text/plain": [
              "'limit'"
            ]
          },
          "metadata": {
            "tags": []
          },
          "execution_count": 82
        }
      ]
    },
    {
      "cell_type": "code",
      "metadata": {
        "colab": {
          "base_uri": "https://localhost:8080/"
        },
        "id": "VTUGU8pLjVfh",
        "outputId": "404a4466-9383-4e87-be5c-9901913b91c0"
      },
      "source": [
        "tags"
      ],
      "execution_count": null,
      "outputs": [
        {
          "output_type": "execute_result",
          "data": {
            "text/plain": [
              "['name',\n",
              " 'number',\n",
              " 'other',\n",
              " 'organization',\n",
              " 'datenum',\n",
              " 'things',\n",
              " 'location',\n",
              " 'event',\n",
              " 'occupation']"
            ]
          },
          "metadata": {
            "tags": []
          },
          "execution_count": 83
        }
      ]
    },
    {
      "cell_type": "code",
      "metadata": {
        "id": "VdZ0isUxyyLz"
      },
      "source": [
        "sentences_=[]\n",
        "for i in range(len(ar)):\n",
        "  w1=ar[i].strip().split(' ')\n",
        "  w2=Arr[i].strip().split(' ')\n",
        "  z0=zip(w2,w1)\n",
        "  par=list(z0)\n",
        "  sentences_.append(par)"
      ],
      "execution_count": null,
      "outputs": []
    },
    {
      "cell_type": "code",
      "metadata": {
        "colab": {
          "base_uri": "https://localhost:8080/"
        },
        "id": "H7P8eURbwY6z",
        "outputId": "4d68ee34-eff9-4e15-a03d-13df8d13e745"
      },
      "source": [
        "sentences_[10]"
      ],
      "execution_count": null,
      "outputs": [
        {
          "output_type": "execute_result",
          "data": {
            "text/plain": [
              "[('वर्ष', 'other'),\n",
              " ('1963', 'datenum'),\n",
              " ('में', 'other'),\n",
              " ('उत्तर', 'location'),\n",
              " ('प्रदेश', 'location'),\n",
              " ('की', 'other'),\n",
              " ('मुख्यमंत्री', 'occupation'),\n",
              " ('बनने', 'other'),\n",
              " ('से', 'other'),\n",
              " ('पहले', 'other'),\n",
              " ('वह', 'other'),\n",
              " ('लगातार', 'other'),\n",
              " ('दो', 'other'),\n",
              " ('बार', 'other'),\n",
              " ('लोकसभा', 'occupation'),\n",
              " ('के', 'other'),\n",
              " ('लिए', 'other'),\n",
              " ('चुनी', 'other'),\n",
              " ('गई', 'other'),\n",
              " ('.', 'other')]"
            ]
          },
          "metadata": {
            "tags": []
          },
          "execution_count": 235
        }
      ]
    },
    {
      "cell_type": "code",
      "metadata": {
        "colab": {
          "base_uri": "https://localhost:8080/"
        },
        "id": "uSml0X1VDubd",
        "outputId": "2b42b4ed-1677-49f2-9a1a-3219f5dff87a"
      },
      "source": [
        "sentences_[100]"
      ],
      "execution_count": null,
      "outputs": [
        {
          "output_type": "execute_result",
          "data": {
            "text/plain": [
              "[('राष्ट्रीय', 'other'),\n",
              " ('महत्व', 'other'),\n",
              " ('के', 'other'),\n",
              " ('स्मारक', 'other'),\n",
              " (',', 'other'),\n",
              " ('भारत', 'location'),\n",
              " ('में', 'other'),\n",
              " ('स्थित', 'other'),\n",
              " ('वे', 'other'),\n",
              " ('ऐतिहासिक', 'other'),\n",
              " (',', 'other'),\n",
              " ('प्राचीन', 'other'),\n",
              " ('अथवा', 'other'),\n",
              " ('पुरातात्विक', 'other'),\n",
              " ('संरचनाएं', 'other'),\n",
              " (',', 'other'),\n",
              " ('स्थल', 'other'),\n",
              " ('या', 'other'),\n",
              " ('स्थान', 'other'),\n",
              " ('हैं', 'other'),\n",
              " (',', 'other'),\n",
              " ('जोकि', 'other'),\n",
              " (',', 'other'),\n",
              " ('प्राचीन', 'other'),\n",
              " ('संस्मारक', 'other'),\n",
              " ('तथा', 'other'),\n",
              " ('पुरातत्वीय', 'other'),\n",
              " ('स्थल', 'other'),\n",
              " ('और', 'other'),\n",
              " ('अवशेष', 'other'),\n",
              " ('अधिनियम', 'other'),\n",
              " (',', 'other'),\n",
              " ('1958', 'number'),\n",
              " ('किए', 'other'),\n",
              " ('अधीन', 'other'),\n",
              " (',', 'other'),\n",
              " ('भारतीय', 'other'),\n",
              " ('पुरातत्व', 'name'),\n",
              " ('सर्वेक्षण', 'name'),\n",
              " ('के', 'other'),\n",
              " ('माध्यम', 'organization'),\n",
              " ('से', 'other'),\n",
              " ('भारत', 'location'),\n",
              " ('की', 'other'),\n",
              " ('संघीय', 'other'),\n",
              " ('सरकार', 'name'),\n",
              " ('या', 'other'),\n",
              " ('राज्य', 'location'),\n",
              " ('सरकारों', 'name'),\n",
              " ('द्वारा', 'other'),\n",
              " ('संरक्षिक', 'other'),\n",
              " ('होती', 'other'),\n",
              " ('हैं', 'other'),\n",
              " ('.', 'other')]"
            ]
          },
          "metadata": {
            "tags": []
          },
          "execution_count": 248
        }
      ]
    },
    {
      "cell_type": "code",
      "metadata": {
        "id": "P_w1q1Z6we56"
      },
      "source": [
        "np.save('/content/drive/MyDrive/Thirdsem/TimeSeries/neppair.npy',sentences_)"
      ],
      "execution_count": null,
      "outputs": []
    },
    {
      "cell_type": "code",
      "metadata": {
        "colab": {
          "base_uri": "https://localhost:8080/"
        },
        "id": "bJAo2Z_j3MrU",
        "outputId": "de878093-5231-4b92-ae3b-12bff0c393cd"
      },
      "source": [
        "maxlen = max([len(s) for s in sentences_])\n",
        "print ('Maximum sequence length:', maxlen)"
      ],
      "execution_count": null,
      "outputs": [
        {
          "output_type": "stream",
          "text": [
            "Maximum sequence length: 609\n"
          ],
          "name": "stdout"
        }
      ]
    },
    {
      "cell_type": "code",
      "metadata": {
        "id": "cua6KavEkix5"
      },
      "source": [
        "# Check how long sentences are so that we can pad them\n",
        "import matplotlib.pyplot as plt\n",
        "%matplotlib inline\n",
        "plt.style.use(\"ggplot\")"
      ],
      "execution_count": null,
      "outputs": []
    },
    {
      "cell_type": "code",
      "metadata": {
        "colab": {
          "base_uri": "https://localhost:8080/",
          "height": 265
        },
        "id": "6leH-79si3H9",
        "outputId": "19ffa241-31e1-4123-9815-c4be3520d3e7"
      },
      "source": [
        "plt.hist([len(s) for s in sentences_], bins=50)\n",
        "plt.show()"
      ],
      "execution_count": null,
      "outputs": [
        {
          "output_type": "display_data",
          "data": {
            "image/png": "[encoded data removed]",
            "text/plain": [
              "<Figure size 432x288 with 1 Axes>"
            ]
          },
          "metadata": {
            "tags": []
          }
        }
      ]
    },
    {
      "cell_type": "code",
      "metadata": {
        "id": "KyXvglJ9k1gZ"
      },
      "source": [
        "words = list(set(data[\"Name\"].values))\n",
        "words.append(\"ENDPAD\")"
      ],
      "execution_count": null,
      "outputs": []
    },
    {
      "cell_type": "code",
      "metadata": {
        "colab": {
          "base_uri": "https://localhost:8080/"
        },
        "id": "YZWoaIhSpoyD",
        "outputId": "57e54e9d-9b71-411d-cfb6-25b2ea426844"
      },
      "source": [
        "len(words)"
      ],
      "execution_count": null,
      "outputs": [
        {
          "output_type": "execute_result",
          "data": {
            "text/plain": [
              "87772"
            ]
          },
          "metadata": {
            "tags": []
          },
          "execution_count": 123
        }
      ]
    },
    {
      "cell_type": "code",
      "metadata": {
        "colab": {
          "base_uri": "https://localhost:8080/",
          "height": 35
        },
        "id": "MHJ0gw5dp5aQ",
        "outputId": "99d1bee2-3f18-40b1-b732-84ba3b2a12a7"
      },
      "source": [
        "words[1010]"
      ],
      "execution_count": null,
      "outputs": [
        {
          "output_type": "execute_result",
          "data": {
            "application/vnd.google.colaboratory.intrinsic+json": {
              "type": "string"
            },
            "text/plain": [
              "'शाक्त'"
            ]
          },
          "metadata": {
            "tags": []
          },
          "execution_count": 126
        }
      ]
    },
    {
      "cell_type": "code",
      "metadata": {
        "colab": {
          "base_uri": "https://localhost:8080/"
        },
        "id": "Kgi2tIir5vBN",
        "outputId": "11fc2443-e199-4ef5-f4d7-b4d5e6fcc2df"
      },
      "source": [
        "n_words=len(words)\n",
        "n_words"
      ],
      "execution_count": null,
      "outputs": [
        {
          "output_type": "execute_result",
          "data": {
            "text/plain": [
              "87772"
            ]
          },
          "metadata": {
            "tags": []
          },
          "execution_count": 41
        }
      ]
    },
    {
      "cell_type": "code",
      "metadata": {
        "id": "MHvdRG5olUJ1"
      },
      "source": [
        "tags = list(set(data[\"Entity\"].values))"
      ],
      "execution_count": null,
      "outputs": []
    },
    {
      "cell_type": "code",
      "metadata": {
        "colab": {
          "base_uri": "https://localhost:8080/"
        },
        "id": "gqHTR9osnTzk",
        "outputId": "103bb257-06cf-40c6-c6f0-7186517a2e12"
      },
      "source": [
        "n_tags=len(tags)\n",
        "n_tags"
      ],
      "execution_count": null,
      "outputs": [
        {
          "output_type": "execute_result",
          "data": {
            "text/plain": [
              "10"
            ]
          },
          "metadata": {
            "tags": []
          },
          "execution_count": 43
        }
      ]
    },
    {
      "cell_type": "code",
      "metadata": {
        "colab": {
          "base_uri": "https://localhost:8080/"
        },
        "id": "XRlyL1pknbHd",
        "outputId": "a7eac8f9-bb99-4c5a-bae9-308a6efd5487"
      },
      "source": [
        "len(a)"
      ],
      "execution_count": null,
      "outputs": [
        {
          "output_type": "execute_result",
          "data": {
            "text/plain": [
              "19"
            ]
          },
          "metadata": {
            "tags": []
          },
          "execution_count": 154
        }
      ]
    },
    {
      "cell_type": "code",
      "metadata": {
        "id": "B3GgFy9cv-sB"
      },
      "source": [
        "word2idx = {w: i for i, w in enumerate(words)}\n",
        "tag2idx = {t: i for i, t in enumerate(tags)}"
      ],
      "execution_count": null,
      "outputs": []
    },
    {
      "cell_type": "code",
      "metadata": {
        "colab": {
          "base_uri": "https://localhost:8080/"
        },
        "id": "0UCOSzvU6uOf",
        "outputId": "3cf74e5a-dd2e-4ef5-dae0-7d71cd7a1cc8"
      },
      "source": [
        "word2idx['लोकतांत्रिक']"
      ],
      "execution_count": null,
      "outputs": [
        {
          "output_type": "execute_result",
          "data": {
            "text/plain": [
              "43874"
            ]
          },
          "metadata": {
            "tags": []
          },
          "execution_count": 245
        }
      ]
    },
    {
      "cell_type": "code",
      "metadata": {
        "colab": {
          "base_uri": "https://localhost:8080/"
        },
        "id": "vLYASO3k67vM",
        "outputId": "cdd44a35-d8a1-449e-df8e-b70886abf721"
      },
      "source": [
        "tag2idx['other']"
      ],
      "execution_count": null,
      "outputs": [
        {
          "output_type": "execute_result",
          "data": {
            "text/plain": [
              "4"
            ]
          },
          "metadata": {
            "tags": []
          },
          "execution_count": 246
        }
      ]
    },
    {
      "cell_type": "code",
      "metadata": {
        "colab": {
          "base_uri": "https://localhost:8080/",
          "height": 238
        },
        "id": "1eTPlT3AD9BH",
        "outputId": "3fd337f0-3548-4402-83a3-100797f83ce1"
      },
      "source": [
        "X = [[word2idx[w[0]] for w in s] for s in sentences_]"
      ],
      "execution_count": null,
      "outputs": [
        {
          "output_type": "error",
          "ename": "KeyError",
          "evalue": "ignored",
          "traceback": [
            "\u001b[0;31m---------------------------------------------------------------------------\u001b[0m",
            "\u001b[0;31mKeyError\u001b[0m                                  Traceback (most recent call last)",
            "\u001b[0;32m<ipython-input-249-46837c26af67>\u001b[0m in \u001b[0;36m<module>\u001b[0;34m()\u001b[0m\n\u001b[0;32m----> 1\u001b[0;31m \u001b[0mX\u001b[0m \u001b[0;34m=\u001b[0m \u001b[0;34m[\u001b[0m\u001b[0;34m[\u001b[0m\u001b[0mword2idx\u001b[0m\u001b[0;34m[\u001b[0m\u001b[0mw\u001b[0m\u001b[0;34m[\u001b[0m\u001b[0;36m0\u001b[0m\u001b[0;34m]\u001b[0m\u001b[0;34m]\u001b[0m \u001b[0;32mfor\u001b[0m \u001b[0mw\u001b[0m \u001b[0;32min\u001b[0m \u001b[0ms\u001b[0m\u001b[0;34m]\u001b[0m \u001b[0;32mfor\u001b[0m \u001b[0ms\u001b[0m \u001b[0;32min\u001b[0m \u001b[0msentences_\u001b[0m\u001b[0;34m]\u001b[0m\u001b[0;34m\u001b[0m\u001b[0;34m\u001b[0m\u001b[0m\n\u001b[0m",
            "\u001b[0;32m<ipython-input-249-46837c26af67>\u001b[0m in \u001b[0;36m<listcomp>\u001b[0;34m(.0)\u001b[0m\n\u001b[0;32m----> 1\u001b[0;31m \u001b[0mX\u001b[0m \u001b[0;34m=\u001b[0m \u001b[0;34m[\u001b[0m\u001b[0;34m[\u001b[0m\u001b[0mword2idx\u001b[0m\u001b[0;34m[\u001b[0m\u001b[0mw\u001b[0m\u001b[0;34m[\u001b[0m\u001b[0;36m0\u001b[0m\u001b[0;34m]\u001b[0m\u001b[0;34m]\u001b[0m \u001b[0;32mfor\u001b[0m \u001b[0mw\u001b[0m \u001b[0;32min\u001b[0m \u001b[0ms\u001b[0m\u001b[0;34m]\u001b[0m \u001b[0;32mfor\u001b[0m \u001b[0ms\u001b[0m \u001b[0;32min\u001b[0m \u001b[0msentences_\u001b[0m\u001b[0;34m]\u001b[0m\u001b[0;34m\u001b[0m\u001b[0;34m\u001b[0m\u001b[0m\n\u001b[0m",
            "\u001b[0;32m<ipython-input-249-46837c26af67>\u001b[0m in \u001b[0;36m<listcomp>\u001b[0;34m(.0)\u001b[0m\n\u001b[0;32m----> 1\u001b[0;31m \u001b[0mX\u001b[0m \u001b[0;34m=\u001b[0m \u001b[0;34m[\u001b[0m\u001b[0;34m[\u001b[0m\u001b[0mword2idx\u001b[0m\u001b[0;34m[\u001b[0m\u001b[0mw\u001b[0m\u001b[0;34m[\u001b[0m\u001b[0;36m0\u001b[0m\u001b[0;34m]\u001b[0m\u001b[0;34m]\u001b[0m \u001b[0;32mfor\u001b[0m \u001b[0mw\u001b[0m \u001b[0;32min\u001b[0m \u001b[0ms\u001b[0m\u001b[0;34m]\u001b[0m \u001b[0;32mfor\u001b[0m \u001b[0ms\u001b[0m \u001b[0;32min\u001b[0m \u001b[0msentences_\u001b[0m\u001b[0;34m]\u001b[0m\u001b[0;34m\u001b[0m\u001b[0;34m\u001b[0m\u001b[0m\n\u001b[0m",
            "\u001b[0;31mKeyError\u001b[0m: ''"
          ]
        }
      ]
    },
    {
      "cell_type": "code",
      "metadata": {
        "colab": {
          "base_uri": "https://localhost:8080/",
          "height": 272
        },
        "id": "IXU-2dPhlXlE",
        "outputId": "ad3a1242-4701-43fe-99d7-65ee31377949"
      },
      "source": [
        "from keras.preprocessing.sequence import pad_sequences\n",
        "X = [[word2idx[w[0]] for w in s] for s in sentences_]"
      ],
      "execution_count": null,
      "outputs": [
        {
          "output_type": "error",
          "ename": "KeyError",
          "evalue": "ignored",
          "traceback": [
            "\u001b[0;31m---------------------------------------------------------------------------\u001b[0m",
            "\u001b[0;31mKeyError\u001b[0m                                  Traceback (most recent call last)",
            "\u001b[0;32m<ipython-input-247-a4cd2a260801>\u001b[0m in \u001b[0;36m<module>\u001b[0;34m()\u001b[0m\n\u001b[1;32m      1\u001b[0m \u001b[0;32mfrom\u001b[0m \u001b[0mkeras\u001b[0m\u001b[0;34m.\u001b[0m\u001b[0mpreprocessing\u001b[0m\u001b[0;34m.\u001b[0m\u001b[0msequence\u001b[0m \u001b[0;32mimport\u001b[0m \u001b[0mpad_sequences\u001b[0m\u001b[0;34m\u001b[0m\u001b[0;34m\u001b[0m\u001b[0m\n\u001b[0;32m----> 2\u001b[0;31m \u001b[0mX\u001b[0m \u001b[0;34m=\u001b[0m \u001b[0;34m[\u001b[0m\u001b[0;34m[\u001b[0m\u001b[0mword2idx\u001b[0m\u001b[0;34m[\u001b[0m\u001b[0mw\u001b[0m\u001b[0;34m[\u001b[0m\u001b[0;36m0\u001b[0m\u001b[0;34m]\u001b[0m\u001b[0;34m]\u001b[0m \u001b[0;32mfor\u001b[0m \u001b[0mw\u001b[0m \u001b[0;32min\u001b[0m \u001b[0ms\u001b[0m\u001b[0;34m]\u001b[0m \u001b[0;32mfor\u001b[0m \u001b[0ms\u001b[0m \u001b[0;32min\u001b[0m \u001b[0msentences_\u001b[0m\u001b[0;34m]\u001b[0m\u001b[0;34m\u001b[0m\u001b[0;34m\u001b[0m\u001b[0m\n\u001b[0m",
            "\u001b[0;32m<ipython-input-247-a4cd2a260801>\u001b[0m in \u001b[0;36m<listcomp>\u001b[0;34m(.0)\u001b[0m\n\u001b[1;32m      1\u001b[0m \u001b[0;32mfrom\u001b[0m \u001b[0mkeras\u001b[0m\u001b[0;34m.\u001b[0m\u001b[0mpreprocessing\u001b[0m\u001b[0;34m.\u001b[0m\u001b[0msequence\u001b[0m \u001b[0;32mimport\u001b[0m \u001b[0mpad_sequences\u001b[0m\u001b[0;34m\u001b[0m\u001b[0;34m\u001b[0m\u001b[0m\n\u001b[0;32m----> 2\u001b[0;31m \u001b[0mX\u001b[0m \u001b[0;34m=\u001b[0m \u001b[0;34m[\u001b[0m\u001b[0;34m[\u001b[0m\u001b[0mword2idx\u001b[0m\u001b[0;34m[\u001b[0m\u001b[0mw\u001b[0m\u001b[0;34m[\u001b[0m\u001b[0;36m0\u001b[0m\u001b[0;34m]\u001b[0m\u001b[0;34m]\u001b[0m \u001b[0;32mfor\u001b[0m \u001b[0mw\u001b[0m \u001b[0;32min\u001b[0m \u001b[0ms\u001b[0m\u001b[0;34m]\u001b[0m \u001b[0;32mfor\u001b[0m \u001b[0ms\u001b[0m \u001b[0;32min\u001b[0m \u001b[0msentences_\u001b[0m\u001b[0;34m]\u001b[0m\u001b[0;34m\u001b[0m\u001b[0;34m\u001b[0m\u001b[0m\n\u001b[0m",
            "\u001b[0;32m<ipython-input-247-a4cd2a260801>\u001b[0m in \u001b[0;36m<listcomp>\u001b[0;34m(.0)\u001b[0m\n\u001b[1;32m      1\u001b[0m \u001b[0;32mfrom\u001b[0m \u001b[0mkeras\u001b[0m\u001b[0;34m.\u001b[0m\u001b[0mpreprocessing\u001b[0m\u001b[0;34m.\u001b[0m\u001b[0msequence\u001b[0m \u001b[0;32mimport\u001b[0m \u001b[0mpad_sequences\u001b[0m\u001b[0;34m\u001b[0m\u001b[0;34m\u001b[0m\u001b[0m\n\u001b[0;32m----> 2\u001b[0;31m \u001b[0mX\u001b[0m \u001b[0;34m=\u001b[0m \u001b[0;34m[\u001b[0m\u001b[0;34m[\u001b[0m\u001b[0mword2idx\u001b[0m\u001b[0;34m[\u001b[0m\u001b[0mw\u001b[0m\u001b[0;34m[\u001b[0m\u001b[0;36m0\u001b[0m\u001b[0;34m]\u001b[0m\u001b[0;34m]\u001b[0m \u001b[0;32mfor\u001b[0m \u001b[0mw\u001b[0m \u001b[0;32min\u001b[0m \u001b[0ms\u001b[0m\u001b[0;34m]\u001b[0m \u001b[0;32mfor\u001b[0m \u001b[0ms\u001b[0m \u001b[0;32min\u001b[0m \u001b[0msentences_\u001b[0m\u001b[0;34m]\u001b[0m\u001b[0;34m\u001b[0m\u001b[0;34m\u001b[0m\u001b[0m\n\u001b[0m",
            "\u001b[0;31mKeyError\u001b[0m: ''"
          ]
        }
      ]
    },
    {
      "cell_type": "code",
      "metadata": {
        "id": "uDRKn9uQ8HHD"
      },
      "source": [
        "X=[]\n",
        "for s in sentences_:\n",
        "  for w in s:\n",
        "   if w[0]!='':\n",
        "     X.append(word2idx[w[0]])"
      ],
      "execution_count": null,
      "outputs": []
    },
    {
      "cell_type": "code",
      "metadata": {
        "colab": {
          "base_uri": "https://localhost:8080/"
        },
        "id": "fMumHLM69eX_",
        "outputId": "4edce39a-e7fc-4683-d4e8-02e69b5ec4ac"
      },
      "source": [
        "len(X)"
      ],
      "execution_count": null,
      "outputs": [
        {
          "output_type": "execute_result",
          "data": {
            "text/plain": [
              "1460021"
            ]
          },
          "metadata": {
            "tags": []
          },
          "execution_count": 208
        }
      ]
    },
    {
      "cell_type": "code",
      "metadata": {
        "id": "p-Roi1Qo9jlH"
      },
      "source": [
        "Y=[]\n",
        "for s in sentences_:\n",
        "  for w in s:\n",
        "    if w[1]!='':\n",
        "      Y.append(tag2idx[w[1]])"
      ],
      "execution_count": null,
      "outputs": []
    },
    {
      "cell_type": "code",
      "metadata": {
        "colab": {
          "base_uri": "https://localhost:8080/"
        },
        "id": "6yjOXG5x98Z3",
        "outputId": "a451c97d-88c4-40e0-8671-d79840f6a30d"
      },
      "source": [
        "len(Y)"
      ],
      "execution_count": null,
      "outputs": [
        {
          "output_type": "execute_result",
          "data": {
            "text/plain": [
              "1460021"
            ]
          },
          "metadata": {
            "tags": []
          },
          "execution_count": 211
        }
      ]
    },
    {
      "cell_type": "code",
      "metadata": {
        "colab": {
          "base_uri": "https://localhost:8080/",
          "height": 238
        },
        "id": "C6QpRC1oBqZI",
        "outputId": "1139aa0c-9f15-4b7c-cd36-2b190b4fb5b1"
      },
      "source": [
        "y = [[tag2idx[w[1]] for w in s] for s in sentences_]"
      ],
      "execution_count": null,
      "outputs": [
        {
          "output_type": "error",
          "ename": "KeyError",
          "evalue": "ignored",
          "traceback": [
            "\u001b[0;31m---------------------------------------------------------------------------\u001b[0m",
            "\u001b[0;31mKeyError\u001b[0m                                  Traceback (most recent call last)",
            "\u001b[0;32m<ipython-input-220-a40dc20a0855>\u001b[0m in \u001b[0;36m<module>\u001b[0;34m()\u001b[0m\n\u001b[0;32m----> 1\u001b[0;31m \u001b[0my\u001b[0m \u001b[0;34m=\u001b[0m \u001b[0;34m[\u001b[0m\u001b[0;34m[\u001b[0m\u001b[0mtag2idx\u001b[0m\u001b[0;34m[\u001b[0m\u001b[0mw\u001b[0m\u001b[0;34m[\u001b[0m\u001b[0;36m1\u001b[0m\u001b[0;34m]\u001b[0m\u001b[0;34m]\u001b[0m \u001b[0;32mfor\u001b[0m \u001b[0mw\u001b[0m \u001b[0;32min\u001b[0m \u001b[0ms\u001b[0m\u001b[0;34m]\u001b[0m \u001b[0;32mfor\u001b[0m \u001b[0ms\u001b[0m \u001b[0;32min\u001b[0m \u001b[0msentences_\u001b[0m\u001b[0;34m]\u001b[0m\u001b[0;34m\u001b[0m\u001b[0;34m\u001b[0m\u001b[0m\n\u001b[0m",
            "\u001b[0;32m<ipython-input-220-a40dc20a0855>\u001b[0m in \u001b[0;36m<listcomp>\u001b[0;34m(.0)\u001b[0m\n\u001b[0;32m----> 1\u001b[0;31m \u001b[0my\u001b[0m \u001b[0;34m=\u001b[0m \u001b[0;34m[\u001b[0m\u001b[0;34m[\u001b[0m\u001b[0mtag2idx\u001b[0m\u001b[0;34m[\u001b[0m\u001b[0mw\u001b[0m\u001b[0;34m[\u001b[0m\u001b[0;36m1\u001b[0m\u001b[0;34m]\u001b[0m\u001b[0;34m]\u001b[0m \u001b[0;32mfor\u001b[0m \u001b[0mw\u001b[0m \u001b[0;32min\u001b[0m \u001b[0ms\u001b[0m\u001b[0;34m]\u001b[0m \u001b[0;32mfor\u001b[0m \u001b[0ms\u001b[0m \u001b[0;32min\u001b[0m \u001b[0msentences_\u001b[0m\u001b[0;34m]\u001b[0m\u001b[0;34m\u001b[0m\u001b[0;34m\u001b[0m\u001b[0m\n\u001b[0m",
            "\u001b[0;32m<ipython-input-220-a40dc20a0855>\u001b[0m in \u001b[0;36m<listcomp>\u001b[0;34m(.0)\u001b[0m\n\u001b[0;32m----> 1\u001b[0;31m \u001b[0my\u001b[0m \u001b[0;34m=\u001b[0m \u001b[0;34m[\u001b[0m\u001b[0;34m[\u001b[0m\u001b[0mtag2idx\u001b[0m\u001b[0;34m[\u001b[0m\u001b[0mw\u001b[0m\u001b[0;34m[\u001b[0m\u001b[0;36m1\u001b[0m\u001b[0;34m]\u001b[0m\u001b[0;34m]\u001b[0m \u001b[0;32mfor\u001b[0m \u001b[0mw\u001b[0m \u001b[0;32min\u001b[0m \u001b[0ms\u001b[0m\u001b[0;34m]\u001b[0m \u001b[0;32mfor\u001b[0m \u001b[0ms\u001b[0m \u001b[0;32min\u001b[0m \u001b[0msentences_\u001b[0m\u001b[0;34m]\u001b[0m\u001b[0;34m\u001b[0m\u001b[0;34m\u001b[0m\u001b[0m\n\u001b[0m",
            "\u001b[0;31mKeyError\u001b[0m: ''"
          ]
        }
      ]
    },
    {
      "cell_type": "code",
      "metadata": {
        "colab": {
          "base_uri": "https://localhost:8080/",
          "height": 129
        },
        "id": "gY59yFilALlO",
        "outputId": "c1a67a7c-d81e-4e0a-e194-870c9a57fa2b"
      },
      "source": [
        "X = [[if w([0]!='': word2idx[w[0]] for w in s] for s in sentences]"
      ],
      "execution_count": null,
      "outputs": [
        {
          "output_type": "error",
          "ename": "SyntaxError",
          "evalue": "ignored",
          "traceback": [
            "\u001b[0;36m  File \u001b[0;32m\"<ipython-input-219-c337dca9563e>\"\u001b[0;36m, line \u001b[0;32m1\u001b[0m\n\u001b[0;31m    X = [[if w([0]!='': word2idx[w[0]] for w in s] for s in sentences]\u001b[0m\n\u001b[0m           ^\u001b[0m\n\u001b[0;31mSyntaxError\u001b[0m\u001b[0;31m:\u001b[0m invalid syntax\n"
          ]
        }
      ]
    },
    {
      "cell_type": "code",
      "metadata": {
        "id": "eBgIidrj_qYe"
      },
      "source": [
        "X_=np.asarray(X)"
      ],
      "execution_count": null,
      "outputs": []
    },
    {
      "cell_type": "code",
      "metadata": {
        "colab": {
          "base_uri": "https://localhost:8080/",
          "height": 425
        },
        "id": "5jmZwrF7llbj",
        "outputId": "c1b42e6c-e6d0-4657-bdaa-efa4d657b414"
      },
      "source": [
        "X1 = pad_sequences(maxlen=611,sequences=X_, padding=\"post\",value=n_words - 1)"
      ],
      "execution_count": null,
      "outputs": [
        {
          "output_type": "error",
          "ename": "ValueError",
          "evalue": "ignored",
          "traceback": [
            "\u001b[0;31m---------------------------------------------------------------------------\u001b[0m",
            "\u001b[0;31mTypeError\u001b[0m                                 Traceback (most recent call last)",
            "\u001b[0;32m/usr/local/lib/python3.6/dist-packages/keras_preprocessing/sequence.py\u001b[0m in \u001b[0;36mpad_sequences\u001b[0;34m(sequences, maxlen, dtype, padding, truncating, value)\u001b[0m\n\u001b[1;32m     67\u001b[0m         \u001b[0;32mtry\u001b[0m\u001b[0;34m:\u001b[0m\u001b[0;34m\u001b[0m\u001b[0;34m\u001b[0m\u001b[0m\n\u001b[0;32m---> 68\u001b[0;31m             \u001b[0mlengths\u001b[0m\u001b[0;34m.\u001b[0m\u001b[0mappend\u001b[0m\u001b[0;34m(\u001b[0m\u001b[0mlen\u001b[0m\u001b[0;34m(\u001b[0m\u001b[0mx\u001b[0m\u001b[0;34m)\u001b[0m\u001b[0;34m)\u001b[0m\u001b[0;34m\u001b[0m\u001b[0;34m\u001b[0m\u001b[0m\n\u001b[0m\u001b[1;32m     69\u001b[0m             \u001b[0;32mif\u001b[0m \u001b[0mflag\u001b[0m \u001b[0;32mand\u001b[0m \u001b[0mlen\u001b[0m\u001b[0;34m(\u001b[0m\u001b[0mx\u001b[0m\u001b[0;34m)\u001b[0m\u001b[0;34m:\u001b[0m\u001b[0;34m\u001b[0m\u001b[0;34m\u001b[0m\u001b[0m\n",
            "\u001b[0;31mTypeError\u001b[0m: object of type 'numpy.int64' has no len()",
            "\nDuring handling of the above exception, another exception occurred:\n",
            "\u001b[0;31mValueError\u001b[0m                                Traceback (most recent call last)",
            "\u001b[0;32m<ipython-input-217-7e8a5edd39a1>\u001b[0m in \u001b[0;36m<module>\u001b[0;34m()\u001b[0m\n\u001b[0;32m----> 1\u001b[0;31m \u001b[0mX1\u001b[0m \u001b[0;34m=\u001b[0m \u001b[0mpad_sequences\u001b[0m\u001b[0;34m(\u001b[0m\u001b[0mmaxlen\u001b[0m\u001b[0;34m=\u001b[0m\u001b[0;36m611\u001b[0m\u001b[0;34m,\u001b[0m\u001b[0msequences\u001b[0m\u001b[0;34m=\u001b[0m\u001b[0mX_\u001b[0m\u001b[0;34m,\u001b[0m \u001b[0mpadding\u001b[0m\u001b[0;34m=\u001b[0m\u001b[0;34m\"post\"\u001b[0m\u001b[0;34m,\u001b[0m\u001b[0mvalue\u001b[0m\u001b[0;34m=\u001b[0m\u001b[0mn_words\u001b[0m \u001b[0;34m-\u001b[0m \u001b[0;36m1\u001b[0m\u001b[0;34m)\u001b[0m\u001b[0;34m\u001b[0m\u001b[0;34m\u001b[0m\u001b[0m\n\u001b[0m",
            "\u001b[0;32m/usr/local/lib/python3.6/dist-packages/tensorflow/python/keras/preprocessing/sequence.py\u001b[0m in \u001b[0;36mpad_sequences\u001b[0;34m(sequences, maxlen, dtype, padding, truncating, value)\u001b[0m\n\u001b[1;32m    156\u001b[0m   return sequence.pad_sequences(\n\u001b[1;32m    157\u001b[0m       \u001b[0msequences\u001b[0m\u001b[0;34m,\u001b[0m \u001b[0mmaxlen\u001b[0m\u001b[0;34m=\u001b[0m\u001b[0mmaxlen\u001b[0m\u001b[0;34m,\u001b[0m \u001b[0mdtype\u001b[0m\u001b[0;34m=\u001b[0m\u001b[0mdtype\u001b[0m\u001b[0;34m,\u001b[0m\u001b[0;34m\u001b[0m\u001b[0;34m\u001b[0m\u001b[0m\n\u001b[0;32m--> 158\u001b[0;31m       padding=padding, truncating=truncating, value=value)\n\u001b[0m\u001b[1;32m    159\u001b[0m \u001b[0;34m\u001b[0m\u001b[0m\n\u001b[1;32m    160\u001b[0m keras_export(\n",
            "\u001b[0;32m/usr/local/lib/python3.6/dist-packages/keras_preprocessing/sequence.py\u001b[0m in \u001b[0;36mpad_sequences\u001b[0;34m(sequences, maxlen, dtype, padding, truncating, value)\u001b[0m\n\u001b[1;32m     72\u001b[0m         \u001b[0;32mexcept\u001b[0m \u001b[0mTypeError\u001b[0m\u001b[0;34m:\u001b[0m\u001b[0;34m\u001b[0m\u001b[0;34m\u001b[0m\u001b[0m\n\u001b[1;32m     73\u001b[0m             raise ValueError('`sequences` must be a list of iterables. '\n\u001b[0;32m---> 74\u001b[0;31m                              'Found non-iterable: ' + str(x))\n\u001b[0m\u001b[1;32m     75\u001b[0m \u001b[0;34m\u001b[0m\u001b[0m\n\u001b[1;32m     76\u001b[0m     \u001b[0;32mif\u001b[0m \u001b[0mmaxlen\u001b[0m \u001b[0;32mis\u001b[0m \u001b[0;32mNone\u001b[0m\u001b[0;34m:\u001b[0m\u001b[0;34m\u001b[0m\u001b[0;34m\u001b[0m\u001b[0m\n",
            "\u001b[0;31mValueError\u001b[0m: `sequences` must be a list of iterables. Found non-iterable: 43874"
          ]
        }
      ]
    },
    {
      "cell_type": "code",
      "metadata": {
        "colab": {
          "base_uri": "https://localhost:8080/"
        },
        "id": "Ngk5vF5RmHUM",
        "outputId": "af9a93b2-7c9f-4776-d5c5-66fcbb62c45b"
      },
      "source": [
        "len(Arr_)"
      ],
      "execution_count": null,
      "outputs": [
        {
          "output_type": "execute_result",
          "data": {
            "text/plain": [
              "1"
            ]
          },
          "metadata": {
            "tags": []
          },
          "execution_count": 74
        }
      ]
    },
    {
      "cell_type": "code",
      "metadata": {
        "colab": {
          "base_uri": "https://localhost:8080/"
        },
        "id": "21Gow5PGmJh1",
        "outputId": "dd537618-a451-4564-eff7-42e8ffbfdacb"
      },
      "source": [
        "len(ST_)"
      ],
      "execution_count": null,
      "outputs": [
        {
          "output_type": "execute_result",
          "data": {
            "text/plain": [
              "9377146"
            ]
          },
          "metadata": {
            "tags": []
          },
          "execution_count": 76
        }
      ]
    },
    {
      "cell_type": "code",
      "metadata": {
        "colab": {
          "base_uri": "https://localhost:8080/"
        },
        "id": "S7pz4lWYmvOY",
        "outputId": "f2eb6422-d44d-49c9-bbe9-cb415be41734"
      },
      "source": [
        "len(ST)"
      ],
      "execution_count": null,
      "outputs": [
        {
          "output_type": "execute_result",
          "data": {
            "text/plain": [
              "7856086"
            ]
          },
          "metadata": {
            "tags": []
          },
          "execution_count": 77
        }
      ]
    },
    {
      "cell_type": "code",
      "metadata": {
        "colab": {
          "base_uri": "https://localhost:8080/",
          "height": 35
        },
        "id": "CxOYU6RcmxSE",
        "outputId": "b33af430-9281-423b-be10-3e2e89062743"
      },
      "source": [
        "ST_[0]"
      ],
      "execution_count": null,
      "outputs": [
        {
          "output_type": "execute_result",
          "data": {
            "application/vnd.google.colaboratory.intrinsic+json": {
              "type": "string"
            },
            "text/plain": [
              "'o'"
            ]
          },
          "metadata": {
            "tags": []
          },
          "execution_count": 79
        }
      ]
    },
    {
      "cell_type": "code",
      "metadata": {
        "id": "jEeqJUqhm1oa"
      },
      "source": [
        "A=zip(df.Name,df.Entity)"
      ],
      "execution_count": null,
      "outputs": []
    },
    {
      "cell_type": "code",
      "metadata": {
        "id": "9a61xbxApQ1a"
      },
      "source": [
        "Names=df['Name']\n",
        "Entitys=df['Entity']"
      ],
      "execution_count": null,
      "outputs": []
    },
    {
      "cell_type": "code",
      "metadata": {
        "colab": {
          "base_uri": "https://localhost:8080/"
        },
        "id": "VJ8KhjQUpScQ",
        "outputId": "5240bd9f-64c6-4346-f815-08f775094d21"
      },
      "source": [
        "len(Names)"
      ],
      "execution_count": null,
      "outputs": [
        {
          "output_type": "execute_result",
          "data": {
            "text/plain": [
              "1535904"
            ]
          },
          "metadata": {
            "tags": []
          },
          "execution_count": 89
        }
      ]
    },
    {
      "cell_type": "code",
      "metadata": {
        "colab": {
          "base_uri": "https://localhost:8080/"
        },
        "id": "UJkMGBempjsP",
        "outputId": "270b56ae-b605-45d2-996b-6fd0983af3d1"
      },
      "source": [
        "len(Entitys)"
      ],
      "execution_count": null,
      "outputs": [
        {
          "output_type": "execute_result",
          "data": {
            "text/plain": [
              "1535904"
            ]
          },
          "metadata": {
            "tags": []
          },
          "execution_count": 90
        }
      ]
    },
    {
      "cell_type": "code",
      "metadata": {
        "colab": {
          "base_uri": "https://localhost:8080/",
          "height": 35
        },
        "id": "9ElkK-tAp2yj",
        "outputId": "5d502e65-82e2-4754-eb41-f428d4c05939"
      },
      "source": [
        "Entitys[1]"
      ],
      "execution_count": null,
      "outputs": [
        {
          "output_type": "execute_result",
          "data": {
            "application/vnd.google.colaboratory.intrinsic+json": {
              "type": "string"
            },
            "text/plain": [
              "'other'"
            ]
          },
          "metadata": {
            "tags": []
          },
          "execution_count": 96
        }
      ]
    },
    {
      "cell_type": "code",
      "metadata": {
        "id": "5ijC-nUeplT1"
      },
      "source": [
        "z_l=zip(Names,Entitys)"
      ],
      "execution_count": null,
      "outputs": []
    },
    {
      "cell_type": "code",
      "metadata": {
        "id": "ucwOl8fSqW7w"
      },
      "source": [
        "pars=list(z_l)"
      ],
      "execution_count": null,
      "outputs": []
    },
    {
      "cell_type": "code",
      "metadata": {
        "colab": {
          "base_uri": "https://localhost:8080/"
        },
        "id": "KoHvq-YCqbo5",
        "outputId": "a6e4aba1-531b-4c5f-bc65-3f563b1a2203"
      },
      "source": [
        "len(pars)"
      ],
      "execution_count": null,
      "outputs": [
        {
          "output_type": "execute_result",
          "data": {
            "text/plain": [
              "1535904"
            ]
          },
          "metadata": {
            "tags": []
          },
          "execution_count": 99
        }
      ]
    },
    {
      "cell_type": "code",
      "metadata": {
        "id": "XFV-YfyztEcU"
      },
      "source": [
        "a=str(pars)"
      ],
      "execution_count": null,
      "outputs": []
    },
    {
      "cell_type": "code",
      "metadata": {
        "id": "HUU4fMWftHAU"
      },
      "source": [
        "a_=a.split('('newline','NaN')')"
      ],
      "execution_count": null,
      "outputs": []
    },
    {
      "cell_type": "code",
      "metadata": {
        "id": "7F97f1I9qcei"
      },
      "source": [
        "a=str(pars[1]).join(',')"
      ],
      "execution_count": null,
      "outputs": []
    },
    {
      "cell_type": "code",
      "metadata": {
        "colab": {
          "base_uri": "https://localhost:8080/"
        },
        "id": "oxw5jXhhqelq",
        "outputId": "dcbf9476-c87c-4fa9-d6ca-25d2b5f9d92d"
      },
      "source": [
        "pars[1]"
      ],
      "execution_count": null,
      "outputs": [
        {
          "output_type": "execute_result",
          "data": {
            "text/plain": [
              "('विकेंद्रीकरण', 'other')"
            ]
          },
          "metadata": {
            "tags": []
          },
          "execution_count": 105
        }
      ]
    },
    {
      "cell_type": "code",
      "metadata": {
        "id": "LEmLtirvtCXY"
      },
      "source": [
        "t=str(pars[1])"
      ],
      "execution_count": null,
      "outputs": []
    },
    {
      "cell_type": "code",
      "metadata": {
        "colab": {
          "base_uri": "https://localhost:8080/",
          "height": 35
        },
        "id": "NSlHsvFMtuuI",
        "outputId": "e20d0c3c-07dc-491f-ca08-726e211d35d5"
      },
      "source": [
        "t"
      ],
      "execution_count": null,
      "outputs": [
        {
          "output_type": "execute_result",
          "data": {
            "application/vnd.google.colaboratory.intrinsic+json": {
              "type": "string"
            },
            "text/plain": [
              "\"('विकेंद्रीकरण', 'other')\""
            ]
          },
          "metadata": {
            "tags": []
          },
          "execution_count": 127
        }
      ]
    },
    {
      "cell_type": "code",
      "metadata": {
        "colab": {
          "base_uri": "https://localhost:8080/",
          "height": 163
        },
        "id": "8F54UWmCuOP3",
        "outputId": "e504947b-9d88-40c3-837a-015f0c7b3ab4"
      },
      "source": [
        "t.maketrans()"
      ],
      "execution_count": null,
      "outputs": [
        {
          "output_type": "error",
          "ename": "TypeError",
          "evalue": "ignored",
          "traceback": [
            "\u001b[0;31m---------------------------------------------------------------------------\u001b[0m",
            "\u001b[0;31mTypeError\u001b[0m                                 Traceback (most recent call last)",
            "\u001b[0;32m<ipython-input-133-8d19bc7a84f5>\u001b[0m in \u001b[0;36m<module>\u001b[0;34m()\u001b[0m\n\u001b[0;32m----> 1\u001b[0;31m \u001b[0mt\u001b[0m\u001b[0;34m.\u001b[0m\u001b[0mmaketrans\u001b[0m\u001b[0;34m(\u001b[0m\u001b[0;34m)\u001b[0m\u001b[0;34m\u001b[0m\u001b[0;34m\u001b[0m\u001b[0m\n\u001b[0m",
            "\u001b[0;31mTypeError\u001b[0m: maketrans() takes at least 1 argument (0 given)"
          ]
        }
      ]
    },
    {
      "cell_type": "code",
      "metadata": {
        "id": "aXlibHXvtzxR"
      },
      "source": [
        "t_=zip(t)"
      ],
      "execution_count": null,
      "outputs": []
    },
    {
      "cell_type": "code",
      "metadata": {
        "colab": {
          "base_uri": "https://localhost:8080/"
        },
        "id": "adrXUwwRt2dV",
        "outputId": "239b681b-e56e-4a59-fabc-c399dbc03c47"
      },
      "source": [
        "t_"
      ],
      "execution_count": null,
      "outputs": [
        {
          "output_type": "execute_result",
          "data": {
            "text/plain": [
              "<zip at 0x7fae471fa388>"
            ]
          },
          "metadata": {
            "tags": []
          },
          "execution_count": 131
        }
      ]
    },
    {
      "cell_type": "code",
      "metadata": {
        "id": "xWFKBmbZqmL9"
      },
      "source": [
        "ds=pd.DataFrame(pars)"
      ],
      "execution_count": null,
      "outputs": []
    },
    {
      "cell_type": "code",
      "metadata": {
        "colab": {
          "base_uri": "https://localhost:8080/",
          "height": 204
        },
        "id": "22TgF9TZsDjw",
        "outputId": "e9588319-4f55-4e01-e9a8-621c8cf2dbba"
      },
      "source": [
        "ds.head()"
      ],
      "execution_count": null,
      "outputs": [
        {
          "output_type": "execute_result",
          "data": {
            "text/html": [
              "<div>\n",
              "<style scoped>\n",
              "    .dataframe tbody tr th:only-of-type {\n",
              "        vertical-align: middle;\n",
              "    }\n",
              "\n",
              "    .dataframe tbody tr th {\n",
              "        vertical-align: top;\n",
              "    }\n",
              "\n",
              "    .dataframe thead th {\n",
              "        text-align: right;\n",
              "    }\n",
              "</style>\n",
              "<table border=\"1\" class=\"dataframe\">\n",
              "  <thead>\n",
              "    <tr style=\"text-align: right;\">\n",
              "      <th></th>\n",
              "      <th>0</th>\n",
              "      <th>1</th>\n",
              "    </tr>\n",
              "  </thead>\n",
              "  <tbody>\n",
              "    <tr>\n",
              "      <th>0</th>\n",
              "      <td>लोकतांत्रिक</td>\n",
              "      <td>other</td>\n",
              "    </tr>\n",
              "    <tr>\n",
              "      <th>1</th>\n",
              "      <td>विकेंद्रीकरण</td>\n",
              "      <td>other</td>\n",
              "    </tr>\n",
              "    <tr>\n",
              "      <th>2</th>\n",
              "      <td>की</td>\n",
              "      <td>other</td>\n",
              "    </tr>\n",
              "    <tr>\n",
              "      <th>3</th>\n",
              "      <td>दिशा</td>\n",
              "      <td>other</td>\n",
              "    </tr>\n",
              "    <tr>\n",
              "      <th>4</th>\n",
              "      <td>में</td>\n",
              "      <td>other</td>\n",
              "    </tr>\n",
              "  </tbody>\n",
              "</table>\n",
              "</div>"
            ],
            "text/plain": [
              "              0      1\n",
              "0   लोकतांत्रिक  other\n",
              "1  विकेंद्रीकरण  other\n",
              "2            की  other\n",
              "3          दिशा  other\n",
              "4           में  other"
            ]
          },
          "metadata": {
            "tags": []
          },
          "execution_count": 107
        }
      ]
    },
    {
      "cell_type": "code",
      "metadata": {
        "id": "JW3iA3RNsEX9"
      },
      "source": [],
      "execution_count": null,
      "outputs": []
    }
  ]
}