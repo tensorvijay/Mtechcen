{
  "nbformat": 4,
  "nbformat_minor": 0,
  "metadata": {
    "colab": {
      "name": "PulsarAstronomy2.ipynb",
      "provenance": [],
      "mount_file_id": "1jy1viXCfzfsarNyvjBH0bM0p-HSWQxCR",
      "authorship_tag": "ABX9TyOIbqF4xHAXKU7FLdNhxVOf",
      "include_colab_link": true
    },
    "kernelspec": {
      "name": "python3",
      "display_name": "Python 3"
    }
  },
  "cells": [
    {
      "cell_type": "markdown",
      "metadata": {
        "id": "view-in-github",
        "colab_type": "text"
      },
      "source": [
        "<a href=\"https://colab.research.google.com/github/tensorvijay/Mtechcen/blob/master/PulsarAstronomy2.ipynb\" target=\"_parent\"><img src=\"https://colab.research.google.com/assets/colab-badge.svg\" alt=\"Open In Colab\"/></a>"
      ]
    },
    {
      "cell_type": "code",
      "metadata": {
        "colab": {
          "base_uri": "https://localhost:8080/"
        },
        "id": "uN52gIy7xzfn",
        "outputId": "d9ffad2d-f3fb-423d-cea6-e6e264aac224"
      },
      "source": [
        "!unzip '/content/drive/MyDrive/PULSAR/pulsarassign1.zip'"
      ],
      "execution_count": 4,
      "outputs": [
        {
          "output_type": "stream",
          "text": [
            "Archive:  /content/drive/MyDrive/PULSAR/pulsarassign1.zip\n",
            "   creating: fitsfiles/\n",
            "  inflating: fitsfiles/J0034-0721.1400MHz.psrfits  \n",
            "  inflating: fitsfiles/J0051+0423.1400MHz.psrfits  \n",
            "  inflating: fitsfiles/J0108-1431.1400MHz.psrfits  \n",
            "  inflating: fitsfiles/J0134-2937.1400MHz.psrfits  \n",
            "  inflating: fitsfiles/J0151-0635.1400MHz.psrfits  \n",
            "  inflating: fitsfiles/J0152-1637.1400MHz.psrfits  \n",
            "  inflating: fitsfiles/J0206-4028.1400MHz.psrfits  \n",
            "  inflating: fitsfiles/J0211-8159.1400MHz.psrfits  \n",
            "  inflating: fitsfiles/J0255-5304.1400MHz.psrfits  \n",
            "  inflating: fitsfiles/J0304+1932.1400MHz.psrfits  \n",
            "  inflating: fitsfiles/J0343-3000.1400MHz.psrfits  \n",
            "  inflating: fitsfiles/J0401-7608.1400MHz.psrfits  \n",
            "  inflating: fitsfiles/J0448-2749.1400MHz.psrfits  \n",
            "  inflating: fitsfiles/J0450-1248.1400MHz.psrfits  \n",
            "  inflating: fitsfiles/J0452-1759.1400MHz.psrfits  \n",
            "  inflating: fitsfiles/J0459-0210.1400MHz.psrfits  \n",
            "  inflating: fitsfiles/J0520-2553.1400MHz.psrfits  \n",
            "  inflating: fitsfiles/J0525+1115.1400MHz.psrfits  \n",
            "  inflating: fitsfiles/J0528+2200.1400MHz.psrfits  \n",
            "  inflating: fitsfiles/J0533+0402.1400MHz.psrfits  \n",
            "  inflating: fitsfiles/J0536-7543.1400MHz.psrfits  \n",
            "  inflating: fitsfiles/J0540-7125.1400MHz.psrfits  \n",
            "  inflating: fitsfiles/J0543+2329.1400MHz.psrfits  \n",
            "  inflating: fitsfiles/J0601-0527.1400MHz.psrfits  \n",
            "  inflating: fitsfiles/J0614+2229.1400MHz.psrfits  \n",
            "  inflating: fitsfiles/J0624-0424.1400MHz.psrfits  \n",
            "  inflating: fitsfiles/J0627+0706.1400MHz.psrfits  \n",
            "  inflating: fitsfiles/J0630-2834.1400MHz.psrfits  \n",
            "  inflating: fitsfiles/J0631+1036.1400MHz.psrfits  \n",
            "  inflating: fitsfiles/J0636-4549.1400MHz.psrfits  \n",
            "  inflating: fitsfiles/J0656-2228.1400MHz.psrfits  \n",
            "  inflating: fitsfiles/J0656-5449.1400MHz.psrfits  \n",
            "  inflating: fitsfiles/J0659+1414.1400MHz.psrfits  \n",
            "  inflating: fitsfiles/J0709-5923.1400MHz.psrfits  \n",
            "  inflating: fitsfiles/J0719-2545.1400MHz.psrfits  \n",
            "  inflating: fitsfiles/J0726-2612.1400MHz.psrfits  \n",
            "  inflating: fitsfiles/J0729-1448.1400MHz.psrfits  \n",
            "  inflating: fitsfiles/J0729-1836.1400MHz.psrfits  \n",
            "  inflating: fitsfiles/J0738-4042.1400MHz.psrfits  \n",
            "  inflating: fitsfiles/J0742-2822.1400MHz.psrfits  \n",
            "  inflating: fitsfiles/J0745-5353.1400MHz.psrfits  \n",
            "  inflating: fitsfiles/J0746-4529.1400MHz.psrfits  \n",
            "  inflating: fitsfiles/J0749-4247.1400MHz.psrfits  \n",
            "  inflating: fitsfiles/J0758-1528.1400MHz.psrfits  \n",
            "  inflating: fitsfiles/J0807-5421.1400MHz.psrfits  \n",
            "  inflating: fitsfiles/J0809-4753.1400MHz.psrfits  \n",
            "  inflating: fitsfiles/J0818-3232.1400MHz.psrfits  \n",
            "  inflating: fitsfiles/J0820-1350.1400MHz.psrfits  \n",
            "  inflating: fitsfiles/J0820-3826.1400MHz.psrfits  \n",
            "  inflating: fitsfiles/J0820-3921.1400MHz.psrfits  \n",
            "  inflating: fitsfiles/J0820-4114.1400MHz.psrfits  \n",
            "  inflating: fitsfiles/J0821-4221.1400MHz.psrfits  \n",
            "  inflating: fitsfiles/J0823+0159.1400MHz.psrfits  \n",
            "  inflating: fitsfiles/J0834-4159.1400MHz.psrfits  \n",
            "  inflating: fitsfiles/J0835-4510.1400MHz.psrfits  \n",
            "  inflating: fitsfiles/J0837+0610.1400MHz.psrfits  \n",
            "  inflating: fitsfiles/J0837-4135.1400MHz.psrfits  \n",
            "  inflating: fitsfiles/J0838-2621.1400MHz.psrfits  \n",
            "  inflating: fitsfiles/J0840-5332.1400MHz.psrfits  \n",
            "  inflating: fitsfiles/J0842-4851.1400MHz.psrfits  \n",
            "  inflating: fitsfiles/J0843-5022.1400MHz.psrfits  \n",
            "  inflating: fitsfiles/J0846-3533.1400MHz.psrfits  \n",
            "  inflating: fitsfiles/J0849-6322.1400MHz.psrfits  \n",
            "  inflating: fitsfiles/J0855-4644.1400MHz.psrfits  \n",
            "  inflating: fitsfiles/J0856-6137.1400MHz.psrfits  \n",
            "  inflating: fitsfiles/J0857-4424.1400MHz.psrfits  \n",
            "  inflating: fitsfiles/J0901-4624.1400MHz.psrfits  \n",
            "  inflating: fitsfiles/J0902-6325.1400MHz.psrfits  \n",
            "  inflating: fitsfiles/J0904-7459.1400MHz.psrfits  \n",
            "  inflating: fitsfiles/J0905-4536.1400MHz.psrfits  \n",
            "  inflating: fitsfiles/J0905-5127.1400MHz.psrfits  \n",
            "  inflating: fitsfiles/J0905-6019.1400MHz.psrfits  \n",
            "  inflating: fitsfiles/J0907-5157.1400MHz.psrfits  \n",
            "  inflating: fitsfiles/J0908-1739.1400MHz.psrfits  \n",
            "  inflating: fitsfiles/J0908-4913.1400MHz.psrfits  \n",
            "  inflating: fitsfiles/J0909-7212.1400MHz.psrfits  \n",
            "  inflating: fitsfiles/J0912-3851.1400MHz.psrfits  \n",
            "  inflating: fitsfiles/J0919-6040.1400MHz.psrfits  \n",
            "  inflating: fitsfiles/J0922+0638.1400MHz.psrfits  \n",
            "  inflating: fitsfiles/J0924-5302.1400MHz.psrfits  \n",
            "  inflating: fitsfiles/J0924-5814.1400MHz.psrfits  \n",
            "  inflating: fitsfiles/J0932-3217.1400MHz.psrfits  \n",
            "  inflating: fitsfiles/J0934-4154.1400MHz.psrfits  \n",
            "  inflating: fitsfiles/J0934-5249.1400MHz.psrfits  \n",
            "  inflating: fitsfiles/J0940-5428.1400MHz.psrfits  \n",
            "  inflating: fitsfiles/J0941-5244.1400MHz.psrfits  \n",
            "  inflating: fitsfiles/J0942-5552.1400MHz.psrfits  \n",
            "  inflating: fitsfiles/J0942-5657.1400MHz.psrfits  \n",
            "  inflating: fitsfiles/J0943+1631.1400MHz.psrfits  \n",
            "  inflating: fitsfiles/J0949-6902.1400MHz.psrfits  \n",
            "  inflating: fitsfiles/J0952-3839.1400MHz.psrfits  \n",
            "  inflating: fitsfiles/J0953+0755.1400MHz.psrfits  \n",
            "  inflating: fitsfiles/J0954-5430.1400MHz.psrfits  \n",
            "  inflating: fitsfiles/J0959-4809.1400MHz.psrfits  \n",
            "  inflating: fitsfiles/J1001-5507.1400MHz.psrfits  \n",
            "  inflating: fitsfiles/J1001-5559.1400MHz.psrfits  \n",
            "  inflating: fitsfiles/J1001-5939.1400MHz.psrfits  \n",
            "  inflating: fitsfiles/J1003-4747.1400MHz.psrfits  \n",
            "  inflating: fitsfiles/J1012-5857.1400MHz.psrfits  \n",
            "  inflating: fitsfiles/J1013-5934.1400MHz.psrfits  \n",
            "  inflating: fitsfiles/J1015-5719.1400MHz.psrfits  \n",
            "  inflating: fitsfiles/J1016-5345.1400MHz.psrfits  \n",
            "  inflating: fitsfiles/J1016-5819.1400MHz.psrfits  \n",
            "  inflating: fitsfiles/J1016-5857.1400MHz.psrfits  \n",
            "  inflating: fitsfiles/J1017-5621.1400MHz.psrfits  \n",
            "  inflating: fitsfiles/J1018-1642.1400MHz.psrfits  \n",
            "  inflating: fitsfiles/J1019-5749.1400MHz.psrfits  \n",
            "  inflating: fitsfiles/J1020-5921.1400MHz.psrfits  \n",
            "  inflating: fitsfiles/J1028-5819.1400MHz.psrfits  \n",
            "  inflating: fitsfiles/J1032-5911.1400MHz.psrfits  \n",
            "  inflating: fitsfiles/J1034-3224.1400MHz.psrfits  \n",
            "  inflating: fitsfiles/J1036-4926.1400MHz.psrfits  \n",
            "  inflating: fitsfiles/J1036-6559.1400MHz.psrfits  \n",
            "  inflating: fitsfiles/J1038-5831.1400MHz.psrfits  \n",
            "  inflating: fitsfiles/J1041-1942.1400MHz.psrfits  \n",
            "  inflating: fitsfiles/J1043-6116.1400MHz.psrfits  \n",
            "  inflating: fitsfiles/J1046-5813.1400MHz.psrfits  \n",
            "  inflating: fitsfiles/J1047-3032.1400MHz.psrfits  \n",
            "  inflating: fitsfiles/J1047-6709.1400MHz.psrfits  \n",
            "  inflating: fitsfiles/J1048-5832.1400MHz.psrfits  \n",
            "  inflating: fitsfiles/J1049-5833.1400MHz.psrfits  \n",
            "  inflating: fitsfiles/J1052-5954.1400MHz.psrfits  \n",
            "  inflating: fitsfiles/J1054-5946.1400MHz.psrfits  \n",
            "  inflating: fitsfiles/J1055-6022.1400MHz.psrfits  \n",
            "  inflating: fitsfiles/J1055-6028.1400MHz.psrfits  \n",
            "  inflating: fitsfiles/J1055-6905.1400MHz.psrfits  \n",
            "  inflating: fitsfiles/J1056-6258.1400MHz.psrfits  \n",
            "  inflating: fitsfiles/J1057-5226.1400MHz.psrfits  \n",
            "  inflating: fitsfiles/J1057-7914.1400MHz.psrfits  \n",
            "  inflating: fitsfiles/J1058-5957.1400MHz.psrfits  \n",
            "  inflating: fitsfiles/J1059-5742.1400MHz.psrfits  \n",
            "  inflating: fitsfiles/J1105-43.1400MHz.psrfits  \n",
            "  inflating: fitsfiles/J1105-6107.1400MHz.psrfits  \n",
            "  inflating: fitsfiles/J1107-5947.1400MHz.psrfits  \n",
            "  inflating: fitsfiles/J1110-5637.1400MHz.psrfits  \n",
            "  inflating: fitsfiles/J1112-6103.1400MHz.psrfits  \n",
            "  inflating: fitsfiles/J1112-6613.1400MHz.psrfits  \n",
            "  inflating: fitsfiles/J1112-6926.1400MHz.psrfits  \n",
            "  inflating: fitsfiles/J1114-6100.1400MHz.psrfits  \n",
            "  inflating: fitsfiles/J1115-6052.1400MHz.psrfits  \n",
            "  inflating: fitsfiles/J1116-4122.1400MHz.psrfits  \n",
            "  inflating: fitsfiles/J1117-6154.1400MHz.psrfits  \n",
            "  inflating: fitsfiles/J1119-6127.1400MHz.psrfits  \n",
            "  inflating: fitsfiles/J1119-7936.1400MHz.psrfits  \n",
            "  inflating: fitsfiles/J1121-5444.1400MHz.psrfits  \n",
            "  inflating: fitsfiles/J1123-4844.1400MHz.psrfits  \n",
            "  inflating: fitsfiles/J1123-6102.1400MHz.psrfits  \n",
            "  inflating: fitsfiles/J1123-6259.1400MHz.psrfits  \n",
            "  inflating: fitsfiles/J1123-6651.1400MHz.psrfits  \n",
            "  inflating: fitsfiles/J1126-6054.1400MHz.psrfits  \n",
            "  inflating: fitsfiles/J1126-6942.1400MHz.psrfits  \n",
            "  inflating: fitsfiles/J1130-6807.1400MHz.psrfits  \n",
            "  inflating: fitsfiles/J1133-6250.1400MHz.psrfits  \n",
            "  inflating: fitsfiles/J1136+1551.1400MHz.psrfits  \n",
            "  inflating: fitsfiles/J1136-5525.1400MHz.psrfits  \n",
            "  inflating: fitsfiles/J1137-6700.1400MHz.psrfits  \n",
            "  inflating: fitsfiles/J1138-6207.1400MHz.psrfits  \n",
            "  inflating: fitsfiles/J1141-3107.1400MHz.psrfits  \n",
            "  inflating: fitsfiles/J1141-3322.1400MHz.psrfits  \n",
            "  inflating: fitsfiles/J1143-5158.1400MHz.psrfits  \n",
            "  inflating: fitsfiles/J1143-5536.1400MHz.psrfits  \n",
            "  inflating: fitsfiles/J1146-6030.1400MHz.psrfits  \n",
            "  inflating: fitsfiles/J1156-5707.1400MHz.psrfits  \n",
            "  inflating: fitsfiles/J1157-6224.1400MHz.psrfits  \n",
            "  inflating: fitsfiles/J1159-7910.1400MHz.psrfits  \n",
            "  inflating: fitsfiles/J1202-5820.1400MHz.psrfits  \n",
            "  inflating: fitsfiles/J1204-6843.1400MHz.psrfits  \n",
            "  inflating: fitsfiles/J1210-5559.1400MHz.psrfits  \n",
            "  inflating: fitsfiles/J1215-5328.1400MHz.psrfits  \n",
            "  inflating: fitsfiles/J1216-6223.1400MHz.psrfits  \n",
            "  inflating: fitsfiles/J1224-6407.1400MHz.psrfits  \n",
            "  inflating: fitsfiles/J1225-5556.1400MHz.psrfits  \n",
            "  inflating: fitsfiles/J1225-6408.1400MHz.psrfits  \n",
            "  inflating: fitsfiles/J1231-4609.1400MHz.psrfits  \n",
            "  inflating: fitsfiles/J1231-6303.1400MHz.psrfits  \n",
            "  inflating: fitsfiles/J1236-5033.1400MHz.psrfits  \n",
            "  inflating: fitsfiles/J1237-6725.1400MHz.psrfits  \n",
            "  inflating: fitsfiles/J1239+2453.1400MHz.psrfits  \n",
            "  inflating: fitsfiles/J1239-6832.1400MHz.psrfits  \n",
            "  inflating: fitsfiles/J1240-4124.1400MHz.psrfits  \n",
            "  inflating: fitsfiles/J1243-6423.1400MHz.psrfits  \n",
            "  inflating: fitsfiles/J1244-5053.1400MHz.psrfits  \n",
            "  inflating: fitsfiles/J1251-7407.1400MHz.psrfits  \n",
            "  inflating: fitsfiles/J1253-5820.1400MHz.psrfits  \n",
            "  inflating: fitsfiles/J1259-6741.1400MHz.psrfits  \n",
            "  inflating: fitsfiles/J1301-6305.1400MHz.psrfits  \n",
            "  inflating: fitsfiles/J1302-6350.1400MHz.psrfits  \n",
            "  inflating: fitsfiles/J1305-6203.1400MHz.psrfits  \n",
            "  inflating: fitsfiles/J1305-6455.1400MHz.psrfits  \n",
            "  inflating: fitsfiles/J1306-6617.1400MHz.psrfits  \n",
            "  inflating: fitsfiles/J1317-6302.1400MHz.psrfits  \n",
            "  inflating: fitsfiles/J1319-6056.1400MHz.psrfits  \n",
            "  inflating: fitsfiles/J1320-3512.1400MHz.psrfits  \n",
            "  inflating: fitsfiles/J1320-5359.1400MHz.psrfits  \n",
            "  inflating: fitsfiles/J1326-5859.1400MHz.psrfits  \n",
            "  inflating: fitsfiles/J1326-6408.1400MHz.psrfits  \n",
            "  inflating: fitsfiles/J1326-6700.1400MHz.psrfits  \n",
            "  inflating: fitsfiles/J1327-6222.1400MHz.psrfits  \n",
            "  inflating: fitsfiles/J1327-6301.1400MHz.psrfits  \n",
            "  inflating: fitsfiles/J1327-6400.1400MHz.psrfits  \n",
            "  inflating: fitsfiles/J1328-4357.1400MHz.psrfits  \n",
            "  inflating: fitsfiles/J1331-5245.1400MHz.psrfits  \n",
            "  inflating: fitsfiles/J1333-4449.1400MHz.psrfits  \n",
            "  inflating: fitsfiles/J1338-6204.1400MHz.psrfits  \n",
            "  inflating: fitsfiles/J1339-4712.1400MHz.psrfits  \n",
            "  inflating: fitsfiles/J1340-6456.1400MHz.psrfits  \n",
            "  inflating: fitsfiles/J1341-6220.1400MHz.psrfits  \n",
            "  inflating: fitsfiles/J1346-4918.1400MHz.psrfits  \n",
            "  inflating: fitsfiles/J1349-6130.1400MHz.psrfits  \n",
            "  inflating: fitsfiles/J1352-6803.1400MHz.psrfits  \n",
            "  inflating: fitsfiles/J1356-5521.1400MHz.psrfits  \n",
            "  inflating: fitsfiles/J1357-62.1400MHz.psrfits  \n",
            "  inflating: fitsfiles/J1357-6429.1400MHz.psrfits  \n",
            "  inflating: fitsfiles/J1359-6038.1400MHz.psrfits  \n",
            "  inflating: fitsfiles/J1401-6357.1400MHz.psrfits  \n",
            "  inflating: fitsfiles/J1403-7646.1400MHz.psrfits  \n",
            "  inflating: fitsfiles/J1406-6121.1400MHz.psrfits  \n",
            "  inflating: fitsfiles/J1409-6953.1400MHz.psrfits  \n",
            "  inflating: fitsfiles/J1410-6132.1400MHz.psrfits  \n",
            "  inflating: fitsfiles/J1410-7404.1400MHz.psrfits  \n",
            "  inflating: fitsfiles/J1412-6145.1400MHz.psrfits  \n",
            "  inflating: fitsfiles/J1413-6141.1400MHz.psrfits  \n",
            "  inflating: fitsfiles/J1413-6307.1400MHz.psrfits  \n",
            "  inflating: fitsfiles/J1415-6621.1400MHz.psrfits  \n",
            "  inflating: fitsfiles/J1416-5033.1400MHz.psrfits  \n",
            "  inflating: fitsfiles/J1418-3921.1400MHz.psrfits  \n",
            "  inflating: fitsfiles/J1420-6048.1400MHz.psrfits  \n",
            "  inflating: fitsfiles/J1424-5822.1400MHz.psrfits  \n",
            "  inflating: fitsfiles/J1427-4158.1400MHz.psrfits  \n",
            "  inflating: fitsfiles/J1428-5530.1400MHz.psrfits  \n",
            "  inflating: fitsfiles/J1430-6623.1400MHz.psrfits  \n",
            "  inflating: fitsfiles/J1432-5032.1400MHz.psrfits  \n",
            "  inflating: fitsfiles/J1435-5954.1400MHz.psrfits  \n",
            "  inflating: fitsfiles/J1443-5122.1400MHz.psrfits  \n",
            "  inflating: fitsfiles/J1452-5851.1400MHz.psrfits  \n",
            "  inflating: fitsfiles/J1452-6036.1400MHz.psrfits  \n",
            "  inflating: fitsfiles/J1453-6413.1400MHz.psrfits  \n",
            "  inflating: fitsfiles/J1456-6843.1400MHz.psrfits  \n",
            "  inflating: fitsfiles/J1507-4352.1400MHz.psrfits  \n",
            "  inflating: fitsfiles/J1507-6640.1400MHz.psrfits  \n",
            "  inflating: fitsfiles/J1509-5850.1400MHz.psrfits  \n",
            "  inflating: fitsfiles/J1512-5759.1400MHz.psrfits  \n",
            "  inflating: fitsfiles/J1513-5908.1400MHz.psrfits  \n",
            "  inflating: fitsfiles/J1514-4834.1400MHz.psrfits  \n",
            "  inflating: fitsfiles/J1514-5925.1400MHz.psrfits  \n",
            "  inflating: fitsfiles/J1515-5720.1400MHz.psrfits  \n",
            "  inflating: fitsfiles/J1517-4356.1400MHz.psrfits  \n",
            "  inflating: fitsfiles/J1517-4636.1400MHz.psrfits  \n",
            "  inflating: fitsfiles/J1522-5829.1400MHz.psrfits  \n",
            "  inflating: fitsfiles/J1524-5625.1400MHz.psrfits  \n",
            "  inflating: fitsfiles/J1524-5706.1400MHz.psrfits  \n",
            "  inflating: fitsfiles/J1528-3146.1400MHz.psrfits  \n",
            "  inflating: fitsfiles/J1528-4109.1400MHz.psrfits  \n",
            "  inflating: fitsfiles/J1530-5327.1400MHz.psrfits  \n",
            "  inflating: fitsfiles/J1530-63.1400MHz.psrfits  \n",
            "  inflating: fitsfiles/J1531-4012.1400MHz.psrfits  \n",
            "  inflating: fitsfiles/J1531-5610.1400MHz.psrfits  \n",
            "  inflating: fitsfiles/J1534-4428.1400MHz.psrfits  \n",
            "  inflating: fitsfiles/J1534-5334.1400MHz.psrfits  \n",
            "  inflating: fitsfiles/J1534-5405.1400MHz.psrfits  \n",
            "  inflating: fitsfiles/J1535-4114.1400MHz.psrfits  \n",
            "  inflating: fitsfiles/J1536-3602.1400MHz.psrfits  \n",
            "  inflating: fitsfiles/J1536-5433.1400MHz.psrfits  \n",
            "  inflating: fitsfiles/J1538-5551.1400MHz.psrfits  \n",
            "  inflating: fitsfiles/J1539-4828.1400MHz.psrfits  \n",
            "  inflating: fitsfiles/J1539-5626.1400MHz.psrfits  \n",
            "  inflating: fitsfiles/J1541-5535.1400MHz.psrfits  \n",
            "  inflating: fitsfiles/J1542-5034.1400MHz.psrfits  \n",
            "  inflating: fitsfiles/J1543-0620.1400MHz.psrfits  \n",
            "  inflating: fitsfiles/J1543-5459.1400MHz.psrfits  \n",
            "  inflating: fitsfiles/J1544-5308.1400MHz.psrfits  \n",
            "  inflating: fitsfiles/J1548-5607.1400MHz.psrfits  \n",
            "  inflating: fitsfiles/J1549-4848.1400MHz.psrfits  \n",
            "  inflating: fitsfiles/J1551-4424.1400MHz.psrfits  \n",
            "  inflating: fitsfiles/J1551-5310.1400MHz.psrfits  \n",
            "  inflating: fitsfiles/J1552-62.1400MHz.psrfits  \n",
            "  inflating: fitsfiles/J1553-5456.1400MHz.psrfits  \n",
            "  inflating: fitsfiles/J1555-3134.1400MHz.psrfits  \n",
            "  inflating: fitsfiles/J1557-4258.1400MHz.psrfits  \n",
            "  inflating: fitsfiles/J1559-4438.1400MHz.psrfits  \n",
            "  inflating: fitsfiles/J1600-5044.1400MHz.psrfits  \n",
            "  inflating: fitsfiles/J1600-5751.1400MHz.psrfits  \n",
            "  inflating: fitsfiles/J1601-5335.1400MHz.psrfits  \n",
            "  inflating: fitsfiles/J1602-5100.1400MHz.psrfits  \n",
            "  inflating: fitsfiles/J1603-2712.1400MHz.psrfits  \n",
            "  inflating: fitsfiles/J1603-3539.1400MHz.psrfits  \n",
            "  inflating: fitsfiles/J1603-5657.1400MHz.psrfits  \n",
            "  inflating: fitsfiles/J1604-4909.1400MHz.psrfits  \n",
            "  inflating: fitsfiles/J1605-5257.1400MHz.psrfits  \n",
            "  inflating: fitsfiles/J1607-0032.1400MHz.psrfits  \n",
            "  inflating: fitsfiles/J1609-1930.1400MHz.psrfits  \n",
            "  inflating: fitsfiles/J1611-5209.1400MHz.psrfits  \n",
            "  inflating: fitsfiles/J1612-2408.1400MHz.psrfits  \n",
            "  inflating: fitsfiles/J1612-5805.1400MHz.psrfits  \n",
            "  inflating: fitsfiles/J1613-4714.1400MHz.psrfits  \n",
            "  inflating: fitsfiles/J1614-38.1400MHz.psrfits  \n",
            "  inflating: fitsfiles/J1614-3937.1400MHz.psrfits  \n",
            "  inflating: fitsfiles/J1614-5048.1400MHz.psrfits  \n",
            "  inflating: fitsfiles/J1615-5537.1400MHz.psrfits  \n",
            "  inflating: fitsfiles/J1617-5055.1400MHz.psrfits  \n",
            "  inflating: fitsfiles/J1618-4723.1400MHz.psrfits  \n",
            "  inflating: fitsfiles/J1622-3751.1400MHz.psrfits  \n",
            "  inflating: fitsfiles/J1623-4256.1400MHz.psrfits  \n",
            "  inflating: fitsfiles/J1625-4913.1400MHz.psrfits  \n",
            "  inflating: fitsfiles/J1626-4537.1400MHz.psrfits  \n",
            "  inflating: fitsfiles/J1626-4807.1400MHz.psrfits  \n",
            "  inflating: fitsfiles/J1626-6621.1400MHz.psrfits  \n",
            "  inflating: fitsfiles/J1627-4706.1400MHz.psrfits  \n",
            "  inflating: fitsfiles/J1627-5936.1400MHz.psrfits  \n",
            "  inflating: fitsfiles/J1628-4804.1400MHz.psrfits  \n",
            "  inflating: fitsfiles/J1629-3636.1400MHz.psrfits  \n",
            "  inflating: fitsfiles/J1630-4733.1400MHz.psrfits  \n",
            "  inflating: fitsfiles/J1632-4621.1400MHz.psrfits  \n",
            "  inflating: fitsfiles/J1632-4757.1400MHz.psrfits  \n",
            "  inflating: fitsfiles/J1632-4818.1400MHz.psrfits  \n",
            "  inflating: fitsfiles/J1633-4453.1400MHz.psrfits  \n",
            "  inflating: fitsfiles/J1633-5015.1400MHz.psrfits  \n",
            "  inflating: fitsfiles/J1634-5640.1400MHz.psrfits  \n",
            "  inflating: fitsfiles/J1635-1511.1400MHz.psrfits  \n",
            "  inflating: fitsfiles/J1635-5954.1400MHz.psrfits  \n",
            "  inflating: fitsfiles/J1636-4440.1400MHz.psrfits  \n",
            "  inflating: fitsfiles/J1637-4553.1400MHz.psrfits  \n",
            "  inflating: fitsfiles/J1637-4642.1400MHz.psrfits  \n",
            "  inflating: fitsfiles/J1638-4417.1400MHz.psrfits  \n",
            "  inflating: fitsfiles/J1638-4608.1400MHz.psrfits  \n",
            "  inflating: fitsfiles/J1639-4604.1400MHz.psrfits  \n",
            "  inflating: fitsfiles/J1640-4715.1400MHz.psrfits  \n",
            "  inflating: fitsfiles/J1641-2347.1400MHz.psrfits  \n",
            "  inflating: fitsfiles/J1643-4505.1400MHz.psrfits  \n",
            "  inflating: fitsfiles/J1644-4559.1400MHz.psrfits  \n",
            "  inflating: fitsfiles/J1645-0317.1400MHz.psrfits  \n",
            "  inflating: fitsfiles/J1646-4346.1400MHz.psrfits  \n",
            "  inflating: fitsfiles/J1646-6831.1400MHz.psrfits  \n",
            "  inflating: fitsfiles/J1647-3607.1400MHz.psrfits  \n",
            "  inflating: fitsfiles/J1648-3256.1400MHz.psrfits  \n",
            "  inflating: fitsfiles/J1648-4611.1400MHz.psrfits  \n",
            "  inflating: fitsfiles/J1648-6044.1400MHz.psrfits  \n",
            "  inflating: fitsfiles/J1649-3805.1400MHz.psrfits  \n",
            "  inflating: fitsfiles/J1649-4653.1400MHz.psrfits  \n",
            "  inflating: fitsfiles/J1649-5553.1400MHz.psrfits  \n",
            "  inflating: fitsfiles/J1650-1654.1400MHz.psrfits  \n",
            "  inflating: fitsfiles/J1650-4502.1400MHz.psrfits  \n",
            "  inflating: fitsfiles/J1650-4921.1400MHz.psrfits  \n",
            "  inflating: fitsfiles/J1651-4246.1400MHz.psrfits  \n",
            "  inflating: fitsfiles/J1651-5222.1400MHz.psrfits  \n",
            "  inflating: fitsfiles/J1651-5255.1400MHz.psrfits  \n",
            "  inflating: fitsfiles/J1651-7642.1400MHz.psrfits  \n",
            "  inflating: fitsfiles/J1652-1400.1400MHz.psrfits  \n",
            "  inflating: fitsfiles/J1652-2404.1400MHz.psrfits  \n",
            "  inflating: fitsfiles/J1653-3838.1400MHz.psrfits  \n",
            "  inflating: fitsfiles/J1653-4249.1400MHz.psrfits  \n",
            "  inflating: fitsfiles/J1654-2713.1400MHz.psrfits  \n",
            "  inflating: fitsfiles/J1655-3048.1400MHz.psrfits  \n",
            "  inflating: fitsfiles/J1658-4958.1400MHz.psrfits  \n",
            "  inflating: fitsfiles/J1700-3312.1400MHz.psrfits  \n",
            "  inflating: fitsfiles/J1700-3611.1400MHz.psrfits  \n",
            "  inflating: fitsfiles/J1700-4422.1400MHz.psrfits  \n",
            "  inflating: fitsfiles/J1701-3726.1400MHz.psrfits  \n",
            "  inflating: fitsfiles/J1701-4533.1400MHz.psrfits  \n",
            "  inflating: fitsfiles/J1702-4128.1400MHz.psrfits  \n",
            "  inflating: fitsfiles/J1702-4306.1400MHz.psrfits  \n",
            "  inflating: fitsfiles/J1702-4310.1400MHz.psrfits  \n",
            "  inflating: fitsfiles/J1703-3241.1400MHz.psrfits  \n",
            "  inflating: fitsfiles/J1703-4851.1400MHz.psrfits  \n",
            "  inflating: fitsfiles/J1705-1906.1400MHz.psrfits  \n",
            "  inflating: fitsfiles/J1705-3423.1400MHz.psrfits  \n",
            "  inflating: fitsfiles/J1705-3950.1400MHz.psrfits  \n",
            "  inflating: fitsfiles/J1705-4108.1400MHz.psrfits  \n",
            "  inflating: fitsfiles/J1705-4331.1400MHz.psrfits  \n",
            "  inflating: fitsfiles/J1705-52.1400MHz.psrfits  \n",
            "  inflating: fitsfiles/J1705-6135.1400MHz.psrfits  \n",
            "  inflating: fitsfiles/J1707-4053.1400MHz.psrfits  \n",
            "  inflating: fitsfiles/J1707-4729.1400MHz.psrfits  \n",
            "  inflating: fitsfiles/J1708-3426.1400MHz.psrfits  \n",
            "  inflating: fitsfiles/J1709-1640.1400MHz.psrfits  \n",
            "  inflating: fitsfiles/J1709-4401.1400MHz.psrfits  \n",
            "  inflating: fitsfiles/J1709-4429.1400MHz.psrfits  \n",
            "  inflating: fitsfiles/J1710-2616.1400MHz.psrfits  \n",
            "  inflating: fitsfiles/J1714-1054.1400MHz.psrfits  \n",
            "  inflating: fitsfiles/J1715-3903.1400MHz.psrfits  \n",
            "  inflating: fitsfiles/J1715-4034.1400MHz.psrfits  \n",
            "  inflating: fitsfiles/J1716-4005.1400MHz.psrfits  \n",
            "  inflating: fitsfiles/J1716-4711.1400MHz.psrfits  \n",
            "  inflating: fitsfiles/J1717-3425.1400MHz.psrfits  \n",
            "  inflating: fitsfiles/J1717-3953.1400MHz.psrfits  \n",
            "  inflating: fitsfiles/J1717-4054.1400MHz.psrfits  \n",
            "  inflating: fitsfiles/J1717-5800.1400MHz.psrfits  \n",
            "  inflating: fitsfiles/J1718-3718.1400MHz.psrfits  \n",
            "  inflating: fitsfiles/J1718-3825.1400MHz.psrfits  \n",
            "  inflating: fitsfiles/J1719-4006.1400MHz.psrfits  \n",
            "  inflating: fitsfiles/J1720-2933.1400MHz.psrfits  \n",
            "  inflating: fitsfiles/J1721-3532.1400MHz.psrfits  \n",
            "  inflating: fitsfiles/J1722-3207.1400MHz.psrfits  \n",
            "  inflating: fitsfiles/J1722-3632.1400MHz.psrfits  \n",
            "  inflating: fitsfiles/J1722-3712.1400MHz.psrfits  \n",
            "  inflating: fitsfiles/J1723-3659.1400MHz.psrfits  \n",
            "  inflating: fitsfiles/J1726-3530.1400MHz.psrfits  \n",
            "  inflating: fitsfiles/J1727-2739.1400MHz.psrfits  \n",
            "  inflating: fitsfiles/J1728-4028.1400MHz.psrfits  \n",
            "  inflating: fitsfiles/J1730-3350.1400MHz.psrfits  \n",
            "  inflating: fitsfiles/J1731-4744.1400MHz.psrfits  \n",
            "  inflating: fitsfiles/J1732-4128.1400MHz.psrfits  \n",
            "  inflating: fitsfiles/J1733-2228.1400MHz.psrfits  \n",
            "  inflating: fitsfiles/J1733-3716.1400MHz.psrfits  \n",
            "  inflating: fitsfiles/J1733-5515.1400MHz.psrfits  \n",
            "  inflating: fitsfiles/J1734-3333.1400MHz.psrfits  \n",
            "  inflating: fitsfiles/J1735-0724.1400MHz.psrfits  \n",
            "  inflating: fitsfiles/J1735-3258.1400MHz.psrfits  \n",
            "  inflating: fitsfiles/J1737-3137.1400MHz.psrfits  \n",
            "  inflating: fitsfiles/J1737-3555.1400MHz.psrfits  \n",
            "  inflating: fitsfiles/J1738-2955.1400MHz.psrfits  \n",
            "  inflating: fitsfiles/J1738-3211.1400MHz.psrfits  \n",
            "  inflating: fitsfiles/J1739+0612.1400MHz.psrfits  \n",
            "  inflating: fitsfiles/J1739-1313.1400MHz.psrfits  \n",
            "  inflating: fitsfiles/J1739-2903.1400MHz.psrfits  \n",
            "  inflating: fitsfiles/J1739-3023.1400MHz.psrfits  \n",
            "  inflating: fitsfiles/J1739-3131.1400MHz.psrfits  \n",
            "  inflating: fitsfiles/J1739-3159.1400MHz.psrfits  \n",
            "  inflating: fitsfiles/J1740+1000.1400MHz.psrfits  \n",
            "  inflating: fitsfiles/J1740+1311.1400MHz.psrfits  \n",
            "  inflating: fitsfiles/J1740-3015.1400MHz.psrfits  \n",
            "  inflating: fitsfiles/J1741-0840.1400MHz.psrfits  \n",
            "  inflating: fitsfiles/J1741-2733.1400MHz.psrfits  \n",
            "  inflating: fitsfiles/J1741-3016.1400MHz.psrfits  \n",
            "  inflating: fitsfiles/J1741-3927.1400MHz.psrfits  \n",
            "  inflating: fitsfiles/J1742-4616.1400MHz.psrfits  \n",
            "  inflating: fitsfiles/J1743-3150.1400MHz.psrfits  \n",
            "  inflating: fitsfiles/J1743-3153.1400MHz.psrfits  \n",
            "  inflating: fitsfiles/J1743-4212.1400MHz.psrfits  \n",
            "  inflating: fitsfiles/J1744-5337.1400MHz.psrfits  \n",
            "  inflating: fitsfiles/J1745-3040.1400MHz.psrfits  \n",
            "  inflating: fitsfiles/J1745-3812.1400MHz.psrfits  \n",
            "  inflating: fitsfiles/J1749-3002.1400MHz.psrfits  \n",
            "  inflating: fitsfiles/J1749-4931.1400MHz.psrfits  \n",
            "  inflating: fitsfiles/J1750-3157.1400MHz.psrfits  \n",
            "  inflating: fitsfiles/J1751-3323.1400MHz.psrfits  \n",
            "  inflating: fitsfiles/J1751-4657.1400MHz.psrfits  \n",
            "  inflating: fitsfiles/J1752-2806.1400MHz.psrfits  \n",
            "  inflating: fitsfiles/J1757-2223.1400MHz.psrfits  \n",
            "  inflating: fitsfiles/J1757-2421.1400MHz.psrfits  \n",
            "  inflating: fitsfiles/J1759-1940.1400MHz.psrfits  \n",
            "  inflating: fitsfiles/J1759-2302.1400MHz.psrfits  \n",
            "  inflating: fitsfiles/J1801-2154.1400MHz.psrfits  \n",
            "  inflating: fitsfiles/J1801-2304.1400MHz.psrfits  \n",
            "  inflating: fitsfiles/J1801-2451.1400MHz.psrfits  \n",
            "  inflating: fitsfiles/J1801-2920.1400MHz.psrfits  \n",
            "  inflating: fitsfiles/J1802-3346.1400MHz.psrfits  \n",
            "  inflating: fitsfiles/J1803-2137.1400MHz.psrfits  \n",
            "  inflating: fitsfiles/J1803-2712.1400MHz.psrfits  \n",
            "  inflating: fitsfiles/J1805-0619.1400MHz.psrfits  \n",
            "  inflating: fitsfiles/J1805-1504.1400MHz.psrfits  \n",
            "  inflating: fitsfiles/J1805-2948.1400MHz.psrfits  \n",
            "  inflating: fitsfiles/J1806-1154.1400MHz.psrfits  \n",
            "  inflating: fitsfiles/J1806-1920.1400MHz.psrfits  \n",
            "  inflating: fitsfiles/J1806-2125.1400MHz.psrfits  \n",
            "  inflating: fitsfiles/J1807-0847.1400MHz.psrfits  \n",
            "  inflating: fitsfiles/J1807-2715.1400MHz.psrfits  \n",
            "  inflating: fitsfiles/J1808-0813.1400MHz.psrfits  \n",
            "  inflating: fitsfiles/J1808-3249.1400MHz.psrfits  \n",
            "  inflating: fitsfiles/J1809-0743.1400MHz.psrfits  \n",
            "  inflating: fitsfiles/J1809-1917.1400MHz.psrfits  \n",
            "  inflating: fitsfiles/J1811-0154.1400MHz.psrfits  \n",
            "  inflating: fitsfiles/J1811-4930.1400MHz.psrfits  \n",
            "  inflating: fitsfiles/J1812-1718.1400MHz.psrfits  \n",
            "  inflating: fitsfiles/J1812-1733.1400MHz.psrfits  \n",
            "  inflating: fitsfiles/J1812-2102.1400MHz.psrfits  \n",
            "  inflating: fitsfiles/J1814-1649.1400MHz.psrfits  \n",
            "  inflating: fitsfiles/J1815-1738.1400MHz.psrfits  \n",
            "  inflating: fitsfiles/J1816-1729.1400MHz.psrfits  \n",
            "  inflating: fitsfiles/J1816-2650.1400MHz.psrfits  \n",
            "  inflating: fitsfiles/J1817-3618.1400MHz.psrfits  \n",
            "  inflating: fitsfiles/J1817-3837.1400MHz.psrfits  \n",
            "  inflating: fitsfiles/J1818-1422.1400MHz.psrfits  \n",
            "  inflating: fitsfiles/J1819+1305.1400MHz.psrfits  \n",
            "  inflating: fitsfiles/J1820-0427.1400MHz.psrfits  \n",
            "  inflating: fitsfiles/J1820-1529.1400MHz.psrfits  \n",
            "  inflating: fitsfiles/J1820-1818.1400MHz.psrfits  \n",
            "  inflating: fitsfiles/J1822-2256.1400MHz.psrfits  \n",
            "  inflating: fitsfiles/J1822-4209.1400MHz.psrfits  \n",
            "  inflating: fitsfiles/J1823-3106.1400MHz.psrfits  \n",
            "  inflating: fitsfiles/J1824-1945.1400MHz.psrfits  \n",
            "  inflating: fitsfiles/J1825-0935.1400MHz.psrfits  \n",
            "  inflating: fitsfiles/J1825-1446.1400MHz.psrfits  \n",
            "  inflating: fitsfiles/J1826-1334.1400MHz.psrfits  \n",
            "  inflating: fitsfiles/J1827-0750.1400MHz.psrfits  \n",
            "  inflating: fitsfiles/J1827-0958.1400MHz.psrfits  \n",
            "  inflating: fitsfiles/J1828-0611.1400MHz.psrfits  \n",
            "  inflating: fitsfiles/J1828-1057.1400MHz.psrfits  \n",
            "  inflating: fitsfiles/J1828-1101.1400MHz.psrfits  \n",
            "  inflating: fitsfiles/J1829-1751.1400MHz.psrfits  \n",
            "  inflating: fitsfiles/J1830-1059.1400MHz.psrfits  \n",
            "  inflating: fitsfiles/J1831-0823.1400MHz.psrfits  \n",
            "  inflating: fitsfiles/J1831-0952.1400MHz.psrfits  \n",
            "  inflating: fitsfiles/J1831-1223.1400MHz.psrfits  \n",
            "  inflating: fitsfiles/J1832-0827.1400MHz.psrfits  \n",
            "  inflating: fitsfiles/J1832-1021.1400MHz.psrfits  \n",
            "  inflating: fitsfiles/J1833-0338.1400MHz.psrfits  \n",
            "  inflating: fitsfiles/J1833-0827.1400MHz.psrfits  \n",
            "  inflating: fitsfiles/J1834-0731.1400MHz.psrfits  \n",
            "  inflating: fitsfiles/J1834-1710.1400MHz.psrfits  \n",
            "  inflating: fitsfiles/J1835-0643.1400MHz.psrfits  \n",
            "  inflating: fitsfiles/J1835-0944.1400MHz.psrfits  \n",
            "  inflating: fitsfiles/J1835-1020.1400MHz.psrfits  \n",
            "  inflating: fitsfiles/J1835-1106.1400MHz.psrfits  \n",
            "  inflating: fitsfiles/J1836-0436.1400MHz.psrfits  \n",
            "  inflating: fitsfiles/J1836-1008.1400MHz.psrfits  \n",
            "  inflating: fitsfiles/J1837-0045.1400MHz.psrfits  \n",
            "  inflating: fitsfiles/J1837-0559.1400MHz.psrfits  \n",
            "  inflating: fitsfiles/J1837-0604.1400MHz.psrfits  \n",
            "  inflating: fitsfiles/J1837-0653.1400MHz.psrfits  \n",
            "  inflating: fitsfiles/J1837+1221.1400MHz.psrfits  \n",
            "  inflating: fitsfiles/J1837-1837.1400MHz.psrfits  \n",
            "  inflating: fitsfiles/J1838-0453.1400MHz.psrfits  \n",
            "  inflating: fitsfiles/J1838-0549.1400MHz.psrfits  \n",
            "  inflating: fitsfiles/J1839-0321.1400MHz.psrfits  \n",
            "  inflating: fitsfiles/J1839-0643.1400MHz.psrfits  \n",
            "  inflating: fitsfiles/J1839-0905.1400MHz.psrfits  \n",
            "  inflating: fitsfiles/J1840-0809.1400MHz.psrfits  \n",
            "  inflating: fitsfiles/J1840-0815.1400MHz.psrfits  \n",
            "  inflating: fitsfiles/J1841-0345.1400MHz.psrfits  \n",
            "  inflating: fitsfiles/J1841-0425.1400MHz.psrfits  \n",
            "  inflating: fitsfiles/J1841-0524.1400MHz.psrfits  \n",
            "  inflating: fitsfiles/J1841-7845.1400MHz.psrfits  \n",
            "  inflating: fitsfiles/J1842-0359.1400MHz.psrfits  \n",
            "  inflating: fitsfiles/J1842-0905.1400MHz.psrfits  \n",
            "  inflating: fitsfiles/J1842+1332.1400MHz.psrfits  \n",
            "  inflating: fitsfiles/J1843-0000.1400MHz.psrfits  \n",
            "  inflating: fitsfiles/J1843-0355.1400MHz.psrfits  \n",
            "  inflating: fitsfiles/J1843-0459.1400MHz.psrfits  \n",
            "  inflating: fitsfiles/J1843-0702.1400MHz.psrfits  \n",
            "  inflating: fitsfiles/J1844-0244.1400MHz.psrfits  \n",
            "  inflating: fitsfiles/J1844-0256.1400MHz.psrfits  \n",
            "  inflating: fitsfiles/J1844-0538.1400MHz.psrfits  \n",
            "  inflating: fitsfiles/J1844+1454.1400MHz.psrfits  \n",
            "  inflating: fitsfiles/J1845-0434.1400MHz.psrfits  \n",
            "  inflating: fitsfiles/J1845-0743.1400MHz.psrfits  \n",
            "  inflating: fitsfiles/J1846-4249.1400MHz.psrfits  \n",
            "  inflating: fitsfiles/J1846-7403.1400MHz.psrfits  \n",
            "  inflating: fitsfiles/J1847-0402.1400MHz.psrfits  \n",
            "  inflating: fitsfiles/J1848-0123.1400MHz.psrfits  \n",
            "  inflating: fitsfiles/J1848-1414.1400MHz.psrfits  \n",
            "  inflating: fitsfiles/J1850+0026.1400MHz.psrfits  \n",
            "  inflating: fitsfiles/J1850+1335.1400MHz.psrfits  \n",
            "  inflating: fitsfiles/J1851-0053.1400MHz.psrfits  \n",
            "  inflating: fitsfiles/J1852+0031.1400MHz.psrfits  \n",
            "  inflating: fitsfiles/J1852-0635.1400MHz.psrfits  \n",
            "  inflating: fitsfiles/J1852-2610.1400MHz.psrfits  \n",
            "  inflating: fitsfiles/J1853-0004.1400MHz.psrfits  \n",
            "  inflating: fitsfiles/J1853+0011.1400MHz.psrfits  \n",
            "  inflating: fitsfiles/J1853+0545.1400MHz.psrfits  \n",
            "  inflating: fitsfiles/J1855-0941.1400MHz.psrfits  \n",
            "  inflating: fitsfiles/J1900-2600.1400MHz.psrfits  \n",
            "  inflating: fitsfiles/J1901+0413.1400MHz.psrfits  \n",
            "  inflating: fitsfiles/J1901-0906.1400MHz.psrfits  \n",
            "  inflating: fitsfiles/J1901-1740.1400MHz.psrfits  \n",
            "  inflating: fitsfiles/J1902+0615.1400MHz.psrfits  \n",
            "  inflating: fitsfiles/J1904+0004.1400MHz.psrfits  \n",
            "  inflating: fitsfiles/J1904-1224.1400MHz.psrfits  \n",
            "  inflating: fitsfiles/J1905-0056.1400MHz.psrfits  \n",
            "  inflating: fitsfiles/J1905+0709.1400MHz.psrfits  \n",
            "  inflating: fitsfiles/J1906+0641.1400MHz.psrfits  \n",
            "  inflating: fitsfiles/J1907+0918.1400MHz.psrfits  \n",
            "  inflating: fitsfiles/J1909+0912.1400MHz.psrfits  \n",
            "  inflating: fitsfiles/J1909+1102.1400MHz.psrfits  \n",
            "  inflating: fitsfiles/J1913-0440.1400MHz.psrfits  \n",
            "  inflating: fitsfiles/J1913+0832.1400MHz.psrfits  \n",
            "  inflating: fitsfiles/J1913+0904.1400MHz.psrfits  \n",
            "  inflating: fitsfiles/J1913+1011.1400MHz.psrfits  \n",
            "  inflating: fitsfiles/J1914+0219.1400MHz.psrfits  \n",
            "  inflating: fitsfiles/J1915+1009.1400MHz.psrfits  \n",
            "  inflating: fitsfiles/J1916+0951.1400MHz.psrfits  \n",
            "  inflating: fitsfiles/J1917+1353.1400MHz.psrfits  \n",
            "  inflating: fitsfiles/J1919+0134.1400MHz.psrfits  \n",
            "  inflating: fitsfiles/J1921+2153.1400MHz.psrfits  \n",
            "  inflating: fitsfiles/J1932+1059.1400MHz.psrfits  \n",
            "  inflating: fitsfiles/J1932+2020.1400MHz.psrfits  \n",
            "  inflating: fitsfiles/J1932-3655.1400MHz.psrfits  \n",
            "  inflating: fitsfiles/J1935+1616.1400MHz.psrfits  \n",
            "  inflating: fitsfiles/J1935+2025.1400MHz.psrfits  \n",
            "  inflating: fitsfiles/J1937+2544.1400MHz.psrfits  \n",
            "  inflating: fitsfiles/J1941-2602.1400MHz.psrfits  \n",
            "  inflating: fitsfiles/J1943+0609.1400MHz.psrfits  \n",
            "  inflating: fitsfiles/J1943-1237.1400MHz.psrfits  \n",
            "  inflating: fitsfiles/J1944-1750.1400MHz.psrfits  \n",
            "  inflating: fitsfiles/J1946-1312.1400MHz.psrfits  \n",
            "  inflating: fitsfiles/J1946-2913.1400MHz.psrfits  \n",
            "  inflating: fitsfiles/J1947+0915.1400MHz.psrfits  \n",
            "  inflating: fitsfiles/J1956+0838.1400MHz.psrfits  \n",
            "  inflating: fitsfiles/J2005-0020.1400MHz.psrfits  \n",
            "  inflating: fitsfiles/J2006-0807.1400MHz.psrfits  \n",
            "  inflating: fitsfiles/J2038-3816.1400MHz.psrfits  \n",
            "  inflating: fitsfiles/J2048-1616.1400MHz.psrfits  \n",
            "  inflating: fitsfiles/J2053-7200.1400MHz.psrfits  \n",
            "  inflating: fitsfiles/J2108-3429.1400MHz.psrfits  \n",
            "  inflating: fitsfiles/J2116+1414.1400MHz.psrfits  \n",
            "  inflating: fitsfiles/J2127-6648.1400MHz.psrfits  \n",
            "  inflating: fitsfiles/J2144-3933.1400MHz.psrfits  \n",
            "  inflating: fitsfiles/J2155-3118.1400MHz.psrfits  \n",
            "  inflating: fitsfiles/J2248-0101.1400MHz.psrfits  \n",
            "  inflating: fitsfiles/J2324-6054.1400MHz.psrfits  \n",
            "  inflating: fitsfiles/J2330-2005.1400MHz.psrfits  \n",
            "  inflating: fitsfiles/J2346-0609.1400MHz.psrfits  \n"
          ],
          "name": "stdout"
        }
      ]
    },
    {
      "cell_type": "code",
      "metadata": {
        "id": "UAwbd4ZtzjMI"
      },
      "source": [
        "import glob as glob\n",
        "from astropy.io import fits\n",
        "import numpy as np\n",
        "import matplotlib.pyplot as plt\n",
        "import matplotlib.gridspec as gridspec"
      ],
      "execution_count": 105,
      "outputs": []
    },
    {
      "cell_type": "markdown",
      "metadata": {
        "id": "CKhD62IZ1VpW"
      },
      "source": [
        "Import addresses using glob.glob"
      ]
    },
    {
      "cell_type": "code",
      "metadata": {
        "id": "mOvnCmWs0DB1"
      },
      "source": [
        "psraddlist = glob.glob('../content/fitsfiles/*.psrfits') #Save the addresses into a list"
      ],
      "execution_count": 6,
      "outputs": []
    },
    {
      "cell_type": "code",
      "metadata": {
        "colab": {
          "base_uri": "https://localhost:8080/",
          "height": 35
        },
        "id": "S-89TACa0PgE",
        "outputId": "28c30ae1-cf8d-4331-9826-ad1f745874c9"
      },
      "source": [
        "psraddlist[0]  #The pulsar to be worked on"
      ],
      "execution_count": 7,
      "outputs": [
        {
          "output_type": "execute_result",
          "data": {
            "application/vnd.google.colaboratory.intrinsic+json": {
              "type": "string"
            },
            "text/plain": [
              "'../content/fitsfiles/J1913+0904.1400MHz.psrfits'"
            ]
          },
          "metadata": {
            "tags": []
          },
          "execution_count": 7
        }
      ]
    },
    {
      "cell_type": "code",
      "metadata": {
        "id": "6aJdYcar0Ucs"
      },
      "source": [
        "hdul = fits.open(psraddlist[0])"
      ],
      "execution_count": 9,
      "outputs": []
    },
    {
      "cell_type": "code",
      "metadata": {
        "colab": {
          "base_uri": "https://localhost:8080/"
        },
        "id": "elqxx2a91OyF",
        "outputId": "380b62f5-2bd0-4b80-e41a-fc0d782f5b75"
      },
      "source": [
        "len(psraddlist)"
      ],
      "execution_count": 10,
      "outputs": [
        {
          "output_type": "execute_result",
          "data": {
            "text/plain": [
              "602"
            ]
          },
          "metadata": {
            "tags": []
          },
          "execution_count": 10
        }
      ]
    },
    {
      "cell_type": "code",
      "metadata": {
        "colab": {
          "base_uri": "https://localhost:8080/"
        },
        "id": "4Haq4-mK0vo3",
        "outputId": "7376db8d-914f-4063-ade9-cb873309df6d"
      },
      "source": [
        "hdul.info()"
      ],
      "execution_count": 11,
      "outputs": [
        {
          "output_type": "stream",
          "text": [
            "Filename: ../content/fitsfiles/J1913+0904.1400MHz.psrfits\n",
            "No.    Name      Ver    Type      Cards   Dimensions   Format\n",
            "  0  PRIMARY       1 PrimaryHDU      64   ()      \n",
            "  1  HISTORY       1 BinTableHDU     71   8R x 28C   [24A, 256A, 8A, 8A, 1J, 1I, 1I, 1I, 1D, 1D, 1J, 1D, 1D, 1D, 1I, 1I, 1I, 1I, 1I, 32A, 32A, 32A, 256A, 32A, 32A, 1I, 32A, 1I]   \n",
            "  2  PSRPARAM      1 BinTableHDU     12   10R x 1C   [128A]   \n",
            "  3  T2PREDICT     1 BinTableHDU     12   22R x 1C   [128A]   \n",
            "  4  BANDPASS      1 BinTableHDU     20   1R x 3C   [2E, 2E, 2050I]   \n",
            "  5  SUBINT        1 BinTableHDU     89   1R x 20C   [1D, 1D, 1D, 1D, 1D, 1D, 1D, 1D, 1E, 1E, 1E, 1E, 1E, 1D, 1D, D, E, 4E, 4E, 4096I]   \n",
            "  6  DIG_STAT      1 BinTableHDU     21   1R x 2C   [2E, 24E]   \n",
            "  7  DIG_CNTS      1 BinTableHDU     24   1R x 3C   [E, E, 1024I]   \n"
          ],
          "name": "stdout"
        }
      ]
    },
    {
      "cell_type": "code",
      "metadata": {
        "id": "mNFyLb5G08R9"
      },
      "source": [
        "psparam = hdul[2] # Load The PSPARAM"
      ],
      "execution_count": 12,
      "outputs": []
    },
    {
      "cell_type": "code",
      "metadata": {
        "colab": {
          "base_uri": "https://localhost:8080/"
        },
        "id": "ppnp_2vD1mn3",
        "outputId": "8e91f221-b082-431f-acd4-4b20e957d974"
      },
      "source": [
        "psparam.header"
      ],
      "execution_count": 13,
      "outputs": [
        {
          "output_type": "execute_result",
          "data": {
            "text/plain": [
              "XTENSION= 'BINTABLE'           / ***** Pulsar ephemeris *****                   \n",
              "BITPIX  =                    8 / N/A                                            \n",
              "NAXIS   =                    2 / 2-dimensional binary table                     \n",
              "NAXIS1  =                  128 / width of table in bytes                        \n",
              "NAXIS2  =                   10 / number of rows in table                        \n",
              "PCOUNT  =                    0 / size of special data area                      \n",
              "GCOUNT  =                    1 / one data group (required keyword)              \n",
              "TFIELDS =                    1 / Number of fields per row                       \n",
              "TTYPE1  = 'PARAM   '           / Text file stored row by row                    \n",
              "TFORM1  = '128A    '           / Allow 128 char per row                         \n",
              "EXTNAME = 'PSRPARAM'           / Name of this binary table extension            \n",
              "EXTVER  =                    1 / auto assigned by template parser               "
            ]
          },
          "metadata": {
            "tags": []
          },
          "execution_count": 13
        }
      ]
    },
    {
      "cell_type": "code",
      "metadata": {
        "colab": {
          "base_uri": "https://localhost:8080/"
        },
        "id": "g6NDbtqb2EJh",
        "outputId": "c3e70f70-1268-4d43-ad5b-fa9551948f0d"
      },
      "source": [
        "psparam.data"
      ],
      "execution_count": 14,
      "outputs": [
        {
          "output_type": "execute_result",
          "data": {
            "text/plain": [
              "FITS_rec([('PSRJ            J1913+0904',),\n",
              "          ('RAJ             19:13:21.061             8.000e-03',),\n",
              "          ('DECJ            +09:04:45.4              4.000e-01',),\n",
              "          ('DM              95.3                     6.000e-01',),\n",
              "          ('PEPOCH          53249.00000',),\n",
              "          ('F0              6.1257324056             4.000e-10',),\n",
              "          ('F1              -6.6106E-13              3.000e-17',),\n",
              "          ('F2              -2.3E-23                 8.000e-24',),\n",
              "          ('EPHVER          2',), ('UNITS           TDB',)],\n",
              "         dtype=(numpy.record, [('PARAM', 'S128')]))"
            ]
          },
          "metadata": {
            "tags": []
          },
          "execution_count": 14
        }
      ]
    },
    {
      "cell_type": "code",
      "metadata": {
        "colab": {
          "base_uri": "https://localhost:8080/"
        },
        "id": "A-LXhQ8lmsVF",
        "outputId": "e6722712-4165-4124-c45a-065724eafb19"
      },
      "source": [
        "subint.header"
      ],
      "execution_count": 160,
      "outputs": [
        {
          "output_type": "execute_result",
          "data": {
            "text/plain": [
              "XTENSION= 'BINTABLE'           / ***** Subintegration data  *****               \n",
              "BITPIX  =                    8 / N/A                                            \n",
              "NAXIS   =                    2 / 2-dimensional binary table                     \n",
              "NAXIS1  =                 8336 / width of table in bytes                        \n",
              "NAXIS2  =                    1 / Number of rows in table (NSUBINT)              \n",
              "PCOUNT  =                    0 / size of special data area                      \n",
              "GCOUNT  =                    1 / one data group (required keyword)              \n",
              "TFIELDS =                   20 / Number of fields per row                       \n",
              "TTYPE1  = 'INDEXVAL'           / Optionally used if INT_TYPE != TIME            \n",
              "TFORM1  = '1D      '           / Double                                         \n",
              "TTYPE2  = 'TSUBINT '           / Length of subintegration                       \n",
              "TFORM2  = '1D      '           / Double                                         \n",
              "TTYPE3  = 'OFFS_SUB'           / Offset from Start of subint centre             \n",
              "TFORM3  = '1D      '           / Double                                         \n",
              "TTYPE4  = 'LST_SUB '           / LST at subint centre                           \n",
              "TFORM4  = '1D      '           / Double                                         \n",
              "TTYPE5  = 'RA_SUB  '           / RA (J2000) at subint centre                    \n",
              "TFORM5  = '1D      '           / Double                                         \n",
              "TTYPE6  = 'DEC_SUB '           / Dec (J2000) at subint centre                   \n",
              "TFORM6  = '1D      '           / Double                                         \n",
              "TTYPE7  = 'GLON_SUB'           / [deg] Gal longitude at subint centre           \n",
              "TFORM7  = '1D      '           / Double                                         \n",
              "TTYPE8  = 'GLAT_SUB'           / [deg] Gal latitude at subint centre            \n",
              "TFORM8  = '1D      '           / Double                                         \n",
              "TTYPE9  = 'FD_ANG  '           / [deg] Feed angle at subint centre              \n",
              "TFORM9  = '1E      '           / Float                                          \n",
              "TTYPE10 = 'POS_ANG '           / [deg] Position angle of feed at subint centre  \n",
              "TFORM10 = '1E      '           / Float                                          \n",
              "TTYPE11 = 'PAR_ANG '           / [deg] Parallactic angle at subint centre       \n",
              "TFORM11 = '1E      '           / Float                                          \n",
              "TTYPE12 = 'TEL_AZ  '           / [deg] Telescope azimuth at subint centre       \n",
              "TFORM12 = '1E      '           / Float                                          \n",
              "TTYPE13 = 'TEL_ZEN '           / [deg] Telescope zenith angle at subint centre  \n",
              "TFORM13 = '1E      '           / Float                                          \n",
              "TTYPE14 = 'AUX_DM  '           / additional DM (ionosphere, corona, etc.)       \n",
              "TFORM14 = '1D      '           / Double                                         \n",
              "TTYPE15 = 'AUX_RM  '           / additional RM (ionosphere, corona, etc.)       \n",
              "TFORM15 = '1D      '           / Double                                         \n",
              "TTYPE16 = 'DAT_FREQ'           / [MHz] Centre frequency for each channel        \n",
              "TFORM16 = 'D       '           / NCHAN doubles                                  \n",
              "TTYPE17 = 'DAT_WTS '           / Weights for each channel                       \n",
              "TFORM17 = 'E       '           / NCHAN floats                                   \n",
              "TTYPE18 = 'DAT_OFFS'           / Data offset for each channel                   \n",
              "TFORM18 = '4E      '           / NCHAN*NPOL floats                              \n",
              "TTYPE19 = 'DAT_SCL '           / Data scale factor (outval=dataval*scl + offs)  \n",
              "TFORM19 = '4E      '           / NCHAN*NPOL floats                              \n",
              "TTYPE20 = 'DATA    '           / Subint data table                              \n",
              "TFORM20 = '4096I   '           / I (Fold) or B (1-8 bit) Search                 \n",
              "INT_TYPE= 'TIME    '           / Time axis (TIME, BINPHSPERI, BINLNGASC, etc)   \n",
              "INT_UNIT= 'SEC     '           / Unit of time axis (SEC, PHS (0-1), DEG)        \n",
              "SCALE   = 'Jansky  '           / Intensity units (FluxDen/RefFlux/Jansky)       \n",
              "POL_TYPE= 'IQUV    '           / Polarisation identifier (e.g., AABBCRCI, AA+BB)\n",
              "NPOL    =                    4 / Nr of polarisations                            \n",
              "TBIN    = '*       '           / [s] Time per bin or sample                     \n",
              "NBIN    =                 1024 / Nr of bins (PSR/CAL mode; else 1)              \n",
              "NBIN_PRD= '*       '           / Nr of bins/pulse period (for gated data)       \n",
              "PHS_OFFS= '*       '           / Phase offset of bin 0 for gated data           \n",
              "NBITS   =                    1 / Nr of bits/datum (SEARCH mode data, else 1)    \n",
              "ZERO_OFF= '*       '           / Zero offset for SEARCH-mode data               \n",
              "SIGNINT =                    0 / 1 for signed ints in SEARCH-mode data, else 0  \n",
              "NSUBOFFS= '*       '           / Subint offset (Contiguous SEARCH-mode files)   \n",
              "NCHAN   =                    1 / Number of channels/sub-bands in this file      \n",
              "CHAN_BW =                -256. / [MHz] Channel/sub-band width                   \n",
              "DM      =                 95.3 / [cm-3 pc] DM for post-detection dedisperion    \n",
              "RM      =                   0. / [rad m-2] RM for post-detection deFaraday      \n",
              "NCHNOFFS= '*       '           / Channel/sub-band offset for split files        \n",
              "NSBLK   =                    1 / Samples/row (SEARCH mode, else 1)              \n",
              "NSTOT   = '*       '           / Total number of samples (SEARCH mode, else 1)  \n",
              "EXTNAME = 'SUBINT  '           / name of this binary table extension            \n",
              "TUNIT2  = 's       '           / Units of field                                 \n",
              "TUNIT3  = 's       '           / Units of field                                 \n",
              "TUNIT4  = 's       '           / Units of field                                 \n",
              "TUNIT5  = 'deg     '           / Units of field                                 \n",
              "TUNIT6  = 'deg     '           / Units of field                                 \n",
              "TUNIT7  = 'deg     '           / Units of field                                 \n",
              "TUNIT8  = 'deg     '           / Units of field                                 \n",
              "TUNIT9  = 'deg     '           / Units of field                                 \n",
              "TUNIT10 = 'deg     '           / Units of field                                 \n",
              "TUNIT11 = 'deg     '           / Units of field                                 \n",
              "TUNIT12 = 'deg     '           / Units of field                                 \n",
              "TUNIT13 = 'deg     '           / Units of field                                 \n",
              "TUNIT14 = 'CM-3    '                                                            \n",
              "TUNIT15 = 'RAD     '                                                            \n",
              "TUNIT16 = 'MHz     '           / Units of field                                 \n",
              "TDIM20  = '(1024,1,4)'         / (NBIN,NCHAN,NPOL) or (NCHAN,NPOL,NSBLK*NBITS/8)\n",
              "TUNIT20 = 'Jy      '           / Units of subint data                           \n",
              "EXTVER  =                    1 / auto assigned by template parser               \n",
              "NCH_STRT=                    0                                                  \n",
              "EPOCHS  = 'VALID   '                                                            "
            ]
          },
          "metadata": {
            "tags": []
          },
          "execution_count": 160
        }
      ]
    },
    {
      "cell_type": "code",
      "metadata": {
        "id": "KgIPwRfr2k3l",
        "colab": {
          "base_uri": "https://localhost:8080/"
        },
        "outputId": "41b6e400-f0e6-4e99-cb15-1a111c6ec4fc"
      },
      "source": [
        "subint.header['NBIN']"
      ],
      "execution_count": 164,
      "outputs": [
        {
          "output_type": "execute_result",
          "data": {
            "text/plain": [
              "1024"
            ]
          },
          "metadata": {
            "tags": []
          },
          "execution_count": 164
        }
      ]
    },
    {
      "cell_type": "code",
      "metadata": {
        "colab": {
          "base_uri": "https://localhost:8080/"
        },
        "id": "S3uZ50Xj6Zx4",
        "outputId": "4fb012e7-2e63-4cf7-bf0d-700756ffc2a4"
      },
      "source": [
        "subint.data"
      ],
      "execution_count": 16,
      "outputs": [
        {
          "output_type": "execute_result",
          "data": {
            "text/plain": [
              "FITS_rec([(0., 3329.41440776, 2159.69506224, 76951.17537153, -71.66228011, 9.07925777, 43.50212369, -0.68449579, 0., 145.25818, 145.25818, -42.03996, 51.979588, 0., 0., 1375.64501953, 98124., [46528.133  ,   273.32147, -1639.3774 ,   648.54803], [0.00092545, 0.00049389, 0.0004871 , 0.00023481], [[[-13827, -12422, -11637, -11518,  -8766,  -9539, -10632, -11810, -10949, -13701,  -9231, -12152, -12232, -11890, -11379, -12966, -11708,  -9298,  -9881, -11510,  -9573, -10725, -10847, -10830, -11092, -10391,  -8374, -10370, -11421, -12666, -10602, -12692, -11801, -11544, -11776, -12700, -10290, -10687, -11767, -12114, -14600,  -8593, -13312, -10982, -11396, -11869, -12088, -11548, -13105, -13114, -11244, -13266, -12789,  -9497, -12574, -10332, -10615, -11413, -10653, -12350, -12645, -10244, -10450,  -9750, -12198, -11261, -12759, -11531, -12021, -11468, -12692, -13933, -10201, -12460, -12135, -12949,  -9809, -13177, -12244, -11611, -11147, -11805,  -8547, -10767, -11725, -13059,  -9378, -12624, -11940, -12354, -13557, -10282, -10936, -11063, -12574, -14697, -11599, -13346,  -9961, -11341, -11924,  -9868, -10940, -12337, -13608, -12287, -13097, -13760, -11713, -13190, -11379, -10450, -11974, -13599, -14722, -11839, -12341, -11620, -11434, -12333, -11442, -12506, -11434,  -9632, -12198, -14182, -11400, -10847, -12662, -11413, -11438, -12228, -11801,  -9986, -13599,  -8171, -11831, -11894, -10839,  -9775, -11430, -13266, -10586, -13089, -11873, -10704, -12582,  -9619,  -9805, -10944, -11379, -12101, -12282, -13422, -13967, -12042, -13506, -14617,  -9530, -11755, -12810, -11371, -11801, -10746, -11991, -12257, -11160, -10611,  -9965, -10362, -11860,  -9855, -12903, -10839, -12662, -10704, -10239, -12641,  -7990, -11902, -10987, -16381, -10007, -12455, -11489, -11476, -12063, -11653, -12531, -12561, -12730, -11628, -11856,  -9855, -11928, -12840, -12185, -11126, -12194, -10172, -12109, -13135, -11358, -12709, -11856, -12865, -12282, -12586, -11928, -10987,  -8927, -11421, -14389, -11063, -10294, -11223, -10923, -13013, -12405, -11915,  -9936, -10974, -11679, -13667, -12329, -12443, -12046, -11025, -14836, -13582, -11265, -11016,  -9712, -13485, -12814, -11658,  -7509, -11172, -12523,  -8226, -10868, -10062, -12122, -11860, -11742, -11426, -11117, -13177, -12016, -14266,  -9902, -11341, -12671, -12713, -12485, -10902,  -8935,  -9965, -11704, -13557, -11653, -12764, -11164, -10792, -13215, -12523, -11527,  -8973, -13587, -12223,  -8129, -12152, -11898, -11641, -12409, -12907, -11307, -11953, -13941,  -9661, -10163, -12451, -11261, -14861, -12848, -10826, -14557, -10911, -12485, -12818, -11881, -10965, -11962, -11071, -13317, -12025, -10898, -12308, -11282, -12654, -12261, -12510, -10632, -12447, -12861, -10657, -11835, -11839, -13160, -11936, -11442, -11244, -16199, -11615, -11510, -11725, -11244, -12426, -12485, -12401, -10569, -12878,  -9699, -12430, -12772, -12840, -12772, -11033, -12042,  -9661, -11016, -10328, -11189, -10180, -13844, -11231, -10906, -11134, -13511, -11117, -11088,  -9843, -12886, -11383, -12375, -11282, -12025, -11350, -11358,  -9547, -10252, -13114, -14355,  -8863, -11105, -12738, -13578, -10763, -11860, -10653, -11565, -10501, -12156, -10670, -13831, -11552,  -9640, -11286, -10514, -12105, -10640, -15220, -10868, -12519, -12827, -11506, -12105, -11160, -13616, -12092, -11063,  -9868, -12076, -11978, -10425,  -9324, -11877, -13599,  -9906, -10788, -10784, -10345, -11666, -11164, -10801, -10847, -10936, -11881,  -9264, -13143,  -8665, -11075, -12485, -10155, -11704, -11282, -11886, -11873,  -9691,  -9948,  -9661, -11020, -11898, -11565, -12785, -11079, -10687, -11818, -13988, -10991, -12510, -10379, -11480,  -8416, -10269, -12671, -12173, -11742, -10155,  -8644, -11354, -12042, -11746,  -8906, -10075, -12620, -11561, -10767, -13114, -11307, -10041, -13886, -10413,  -9826, -13304, -11396, -10763, -11822, -12312, -11932, -12135, -13080, -11725, -14363, -14140, -10640, -10012, -14000, -12067,  -8939, -11919,  -8475,  -9332, -10797, -13160,  -9433, -12413, -10168, -11202,  -9889, -10674, -12738, -12135, -11974,  -8931, -11020, -13215, -11873,  -9640,  -9986, -12004, -12772,  -9184, -10193, -11535, -11945, -11333, -10552, -11957, -11957, -12582, -10083, -10324, -11383, -10662, -10822, -10889, -13253, -14262, -12354, -12873, -12156, -12038, -11333, -11793, -13675, -12607, -13245, -10539,  -8319, -13046, -11751, -11860, -12417, -10640,  -8395, -10180, -11839, -11447, -10501, -10902, -10809, -10927, -10598, -13245, -10286, -12202, -12721, -10526, -11518, -11873,  -9471, -10944,  -9530, -12016, -11641, -11831, -11590, -10387, -11514, -11995,  -9269, -11438, -12282, -10370, -11198, -14110,  -9395, -10640, -11113, -12451,  -9619, -10362, -13460, -11489, -12683, -12987, -10396, -12455, -10628, -11497,  -9556, -12569, -10683, -12658, -12510, -11687,  -9914,  -9290, -11464, -11244, -12194, -13426, -12502, -13321,  -9226,  -8754, -11113, -12928, -12662, -12249, -10066,  -9750, -11801, -11742, -10467, -13321, -12384, -13262, -12367, -10615, -10214, -10970, -10818, -11577, -12206, -11248, -11176, -12152, -11886,  -7783, -12063,  -8180, -11307, -10586, -10619, -10113, -10662, -10868,  -8804,  -9484, -10020, -10210, -10763,  -9412, -12156, -13439, -11286, -10104, -12274, -11358, -11696, -11683,  -9509,  -9366, -10117,  -8306, -12257, -10290, -11430, -13055, -10501, -11379, -10598, -12156, -13561, -10408,  -8243, -13291,  -8289, -12295, -11556, -11282, -13329, -10265, -13557, -13755, -12662, -12363,  -9302, -12831,  -9948, -11375, -10320, -11877, -11459,  -9243, -10653, -13021,  -9817, -12067, -12937, -10645, -11181, -12401, -13827, -13219, -10636, -12591, -13135, -11388,  -9492, -14135,  -9108,  -8572, -11848, -10670, -10759, -12755,  -9349, -11658,  -8901,  -8142, -11746, -10041, -10628, -10210, -12426, -11632, -14186, -12059, -11366, -10375, -10674, -10467, -13291, -10273, -12776, -13722, -12401, -11573, -11012, -12059, -10299,  -9184, -11447, -10438, -10780, -10797,  -8353, -13072, -12050, -10856, -11181, -10573, -11805,  -8412,  -7939,  -7141, -10577,  -8792, -10826, -10062, -10096, -11257, -10522, -10370, -12126,  -7618,  -9623,  -9277, -10678, -12114,  -8319,  -8834, -10155,  -9125,  -7559,  -7205,  -6677,  -7302,  -3921,  -3769,  -3490,   -962,    540,   4887,   7559,  12054,  13089,  16385,  15389,  13190,   9412,   5765,    206,  -1097,  -5955,  -6761,  -7821,  -7479,  -8741, -10109,  -8323, -10653,  -7015,  -8796,  -8661,  -7994,  -8395,  -8353, -10269, -11193,  -9210,  -9062, -10159,  -9429,  -8197,  -8446,  -4529,  -9231,  -7690,  -9581,  -6470,  -8273, -11164,  -6154,  -7601, -11375,  -8754, -10383, -10467, -11856,  -8737,  -9260, -11624,  -8061,  -8011, -12371, -10248, -10218,  -9248, -11185, -10691, -11282, -11869,  -8906, -10476,  -9594, -13093, -12384, -11510, -11430,  -8724, -10332,  -9940, -10028, -12493, -11333, -10873, -10809, -12780, -10066, -13055, -12831,  -9146,  -8682, -11983,  -9775, -10906, -12016, -12274, -11611, -11907, -12941, -13194, -12232,  -9695, -12793,  -9678, -12612, -12194, -11738, -10273, -11160,  -9108, -13426, -10113, -11396, -11371, -11902,  -9526, -14114, -12861,  -7834, -12312,  -7631, -10370, -10586, -14633, -11025, -13785, -11860, -11274, -14393, -11544,  -9682, -13051, -14207,  -9429, -12439, -10987, -11328,  -9159, -12198, -13055, -11092, -11957, -10776, -10999, -10007, -12063, -12067, -11480, -11725, -14194, -10172,  -9028,  -9843, -12168,  -9936, -12168, -11130, -10754, -10552, -14760, -10535, -12181, -11974, -12498, -12439,  -9598, -11324, -12228, -12637, -13080, -12244, -12616, -11586, -13646, -12329, -12101, -14313, -10619, -11345,  -9758, -10670, -10843, -12704, -14064, -10037, -13148, -10877, -12789,  -9805, -11189, -12379, -14545, -11126, -13329, -11793, -11464, -10662, -13726, -10375, -13190,  -9957,  -7964, -10290, -12101, -13506,  -8893, -11493, -11713, -10231,  -9345, -10906, -11577, -12118, -10087, -13270, -10345,  -9256, -11046, -10881, -13198, -11755, -11949, -11240, -11772, -11227, -10003, -13013, -10915, -10130,  -9180, -12430, -13967, -10995, -10391, -13097, -11252, -13236, -11037,  -7441, -11126, -13447, -11586, -12240, -10012,  -9062, -11468,  -9256, -14178, -10624, -10480, -13962,  -8754, -10674, -11210, -11388, -10784, -10370, -11919, -10738, -10805, -11468, -11404, -11383,  -9940, -10100, -12219, -13895, -12046, -10248, -11430, -12008,  -8268, -10991, -10142, -10856, -11784, -11881, -13148, -12852, -15334, -10366, -10227, -14043,  -9598, -11286, -12569, -11772, -12004]], [[ -5610,  -7138,  -7329,  -7179,  -6752, -12298,  -8417,  -2427, -10421,  -4803,  -4305,  -4355,  -4616,  -5686, -10963,  -9742,  -9047,  -7876,  -6806,  -9077,  -9440,  -8273, -10153, -10091,  -7159,  -8815,  -3860,  -3937,  -7020,  -7542,  -6439,  -5215,  -1080, -11166,  -8793,  -9884,  -7736,  -7438, -10540,  -9456,  -8232,  -6262,  -6576,  -5197,  -5975,  -5686,  -5574,  -6909,  -4844,  -6830,  -8977,  -6905,  -9156, -13401,  -9051,  -5557,  -8401,  -6102, -10747,  -2975,  -6986,  -3714,  -8507, -10575,  -7056,   -396,  -6296,  -4386,  -8990,   -211, -10177,  -9826, -11376,  -5186,  -5913,  -3406,  -9010,  -3502,  -7550, -11906,  -4774, -11099,  -9735,  -4813,  -6226, -11257,  -5416,  -3688,  -5844,  -8445,  -7668,  -9441,  -4182,  -8424,  -7955,  -6550,  -7642,  -9916,  -8027, -12618,  -4715,  -2376,  -9027,  -4579,  -8455, -10648,  -6676,  -4740,  -6435,  -5519,  -8113, -11585,  -4864,  -9141,  -7341,  -4470,  -9263,  -4892,  -6787,  -7574,  -4231,  -4813,  -5653,  -8420,  -6658,  -2331,  -6508, -10788,  -8557,  -5573,  -3174,  -7989,  -5665,  -4673,   -558,  -7008,  -6766,  -6739,  -4666,  -9421, -10283,  -6219,  -6194, -12680, -11137,  -7892,  -5147,  -5686, -10618,  -8948, -10089,  -7850,  -6308,  -5568,  -8896,  -8194, -11620,  -3349,  -4623,  -5796,  -7643,  -6500,  -5310,  -6566,  -4170,  -9275,  -8674,  -7849,  -6141,  -9006, -10566,  -6606,  -2897, -10532,  -9197,  -9925,  -8541,  -7224,  -5754,  -8360,  -7635,  -5779,  -9098, -10062,  -9154,  -8293,  -5882,  -7564,  -6459,  -7475,  -7507,  -5668,  -5504,  -9489,  -3071,  -7400,  -3871,  -6542,  -7051,  -7162,  -6410,  -5986,  -7593, -10193,  -7937,  -6238,  -4683,  -3259,  -8418,   -669,  -9292, -10069, -10916,  -9569,  -5624,  -6624, -10186,  -7334, -10288,  -8662, -11234,  -3978,  -5764,  -4926, -11981,  -6571,  -8413,  -5195,  -8778,  -2566,  -9720,  -6122,  -7208,  -7056,  -6188,  -8845,  -3540,  -8125,  -8155,   -152,  -6802,  -5582,  -4279,  -9593,  -9797,  -8961,  -8070,  -7698,  -9646,  -7201,  -5904, -10975,  -4389,  -6833,  -9121,  -5329,  -5907,  -6320, -12950,  -8935,  -5364,  -8437,  -5659,  -6180,  -8008,  -8167,  -8755,  -5399,  -3278,  -5107,  -9637,  -9569, -10484,  -5276,  -5473,  -9242,  -4050,  -5624,  -6875,  -6689,  -6314,  -8276,  -8272, -10008,  -6445,  -5926,  -9757,  -2544,  -1616,  -7147,  -7668,  -6022,  -9438,  -7029,  -7664,  -7403,  -5689,  -6421,  -6023,  -8895,  -6541,  -9058,  -7404, -11710,  -2030,  -5239,  -7029,  -5311,  -5985,  -5282,  -3316,  -9074,  -7678,  -7023,   -233,  -7812,  -6110,  -9238,  -9204,  -9330,  -7386,  -4955,  -6451,  -2542,  -2012, -10766,  -6195,  -9617,  -6363,  -7046,  -8005,  -9042,  -9587,  -8324,  -7123, -12145,  -5903,  -6337,  -7169,  -7001,  -7383,  -1277,  -6389,  -7681,  -6347,  -7956,  -2696,  -9187,  -4757,  -2763,  -8212, -12308,  -6018, -10281,  -7224,  -1245,  -6860, -13467,  -5965,  -5502, -10061,  -3256,  -4238,  -9461,  -5980,  -7123,  -4966,  -5819,  -5970,  -7887,  -7158,  -9400,  -9075,  -4990, -10885,  -9309, -13167,  -2505,  -8034,  -6581,  -7952,  -6937,  -8672,  -9910,  -6029,  -2450,  -6242,  -4578,  -7158,  -5188,  -9093,  -4259, -11642,  -9152, -12604,  -5712,  -5297,  -9796,  -6161,   -614,  -3348, -10516,  -6855,  -5494,  -9828,  -8116,  -4963,  -5759,  -6623,  -3576,  -7136,  -4247,  -7522,  -4157,  -5374,  -6517,  -4002,  -6832,  -5325,  -9715, -10005,  -5411,  -6925,  -4460, -11285,  -7344,  -6909, -13387,  -1340, -12470,  -6287, -11386,  -7258,  -8923,  -7307,  -3061,  -4115,  -7054,  -6841,   -794,  -3752,  -9671,  -7581,  -6768,  -6100,  -7346,  -7692,  -5018,  -6069, -13918,  -7809,  -9589,  -5422,  -7126,  -2756,  -8239, -10222,  -6874,  -7184,  -6731,  -7022,  -7177,  -9328,  -5428,  -7030,  -8178,  -6344,  -9947, -12009,  -9809,  -8772, -10246,  -4685,  -6946,  -9794,  -5956, -10865,  -6827, -12600,  -4061,  -5635,  -9398,  -3976,  -9351,  -3608,  -6530,  -5218,  -5077,  -9793,  -7326,  -7711, -10065,  -2433,  -4961,  -5576,  -4108,  -4682,  -8447,  -7432,  -9713,  -5814,  -9065,  -8351,  -7608,  -4729, -10855,  -7995,  -8491, -13060,  -6127,  -5775,  -5907, -10025,  -7157,  -3339, -11856,  -7763,  -4585,  -8402,  -9221,  -8579,  -3776,  -8070,  -8454,  -6823, -11601,  -4720,  -6522,  -7812,  -5337,  -7973,  -8652,  -3042, -10018, -10723,  -5310,  -4175,  -7565,  -7011,  -5620,  -5891,  -8793,  -7631,  -5556,  -4120,  -7696,  -8738, -12632,  -5345,  -6815,  -4845,  -1940,  -3886,  -1613,  -6122,  -8022,  -7383,  -6104,  -8731,  -8201,  -7165,  -7961,  -6606,  -3879,  -7658,  -7954, -12837,  -7712,  -4100,  -9887,  -5809,  -7826,  -6046,  -5246,  -8357, -10965,  -9569,  -6328,  -8751,  -6558,  -3206,  -8513,  -6932,  -1426, -10220,  -7510,  -7016,  -9405,  -3142, -10089, -10151,  -6197,  -8228,  -5895,  -7723,  -5414,  -8422, -11380,  -9038,  -8406, -10078,  -4430,  -3902,  -8109,  -5273,  -6045,  -4409,  -9157,  -8332,  -5838,  -6128, -11011,  -6487,  -5685, -10575,  -4852,  -7781,  -9461,  -7142,  -6560,  -5874, -10128,  -9536,  -6256,  -5643, -12888,  -8907,  -5580,  -5350,  -6447,  -5084,  -6066,  -8960,  -5222,  -6774,  -8857,  -7823,  -6410,  -9691,  -5380,  -7072,  -6465,  -7648, -10031,  -2882,  -8189,  -9851,  -6029,  -8742,  -6908,  -6059,  -3519,  -4964,  -8105,  -9278,  -7139,  -5901,  -3882,  -9257,  -5471,  -8248,  -6347,  -7067,  -7899,  -5060,  -6795,  -7908, -12868,  -4146,  -6498,  -3614,  -3306,  -9592, -10540,  -4215,  -6263, -10551,  -8817,  -8053,  -6235,  -3922,  -7823, -11451,  -7727,  -7743,  -7065,  -8174,  -8938,  -6891,  -6458,  -7174,  -6655,  -4790,  -4487,  -6203,  -6059,  -4249, -14570,  -7154,  -8936,  -5366,  -9072,  -7230,  -6699,  -7156,  -8047, -11228,  -7265,  -2884,  -8503,  -9154,  -6540,  -9535,  -8526, -13230, -10148,  -8218,  -7773,  -4908,  -2991,  -2153,  -9569,  -7942,  -6817, -10465,  -8877,  -8855, -11130,  -6414,  -7990,  -6989, -11545,  -4267,  -7872,  -4790,  -2701,  -5688,  -5293,  -1057,  -2820,  -6143,  -3468,  -5785,     88,  -3357,    686,   3054,   8127,  13078,  10270,  12425,  16383,  10985,  10973,   4102,   5022,    947,    -58,  -4113,  -1085,  -2182,    467,  -5631,  -4106,  -4622,  -6464,  -2166,  -6560,  -5101,  -6014,  -8129,  -9498,  -7100,  -4418,  -7029,  -4664,  -5286,  -9509,  -6446,  -9038, -11334, -11916,  -7912,  -8241,  -7768,  -8974,  -7249, -16383,  -5954, -11861,  -6684,  -7469,  -9855, -10233, -10411,  -7033,  -5960,  -7697, -11653,  -3389, -11103, -10889,  -9087,  -6680,  -3131,  -2346, -10505,  -5597, -11388, -11524,  -5772,  -3486,  -3490,  -8007,  -2862,  -9411,  -5918,  -4423,  -8053,  -5006,  -5774,  -9959,  -5901,  -6819,  -9165,  -8421,  -6500,  -5623,  -4457,  -5281,  -6659,  -5248, -10506,  -9567,  -8298,  -7016,  -8005,  -3412,  -8620,  -4940,  -9453,  -4379,  -5484,  -7687,  -8357,  -5122,  -3701,  -5029,  -7027, -10230,  -8538,  -6179,  -4699,  -8167,  -7735,  -6775, -10014,  -5637,  -7108, -10021,  -7199,  -6845,  -6495,  -5814,  -3552,  -6325,  -6938, -11970,  -7912,  -7882,  -7398,  -5221,  -7540,  -3299, -10248, -11798,  -5751, -10365,  -8111,  -5283,  -9100,  -7948,  -8842, -10227,  -5449,  -5777,  -9548,  -8288,  -8590,  -5234,  -8480,  -6241,  -4207,  -7956,  -9371,  -7442,  -8220, -11285,  -6107,  -7626,  -8085,  -7335,  -8848,  -6740,  -9653,  -7147,  -6439,  -7751,  -2993,  -7736, -10032, -10199,  -9762,  -7219,  -9453,  -4564,  -5721,  -7755,  -8851,  -3522,  -4839,  -6109,  -6074,  -7701,  -4443,  -5872,  -2349, -14491,  -5924,  -2729,  -7423,  -8517,  -7937,  -5824, -12627,  -6736,  -7998,  -7329,  -4030, -11005,  -6542, -12226,  -9935,  -9721,  -6679,  -8522,  -4717,  -8209,  -8643,  -8939,  -9984,  -6011,  -6312,  -3690,  -6342,  -3493, -10284,  -2567,  -4137, -10685, -11079,  -7678,  -6365,  -8237,  -3185,  -4723,  -7527,  -6612,  -7816,  -3845,  -5582,  -9761, -10549,  -9581,  -8879,  -8086,  -9173, -10070,  -6007,  -7920,  -5600,  -6730,  -9111,  -5372,  -8765,  -9426,  -5329,  -2840,  -3600,  -2501,  -9787,  -6973,  -2690,  -9302,  -7861,  -7841,  -2000,  -7857,  -2680,  -4957,  -6845,  -6019,  -7561,  -5424,  -7591,  -6920,  -6149,  -3217,  -8404,  -6827,  -3733,  -4056,  -8306,  -8616,  -7705,  -8845,  -9139,  -6652, -14010,  -5631,  -6746,  -7789,  -5801,  -8810]], [[ -9884, -10995, -11258, -10013,  -6938, -10889, -11938,  -4120,  -8722, -13656,  -7526,  -5041, -12152,  -5786,  -6193, -10599, -10547, -10444,  -9146,  -4982,  -8145, -14442,  -9427,  -5445, -11848,  -8166, -11549, -11975, -11869, -15219, -12810,  -6592,  -7578, -13178,  -6046,  -7935, -12215,  -8440,  -8586,  -8672,  -4952,  -8971,  -8386, -11306,  -5444, -14641,  -6276, -10119,  -7946,  -9614,  -4666,  -8144,  -8986,  -8844,  -6716, -11932, -13355, -12988,  -8706, -11685,  -8753,  -9075, -11383, -12357,  -9232, -10977, -10701, -15425,  -9157,  -7382, -10080,  -8092, -12107, -10894, -10889,  -8445,  -9725,  -8639,  -7133,  -9739,  -4179, -11482,  -7885,  -4865,  -6902,  -7836,  -8142,  -7681,  -5479,  -8943,  -9110,  -8180,  -7092, -11076, -10659,  -8404,  -9654,  -2258,  -9944, -10001,  -4299, -10684,  -4268,  -8461, -10984,  -6926,  -8630,  -5882,  -7883,  -5458, -11322, -10760,  -9613, -11417,  -7726,  -6645,  -6666,  -9454, -11702,  -7344, -15238,  -6815,  -8120,  -7729,  -9231,  -5680,  -6906,  -4873, -12775, -12066,  -5932, -10672,  -6505,  -9658, -11974, -10578,  -7034,  -9142,  -8563,  -9591,  -7205,  -5720, -15388,  -9393,  -8810,  -9789, -11756,  -8393, -10064, -10596,  -5482,  -4451,  -7012, -12096,  -9883,  -1670,  -7666,  -7912, -11372, -10927,  -9502, -12367,  -7821,  -9951, -12738, -12650, -10637, -14139, -10724, -12276,  -4062,  -7279,  -9667, -11358, -11213,  -8149,  -7970,  -6466, -10799,  -8673, -11106,  -7839,  -6469,  -9528, -12211,  -9831,  -7469, -11544,  -9544,  -7094, -12367, -10773,  -6307,  -9605,  -9080,  -9105,  -8411,  -6821,  -8140,  -8566, -11790,  -8321, -10556, -10826,  -7324, -10795, -12131, -12320,  -8406, -13417,  -7474,  -8779,  -8270,  -6449,  -8951,  -7674, -13972,  -5199, -11159,  -3780, -12259,  -6833,  -9402,  -9831, -11185, -11646,  -8999, -11085,  -5501,  -8104, -11362,  -8170,  -5820, -11306,  -9978,  -9688,  -9628, -11312, -11112,  -6841,  -6157,  -9610, -13568,  -7317,  -8537,  -8525, -11717, -12417,  -6200,  -7188,  -8299,  -4390,  -9527,  -8685,  -9558, -12066, -10851,  -6750,  -2908, -11823, -12358, -15386,  -6750, -12186,  -4570,  -7112,  -2490, -11151,  -3333,  -7218, -10938,  -9214,  -9047,  -9258, -12977,  -6039,  -8306,  -7908, -12883,  -8048,  -8934, -11044, -12611,  -8263,  -9854, -15324,  -5090,  -8920, -10398,  -9564,  -9999,  -7699,  -3031,  -2696,  -7095, -10559,  -6854, -10289,  -8320,  -9343,  -9629,  -8560,  -5727, -12079, -11380, -10056, -12582, -12101,  -9026, -10752, -13803, -11325,  -7374,  -9741,  -8490,  -6927,  -9197, -11417,  -6841,  -9561,  -9757, -10514,  -5931, -11051,  -5185, -10506,  -8124,  -8226,  -5931, -13857, -14137, -12912,  -4485, -10659,  -4778, -10010, -11153,  -8738,  -9583,  -9228, -10879, -14011,  -9486, -14942,  -9875,  -4791, -13289, -10800, -14666,  -7366, -11362,  -9065,  -8556,  -5688, -10283,  -6549,  -6948, -10275, -10917,  -4685,  -9954, -12670,  -9422,  -5892,  -9353, -14386, -10551, -14482, -11736,  -6417,  -3568,  -3698,  -9178,  -2266,  -9994,  -5986, -11389, -11302,  -6367, -11367, -13916, -10990,  -6353, -12956,  -9718, -10285,  -8799, -11893,  -6884,  -8004, -11679,  -7925,  -6505,  -8629, -10426,  -9661, -13831,  -8775, -10973,  -8966,  -9627,  -8311,  -7332,  -5143, -10287,  -3397,  -8903,  -7517,  -9116, -10873,  -8365, -12218,  -9075,  -8120,  -9620,  -9707,  -8464, -10919, -10489,  -4048,  -7327,  -4621, -11017,  -9468, -11749,  -8770,  -5717,  -9816,  -4542,  -9742, -11160, -14966, -10220, -10742,  -9755,  -8226, -14287, -13731, -12290, -11415, -11703,  -8605,  -6884,  -7379, -14706, -12229, -11734,  -1934, -16383,  -5593,  -5356,  -5823,  -9945,  -8597,  -6260, -13468,  -9637,  -7154,  -6423,  -9109,  -3277,  -9421, -13546, -11189,  -9368,  -8895,  -7415,  -8599, -10336,  -7404,  -8351, -10060,  -8583,  -7105,  -6033, -12868,  -7871,  -4542, -11041,  -8910, -10585, -11481,  -9142,  -9026, -10302, -13925,  -8527, -11936,  -3640,  -9403,  -7113, -16209,  -9405,  -5949,  -9940,  -8110,  -8395, -11775,  -9277,  -7420,  -9900,  -4791, -11937,  -5464,  -7134, -10192,  -6186,  -5758,  -9336, -10322, -11491,  -5813,  -7630,  -9561, -10373,  -7362,  -8039, -10588, -10860,  -9896,  -8680,  -8841, -10908,  -7947,  -7486,  -9520,  -4511, -10001,  -7292, -10666, -10879,  -8153,  -6780,  -7134, -12401,  -5116,  -8968,  -7422, -11391,  -9109,  -7080,  -7867,  -8311,  -9070, -10071,  -5945,  -8115, -15675, -11594,  -9422, -11334,  -7848,  -5441, -11648,  -8858, -10664,  -2899,  -9903, -11131,  -6488,  -8650,  -7452,  -9394,  -6957,  -9577,  -7403, -10570,  -5944, -10636,  -7375, -10877, -15019,  -6170,  -9378, -11350,  -6874,  -8336, -11255, -12778,  -6341,  -8947, -10150,  -9981,  -8672, -14518,  -6394, -11466,  -6743,  -5669, -13673, -13318, -11648,  -8042,  -2986, -11670,  -6375,  -4237, -11795,  -7506,  -6050,  -9988,  -5510, -10143, -11760,  -7526, -11247,  -6047, -15988, -14020,  -7886,  -9208,  -6716,  -6351,  -8714, -15360, -12325,  -7950,  -2927,  -9907, -11940, -10927, -10709, -10791,  -8053,  -7004, -10815,  -7333,  -7361,  -7347, -10088,  -6538,  -9244, -11660, -10748,  -7245, -12775, -11124,  -9211, -11347,  -5419, -15325, -10426,  -7141,  -9012, -11568,  -5076, -14516,  -8275,  -9744,  -6499,  -6916, -10089,  -6788, -10776, -11874,  -5533, -12987, -10571,  -6323,  -6926,  -9230, -10845, -10633,  -2710,  -6876,  -5481,  -8153,  -7884, -11000,  -8924,  -8460,  -7510,  -8662,  -9696, -11485,  -9027,  -9893, -11573, -13239,  -8507,  -6824, -10419, -11435, -11523,  -5578,  -7173, -15375,  -4743, -12964,  -8871, -11525, -10762, -11149,  -6824,  -6107, -11594, -10961,  -6569,  -4087,  -4644,  -6954,  -5996,  -7998,  -9383,  -8612,  -8629, -15144, -14019,  -9113, -11602, -10296, -10520,  -7929,  -1379, -12483,  -8788, -10942,  -8892, -11443, -15520,  -9556,  -6836,  -8852,  -8261,  -9135,  -9980,  -8909,  -7891, -14650,  -9790, -10755,  -6666, -11399, -10772, -10637,  -6160,  -4569,  -2214,  -6035,  -6290,  -5124,  -5780,  -6066,  -3480,  -2406,  -1270,   6428,   1802,   9906,  10074,  16383,  15064,  13174,  12546,   8924,   3845,   2796,  -1906,  -2877,  -3106,    923,  -3059,  -5931,  -6072,  -1880,  -2279,    851,  -4242,  -6443, -12068,  -6204,  -4418,  -7376,  -8192,  -6130,  -7491,  -5316,  -8203,   -180,  -8268,  -5900,  -8037,  -9424,  -5393,  -7160,  -7509,  -9495, -10699,  -5975,  -3714, -10159,  -7965, -10324,  -9594, -13052, -11557,  -8493, -11799,  -8843,  -7815, -10900,  -7714, -10663,  -8511, -11220,  -5674, -10242,  -8287, -10517,  -4688,  -4515, -14240,  -6695,  -9852, -10317, -14314,  -8725,  -6193, -11393,  -6598, -14012,  -8015, -10455,  -8691,  -4771,  -9143, -10732,  -6487,  -7831, -11350, -12471, -10018, -12436, -11804, -11111, -11989,  -8617,  -9046, -11140,  -3834,  -9209,  -8180,  -6491,  -7087,  -6831, -11324,  -8039, -10547, -11770, -12199,  -4040,  -9634, -10186,  -8678, -11312,  -4258,  -8767,  -9985,  -9428,  -8678, -10421,  -6059, -11650, -10453,  -9153,  -7232,  -6054, -13132, -12424, -12822, -10624,  -6194,  -5884,  -7686,  -9986,  -4931, -12938, -10975,  -7318,    117,  -9385,  -9597, -10331,  -8303,  -9211, -12034, -12851, -12991,  -8332,  -7431, -10095,  -7934,  -6441, -10331, -10189, -10298,  -7018,  -5422,  -9639,  -9182, -11759, -11457, -13860,  -5264,  -8494,  -8652,  -3916, -13955, -10795, -10023,  -6498,  -3743, -12024,  -8697,  -5681,  -6870,  -6354,  -7706,  -8414,  -7458, -12288,  -3852, -11646,  -8645,  -9335,  -9468,  -8390, -13952,  -8924, -11963, -11904,  -6996, -12415,  -8980,  -5891, -10210,  -8719, -11259, -11337,  -9524,  -6349,  -7668,  -1473,  -6451, -13650,  -7716, -14161, -12895, -11675,  -8151, -10672, -13306, -11293, -10831,  -8200, -11014, -11756,  -2138,  -4160,  -9473,  -6992,  -8390, -11536, -10798, -11421, -14793, -10562, -10733, -10057, -10183, -10052,  -9269,  -5491,  -8837, -10249,  -7658,  -7982, -11973, -13826, -12161,  -9530, -11973,  -7828,  -9258,  -6409,  -9729,  -6177,  -9210, -10180,  -6544, -14177,  -4109,  -1954,  -8577, -10531,  -3545,  -8655, -12504, -10793,  -8464,  -9386,  -9759,  -8358,  -9373, -10479, -10836, -13514,  -8685, -11526,  -9831,  -8179,  -9456,  -6736,  -7341, -10139,  -8949,  -7686, -10568, -10074, -11765, -13705, -11263, -11469,  -9569]], [[ -5507,  -3655,  -6209,   -778,   4144,   1822,  -3931,  -6855,   -710,  11378,  -5087,  -1938,  -1689,   5155,  -2267,  -3430,    452,  -1455,   3280,  -1593,   3588,   2608,  -1508,   5877,   -538,  -9407,  -7247,  -9572,  10242,   5185,  -3615,   2371,   2508,  -7816,  -1208,  -8096,   5438,   1861,   3078,  -4968,  -5644,    395, -12466,    696,  -3704,   2450,   1268,  -1093,  -3559,  -5334,  -5586,  -6484,   7936,    266,   4821,   3901,  -4124,   5790,  -4815,   -364,   3919,   1129,   2040,   3040,  12358,   1542, -14894,  -8277,  -5710,   2853,  -1259,   5204,  -7876, -10707,   3249,  -4535,   3726,  -5405,   1184,  -5105,   1187,   2213,   -372,  -1073,  -7980,   2381,   1157,   4866,  -7891,   4057,  -4602,  -2501,  -3962,  -3310,   -197,   3050,  -1848,  -7759,  -5387,   8435,   2714,   -608,  -4617,   1970,  -8582,  -3723,  -8197,  -4283,  -9025,  11068,   4950,   -672,  -2254,   -212,  -6882,  -5202,   1073,  -1482,  -3327,  -2785,    619,   2726,  10438,  -4884,  -1781,  -3188,  -8969,  -7916,  13594,   5287,  -7965,   7668,  -2604,   3595,   1650,   5327,  -1368,   1940, -11906,   -598,   1296,   -691,  -4882,   2366,   1069,  -7940,  -4452,  -2619,   5094,  -5815,   3223,  -6477,   3023,   4911,   5144,   3267,  -1911,  -6856,    503,  -1041,  12573,   5523,  -2998,    340,   4737,   7702,  -3658,  -5201,   5259,   1274,  -5418,   1495,   -508,    679,   5848,  -7596,  -3311, -11008,  -2490,   2358,   5637,  -7323,   5086,   4203,  -5727,   -182,   4457,   4272,  -3940,   4997,  -6313,    613,   2115,  -6470,  -5565,   5630,   1134,   2370,  -2092,  -1400,  -2480,   2332,  -9727,  -4671,  -5512,  -8373,   8513,   1910,  -9284,   2505,  -4540,   7277,   6218,   5906,  -5625,   -291,  -1194,   5194,   4006,   8859,   -685,   8021,     58,  -2854,  -7703,   2468,   5341,   6179,    753,   -566,   7841,   5897,  -7679,   -479,  -1933,  -5109,   2682,   5884,  -8716,   7523,  -1086,  -3860,   -285,   -419,  -2412,  -8646,  -2729,   4064,   3258,   8060,  -1482,   4263,   5106,  -6042,  -9999,   1196,  -5389,   1438,   3251,  -6559,   1800,  -2998,   3187,  14060,   -247,  -5443,   6646,   6010,   6043,  -2296,  -3462,   2917,  -3900,  -7172,  -2710,   3074,  -3913,    798,  -3398,  -7198,  -5106,   6972,   3603,  -3254,   6207,   4158,   5131,  -4705,   7257,   1693,  -6647,  -1201,   -560,   3062,   4489,   1191,  -5410,    276,  -6641,  -4384,   -136,   1247,   2050,   2613,   2062,     89,  -3803,  10515,   2432,  -1317,   3116, -11460,   1232,  -1232,    894,  -4167,    101,  -8002,  -1285,  -1474,   -108,  10380, -10490,   2358,   1797,  -8710,  -2135,  -6300,   1545,   2326,  -8530,    791,   -770,   1420, -11302,   3182,   2133,    799,     20,  -6576,  -4733,  -2488,  -3015,   -749,   5205,   2687,    160,   1084,    354,   1048,    982,   2697, -10513,    379,  -9601,  -3845,  -3872,  -2955,  -3957,   -478,   2251,   3936,   1789,   1974, -14188,   4444,  -1315,  -1284,  -2770,   3999,  -3916,   3434,   1410,   -682,   1690, -10152,  -4904,   2514,   6498,   4125,   2410, -10188, -12463,   1549,   -508,  -2426,  -2348,  -4153,  -3190,   -488,   5005,   7701,  -2478,  -7201,   6315,    617,  -5209,   6649,  -3139,   2198,  -9233,   2641,   3997, -12470,  -9910,   -982,   1414,   3164,   5817,   1729, -10034,   3742,   4385,   1269,  -6032,   1350,  -1063,   4359,   1918,  -7704,  -4379,  -6312,   3837,   8767,   5798,   5967,   6796,  -1549,    -88,  -2668,  -4171,   2454,  -1024,  -4218,    233,  -5476,   3677,   5789,   -969,   7592,  -2083,  11656,   -956,   3465,   -636,  -8980,  -4605,   9707,  -6220,  -1819,  -3321,   5358,  -3808,  -5683,  -7851,   7370,  -5700,   -657,  -3356,   -250,  12117,   3269,   5546,   3392,   6110,   9839,   -280,   3261,    138,   7575,   4421,   3622,  -7184,  -3382,  -3148,  -1783,  -2698,  -3751,    890,  -3364,  -2457,  -2227,   5545,   1090,   1757,   -616,   5060,  -3006,   2131,   5460,  -5913,  -4838,   2841,   4394,   3460,   5203,  -2117,  13110,  11101,  -5432,   1499,  -6013,  -2705,  -2515,   -953,    867,  -3496,  11883,   -465,  -6926,   9101,   8050,   7110,    160,   4185,  -4176,  -6087,   3132,    512,  -5436,   1192,   1199,    894,   2576,   5496,   2211,  -6132,  -1704,   2687,  -1655,   2682,   2322,    887,   6686,  -1533,  -3493,   6347,  -5123,  -6437,   7865,  10868,  -1102, -11320,  -1679,  -1116,   1819,   1945,  -2816,  11033,  -5147,   2233,  -1324,   9924,   6011,   5432,  -5776,  -2161,   -618,  -3063,  -6463,  -5972,   -598,  -2415,   9607,  -3050,  -3827,  -4042,  12098,   4119,     18,   8673,   4919,   7346,   6890, -10697,   -789, -10615,   5880,  -2960,  -9515,   4112,  -4240,  -8507,   2938,  -5026,   4493,  -1994,   2181,   2712,   3372,  -4732,  -1593,  -2146,  -8000,  -6693,  -2986,  -2407,   6765,  -7025,  -6737,   2767,  -3159,   5117,  -4583,   4195,  -3919,   -322,   5936,  -1273, -10587,  -1136,  -2333,  -7975,  -2010,   1732,  -1241,  -2875,   2054,   2223,   8144,  -9351,   4318,   3080,  -7174, -13886,   5719,  -4619,  -1175,   1091,   3044,  -5829,   3512,   7453,    366,  -6549,   7211,  -2050,   -980,   9224,  -1865,   6798,  -1763,   2593, -11168,   2240,  -4073,  -4492,   8016,   8968,   7691,  -1697,   5768,  -3432,   4712,  -2096,  -1016,  -4015,   3456,   5900,  -5261,  -3728,   4227,  -4613,   7250, -10934,  -3888,  -4663,   5228,   -398,   2895,  -3374,   4653,    347, -11585,   6641,   3997,   2071,  -1670,   2607,  -3963,   8897,  -3681,   9112,  -5434,   7589,   5257,  -5971,   4109,   9565,   2928,  -1533,   -644, -12602,  -3390,   2993,  -4544,  -5706,   5862,   1276,   3503,   1867,   -498,   2885,   6601,   1213,   4492,   8236,   3897,  -8363,   3420,    927,  -5533,   5810,    915,  -1851,  -3188,   5767, -10716,   6514,    -95,    255,  -1277,   4291,    840,  -9040,   6152,   2395,   -852,    104,  -2749,  -8673,  -1585,   5503,  -6335,   7171,   7563,  -1869,   2128,  12353,   5734,  -8459,   1814,   6633,   3127, -15311,   6706,  -1552,   3310,   1505,   4355,  10036,  -4058,   4994,   7768,    422,  13064,   -745,  -6019,  14788,   2468,   1006,  -3278,   -158,   3962,   2716,   5900,   1425,  16383,   4693,   4484,     18,   3847,  -8514,   5972,   8988,   1418,   3078,   -953,  -1750,   4788,  12465,   4658,   1271,   -575,   6021,   -810,   3707,   4716,    543,   4046,   4496,   6364,   5308,  -7256,  -9901,  -2641,   3694,   -606,  -2364,   2692,   2317,  -2638,  -9023,  -2712,   -550,  -5574,   9599,   6581,   9074,     71,   1385,    865,  -9161,  -3274,  -2969,   1298,   2439,  -1619,    795,   5699,  -4587,  -7951,  -5857,   5064,    919,  -2900,   -246,  -1475,   -165,  -1057,  -2664,  -8882,  -7289,  -4295,  -4372,     39,  -9857,   8467,  -1289,     12,  -5146,  -8965,  -6918,  -1582,  -6334,  -4401,   5891,  -3167,  -3372,    345,   3257,   4668,    533,    792,   4624, -11582,   6528,  -2154,  -9259,  -2310,   2135,  -5774,  -2215,   1290,     75,  -5303,  -2043,  -4785,  16338,  -5017,   2708,  11947,  11507,   6315,  -3745,  -4465, -14398,   1536,  -3333,  -9865,   4239,  -4594, -12525,   -179,   -995,   3635,   4732,  -5485,   4200,    920,  -3235,   6730,  -2565,  11050,   1226,  -2908,   8157,  -5569,   6317,   -638,  -3416,  -6167,   -914,   -117,  -1265,  -5165, -10691,   -500,   6193,  -7743,   -945,   -345,   2809,  -4479,   3363, -13090,  -1288,  -3945,  14143,   6510,   2350,   7182,  -6731,  -2339,   -494,  -2337,   4693,  -5576,  -6532,  -3055,  -6711,   6815,  -6372,    839,  -2605,  -5831,  -2854,   -989,  -5293,  -2170,  -1088,   2611,   3037,   6575,   5912,  -1394,  -9466,  -5411,  -9022,   -722, -16383,    611,  -1412,  -1939,  -4884,    575,  -8383,  -3636,   -604,   7990,   7970,   4985,  -7216,  -2636,  13370,  -3166,  -1094,  -1745,    834,  -5413,  -5416,  -4815,   2540,  -6462,  -4184,   7226,  -1661,   8544,  -2784,   -327,    886,   -219,  -1906,   1738, -11872,   4817,  -1233,  -2842,   4786,   7589,    -10,   2219,   3541,   9697,  -9787,   7383,  -2721,   2883, -10610, -12247,   6128,  -2962,   1466,   4401,   5483,  -5625,   6860,  -2028,   2469,  -6539,   6933,   -615,  -4024,  -5308,   7104,  -6148,  -9875,    -56,   2245, -10643,  -3235,  -7886,  -4296,  -3942]]])],\n",
              "         dtype=(numpy.record, [('INDEXVAL', '>f8'), ('TSUBINT', '>f8'), ('OFFS_SUB', '>f8'), ('LST_SUB', '>f8'), ('RA_SUB', '>f8'), ('DEC_SUB', '>f8'), ('GLON_SUB', '>f8'), ('GLAT_SUB', '>f8'), ('FD_ANG', '>f4'), ('POS_ANG', '>f4'), ('PAR_ANG', '>f4'), ('TEL_AZ', '>f4'), ('TEL_ZEN', '>f4'), ('AUX_DM', '>f8'), ('AUX_RM', '>f8'), ('DAT_FREQ', '>f8'), ('DAT_WTS', '>f4'), ('DAT_OFFS', '>f4', (4,)), ('DAT_SCL', '>f4', (4,)), ('DATA', '>i2', (4, 1, 1024))]))"
            ]
          },
          "metadata": {
            "tags": []
          },
          "execution_count": 16
        }
      ]
    },
    {
      "cell_type": "code",
      "metadata": {
        "colab": {
          "base_uri": "https://localhost:8080/"
        },
        "id": "oo-x4A2l7OE9",
        "outputId": "bd8274a0-34a5-4938-b54a-cc642c6aa7eb"
      },
      "source": [
        "len(subint.data)"
      ],
      "execution_count": 17,
      "outputs": [
        {
          "output_type": "execute_result",
          "data": {
            "text/plain": [
              "1"
            ]
          },
          "metadata": {
            "tags": []
          },
          "execution_count": 17
        }
      ]
    },
    {
      "cell_type": "code",
      "metadata": {
        "id": "8QT0IEcz96gn"
      },
      "source": [
        "data= subint.data['DATA']"
      ],
      "execution_count": 18,
      "outputs": []
    },
    {
      "cell_type": "code",
      "metadata": {
        "id": "qOCRDWQ46tW4"
      },
      "source": [
        "offset=subint.data['DAT_OFFS']"
      ],
      "execution_count": 19,
      "outputs": []
    },
    {
      "cell_type": "code",
      "metadata": {
        "id": "fbLRkJxs6__Y"
      },
      "source": [
        "scale=subint.data['DAT_SCL']"
      ],
      "execution_count": 20,
      "outputs": []
    },
    {
      "cell_type": "code",
      "metadata": {
        "colab": {
          "base_uri": "https://localhost:8080/"
        },
        "id": "9JWIDlJG-AQN",
        "outputId": "9cbf037e-fb08-47d1-c6da-6ad154a77097"
      },
      "source": [
        "offset.shape"
      ],
      "execution_count": 21,
      "outputs": [
        {
          "output_type": "execute_result",
          "data": {
            "text/plain": [
              "(1, 4)"
            ]
          },
          "metadata": {
            "tags": []
          },
          "execution_count": 21
        }
      ]
    },
    {
      "cell_type": "code",
      "metadata": {
        "colab": {
          "base_uri": "https://localhost:8080/"
        },
        "id": "3UD5uvZ7-DrZ",
        "outputId": "70082bad-0abb-4428-a2c6-b968cbb59269"
      },
      "source": [
        "scale.shape"
      ],
      "execution_count": 22,
      "outputs": [
        {
          "output_type": "execute_result",
          "data": {
            "text/plain": [
              "(1, 4)"
            ]
          },
          "metadata": {
            "tags": []
          },
          "execution_count": 22
        }
      ]
    },
    {
      "cell_type": "code",
      "metadata": {
        "colab": {
          "base_uri": "https://localhost:8080/"
        },
        "id": "MteCCDM--E6K",
        "outputId": "70fcdb04-07db-4558-f57f-5b2b908de918"
      },
      "source": [
        "data.shape"
      ],
      "execution_count": 23,
      "outputs": [
        {
          "output_type": "execute_result",
          "data": {
            "text/plain": [
              "(1, 4, 1, 1024)"
            ]
          },
          "metadata": {
            "tags": []
          },
          "execution_count": 23
        }
      ]
    },
    {
      "cell_type": "code",
      "metadata": {
        "colab": {
          "base_uri": "https://localhost:8080/"
        },
        "id": "bUwxwURlDVEy",
        "outputId": "0f0aed04-b674-48a9-ebce-0ded03b8bffe"
      },
      "source": [
        "data.T.shape"
      ],
      "execution_count": 24,
      "outputs": [
        {
          "output_type": "execute_result",
          "data": {
            "text/plain": [
              "(1024, 1, 4, 1)"
            ]
          },
          "metadata": {
            "tags": []
          },
          "execution_count": 24
        }
      ]
    },
    {
      "cell_type": "code",
      "metadata": {
        "colab": {
          "base_uri": "https://localhost:8080/"
        },
        "id": "_j9D-DhA-Ra7",
        "outputId": "5658503a-a5d1-4388-e1fc-c68d2c5f430c"
      },
      "source": [
        "data"
      ],
      "execution_count": 25,
      "outputs": [
        {
          "output_type": "execute_result",
          "data": {
            "text/plain": [
              "array([[[[-13827, -12422, -11637, ..., -12569, -11772, -12004]],\n",
              "\n",
              "        [[ -5610,  -7138,  -7329, ...,  -7789,  -5801,  -8810]],\n",
              "\n",
              "        [[ -9884, -10995, -11258, ..., -11263, -11469,  -9569]],\n",
              "\n",
              "        [[ -5507,  -3655,  -6209, ...,  -7886,  -4296,  -3942]]]],\n",
              "      dtype=int16)"
            ]
          },
          "metadata": {
            "tags": []
          },
          "execution_count": 25
        }
      ]
    },
    {
      "cell_type": "code",
      "metadata": {
        "id": "6UoqYNt6GGKq"
      },
      "source": [
        "data1=np.reshape(data.T,[1024,4])"
      ],
      "execution_count": 26,
      "outputs": []
    },
    {
      "cell_type": "code",
      "metadata": {
        "colab": {
          "base_uri": "https://localhost:8080/"
        },
        "id": "74hY3v23GSf9",
        "outputId": "ea0145be-eba1-49e7-9a61-464f4453595c"
      },
      "source": [
        "data1.shape"
      ],
      "execution_count": 27,
      "outputs": [
        {
          "output_type": "execute_result",
          "data": {
            "text/plain": [
              "(1024, 4)"
            ]
          },
          "metadata": {
            "tags": []
          },
          "execution_count": 27
        }
      ]
    },
    {
      "cell_type": "code",
      "metadata": {
        "colab": {
          "base_uri": "https://localhost:8080/"
        },
        "id": "XKryEGa9GXbh",
        "outputId": "06c44d23-faf4-4c8c-9074-6ab5bf0b01dd"
      },
      "source": [
        "data1"
      ],
      "execution_count": 28,
      "outputs": [
        {
          "output_type": "execute_result",
          "data": {
            "text/plain": [
              "array([[-13827,  -5610,  -9884,  -5507],\n",
              "       [-12422,  -7138, -10995,  -3655],\n",
              "       [-11637,  -7329, -11258,  -6209],\n",
              "       ...,\n",
              "       [-12569,  -7789, -11263,  -7886],\n",
              "       [-11772,  -5801, -11469,  -4296],\n",
              "       [-12004,  -8810,  -9569,  -3942]], dtype=int16)"
            ]
          },
          "metadata": {
            "tags": []
          },
          "execution_count": 28
        }
      ]
    },
    {
      "cell_type": "code",
      "metadata": {
        "id": "vXO-0zm-GcLO"
      },
      "source": [
        "rawiquv=scale*data1+offset  #applying scale and offset transformation to seprate the four profiles"
      ],
      "execution_count": 29,
      "outputs": []
    },
    {
      "cell_type": "code",
      "metadata": {
        "colab": {
          "base_uri": "https://localhost:8080/"
        },
        "id": "GXhRTNEWGYuj",
        "outputId": "63970552-fd75-4721-ca16-9b1ca65b2c7f"
      },
      "source": [
        "rawiquv"
      ],
      "execution_count": 30,
      "outputs": [
        {
          "output_type": "execute_result",
          "data": {
            "text/plain": [
              "array([[46515.336  ,   270.55072, -1644.1919 ,   647.25494],\n",
              "       [46516.637  ,   269.79605, -1644.7332 ,   647.6898 ],\n",
              "       [46517.363  ,   269.70172, -1644.8612 ,   647.0901 ],\n",
              "       ...,\n",
              "       [46516.5    ,   269.47452, -1644.8636 ,   646.69635],\n",
              "       [46517.24   ,   270.4564 , -1644.964  ,   647.5393 ],\n",
              "       [46517.023  ,   268.97028, -1644.0385 ,   647.62244]],\n",
              "      dtype=float32)"
            ]
          },
          "metadata": {
            "tags": []
          },
          "execution_count": 30
        }
      ]
    },
    {
      "cell_type": "code",
      "metadata": {
        "id": "pnGA6V-47GMF"
      },
      "source": [
        "I=rawiquv[:,0]\n",
        "Q=rawiquv[:,1]\n",
        "U=rawiquv[:,2]\n",
        "V=rawiquv[:,3]\n",
        "\n",
        "#The sorted values of each of the polarizaiton levels\n",
        "I_srt=np.sort(I)\n",
        "Q_srt=np.sort(Q)\n",
        "U_srt=np.sort(U)\n",
        "V_srt=np.sort(V)\n"
      ],
      "execution_count": 41,
      "outputs": []
    },
    {
      "cell_type": "code",
      "metadata": {
        "colab": {
          "base_uri": "https://localhost:8080/",
          "height": 282
        },
        "id": "b1Jq-ut77FYL",
        "outputId": "4b3513b1-e70b-4678-99b5-33b18ebeab48"
      },
      "source": [
        "plt.plot(U_srt)"
      ],
      "execution_count": 44,
      "outputs": [
        {
          "output_type": "execute_result",
          "data": {
            "text/plain": [
              "[<matplotlib.lines.Line2D at 0x7fccb8d9f2e8>]"
            ]
          },
          "metadata": {
            "tags": []
          },
          "execution_count": 44
        },
        {
          "output_type": "display_data",
          "data": {
            "image/png": "[encoded data removed]",
            "text/plain": [
              "<Figure size 432x288 with 1 Axes>"
            ]
          },
          "metadata": {
            "tags": [],
            "needs_background": "light"
          }
        }
      ]
    },
    {
      "cell_type": "markdown",
      "metadata": {
        "id": "SVWDzMKAEQx1"
      },
      "source": [
        "Let us compare between Zhang Fit and simple base line removal"
      ]
    },
    {
      "cell_type": "code",
      "metadata": {
        "id": "Svg46w2hQXDc"
      },
      "source": [
        "def basremown(pol):\n",
        "  brempol=pol-np.mean(pol[450:650])  #removing the center averaged values of the sorted array \n",
        "  return brempol  #baseline function for rmoving the mean value of some middle elements\n",
        "  "
      ],
      "execution_count": 52,
      "outputs": []
    },
    {
      "cell_type": "code",
      "metadata": {
        "id": "qKSfBDtY9YIK"
      },
      "source": [
        "I_brem=basremown(I_srt)               # Baseline rmoved versions of I,Q,U and V \n",
        "Q_brem=basremown(Q_srt)\n",
        "U_brem=basremown(U_srt)\n",
        "V_brem=basremown(V_srt)\n"
      ],
      "execution_count": 64,
      "outputs": []
    },
    {
      "cell_type": "code",
      "metadata": {
        "colab": {
          "base_uri": "https://localhost:8080/",
          "height": 283
        },
        "id": "VXUPiMtFL99b",
        "outputId": "a38d2bb8-51f1-4043-c4b8-19b3e5b9d738"
      },
      "source": [
        "plt.plot(Q_brem)\n",
        "#plt.plot(Q_srt)"
      ],
      "execution_count": 80,
      "outputs": [
        {
          "output_type": "execute_result",
          "data": {
            "text/plain": [
              "[<matplotlib.lines.Line2D at 0x7fccb8553ba8>]"
            ]
          },
          "metadata": {
            "tags": []
          },
          "execution_count": 80
        },
        {
          "output_type": "display_data",
          "data": {
            "image/png": "[encoded data removed]",
            "text/plain": [
              "<Figure size 432x288 with 1 Axes>"
            ]
          },
          "metadata": {
            "tags": [],
            "needs_background": "light"
          }
        }
      ]
    },
    {
      "cell_type": "markdown",
      "metadata": {
        "id": "7URgG_nrN_Sz"
      },
      "source": [
        "We are comparing between the sorted result of Q and the baseline removed version of Q"
      ]
    },
    {
      "cell_type": "code",
      "metadata": {
        "colab": {
          "base_uri": "https://localhost:8080/",
          "height": 282
        },
        "id": "egOMKzBWS17M",
        "outputId": "bdb897b5-cd69-4639-888b-7dc74c9ca7d4"
      },
      "source": [
        "plt.plot(I_brem)"
      ],
      "execution_count": 82,
      "outputs": [
        {
          "output_type": "execute_result",
          "data": {
            "text/plain": [
              "[<matplotlib.lines.Line2D at 0x7fccb8427160>]"
            ]
          },
          "metadata": {
            "tags": []
          },
          "execution_count": 82
        },
        {
          "output_type": "display_data",
          "data": {
            "image/png": "[encoded data removed]",
            "text/plain": [
              "<Figure size 432x288 with 1 Axes>"
            ]
          },
          "metadata": {
            "tags": [],
            "needs_background": "light"
          }
        }
      ]
    },
    {
      "cell_type": "code",
      "metadata": {
        "colab": {
          "base_uri": "https://localhost:8080/",
          "height": 282
        },
        "id": "TWBHZt19NM0m",
        "outputId": "50c3ad49-de84-4532-eeff-baa356bdea94"
      },
      "source": [
        "plt.plot(U_brem)"
      ],
      "execution_count": 81,
      "outputs": [
        {
          "output_type": "execute_result",
          "data": {
            "text/plain": [
              "[<matplotlib.lines.Line2D at 0x7fccb84bafd0>]"
            ]
          },
          "metadata": {
            "tags": []
          },
          "execution_count": 81
        },
        {
          "output_type": "display_data",
          "data": {
            "image/png": "[encoded data removed]",
            "text/plain": [
              "<Figure size 432x288 with 1 Axes>"
            ]
          },
          "metadata": {
            "tags": [],
            "needs_background": "light"
          }
        }
      ]
    },
    {
      "cell_type": "code",
      "metadata": {
        "colab": {
          "base_uri": "https://localhost:8080/"
        },
        "id": "r7JgWdfjPTVb",
        "outputId": "48690bd4-4db9-492d-e048-50db7ef95e32"
      },
      "source": [
        "I_srt[500:600]"
      ],
      "execution_count": 68,
      "outputs": [
        {
          "output_type": "execute_result",
          "data": {
            "text/plain": [
              "array([46517.562, 46517.562, 46517.57 , 46517.57 , 46517.58 , 46517.582,\n",
              "       46517.586, 46517.586, 46517.586, 46517.594, 46517.594, 46517.598,\n",
              "       46517.598, 46517.598, 46517.6  , 46517.6  , 46517.6  , 46517.6  ,\n",
              "       46517.605, 46517.605, 46517.61 , 46517.61 , 46517.613, 46517.62 ,\n",
              "       46517.62 , 46517.62 , 46517.625, 46517.63 , 46517.633, 46517.637,\n",
              "       46517.637, 46517.645, 46517.645, 46517.645, 46517.65 , 46517.652,\n",
              "       46517.668, 46517.668, 46517.668, 46517.688, 46517.688, 46517.688,\n",
              "       46517.69 , 46517.69 , 46517.69 , 46517.69 , 46517.69 , 46517.7  ,\n",
              "       46517.707, 46517.71 , 46517.71 , 46517.715, 46517.72 , 46517.723,\n",
              "       46517.727, 46517.727, 46517.727, 46517.727, 46517.73 , 46517.74 ,\n",
              "       46517.742, 46517.746, 46517.758, 46517.766, 46517.77 , 46517.773,\n",
              "       46517.777, 46517.777, 46517.78 , 46517.785, 46517.785, 46517.79 ,\n",
              "       46517.793, 46517.8  , 46517.8  , 46517.8  , 46517.805, 46517.805,\n",
              "       46517.805, 46517.816, 46517.83 , 46517.832, 46517.836, 46517.836,\n",
              "       46517.836, 46517.844, 46517.844, 46517.848, 46517.848, 46517.855,\n",
              "       46517.867, 46517.867, 46517.87 , 46517.88 , 46517.883, 46517.887,\n",
              "       46517.895, 46517.895, 46517.895, 46517.91 ], dtype=float32)"
            ]
          },
          "metadata": {
            "tags": []
          },
          "execution_count": 68
        }
      ]
    },
    {
      "cell_type": "markdown",
      "metadata": {
        "id": "DTpaU8W4PYhe"
      },
      "source": [
        ""
      ]
    },
    {
      "cell_type": "code",
      "metadata": {
        "id": "-pcG9zhgNQWu"
      },
      "source": [
        "L=np.sqrt(U_brem**2 + Q_brem**2)\n",
        "phi= 0.5*np.arctan(U_brem/Q_brem)"
      ],
      "execution_count": 76,
      "outputs": []
    },
    {
      "cell_type": "code",
      "metadata": {
        "id": "f1jM83N-QJHv"
      },
      "source": [
        "\n",
        "phideg=phi*(180/np.pi)"
      ],
      "execution_count": 84,
      "outputs": []
    },
    {
      "cell_type": "code",
      "metadata": {
        "id": "z8tDh1np23mv",
        "colab": {
          "base_uri": "https://localhost:8080/",
          "height": 282
        },
        "outputId": "486201a4-7b23-4dab-8a3e-d394ccda5bfa"
      },
      "source": [
        "plt.plot(phideg) #polarization angle "
      ],
      "execution_count": 86,
      "outputs": [
        {
          "output_type": "execute_result",
          "data": {
            "text/plain": [
              "[<matplotlib.lines.Line2D at 0x7fccb836b7f0>]"
            ]
          },
          "metadata": {
            "tags": []
          },
          "execution_count": 86
        },
        {
          "output_type": "display_data",
          "data": {
            "image/png": "[encoded data removed]",
            "text/plain": [
              "<Figure size 432x288 with 1 Axes>"
            ]
          },
          "metadata": {
            "tags": [],
            "needs_background": "light"
          }
        }
      ]
    },
    {
      "cell_type": "code",
      "metadata": {
        "id": "m3SS3Vj43ou1",
        "colab": {
          "base_uri": "https://localhost:8080/",
          "height": 661
        },
        "outputId": "b671e05b-f0a2-4dc9-f507-4f41373b2e6a"
      },
      "source": [
        "plt.figure(figsize=(10,10))\n",
        "plt.subplot(2,1,1)\n",
        "plt.xlabel('Nbins',fontsize=20)\n",
        "plt.ylabel('Polarization',fontsize=20)\n",
        "plt.title('Polarization plot for Pulsar J1913+0904.1400MHz',fontsize=25)\n",
        "plt.plot(V_brem)\n",
        "plt.grid()\n",
        "plt.plot(I_brem)\n",
        "plt.plot(L)\n",
        "plt.gca().legend(('Circular','Total','Linear'))\n",
        "#plt.show()\n",
        "plt.figure(figsize=(10,10))\n",
        "plt.subplot(2,1,2)\n",
        "#\n",
        "plt.grid()\n",
        "plt.xlabel('Nbins',fontsize=20)\n",
        "plt.ylabel('pol_angle',fontsize=20)\n",
        "plt.plot(phideg)\n",
        "fig = plt.gcf()\n",
        "plt.show()\n",
        "plt.gci()\n",
        "plt.savefig('pul3')  #plot image is in degrees"
      ],
      "execution_count": 158,
      "outputs": [
        {
          "output_type": "display_data",
          "data": {
            "image/png": "[encoded data removed]",
            "text/plain": [
              "<Figure size 720x720 with 1 Axes>"
            ]
          },
          "metadata": {
            "tags": [],
            "needs_background": "light"
          }
        },
        {
          "output_type": "display_data",
          "data": {
            "image/png": "[encoded data removed]",
            "text/plain": [
              "<Figure size 720x720 with 1 Axes>"
            ]
          },
          "metadata": {
            "tags": [],
            "needs_background": "light"
          }
        },
        {
          "output_type": "display_data",
          "data": {
            "text/plain": [
              "<Figure size 432x288 with 0 Axes>"
            ]
          },
          "metadata": {
            "tags": []
          }
        }
      ]
    },
    {
      "cell_type": "markdown",
      "metadata": {
        "id": "89RpfEESmWPY"
      },
      "source": [
        "Number of Time Bins"
      ]
    },
    {
      "cell_type": "code",
      "metadata": {
        "colab": {
          "base_uri": "https://localhost:8080/"
        },
        "id": "Hbwi95kZ_nxP",
        "outputId": "4a9482ae-94e7-494f-b4b3-2eae1a9a5504"
      },
      "source": [
        "subint.header['NBIN']"
      ],
      "execution_count": null,
      "outputs": [
        {
          "output_type": "execute_result",
          "data": {
            "text/plain": [
              "1024"
            ]
          },
          "metadata": {
            "tags": []
          },
          "execution_count": 56
        }
      ]
    },
    {
      "cell_type": "markdown",
      "metadata": {
        "id": "X-Bzp9EEmZQN"
      },
      "source": [
        "The Contents of the subint header"
      ]
    },
    {
      "cell_type": "code",
      "metadata": {
        "colab": {
          "base_uri": "https://localhost:8080/"
        },
        "id": "0uISFG1w3E7B",
        "outputId": "0fda6e40-2317-4c69-dce2-8e488e2a046b"
      },
      "source": [
        "subint.header"
      ],
      "execution_count": null,
      "outputs": [
        {
          "output_type": "execute_result",
          "data": {
            "text/plain": [
              "XTENSION= 'BINTABLE'           / ***** Subintegration data  *****               \n",
              "BITPIX  =                    8 / N/A                                            \n",
              "NAXIS   =                    2 / 2-dimensional binary table                     \n",
              "NAXIS1  =                 8336 / width of table in bytes                        \n",
              "NAXIS2  =                    1 / Number of rows in table (NSUBINT)              \n",
              "PCOUNT  =                    0 / size of special data area                      \n",
              "GCOUNT  =                    1 / one data group (required keyword)              \n",
              "TFIELDS =                   20 / Number of fields per row                       \n",
              "TTYPE1  = 'INDEXVAL'           / Optionally used if INT_TYPE != TIME            \n",
              "TFORM1  = '1D      '           / Double                                         \n",
              "TTYPE2  = 'TSUBINT '           / Length of subintegration                       \n",
              "TFORM2  = '1D      '           / Double                                         \n",
              "TTYPE3  = 'OFFS_SUB'           / Offset from Start of subint centre             \n",
              "TFORM3  = '1D      '           / Double                                         \n",
              "TTYPE4  = 'LST_SUB '           / LST at subint centre                           \n",
              "TFORM4  = '1D      '           / Double                                         \n",
              "TTYPE5  = 'RA_SUB  '           / RA (J2000) at subint centre                    \n",
              "TFORM5  = '1D      '           / Double                                         \n",
              "TTYPE6  = 'DEC_SUB '           / Dec (J2000) at subint centre                   \n",
              "TFORM6  = '1D      '           / Double                                         \n",
              "TTYPE7  = 'GLON_SUB'           / [deg] Gal longitude at subint centre           \n",
              "TFORM7  = '1D      '           / Double                                         \n",
              "TTYPE8  = 'GLAT_SUB'           / [deg] Gal latitude at subint centre            \n",
              "TFORM8  = '1D      '           / Double                                         \n",
              "TTYPE9  = 'FD_ANG  '           / [deg] Feed angle at subint centre              \n",
              "TFORM9  = '1E      '           / Float                                          \n",
              "TTYPE10 = 'POS_ANG '           / [deg] Position angle of feed at subint centre  \n",
              "TFORM10 = '1E      '           / Float                                          \n",
              "TTYPE11 = 'PAR_ANG '           / [deg] Parallactic angle at subint centre       \n",
              "TFORM11 = '1E      '           / Float                                          \n",
              "TTYPE12 = 'TEL_AZ  '           / [deg] Telescope azimuth at subint centre       \n",
              "TFORM12 = '1E      '           / Float                                          \n",
              "TTYPE13 = 'TEL_ZEN '           / [deg] Telescope zenith angle at subint centre  \n",
              "TFORM13 = '1E      '           / Float                                          \n",
              "TTYPE14 = 'AUX_DM  '           / additional DM (ionosphere, corona, etc.)       \n",
              "TFORM14 = '1D      '           / Double                                         \n",
              "TTYPE15 = 'AUX_RM  '           / additional RM (ionosphere, corona, etc.)       \n",
              "TFORM15 = '1D      '           / Double                                         \n",
              "TTYPE16 = 'DAT_FREQ'           / [MHz] Centre frequency for each channel        \n",
              "TFORM16 = 'D       '           / NCHAN doubles                                  \n",
              "TTYPE17 = 'DAT_WTS '           / Weights for each channel                       \n",
              "TFORM17 = 'E       '           / NCHAN floats                                   \n",
              "TTYPE18 = 'DAT_OFFS'           / Data offset for each channel                   \n",
              "TFORM18 = '4E      '           / NCHAN*NPOL floats                              \n",
              "TTYPE19 = 'DAT_SCL '           / Data scale factor (outval=dataval*scl + offs)  \n",
              "TFORM19 = '4E      '           / NCHAN*NPOL floats                              \n",
              "TTYPE20 = 'DATA    '           / Subint data table                              \n",
              "TFORM20 = '4096I   '           / I (Fold) or B (1-8 bit) Search                 \n",
              "INT_TYPE= 'TIME    '           / Time axis (TIME, BINPHSPERI, BINLNGASC, etc)   \n",
              "INT_UNIT= 'SEC     '           / Unit of time axis (SEC, PHS (0-1), DEG)        \n",
              "SCALE   = 'Jansky  '           / Intensity units (FluxDen/RefFlux/Jansky)       \n",
              "POL_TYPE= 'IQUV    '           / Polarisation identifier (e.g., AABBCRCI, AA+BB)\n",
              "NPOL    =                    4 / Nr of polarisations                            \n",
              "TBIN    = '*       '           / [s] Time per bin or sample                     \n",
              "NBIN    =                 1024 / Nr of bins (PSR/CAL mode; else 1)              \n",
              "NBIN_PRD= '*       '           / Nr of bins/pulse period (for gated data)       \n",
              "PHS_OFFS= '*       '           / Phase offset of bin 0 for gated data           \n",
              "NBITS   =                    1 / Nr of bits/datum (SEARCH mode data, else 1)    \n",
              "ZERO_OFF= '*       '           / Zero offset for SEARCH-mode data               \n",
              "SIGNINT =                    0 / 1 for signed ints in SEARCH-mode data, else 0  \n",
              "NSUBOFFS= '*       '           / Subint offset (Contiguous SEARCH-mode files)   \n",
              "NCHAN   =                    1 / Number of channels/sub-bands in this file      \n",
              "CHAN_BW =                -256. / [MHz] Channel/sub-band width                   \n",
              "DM      =                 95.3 / [cm-3 pc] DM for post-detection dedisperion    \n",
              "RM      =                   0. / [rad m-2] RM for post-detection deFaraday      \n",
              "NCHNOFFS= '*       '           / Channel/sub-band offset for split files        \n",
              "NSBLK   =                    1 / Samples/row (SEARCH mode, else 1)              \n",
              "NSTOT   = '*       '           / Total number of samples (SEARCH mode, else 1)  \n",
              "EXTNAME = 'SUBINT  '           / name of this binary table extension            \n",
              "TUNIT2  = 's       '           / Units of field                                 \n",
              "TUNIT3  = 's       '           / Units of field                                 \n",
              "TUNIT4  = 's       '           / Units of field                                 \n",
              "TUNIT5  = 'deg     '           / Units of field                                 \n",
              "TUNIT6  = 'deg     '           / Units of field                                 \n",
              "TUNIT7  = 'deg     '           / Units of field                                 \n",
              "TUNIT8  = 'deg     '           / Units of field                                 \n",
              "TUNIT9  = 'deg     '           / Units of field                                 \n",
              "TUNIT10 = 'deg     '           / Units of field                                 \n",
              "TUNIT11 = 'deg     '           / Units of field                                 \n",
              "TUNIT12 = 'deg     '           / Units of field                                 \n",
              "TUNIT13 = 'deg     '           / Units of field                                 \n",
              "TUNIT14 = 'CM-3    '                                                            \n",
              "TUNIT15 = 'RAD     '                                                            \n",
              "TUNIT16 = 'MHz     '           / Units of field                                 \n",
              "TDIM20  = '(1024,1,4)'         / (NBIN,NCHAN,NPOL) or (NCHAN,NPOL,NSBLK*NBITS/8)\n",
              "TUNIT20 = 'Jy      '           / Units of subint data                           \n",
              "EXTVER  =                    1 / auto assigned by template parser               \n",
              "NCH_STRT=                    0                                                  \n",
              "EPOCHS  = 'VALID   '                                                            "
            ]
          },
          "metadata": {
            "tags": []
          },
          "execution_count": 25
        }
      ]
    },
    {
      "cell_type": "code",
      "metadata": {
        "id": "iltWSAR73Exe"
      },
      "source": [
        ""
      ],
      "execution_count": null,
      "outputs": []
    }
  ]
}