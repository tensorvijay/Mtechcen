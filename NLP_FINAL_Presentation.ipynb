{
  "nbformat": 4,
  "nbformat_minor": 0,
  "metadata": {
    "colab": {
      "provenance": [],
      "mount_file_id": "1FR5erlH095nNxY-QIaWAjynpCiI6nSmM",
      "authorship_tag": "ABX9TyOZC7rVG9mg5OX5Pll+rjB2",
      "include_colab_link": true
    },
    "kernelspec": {
      "name": "python3",
      "display_name": "Python 3"
    },
    "accelerator": "GPU"
  },
  "cells": [
    {
      "cell_type": "markdown",
      "metadata": {
        "id": "view-in-github",
        "colab_type": "text"
      },
      "source": [
        "<a href=\"https://colab.research.google.com/github/tensorvijay/Mtechcen/blob/master/NLP_FINAL_Presentation.ipynb\" target=\"_parent\"><img src=\"https://colab.research.google.com/assets/colab-badge.svg\" alt=\"Open In Colab\"/></a>"
      ]
    },
    {
      "cell_type": "code",
      "metadata": {
        "id": "HwF6X-aINf8H"
      },
      "source": [
        "import pandas as pd\n",
        "import numpy as np\n",
        "import matplotlib.pyplot as plt\n",
        "import seaborn as sns\n",
        "from sklearn.model_selection import train_test_split\n",
        "from sklearn.preprocessing import LabelEncoder\n",
        "from keras.models import Model\n",
        "from keras.layers import LSTM, Activation, Dense, Dropout, Input, Embedding\n",
        "from keras.optimizers import RMSprop\n",
        "from keras.preprocessing.text import Tokenizer\n",
        "from keras.preprocessing import sequence\n",
        "from keras.utils import to_categorical\n",
        "from keras.callbacks import EarlyStopping\n",
        "%matplotlib inline"
      ],
      "execution_count": null,
      "outputs": []
    },
    {
      "cell_type": "code",
      "metadata": {
        "colab": {
          "base_uri": "https://localhost:8080/",
          "height": 204
        },
        "id": "OWEw5lTjVKvL",
        "outputId": "d6a454c2-27c8-47de-c2f6-9601cb8cfa5c"
      },
      "source": [
        "df = pd.read_csv('/content/malayalam_news_train.csv',delimiter=',',encoding='utf_8_sig')\n",
        "df.head()"
      ],
      "execution_count": null,
      "outputs": [
        {
          "output_type": "execute_result",
          "data": {
            "text/html": [
              "<div>\n",
              "<style scoped>\n",
              "    .dataframe tbody tr th:only-of-type {\n",
              "        vertical-align: middle;\n",
              "    }\n",
              "\n",
              "    .dataframe tbody tr th {\n",
              "        vertical-align: top;\n",
              "    }\n",
              "\n",
              "    .dataframe thead th {\n",
              "        text-align: right;\n",
              "    }\n",
              "</style>\n",
              "<table border=\"1\" class=\"dataframe\">\n",
              "  <thead>\n",
              "    <tr style=\"text-align: right;\">\n",
              "      <th></th>\n",
              "      <th>headings</th>\n",
              "      <th>label</th>\n",
              "    </tr>\n",
              "  </thead>\n",
              "  <tbody>\n",
              "    <tr>\n",
              "      <th>0</th>\n",
              "      <td>കൊച്ചി ചെരുപ്പ് വിതരണ കേന്ദ്രത്തിലെ തീപിടിത്തം...</td>\n",
              "      <td>business</td>\n",
              "    </tr>\n",
              "    <tr>\n",
              "      <th>1</th>\n",
              "      <td>ഈ​​​സ്റ്റേ​​​ണ്‍ ക​​​റി പൗ​​​ഡ​​​റി​​​ന് പു​​​...</td>\n",
              "      <td>business</td>\n",
              "    </tr>\n",
              "    <tr>\n",
              "      <th>2</th>\n",
              "      <td>ശ്രീശാന്തിന്റെ ആജീവനാന്ത വിലക്ക് പിന്‍വലിച്ചു</td>\n",
              "      <td>sports</td>\n",
              "    </tr>\n",
              "    <tr>\n",
              "      <th>3</th>\n",
              "      <td>റയല്‍ മാഡ്രിഡിനെ ഞെട്ടിച്ച യുവതാരം ബ്രസീല്‍ ടീ...</td>\n",
              "      <td>sports</td>\n",
              "    </tr>\n",
              "    <tr>\n",
              "      <th>4</th>\n",
              "      <td>എനിക്ക് ശ്രീനിവാസന്‍ ആകേണ്ട, ലോഹിതദാസ് മതി : ക...</td>\n",
              "      <td>entertainment</td>\n",
              "    </tr>\n",
              "  </tbody>\n",
              "</table>\n",
              "</div>"
            ],
            "text/plain": [
              "                                            headings          label\n",
              "0  കൊച്ചി ചെരുപ്പ് വിതരണ കേന്ദ്രത്തിലെ തീപിടിത്തം...       business\n",
              "1  ഈ​​​സ്റ്റേ​​​ണ്‍ ക​​​റി പൗ​​​ഡ​​​റി​​​ന് പു​​​...       business\n",
              "2      ശ്രീശാന്തിന്റെ ആജീവനാന്ത വിലക്ക് പിന്‍വലിച്ചു         sports\n",
              "3  റയല്‍ മാഡ്രിഡിനെ ഞെട്ടിച്ച യുവതാരം ബ്രസീല്‍ ടീ...         sports\n",
              "4  എനിക്ക് ശ്രീനിവാസന്‍ ആകേണ്ട, ലോഹിതദാസ് മതി : ക...  entertainment"
            ]
          },
          "metadata": {
            "tags": []
          },
          "execution_count": 15
        }
      ]
    },
    {
      "cell_type": "code",
      "metadata": {
        "colab": {
          "base_uri": "https://localhost:8080/",
          "height": 204
        },
        "id": "MFCMyectBhCD",
        "outputId": "f836d666-abbd-4599-e86a-16796802ac90"
      },
      "source": [
        "df.head()"
      ],
      "execution_count": null,
      "outputs": [
        {
          "output_type": "execute_result",
          "data": {
            "text/html": [
              "<div>\n",
              "<style scoped>\n",
              "    .dataframe tbody tr th:only-of-type {\n",
              "        vertical-align: middle;\n",
              "    }\n",
              "\n",
              "    .dataframe tbody tr th {\n",
              "        vertical-align: top;\n",
              "    }\n",
              "\n",
              "    .dataframe thead th {\n",
              "        text-align: right;\n",
              "    }\n",
              "</style>\n",
              "<table border=\"1\" class=\"dataframe\">\n",
              "  <thead>\n",
              "    <tr style=\"text-align: right;\">\n",
              "      <th></th>\n",
              "      <th>headings</th>\n",
              "      <th>label</th>\n",
              "    </tr>\n",
              "  </thead>\n",
              "  <tbody>\n",
              "    <tr>\n",
              "      <th>0</th>\n",
              "      <td>കൊച്ചി ചെരുപ്പ് വിതരണ കേന്ദ്രത്തിലെ തീപിടിത്തം...</td>\n",
              "      <td>business</td>\n",
              "    </tr>\n",
              "    <tr>\n",
              "      <th>1</th>\n",
              "      <td>ഈ​​​സ്റ്റേ​​​ണ്‍ ക​​​റി പൗ​​​ഡ​​​റി​​​ന് പു​​​...</td>\n",
              "      <td>business</td>\n",
              "    </tr>\n",
              "    <tr>\n",
              "      <th>2</th>\n",
              "      <td>ശ്രീശാന്തിന്റെ ആജീവനാന്ത വിലക്ക് പിന്‍വലിച്ചു</td>\n",
              "      <td>sports</td>\n",
              "    </tr>\n",
              "    <tr>\n",
              "      <th>3</th>\n",
              "      <td>റയല്‍ മാഡ്രിഡിനെ ഞെട്ടിച്ച യുവതാരം ബ്രസീല്‍ ടീ...</td>\n",
              "      <td>sports</td>\n",
              "    </tr>\n",
              "    <tr>\n",
              "      <th>4</th>\n",
              "      <td>എനിക്ക് ശ്രീനിവാസന്‍ ആകേണ്ട, ലോഹിതദാസ് മതി : ക...</td>\n",
              "      <td>entertainment</td>\n",
              "    </tr>\n",
              "  </tbody>\n",
              "</table>\n",
              "</div>"
            ],
            "text/plain": [
              "                                            headings          label\n",
              "0  കൊച്ചി ചെരുപ്പ് വിതരണ കേന്ദ്രത്തിലെ തീപിടിത്തം...       business\n",
              "1  ഈ​​​സ്റ്റേ​​​ണ്‍ ക​​​റി പൗ​​​ഡ​​​റി​​​ന് പു​​​...       business\n",
              "2      ശ്രീശാന്തിന്റെ ആജീവനാന്ത വിലക്ക് പിന്‍വലിച്ചു         sports\n",
              "3  റയല്‍ മാഡ്രിഡിനെ ഞെട്ടിച്ച യുവതാരം ബ്രസീല്‍ ടീ...         sports\n",
              "4  എനിക്ക് ശ്രീനിവാസന്‍ ആകേണ്ട, ലോഹിതദാസ് മതി : ക...  entertainment"
            ]
          },
          "metadata": {
            "tags": []
          },
          "execution_count": 155
        }
      ]
    },
    {
      "cell_type": "code",
      "metadata": {
        "colab": {
          "base_uri": "https://localhost:8080/"
        },
        "id": "8gZSO3bN1dDT",
        "outputId": "2722e1b2-0f1e-4319-a703-6cba9a6cabc0"
      },
      "source": [
        "Y[0:10] #O business 1 entertainment 2 sports"
      ],
      "execution_count": null,
      "outputs": [
        {
          "output_type": "execute_result",
          "data": {
            "text/plain": [
              "array([[0],\n",
              "       [0],\n",
              "       [2],\n",
              "       [2],\n",
              "       [1],\n",
              "       [1],\n",
              "       [1],\n",
              "       [0],\n",
              "       [0],\n",
              "       [1]])"
            ]
          },
          "metadata": {
            "tags": []
          },
          "execution_count": 157
        }
      ]
    },
    {
      "cell_type": "code",
      "metadata": {
        "colab": {
          "base_uri": "https://localhost:8080/",
          "height": 349
        },
        "id": "yCEIIIdBWOGf",
        "outputId": "5a9e9d51-af76-4940-c580-971e727f996e"
      },
      "source": [
        "img=sns.countplot(df.label)\n",
        "plt.xlabel('Label')\n",
        "plt.title('Number of Classes')\n",
        "plt.savefig('Malayalam_news_count')"
      ],
      "execution_count": null,
      "outputs": [
        {
          "output_type": "stream",
          "text": [
            "/usr/local/lib/python3.6/dist-packages/seaborn/_decorators.py:43: FutureWarning: Pass the following variable as a keyword arg: x. From version 0.12, the only valid positional argument will be `data`, and passing other arguments without an explicit keyword will result in an error or misinterpretation.\n",
            "  FutureWarning\n"
          ],
          "name": "stderr"
        },
        {
          "output_type": "display_data",
          "data": {
            "image/png": "[encoded data removed]",
            "text/plain": [
              "<Figure size 432x288 with 1 Axes>"
            ]
          },
          "metadata": {
            "tags": [],
            "needs_background": "light"
          }
        }
      ]
    },
    {
      "cell_type": "code",
      "metadata": {
        "id": "GflayapSehLv"
      },
      "source": [
        "img.figure.savefig('count_plot.png')"
      ],
      "execution_count": null,
      "outputs": []
    },
    {
      "cell_type": "code",
      "metadata": {
        "colab": {
          "base_uri": "https://localhost:8080/"
        },
        "id": "utkKBWgoenIh",
        "outputId": "a1c16c8a-e779-43fb-9c80-728918eee24e"
      },
      "source": [
        "X = df.headings\n",
        "Y = df.label\n",
        "le = LabelEncoder()\n",
        "Y = le.fit_transform(Y)\n",
        "Y = Y.reshape(-1,1)\n",
        "Y"
      ],
      "execution_count": null,
      "outputs": [
        {
          "output_type": "execute_result",
          "data": {
            "text/plain": [
              "array([[0],\n",
              "       [0],\n",
              "       [2],\n",
              "       ...,\n",
              "       [2],\n",
              "       [1],\n",
              "       [1]])"
            ]
          },
          "metadata": {
            "tags": []
          },
          "execution_count": 156
        }
      ]
    },
    {
      "cell_type": "code",
      "metadata": {
        "id": "ME5lAtWPuEFx"
      },
      "source": [
        "X_=[]\n",
        "for i in  X:\n",
        "  X_.append(i.replace('\\u200d',''))"
      ],
      "execution_count": null,
      "outputs": []
    },
    {
      "cell_type": "code",
      "metadata": {
        "colab": {
          "base_uri": "https://localhost:8080/",
          "height": 35
        },
        "id": "6at_-jqGuS1y",
        "outputId": "11ce082c-1b26-4344-b688-c16fe9eebbb5"
      },
      "source": [
        "X_[9]"
      ],
      "execution_count": null,
      "outputs": [
        {
          "output_type": "execute_result",
          "data": {
            "application/vnd.google.colaboratory.intrinsic+json": {
              "type": "string"
            },
            "text/plain": [
              "'\\nഒടുവില് ടി വി ചന്ദ്രന് അയ്യപ്പനോടുള്ള വാക്ക് പാലിച്ചു\\n                                            \\n'"
            ]
          },
          "metadata": {
            "tags": []
          },
          "execution_count": 9
        }
      ]
    },
    {
      "cell_type": "code",
      "metadata": {
        "id": "2fcGJpH5nlCx"
      },
      "source": [
        "X=np.asarray(X_)"
      ],
      "execution_count": null,
      "outputs": []
    },
    {
      "cell_type": "code",
      "metadata": {
        "id": "DJO-GFuRxHrC"
      },
      "source": [
        "X_=[]\n",
        "for i in X:\n",
        "   X_.append((i.replace('\\u200c','')))"
      ],
      "execution_count": null,
      "outputs": []
    },
    {
      "cell_type": "code",
      "metadata": {
        "id": "e-Q6XKPJxAAI"
      },
      "source": [
        "X=np.asarray(X_)"
      ],
      "execution_count": null,
      "outputs": []
    },
    {
      "cell_type": "code",
      "metadata": {
        "colab": {
          "base_uri": "https://localhost:8080/",
          "height": 35
        },
        "id": "fFqYQzPjxCDT",
        "outputId": "fe149ddf-757f-4969-cc1c-c2fdda0d248c"
      },
      "source": [
        "X[13]"
      ],
      "execution_count": null,
      "outputs": [
        {
          "output_type": "execute_result",
          "data": {
            "application/vnd.google.colaboratory.intrinsic+json": {
              "type": "string"
            },
            "text/plain": [
              "'ഐ എസ് എല് ആദ്യ സെമിയില് നോര്ത്ത് ഈസ്റ്റ് ഇന്നലെ ബാംഗളൂര് എഫ് സിയെ പരാജയപ്പെടുത്തി'"
            ]
          },
          "metadata": {
            "tags": []
          },
          "execution_count": 13
        }
      ]
    },
    {
      "cell_type": "code",
      "metadata": {
        "colab": {
          "base_uri": "https://localhost:8080/",
          "height": 204
        },
        "id": "qNr0Ogbvi4_B",
        "outputId": "7195c3ad-1850-4641-d672-5e0b8b8b2eeb"
      },
      "source": [
        "df.head()"
      ],
      "execution_count": null,
      "outputs": [
        {
          "output_type": "execute_result",
          "data": {
            "text/html": [
              "<div>\n",
              "<style scoped>\n",
              "    .dataframe tbody tr th:only-of-type {\n",
              "        vertical-align: middle;\n",
              "    }\n",
              "\n",
              "    .dataframe tbody tr th {\n",
              "        vertical-align: top;\n",
              "    }\n",
              "\n",
              "    .dataframe thead th {\n",
              "        text-align: right;\n",
              "    }\n",
              "</style>\n",
              "<table border=\"1\" class=\"dataframe\">\n",
              "  <thead>\n",
              "    <tr style=\"text-align: right;\">\n",
              "      <th></th>\n",
              "      <th>headings</th>\n",
              "      <th>label</th>\n",
              "    </tr>\n",
              "  </thead>\n",
              "  <tbody>\n",
              "    <tr>\n",
              "      <th>0</th>\n",
              "      <td>കൊച്ചി ചെരുപ്പ് വിതരണ കേന്ദ്രത്തിലെ തീപിടിത്തം...</td>\n",
              "      <td>business</td>\n",
              "    </tr>\n",
              "    <tr>\n",
              "      <th>1</th>\n",
              "      <td>ഈ​​​സ്റ്റേ​​​ണ്‍ ക​​​റി പൗ​​​ഡ​​​റി​​​ന് പു​​​...</td>\n",
              "      <td>business</td>\n",
              "    </tr>\n",
              "    <tr>\n",
              "      <th>2</th>\n",
              "      <td>ശ്രീശാന്തിന്റെ ആജീവനാന്ത വിലക്ക് പിന്‍വലിച്ചു</td>\n",
              "      <td>sports</td>\n",
              "    </tr>\n",
              "    <tr>\n",
              "      <th>3</th>\n",
              "      <td>റയല്‍ മാഡ്രിഡിനെ ഞെട്ടിച്ച യുവതാരം ബ്രസീല്‍ ടീ...</td>\n",
              "      <td>sports</td>\n",
              "    </tr>\n",
              "    <tr>\n",
              "      <th>4</th>\n",
              "      <td>എനിക്ക് ശ്രീനിവാസന്‍ ആകേണ്ട, ലോഹിതദാസ് മതി : ക...</td>\n",
              "      <td>entertainment</td>\n",
              "    </tr>\n",
              "  </tbody>\n",
              "</table>\n",
              "</div>"
            ],
            "text/plain": [
              "                                            headings          label\n",
              "0  കൊച്ചി ചെരുപ്പ് വിതരണ കേന്ദ്രത്തിലെ തീപിടിത്തം...       business\n",
              "1  ഈ​​​സ്റ്റേ​​​ണ്‍ ക​​​റി പൗ​​​ഡ​​​റി​​​ന് പു​​​...       business\n",
              "2      ശ്രീശാന്തിന്റെ ആജീവനാന്ത വിലക്ക് പിന്‍വലിച്ചു         sports\n",
              "3  റയല്‍ മാഡ്രിഡിനെ ഞെട്ടിച്ച യുവതാരം ബ്രസീല്‍ ടീ...         sports\n",
              "4  എനിക്ക് ശ്രീനിവാസന്‍ ആകേണ്ട, ലോഹിതദാസ് മതി : ക...  entertainment"
            ]
          },
          "metadata": {
            "tags": []
          },
          "execution_count": 14
        }
      ]
    },
    {
      "cell_type": "code",
      "metadata": {
        "id": "LMYnUjlEe11G"
      },
      "source": [
        "X_train,X_val,Y_train,Y_val = train_test_split(X,Y,test_size=0.15)"
      ],
      "execution_count": null,
      "outputs": []
    },
    {
      "cell_type": "code",
      "metadata": {
        "colab": {
          "base_uri": "https://localhost:8080/"
        },
        "id": "O3K_U0lRzvCe",
        "outputId": "3dfc3c0c-72d0-4338-eac8-5b3efab1d387"
      },
      "source": [
        "Y.shape"
      ],
      "execution_count": null,
      "outputs": [
        {
          "output_type": "execute_result",
          "data": {
            "text/plain": [
              "(5036, 1)"
            ]
          },
          "metadata": {
            "tags": []
          },
          "execution_count": 18
        }
      ]
    },
    {
      "cell_type": "code",
      "metadata": {
        "id": "-H2V4cwUnBY6"
      },
      "source": [
        "max_words = 1000\n",
        "max_len = 150"
      ],
      "execution_count": null,
      "outputs": []
    },
    {
      "cell_type": "code",
      "metadata": {
        "id": "YwI-hiymfs3h"
      },
      "source": [
        "max_words = 1000\n",
        "max_len = 150\n",
        "tok = Tokenizer(num_words=max_words)\n",
        "tok.fit_on_texts(X_train)\n",
        "sequences = tok.texts_to_sequences(X_train)\n",
        "sequences_matrix = sequence.pad_sequences(sequences,maxlen=max_len)"
      ],
      "execution_count": null,
      "outputs": []
    },
    {
      "cell_type": "code",
      "metadata": {
        "colab": {
          "base_uri": "https://localhost:8080/"
        },
        "id": "LlgIzQGGpvIs",
        "outputId": "026e8bec-fd38-4daf-b32a-cbbe5c5111b7"
      },
      "source": [
        "tok.word_index"
      ],
      "execution_count": null,
      "outputs": [
        {
          "output_type": "execute_result",
          "data": {
            "text/plain": [
              "{'പുതിയ': 1,\n",
              " 'ഇന്ത്യന്': 2,\n",
              " 'പുറത്തുവിട്ടു': 3,\n",
              " 'പോസ്റ്റര്': 4,\n",
              " 'ഇന്ത്യ': 5,\n",
              " 'വീണ്ടും': 6,\n",
              " 'വീഡിയോ': 7,\n",
              " 'ചിത്രം': 8,\n",
              " 'ഒരു': 9,\n",
              " 'ഇന്ന്': 10,\n",
              " 'രൂപ': 11,\n",
              " 'ഈ': 12,\n",
              " 'താരം': 13,\n",
              " 'ഇനി': 14,\n",
              " 'ഐ': 15,\n",
              " 'റിലീസ്': 16,\n",
              " 'കോടി': 17,\n",
              " 'പുറത്ത്': 18,\n",
              " 'വില': 19,\n",
              " 'ചെയ്തു': 20,\n",
              " 'ആദ്യ': 21,\n",
              " 'ഓഹരി': 22,\n",
              " 'ചിത്രത്തിന്റെ': 23,\n",
              " 'ജയം': 24,\n",
              " 'സൂപ്പര്': 25,\n",
              " 'വന്': 26,\n",
              " 'രണ്ടാം': 27,\n",
              " 'ടീം': 28,\n",
              " 'ശേഷം': 29,\n",
              " 'നടന്': 30,\n",
              " 'ധോണി': 31,\n",
              " 'ലീഗ്': 32,\n",
              " 'നിന്ന്': 33,\n",
              " 'എന്ന': 34,\n",
              " 'ആ': 35,\n",
              " 'സ്റ്റില്': 36,\n",
              " 'നടി': 37,\n",
              " 'ബാങ്ക്': 38,\n",
              " 'ഏറ്റവും': 39,\n",
              " 'സി': 40,\n",
              " 'തുടക്കം': 41,\n",
              " 'ഗാനം': 42,\n",
              " 'കൂടി': 43,\n",
              " 'പവന്': 44,\n",
              " 'റണ്സ്': 45,\n",
              " 'എസ്': 46,\n",
              " 'ടീസര്': 47,\n",
              " 'ഞാന്': 48,\n",
              " 'എ': 49,\n",
              " 'അവസാന': 50,\n",
              " 'പരമ്ബര': 51,\n",
              " 'മോഹന്ലാല്': 52,\n",
              " 'ടീമില്': 53,\n",
              " 'പി': 54,\n",
              " 'പുറത്തിറങ്ങി': 55,\n",
              " 'കോഹ്ലി': 56,\n",
              " 'വൈറല്': 57,\n",
              " 'ചിത്രങ്ങള്': 58,\n",
              " 'തന്നെ': 59,\n",
              " 'പ്രിയ': 60,\n",
              " 'രണ്ട്': 61,\n",
              " 'എന്ന്': 62,\n",
              " 'എഫ്': 63,\n",
              " 'തകര്പ്പന്': 64,\n",
              " 'വലിയ': 65,\n",
              " 'വാര്യര്': 66,\n",
              " 'ഏകദിനം': 67,\n",
              " 'ക്രിക്കറ്റ്': 68,\n",
              " 'നേട്ടം': 69,\n",
              " 'സ്വര്ണവില': 70,\n",
              " 'വിപണിയില്': 71,\n",
              " 'സര്ക്കാര്': 72,\n",
              " 'സുരേഷ്': 73,\n",
              " 'ഇന്ത്യക്ക്': 74,\n",
              " 'വിപണി': 75,\n",
              " 'മൂന്നാം': 76,\n",
              " 'ഇ': 77,\n",
              " 'റയല്': 78,\n",
              " 'ചിത്രത്തിലെ': 79,\n",
              " 'മാര്ച്ച്': 80,\n",
              " 'ഇങ്ങനെ': 81,\n",
              " '2': 82,\n",
              " 'കാണാം': 83,\n",
              " 'ന്': 84,\n",
              " 'മൂന്ന്': 85,\n",
              " 'മികച്ച': 86,\n",
              " 'സെന്സെക്സ്': 87,\n",
              " 'ഇന്ത്യയില്': 88,\n",
              " 'ലൊക്കേഷന്': 89,\n",
              " 'തുടങ്ങി': 90,\n",
              " 'നല്കി': 91,\n",
              " 'ലോകകപ്പ്': 92,\n",
              " 'ലക്ഷം': 93,\n",
              " 'കാണൂ': 94,\n",
              " '24': 95,\n",
              " 'രോഹിത്': 96,\n",
              " 'ഓസീസ്': 97,\n",
              " 'ഫൈനലില്': 98,\n",
              " 'ക്യാരക്ടര്': 99,\n",
              " 'ധവാന്': 100,\n",
              " 'എം': 101,\n",
              " 'ഓസ്ട്രേലിയ': 102,\n",
              " 'മാത്രം': 103,\n",
              " 'ആരാധകര്': 104,\n",
              " 'തോല്വി': 105,\n",
              " 'കാരണം': 106,\n",
              " 'കുറിച്ച്': 107,\n",
              " 'കിരീടം': 108,\n",
              " 'റെക്കോര്ഡ്': 109,\n",
              " 'എല്': 110,\n",
              " 'ആരംഭിച്ചു': 111,\n",
              " 'തിരിച്ചടി': 112,\n",
              " 'നാലാം': 113,\n",
              " 'ലീഗില്': 114,\n",
              " 'നോര്ത്ത്': 115,\n",
              " 'നികുതി': 116,\n",
              " 'ജി': 117,\n",
              " 'ചാമ്ബ്യന്സ്': 118,\n",
              " 'കൂടുതല്': 119,\n",
              " 'ഏപ്രില്': 120,\n",
              " 'പോയിന്റ്': 121,\n",
              " 'ഐഎസ്എല്': 122,\n",
              " 'ഇത്': 123,\n",
              " 'ഇംഗ്ലണ്ട്': 124,\n",
              " 'വിലക്ക്': 125,\n",
              " 'ചെന്നൈ': 126,\n",
              " 'കോടിയുടെ': 127,\n",
              " 'സിനിമ': 128,\n",
              " 'സെഞ്ചുറി': 129,\n",
              " 'റിപ്പോര്ട്ട്': 130,\n",
              " 'സംസ്ഥാനത്ത്': 131,\n",
              " 'ഇന്ത്യയ്ക്ക്': 132,\n",
              " 'ഏകദിനത്തില്': 133,\n",
              " 'ഐപിഎല്': 134,\n",
              " 'വിജയ്': 135,\n",
              " 'സ്വന്തമാക്കി': 136,\n",
              " 'പോയന്റ്': 137,\n",
              " 'വ്യാപാരം': 138,\n",
              " 'കുറവ്': 139,\n",
              " 'ക്വാര്ട്ടറില്': 140,\n",
              " 'അടുത്ത': 141,\n",
              " 'മുതല്': 142,\n",
              " 'എയര്': 143,\n",
              " 'പരിക്ക്': 144,\n",
              " 'കേന്ദ്ര': 145,\n",
              " 'വരുന്നു': 146,\n",
              " 'പറഞ്ഞ്': 147,\n",
              " 'മോദി': 148,\n",
              " 'ചെയ്യും': 149,\n",
              " 'നിരക്ക്': 150,\n",
              " 'തകര്ത്ത്': 151,\n",
              " 'പിന്നാലെ': 152,\n",
              " 'വിജയലക്ഷ്യം': 153,\n",
              " 'ഗോവ': 154,\n",
              " 'ടി': 155,\n",
              " 'കരീന': 156,\n",
              " 'തിരിച്ചെത്തി': 157,\n",
              " 'മമ്മൂട്ടി': 158,\n",
              " 'മുന്': 159,\n",
              " 'കോടതി': 160,\n",
              " 'വര്ഷം': 161,\n",
              " 'സിറ്റി': 162,\n",
              " 'ഈസ്റ്റ്': 163,\n",
              " 'കേരള': 164,\n",
              " 'ശതമാനം': 165,\n",
              " 'വമ്ബന്': 166,\n",
              " 'ഇന്ത്യയുടെ': 167,\n",
              " 'വിരാട്': 168,\n",
              " 'എനിക്ക്': 169,\n",
              " 'ഏകദിന': 170,\n",
              " 'വെള്ളം': 171,\n",
              " 'സോഷ്യല്': 172,\n",
              " 'തീരുമാനം': 173,\n",
              " '15': 174,\n",
              " 'മുന്നില്': 175,\n",
              " 'എന്റെ': 176,\n",
              " 'കിടിലന്': 177,\n",
              " 'മറുപടി': 178,\n",
              " 'മറുപടിയുമായി': 179,\n",
              " 'സാമ്ബത്തിക': 180,\n",
              " 'ഫൈനല്': 181,\n",
              " 'പോരാട്ടം': 182,\n",
              " '1': 183,\n",
              " 'രൂപയുടെ': 184,\n",
              " 'കപ്പ്': 185,\n",
              " 'പറഞ്ഞു': 186,\n",
              " 'ടീമിനെ': 187,\n",
              " 'ആജീവനാന്ത': 188,\n",
              " '7': 189,\n",
              " 'പലിശ': 190,\n",
              " 'സ്വര്ണവിലയില്': 191,\n",
              " 'കുറഞ്ഞു': 192,\n",
              " 'ലുക്ക്': 193,\n",
              " 'കെ': 194,\n",
              " 'ഉടന്': 195,\n",
              " 'സിദാന്': 196,\n",
              " 'നേട്ടത്തില്': 197,\n",
              " 'വാക്കുകള്': 198,\n",
              " 'വൈറലായി': 199,\n",
              " 'റിസര്വ്': 200,\n",
              " \"'\": 201,\n",
              " 'നാല്': 202,\n",
              " 'കൂറ്റന്': 203,\n",
              " 'വനിതാ': 204,\n",
              " '5': 205,\n",
              " 'രാജ്യത്തെ': 206,\n",
              " 'സ്വര്ണ': 207,\n",
              " 'റിലയന്സ്': 208,\n",
              " 'വര്ദ്ധനവ്': 209,\n",
              " 'പരിശീലകന്': 210,\n",
              " 'എങ്ങനെ': 211,\n",
              " 'ആര്': 212,\n",
              " 'അംബാനി': 213,\n",
              " 'വിശ്രമം': 214,\n",
              " 'എത്തും': 215,\n",
              " 'അഞ്ചാം': 216,\n",
              " 'മത്സരം': 217,\n",
              " 'ലൂസിഫര്': 218,\n",
              " 'താരങ്ങള്': 219,\n",
              " 'നാളെ': 220,\n",
              " 'ദേശീയ': 221,\n",
              " 'ഫുട്ബോള്': 222,\n",
              " 'സ്വന്തം': 223,\n",
              " 'വേണ്ടി': 224,\n",
              " 'ദിലീപ്': 225,\n",
              " 'പിന്നില്': 226,\n",
              " 'തന്റെ': 227,\n",
              " 'എത്തുന്നു': 228,\n",
              " 'കിസാന്': 229,\n",
              " 'മത്സരത്തില്': 230,\n",
              " 'ബി': 231,\n",
              " 'സത്യങ്ങള്': 232,\n",
              " 'ഷെയ്ന്': 233,\n",
              " 'ബാങ്കുകള്': 234,\n",
              " 'പാക്': 235,\n",
              " 'തിരിച്ചുവരവ്': 236,\n",
              " 'രാഹുല്': 237,\n",
              " 'വിലയില്': 238,\n",
              " 'പ്രഖ്യാപിച്ചു': 239,\n",
              " 'നിങ്ങളുടെ': 240,\n",
              " 'ശ്രീശാന്തിന്റെ': 241,\n",
              " 'സെമിയില്': 242,\n",
              " 'മകന്': 243,\n",
              " 'സുപ്രീംകോടതി': 244,\n",
              " 'യുവന്റസ്': 245,\n",
              " 'വ്യാപാര': 246,\n",
              " 'ബിക്കിനി': 247,\n",
              " 'ആര്യ': 248,\n",
              " 'വെളിപ്പെടുത്തി': 249,\n",
              " 'നേടി': 250,\n",
              " 'സച്ചിന്': 251,\n",
              " 'കീര്ത്തി': 252,\n",
              " 'ട്രെയ്ലര്': 253,\n",
              " '25': 254,\n",
              " 'കാര്യങ്ങള്': 255,\n",
              " '20': 256,\n",
              " 'നടപടി': 257,\n",
              " 'തുടങ്ങിയാല്': 258,\n",
              " 'ചിലരൊക്കെ': 259,\n",
              " 'ഉയര്ന്നു': 260,\n",
              " 'ചിത്രീകരണം': 261,\n",
              " 'വിധി': 262,\n",
              " '12': 263,\n",
              " '50': 264,\n",
              " 'കടുത്ത': 265,\n",
              " '3': 266,\n",
              " 'ലോക': 267,\n",
              " 'ടിക്കറ്റ്': 268,\n",
              " 'നിന്നും': 269,\n",
              " 'ചില': 270,\n",
              " 'ചിത്രത്തില്': 271,\n",
              " 'കൊണ്ട്': 272,\n",
              " 'പ്രധാനമന്ത്രി': 273,\n",
              " 'പാര്വതി': 274,\n",
              " 'ലക്ഷ്യം': 275,\n",
              " 'പണി': 276,\n",
              " 'വിട്ടു': 277,\n",
              " 'സാധ്യത': 278,\n",
              " 'കരാര്': 279,\n",
              " 'മാഞ്ചസ്റ്റര്': 280,\n",
              " 'പലരും': 281,\n",
              " 'ചെയ്ത്': 282,\n",
              " 'കോണ്ഗ്രസ്': 283,\n",
              " 'വിക്കറ്റ്': 284,\n",
              " 'കേരളത്തില്': 285,\n",
              " 'വീഴ്ത്തി': 286,\n",
              " 'പറയാന്': 287,\n",
              " 'കുടിക്കും': 288,\n",
              " 'പ്രഖ്യാപിച്ച്': 289,\n",
              " 'വോണ്': 290,\n",
              " 'ബോളിവുഡ്': 291,\n",
              " 'കളി': 292,\n",
              " 'മറികടന്ന്': 293,\n",
              " 'ഒന്നിക്കുന്നു': 294,\n",
              " 'നീക്കി': 295,\n",
              " 'ബിസിസിഐ': 296,\n",
              " 'സെയ്ഫ്': 297,\n",
              " 'ബംഗ്ലാദേശ്': 298,\n",
              " '10': 299,\n",
              " 'പറയുന്നു': 300,\n",
              " 'പദ്ധതി': 301,\n",
              " 'ആശ്വാസം': 302,\n",
              " 'കേസ്': 303,\n",
              " 'ഐലീഗ്': 304,\n",
              " 'മാഡ്രിഡ്': 305,\n",
              " 'ഗോകുല്': 306,\n",
              " 'നായകന്': 307,\n",
              " 'ഡി': 308,\n",
              " 'ഫസ്റ്റ്': 309,\n",
              " 'ദി': 310,\n",
              " 'കാര്ഡ്': 311,\n",
              " 'മാറ്റി': 312,\n",
              " 'ഇന്ത്യയെ': 313,\n",
              " 'നിങ്ങള്': 314,\n",
              " 'രവി': 315,\n",
              " 'ധോണിയെ': 316,\n",
              " 'പന്ത്': 317,\n",
              " 'പാക്കിസ്ഥാന്': 318,\n",
              " 'ബിഎസ്എന്എല്': 319,\n",
              " 'സുപ്രീം': 320,\n",
              " '1000': 321,\n",
              " 'വേണ്ട': 322,\n",
              " 'നഷ്ടത്തില്': 323,\n",
              " 'ഗോള്': 324,\n",
              " 'പണം': 325,\n",
              " 'ഓസീസിന്': 326,\n",
              " 'കുതിപ്പ്': 327,\n",
              " 'കുറഞ്ഞ': 328,\n",
              " 'എഫ്സി': 329,\n",
              " 'കോഹ്ലിയുടെ': 330,\n",
              " 'എണ്ണം': 331,\n",
              " 'നിര്ണായക': 332,\n",
              " 'നിഫ്റ്റി': 333,\n",
              " 'അലി': 334,\n",
              " 'ചിത്രത്തിന്െറ': 335,\n",
              " 'മുഖ്യമന്ത്രി': 336,\n",
              " 'ലൂസിഫറിന്റെ': 337,\n",
              " 'മെസി': 338,\n",
              " 'നേട്ടത്തോടെ': 339,\n",
              " 'ജീവിതം': 340,\n",
              " 'ലോകത്തിലെ': 341,\n",
              " 'വായ്പ': 342,\n",
              " 'കേസില്': 343,\n",
              " 'ഗംഭീര': 344,\n",
              " 'പ്രധാന': 345,\n",
              " 'ട്രെയിലര്': 346,\n",
              " 'പ്രദര്ശനത്തിന്': 347,\n",
              " 'നല്കിയ': 348,\n",
              " '4': 349,\n",
              " 'ആരാണ്': 350,\n",
              " 'ദിവസം': 351,\n",
              " 'സഹായം': 352,\n",
              " '2019': 353,\n",
              " 'കോഹ്': 354,\n",
              " 'ടി20': 355,\n",
              " 'സെഞ്ച്വറി': 356,\n",
              " 'മാറ്റം': 357,\n",
              " 'അന്താരാഷ്ട്ര': 358,\n",
              " '000': 359,\n",
              " 'ക്യാപ്റ്റന്': 360,\n",
              " 'വിവാഹം': 361,\n",
              " 'ബിജെപി': 362,\n",
              " '273': 363,\n",
              " 'കാര്': 364,\n",
              " 'പൈസയും': 365,\n",
              " 'നല്ല': 366,\n",
              " 'കണ്ട്': 367,\n",
              " 'കോലി': 368,\n",
              " 'സമ്മാന്': 369,\n",
              " 'വിജയം': 370,\n",
              " 'പുരോഗമിക്കുന്നു': 371,\n",
              " 'ചെയ്യാന്': 372,\n",
              " 'ക്വാര്ട്ടര്': 373,\n",
              " 'തടയാന്': 374,\n",
              " 'ഒടുവില്': 375,\n",
              " 'ഒപ്പം': 376,\n",
              " 'ചിത്രവുമായി': 377,\n",
              " 'പ്രിയാ': 378,\n",
              " 'പട്ടികയില്': 379,\n",
              " 'മാസ്': 380,\n",
              " 'വൈറലാകുന്നു': 381,\n",
              " 'കടന്നു': 382,\n",
              " 'വഴി': 383,\n",
              " 'താന്': 384,\n",
              " 'ലൂസിഫറില്': 385,\n",
              " 'ഞെട്ടിച്ച്': 386,\n",
              " 'ബയേണ്': 387,\n",
              " 'വരെ': 388,\n",
              " '23': 389,\n",
              " '6': 390,\n",
              " 'തമിഴ്': 391,\n",
              " 'രംഗത്ത്': 392,\n",
              " 'ധരിച്ച്': 393,\n",
              " 'പന്തില്': 394,\n",
              " 'സിനിമയില്': 395,\n",
              " 'ഇളവ്': 396,\n",
              " 'മുന്പ്': 397,\n",
              " 'ഓസ്ട്രേലിയന്': 398,\n",
              " 'ജോസ്': 399,\n",
              " '14': 400,\n",
              " 'റെഡ്ഡി': 401,\n",
              " 'തൊപ്പി': 402,\n",
              " 'ഇടിഞ്ഞു': 403,\n",
              " 'എല്ലാവരും': 404,\n",
              " 'ഇന്ധന': 405,\n",
              " 'യുടെ': 406,\n",
              " 'ഉയര്ന്ന': 407,\n",
              " 'പത്മഭൂഷണ്': 408,\n",
              " 'മുമ്ബ്': 409,\n",
              " 'ഒരുങ്ങി': 410,\n",
              " 'വര്ധിച്ചു': 411,\n",
              " 'റൊണാള്ഡോ': 412,\n",
              " 'സയേഷ': 413,\n",
              " 'ധോണിയുടെ': 414,\n",
              " 'പോലും': 415,\n",
              " 'വിന്ഡീസ്': 416,\n",
              " 'ഓള്': 417,\n",
              " 'ആസിഫ്': 418,\n",
              " 'അറിയാം': 419,\n",
              " 'മൂന്നു': 420,\n",
              " 'ഓഹരികള്': 421,\n",
              " 'നാം': 422,\n",
              " 'നേരിയ': 423,\n",
              " 'താരത്തെ': 424,\n",
              " '500': 425,\n",
              " '\\u200b': 426,\n",
              " 'തേടി': 427,\n",
              " 'ഡിലീറ്റഡ്': 428,\n",
              " 'സീന്': 429,\n",
              " 'അത്': 430,\n",
              " 'വിജയലക്ഷ്മി': 431,\n",
              " 'വളര്ച്ച': 432,\n",
              " 'ലാല്': 433,\n",
              " 'നിമിഷം': 434,\n",
              " 'ശര്മ്മ': 435,\n",
              " 'മോദിയുടെ': 436,\n",
              " 'തുറന്ന്': 437,\n",
              " 'വേണ്ടത്': 438,\n",
              " 'ബെംഗളൂരു': 439,\n",
              " 'അനില്': 440,\n",
              " 'ഇന്ഷുറന്സ്': 441,\n",
              " 'രണ്വീര്': 442,\n",
              " 'വിദേശ': 443,\n",
              " 'പ്രതികരണവുമായി': 444,\n",
              " 'അഞ്ച്': 445,\n",
              " 'കുമ്ബളങ്ങി': 446,\n",
              " 'പ്ലസ്': 447,\n",
              " 'ടോസ്': 448,\n",
              " 'നിക്ഷേപം': 449,\n",
              " 'ട്രെയിന്': 450,\n",
              " 'കപൂര്': 451,\n",
              " 'ജിയോ': 452,\n",
              " 'യു': 453,\n",
              " 'ടാറ്റ': 454,\n",
              " 'പറ്റില്ലെങ്കില്': 455,\n",
              " 'ചാംപ്യന്സ്': 456,\n",
              " 'വേണം': 457,\n",
              " 'രണ്ടു': 458,\n",
              " 'അനു': 459,\n",
              " 'ജെറ്റ്': 460,\n",
              " 'എത്തുന്ന': 461,\n",
              " 'ഇടിവ്': 462,\n",
              " 'ശത്രുഘ്നന്': 463,\n",
              " 'മുംബൈ': 464,\n",
              " 'ഏറ്റുവാങ്ങി': 465,\n",
              " 'ടെസ്റ്റ്': 466,\n",
              " 'മുന്നറിയിപ്പുമായി': 467,\n",
              " '100': 468,\n",
              " 'പകരം': 469,\n",
              " 'കീ': 470,\n",
              " 'ടൊവിനോ': 471,\n",
              " 'രാജാവും': 472,\n",
              " 'ഇദയ': 473,\n",
              " 'ചര്ച്ച': 474,\n",
              " 'എന്നാല്': 475,\n",
              " 'എന്നെ': 476,\n",
              " 'ഒഴിവാക്കി': 477,\n",
              " 'ഏറ്റെടുത്ത്': 478,\n",
              " 'ഭാഗം': 479,\n",
              " 'തിരികെ': 480,\n",
              " 'തുറന്നു': 481,\n",
              " 'രൂപയില്': 482,\n",
              " 'ഇന്ധനവിലയില്': 483,\n",
              " 'ഡല്ഹി': 484,\n",
              " 'സൂപ്പര്താരം': 485,\n",
              " 'റാഞ്ചി': 486,\n",
              " 'വിമര്ശനവുമായി': 487,\n",
              " '314': 488,\n",
              " 'പുരസ്കാരം': 489,\n",
              " 'ശ്രീനിവാസന്': 490,\n",
              " 'ഓസ്ട്രേലിയക്ക്': 491,\n",
              " 'ബാറ്റിങ്': 492,\n",
              " 'ഗാംഗുലി': 493,\n",
              " 'പദ്ധതിയുമായി': 494,\n",
              " 'ധവാനും': 495,\n",
              " 'സെമി': 496,\n",
              " 'അച്ഛന്': 497,\n",
              " 'ഗോപി': 498,\n",
              " 'പൃഥ്വിരാജ്': 499,\n",
              " 'എന്': 500,\n",
              " 'റാഞ്ചിയില്': 501,\n",
              " 'ടീമിന്': 502,\n",
              " 'വരും': 503,\n",
              " 'ജിഎസ്ടി': 504,\n",
              " 'കാവ്യ': 505,\n",
              " 'താരത്തിന്റെ': 506,\n",
              " 'ഭാര്യ': 507,\n",
              " 'സമീറ': 508,\n",
              " 'തെന്നിന്ത്യന്': 509,\n",
              " 'ആവശ്യപ്പെട്ട്': 510,\n",
              " 'ബംഗളൂരു': 511,\n",
              " 'രാജ്യത്ത്': 512,\n",
              " 'നഷ്ടം': 513,\n",
              " 'ലിസ്റ്റ്': 514,\n",
              " 'ഇന്ദ്രജിത്ത്': 515,\n",
              " 'റെയില്വേ': 516,\n",
              " 'കോടികള്': 517,\n",
              " 'ഇന്ത്യയിലെ': 518,\n",
              " 'പേര്': 519,\n",
              " 'ജയസൂര്യ': 520,\n",
              " 'നിരക്കില്': 521,\n",
              " 'എല്ലാ': 522,\n",
              " 'സൈനിക': 523,\n",
              " 'ധോണിയും': 524,\n",
              " 'നായികയായി': 525,\n",
              " 'സംപ്രേഷണാവകാശം': 526,\n",
              " 'ഡീസലിന്': 527,\n",
              " 'കുതിക്കുന്നു': 528,\n",
              " 'സൂര്യയും': 529,\n",
              " 'ഏഷ്യ': 530,\n",
              " 'ലോകത്തെ': 531,\n",
              " 'ഉയര്ന്ന്': 532,\n",
              " 'സന്തോഷ്': 533,\n",
              " 'പ്രത്യേക': 534,\n",
              " 'ലുക്കില്': 535,\n",
              " 'ക്ലബ്': 536,\n",
              " 'ആദ്യം': 537,\n",
              " 'സ്വര്ണം': 538,\n",
              " 'മീഡിയയില്': 539,\n",
              " 'വനിത': 540,\n",
              " 'ഖവാജ': 541,\n",
              " 'ഉയര്ത്തി': 542,\n",
              " 'ഋഷഭ്': 543,\n",
              " 'ബോളിവുഡിലേക്ക്': 544,\n",
              " 'അരങ്ങേറ്റം': 545,\n",
              " 'ധോണിക്ക്': 546,\n",
              " 'വീട്ടില്': 547,\n",
              " 'കെജിഎഫ്': 548,\n",
              " 'ലൈവ്': 549,\n",
              " 'ആക്ഷന്': 550,\n",
              " 'അമ്മ': 551,\n",
              " 'സിനിമയുടെ': 552,\n",
              " 'തുടക്കമായി': 553,\n",
              " 'പാന്': 554,\n",
              " 'നോക്കി': 555,\n",
              " 'മുന്നോട്ട്': 556,\n",
              " 'സ്കോറിലേക്ക്': 557,\n",
              " 'ചെയ്യുന്നത്': 558,\n",
              " 'പ്രമുഖ': 559,\n",
              " 'ലിവര്പൂള്': 560,\n",
              " 'എന്തിന്': 561,\n",
              " 'പരാതി': 562,\n",
              " 'മറ്റൊരു': 563,\n",
              " 'മഴ': 564,\n",
              " 'ആരാധകരുടെ': 565,\n",
              " 'ആഘോഷിച്ച്': 566,\n",
              " 'പിന്വലിച്ചു': 567,\n",
              " 'വിവാഹ': 568,\n",
              " 'മെസ്സി': 569,\n",
              " 'കണക്കുകള്': 570,\n",
              " 'സൗദി': 571,\n",
              " 'കാര്യം': 572,\n",
              " 'ആരാധകര്ക്ക്': 573,\n",
              " 'അഭിനയിക്കാന്': 574,\n",
              " 'പറഞ്ഞ': 575,\n",
              " 'ആര്മി': 576,\n",
              " 'ഇതിഹാസം': 577,\n",
              " 'യുഎസ്': 578,\n",
              " 'മേഖല': 579,\n",
              " 'പ്ലാന്': 580,\n",
              " '30': 581,\n",
              " 'റദ്ദാക്കി': 582,\n",
              " 'കുറയും': 583,\n",
              " 'പ്രീമിയം': 584,\n",
              " 'ഓസ്ട്രേലിയയ്ക്ക്': 585,\n",
              " 'ഇപ്പോള്': 586,\n",
              " 'വെളിപ്പെടുത്തലുമായി': 587,\n",
              " 'ഉദ്ഘാടനം': 588,\n",
              " 'ഗ്രാമിന്': 589,\n",
              " 'ഗോ': 590,\n",
              " 'ഓഫര്': 591,\n",
              " 'ആധാര്': 592,\n",
              " 'പ്രകാശ്': 593,\n",
              " 'പ്രതീക്ഷ': 594,\n",
              " 'ഫിഫാ': 595,\n",
              " 'ബാഴ്സലോണ': 596,\n",
              " 'വിമാനങ്ങള്': 597,\n",
              " 'ഗര്ഭകാലത്തെ': 598,\n",
              " 'ബോഡി': 599,\n",
              " 'മാസം': 600,\n",
              " 'ലോകം': 601,\n",
              " 'ശമ്ബളം': 602,\n",
              " 'പുഷ്കരന്': 603,\n",
              " 'മാക്സ്': 604,\n",
              " 'ഇത്തവണ': 605,\n",
              " 'തിളങ്ങി': 606,\n",
              " 'മാറ്റങ്ങള്': 607,\n",
              " 'വിനീത്': 608,\n",
              " 'ആദ്യമായി': 609,\n",
              " 'നിയന്ത്രണം': 610,\n",
              " 'മലയാളി': 611,\n",
              " 'മത്സരങ്ങള്': 612,\n",
              " 'ചെയ്യാം': 613,\n",
              " 'മണിയുടെ': 614,\n",
              " 'നല്കിയത്': 615,\n",
              " '32': 616,\n",
              " 'ദിലീപിന്റെ': 617,\n",
              " 'നിരാശ': 618,\n",
              " 'ഓഫ്': 619,\n",
              " 'തുടരുന്നു': 620,\n",
              " 'പെട്രോളിന്': 621,\n",
              " 'പ്രീമിയര്': 622,\n",
              " 'നമ്ബി': 623,\n",
              " 'രൂപയും': 624,\n",
              " 'വണ്': 625,\n",
              " 'നിധി': 626,\n",
              " 'കോഴിക്കോട്': 627,\n",
              " 'ഇടവേളയ്ക്ക്': 628,\n",
              " 'അക്ബര്': 629,\n",
              " 'ജയറാം': 630,\n",
              " 'മേക്കിങ്': 631,\n",
              " 'പൈസ': 632,\n",
              " 'ക്രിക്കറ്റില്': 633,\n",
              " 'നഷ്ടത്തോടെ': 634,\n",
              " 'പന്തിന്': 635,\n",
              " 'ജെ': 636,\n",
              " 'അജയ്': 637,\n",
              " 'ഡിസ്നിയുടെ': 638,\n",
              " 'ന്റെ': 639,\n",
              " 'സാനിയ': 640,\n",
              " 'ജോലി': 641,\n",
              " 'സിനിമയാകുന്നു': 642,\n",
              " 'ഉസ്മാന്': 643,\n",
              " 'ചരിത്ര': 644,\n",
              " 'മൊഹാലിയില്': 645,\n",
              " 'ബാഴ്സ': 646,\n",
              " 'കുറിപ്പ്': 647,\n",
              " 'റണ്': 648,\n",
              " 'പക്ഷേ': 649,\n",
              " 'വെടിക്കെട്ട്': 650,\n",
              " 'കുറച്ചു': 651,\n",
              " 'സ്വിസ്': 652,\n",
              " 'യുണൈറ്റഡ്': 653,\n",
              " 'റൊണാള്ഡോയുടെ': 654,\n",
              " 'കൂട്ടുകെട്ട്': 655,\n",
              " 'താഴ്ന്ന്': 656,\n",
              " 'അച്ഛനെ': 657,\n",
              " 'അറിയേണ്ടതെല്ലാം': 658,\n",
              " 'ഇന്ത്യക്കു': 659,\n",
              " 'കലങ്ക്': 660,\n",
              " 'സ്പോര്ട്സ്': 661,\n",
              " 'കൗണ്സില്': 662,\n",
              " 'അവസരം': 663,\n",
              " 'പാദത്തില്': 664,\n",
              " 'ഇന്ത്യക്കെതിരെ': 665,\n",
              " 'വര്ഷത്തെ': 666,\n",
              " 'ദുല്ഖര്': 667,\n",
              " 'മന്ത്രി': 668,\n",
              " 'വി': 669,\n",
              " 'ഡോളര്': 670,\n",
              " 'അന്ന്': 671,\n",
              " 'പേരില്': 672,\n",
              " 'കേന്ദ്രം': 673,\n",
              " 'അനുമതി': 674,\n",
              " 'ഫോട്ടോ': 675,\n",
              " 'കൂടുന്നു': 676,\n",
              " 'രൂപയ്ക്ക്': 677,\n",
              " 'ചെയ്യുന്ന': 678,\n",
              " 'നാലു': 679,\n",
              " 'ശ്രീശാന്ത്': 680,\n",
              " 'ഹര്ജിയില്': 681,\n",
              " 'സ്ഥാനം': 682,\n",
              " 'ഇതാണ്': 683,\n",
              " 'ഞങ്ങള്': 684,\n",
              " 'കോ\\u200bടി': 685,\n",
              " 'കനത്ത': 686,\n",
              " 'താരങ്ങളുടെ': 687,\n",
              " 'ബാറ്റ്': 688,\n",
              " 'രാത്രി': 689,\n",
              " 'സിന്ഹ': 690,\n",
              " 'ബ്ലാസ്റ്റേഴ്സ്': 691,\n",
              " 'നല്കും': 692,\n",
              " 'പ്രൊമോ': 693,\n",
              " 'പ്രവചനം': 694,\n",
              " 'പോണ്': 695,\n",
              " 'ശ്യാം': 696,\n",
              " 'പുറത്താക്കി': 697,\n",
              " 'ഫണ്ട്': 698,\n",
              " 'കീഴടക്കി': 699,\n",
              " 'നോട്ട്': 700,\n",
              " 'കപ്പില്': 701,\n",
              " 'ടീമിന്റെ': 702,\n",
              " 'കാണാന്': 703,\n",
              " '22': 704,\n",
              " 'സണ്ണി': 705,\n",
              " 'നല്കാന്': 706,\n",
              " 'ആര്യയും': 707,\n",
              " 'വരവ്': 708,\n",
              " 'വെറും': 709,\n",
              " 'ചെലവ്': 710,\n",
              " 'ഏകദിനങ്ങളില്': 711,\n",
              " 'സിംഗ്': 712,\n",
              " 'സഞ്ജയ്': 713,\n",
              " 'ബുക്ക്': 714,\n",
              " 'വനിതകള്ക്ക്': 715,\n",
              " 'ഒരുങ്ങുന്നു': 716,\n",
              " 'അര്ജന്റീന': 717,\n",
              " 'മൊബൈല്': 718,\n",
              " '48': 719,\n",
              " 'തനിക്ക്': 720,\n",
              " 'വേഷത്തില്': 721,\n",
              " '45': 722,\n",
              " 'കൂട്ടി': 723,\n",
              " '37': 724,\n",
              " 'സ്വന്തമാക്കാന്': 725,\n",
              " 'ഷാ': 726,\n",
              " 'വില്ലനായി': 727,\n",
              " 'തീയതി': 728,\n",
              " 'ഓണ്ലൈന്': 729,\n",
              " 'താരമായി': 730,\n",
              " 'അംബാനിയുടെ': 731,\n",
              " 'പരമ്ബരയില്': 732,\n",
              " 'വര്ഷത്തിനുള്ളില്': 733,\n",
              " 'ഇസ്പേഡ്': 734,\n",
              " 'തുടര്ച്ചയായ': 735,\n",
              " 'എക്സല്': 736,\n",
              " 'സൈന': 737,\n",
              " 'പിഴ': 738,\n",
              " 'നായിക': 739,\n",
              " 'റൗഡി': 740,\n",
              " 'മോശം': 741,\n",
              " 'പരമ്ബരയും': 742,\n",
              " 'ചന്ദ': 743,\n",
              " 'മേനോന്': 744,\n",
              " 'ഡേ': 745,\n",
              " 'കോട്ടയം': 746,\n",
              " 'മഹീന്ദ്ര': 747,\n",
              " 'രാജമൗലി': 748,\n",
              " 'മാത്രമല്ല': 749,\n",
              " 'മുകേഷ്': 750,\n",
              " 'നേട്ടവുമായി': 751,\n",
              " 'കാല്ലക്ഷം': 752,\n",
              " 'നടത്തി': 753,\n",
              " 'ഗംഭീര്': 754,\n",
              " 'ടൂര്ണമെന്റ്': 755,\n",
              " 'ആമസോണ്': 756,\n",
              " 'തോല്പ്പിച്ച്': 757,\n",
              " 'ഗാന്ധി': 758,\n",
              " 'തട്ടിപ്പ്': 759,\n",
              " '5000': 760,\n",
              " 'ചെയ്യുന്നു': 761,\n",
              " 'ഇനിയും': 762,\n",
              " 'നേടിയ': 763,\n",
              " 'പരാതിയുമായി': 764,\n",
              " 'റോണോ': 765,\n",
              " 'സ്വീകരിച്ച്': 766,\n",
              " 'ചെല്സി': 767,\n",
              " 'യൂറോപ്പ': 768,\n",
              " 'പരാജയം': 769,\n",
              " 'ഹിറ്റ്': 770,\n",
              " 'വിരമിച്ചു': 771,\n",
              " 'കഥ': 772,\n",
              " 'വാര്ണര്': 773,\n",
              " 'ആക്രമിച്ച': 774,\n",
              " 'യോഗ്യത': 775,\n",
              " '80': 776,\n",
              " 'ഒത്തുകളി': 777,\n",
              " 'കൊലപാതകത്തേക്കാള്': 778,\n",
              " 'ആറു': 779,\n",
              " 'ശ്രീശാന്തിന്': 780,\n",
              " 'ഹെലികോപ്റ്റര്': 781,\n",
              " 'ലൈഫ്': 782,\n",
              " 'ജയിച്ചാല്': 783,\n",
              " 'വിഡിയോ': 784,\n",
              " 'മറികടന്നത്': 785,\n",
              " 'മുക്കി': 786,\n",
              " 'താരങ്ങള്ക്ക്': 787,\n",
              " 'സര്പ്രൈസ്': 788,\n",
              " 'അഫ്ഗാന്': 789,\n",
              " 'ഒരുപാട്': 790,\n",
              " 'മാച്ച്': 791,\n",
              " 'ജവാന്മാരുടെ': 792,\n",
              " 'ഒന്ന്': 793,\n",
              " 'അക്കൗണ്ട്': 794,\n",
              " 'പാട്ട്': 795,\n",
              " 'ആഗോള': 796,\n",
              " 'പ്രതിസന്ധി': 797,\n",
              " 'മാസത്തെ': 798,\n",
              " 'മാധവന്': 799,\n",
              " 'സമ്മാനിച്ച്': 800,\n",
              " 'വിജയ': 801,\n",
              " 'കൈ': 802,\n",
              " 'അടിച്ചു': 803,\n",
              " 'ജൂണ്': 804,\n",
              " 'വിമാന': 805,\n",
              " 'പക്ഷെ': 806,\n",
              " 'ഈസ്റ്റിന്': 807,\n",
              " 'ലോട്ടറി': 808,\n",
              " 'അടിച്ച്': 809,\n",
              " 'നേടിയത്': 810,\n",
              " 'നിരോധനം': 811,\n",
              " 'പന്തിന്റെ': 812,\n",
              " 'ഹര്ജി': 813,\n",
              " 'കൊച്ചിയില്': 814,\n",
              " 'നാട്ടില്': 815,\n",
              " 'രണ്ടാമത്തെ': 816,\n",
              " 'യൂബര്': 817,\n",
              " 'വോട്ട്': 818,\n",
              " 'മാറ്റമില്ല': 819,\n",
              " 'അഞ്ചു': 820,\n",
              " 'ഇലക്ട്രിക്': 821,\n",
              " 'മലയാള': 822,\n",
              " 'പട്ടാളത്തൊപ്പി': 823,\n",
              " 'വാര്ത്ത': 824,\n",
              " 'ശ്രീദേവി': 825,\n",
              " 'ഹീറോ': 826,\n",
              " 'സൈബര്': 827,\n",
              " 'കടന്ന്': 828,\n",
              " 'കര്ഷകര്ക്ക്': 829,\n",
              " 'ബാറ്റിംഗ്': 830,\n",
              " 'ചിത്ര': 831,\n",
              " 'പരിശീലനം': 832,\n",
              " 'പിന്മാറി': 833,\n",
              " 'മേഖലയില്': 834,\n",
              " 'ക്രിസ്റ്റ്യാനോ': 835,\n",
              " 'ഇരട്ട': 836,\n",
              " 'ആര്ബിഐ': 837,\n",
              " 'പാളി': 838,\n",
              " 'സംവിധാനം': 839,\n",
              " 'മുതിര്ന്ന': 840,\n",
              " 'ലോകകപ്പില്': 841,\n",
              " 'പ്യാരേ': 842,\n",
              " 'ഫെബ്രുവരിയില്': 843,\n",
              " 'സൗഹൃദ': 844,\n",
              " 'തോമസ്': 845,\n",
              " 'ആറ്': 846,\n",
              " 'കളിക്കില്ല': 847,\n",
              " 'ആന്ഡ്': 848,\n",
              " 'മതി': 849,\n",
              " 'സ്പെഷ്യല്': 850,\n",
              " 'തകര്ത്തടിച്ച്': 851,\n",
              " 'കോഹ്ലിയും': 852,\n",
              " '8': 853,\n",
              " 'ഈസ്': 854,\n",
              " 'യുവ': 855,\n",
              " '40': 856,\n",
              " 'പകുതി': 857,\n",
              " 'മകള്': 858,\n",
              " 'റാണിയിലെ': 859,\n",
              " 'ഇഷ്ട': 860,\n",
              " 'ഗ്രൂപ്പ്': 861,\n",
              " 'സര്ഫ്': 862,\n",
              " 'ഫേസ്ബുക്ക്': 863,\n",
              " 'എത്തി': 864,\n",
              " 'കാലം': 865,\n",
              " 'ലോണ്': 866,\n",
              " 'വാര്ഷിക': 867,\n",
              " 'ബ്രഹ്മാണ്ഡ': 868,\n",
              " 'ചാമ്ബ്യന്ഷിപ്പ്': 869,\n",
              " 'ശ്രീകാന്തും': 870,\n",
              " 'ഞാനായിരുന്നു': 871,\n",
              " 'ലൂസിഫറിലെ': 872,\n",
              " 'രണ്ടാമൂഴം': 873,\n",
              " 'ആവശ്യം': 874,\n",
              " 'ഓഫറുമായി': 875,\n",
              " 'സാംസങ്': 876,\n",
              " 'തെലുങ്ക്': 877,\n",
              " 'പഞ്ചാബ്': 878,\n",
              " '400': 879,\n",
              " 'ദ': 880,\n",
              " '200': 881,\n",
              " 'പണപ്പെരുപ്പം': 882,\n",
              " 'സിനദിന്': 883,\n",
              " 'പങ്കുവെച്ച്': 884,\n",
              " 'വര്ധനവ്': 885,\n",
              " 'സഹകരണ': 886,\n",
              " 'മാറുന്നു': 887,\n",
              " 'തകര്ക്കാന്': 888,\n",
              " 'പല': 889,\n",
              " 'ആമിര്': 890,\n",
              " 'ഖാന്': 891,\n",
              " 'നയം': 892,\n",
              " 'സൗത്ത്': 893,\n",
              " '120': 894,\n",
              " 'രാഷ്ട്രീയ': 895,\n",
              " 'ട്വിസ്റ്റ്': 896,\n",
              " 'ബാല': 897,\n",
              " 'ാം': 898,\n",
              " 'തോല്വിക്ക്': 899,\n",
              " 'വെളിപ്പെടുത്തല്': 900,\n",
              " 'എങ്കില്': 901,\n",
              " 'ഇതാ': 902,\n",
              " 'റെക്കോര്ഡുകള്': 903,\n",
              " 'നിര്ഭയ': 904,\n",
              " '16': 905,\n",
              " 'ഇളയരാജയിലെ': 906,\n",
              " 'അര്ദ്ധ': 907,\n",
              " 'സിങ്': 908,\n",
              " 'ഇംഗ്ലണ്ടിന്': 909,\n",
              " 'അമര്': 910,\n",
              " 'നടിയുടെ': 911,\n",
              " 'ഓസ്കാര്': 912,\n",
              " 'ഗോസ്': 913,\n",
              " 'തുടരുമെന്ന്': 914,\n",
              " 'കുടുംബങ്ങള്ക്ക്': 915,\n",
              " 'ചികിത്സാ': 916,\n",
              " '8000': 917,\n",
              " 'പവര്': 918,\n",
              " 'ടീമുകള്ക്ക്': 919,\n",
              " 'ഗോളിന്': 920,\n",
              " 'വനിതകള്': 921,\n",
              " 'സംസ്ഥാനത്തെ': 922,\n",
              " 'മണി': 923,\n",
              " 'സേതുപതി': 924,\n",
              " 'ദിനം': 925,\n",
              " 'ഷോട്ട്': 926,\n",
              " 'ആരംഭിച്ചത്': 927,\n",
              " 'സ്മാര്ട്ട്': 928,\n",
              " 'പാകിസ്ഥാന്': 929,\n",
              " 'കുറിച്ചു': 930,\n",
              " 'ക്ലോസ്': 931,\n",
              " 'രക്ഷിക്കാന്': 932,\n",
              " 'മുഹമ്മദ്': 933,\n",
              " 'വിമര്ശനം': 934,\n",
              " 'പെന്ഷന്': 935,\n",
              " 'വരിച്ച': 936,\n",
              " 'ബാങ്കിന്റെ': 937,\n",
              " 'തോല്വിയില്': 938,\n",
              " 'കൊമേഴ്സ്': 939,\n",
              " 'വര്ധന': 940,\n",
              " 'തെരഞ്ഞെടുപ്പിന്': 941,\n",
              " 'നിരക്കുകള്': 942,\n",
              " 'കാവ്യയോട്': 943,\n",
              " 'ജയിക്കാന്': 944,\n",
              " 'വിജയന്': 945,\n",
              " 'മാറി': 946,\n",
              " 'സൂചന': 947,\n",
              " 'തുറന്നുപറഞ്ഞ്': 948,\n",
              " 'ശിക്ഷ': 949,\n",
              " 'രക്ഷകനായി': 950,\n",
              " 'റ\\u200bബ\\u200bര്': 951,\n",
              " 'ആദ്യപാദ': 952,\n",
              " '3000': 953,\n",
              " 'കേന്ദ്രസര്ക്കാര്': 954,\n",
              " '800': 955,\n",
              " 'യുവേഫ': 956,\n",
              " 'വരുമാനത്തില്': 957,\n",
              " 'കേരളം': 958,\n",
              " 'ഗ്ലാമറസായി': 959,\n",
              " 'നൈറ്റ്സിലെ': 960,\n",
              " 'നൂറിന്': 961,\n",
              " '17': 962,\n",
              " 'സര്വീസ്': 963,\n",
              " 'ഹോട്ടായി': 964,\n",
              " 'സിനിമയിലെ': 965,\n",
              " 'ല്': 966,\n",
              " 'അവിശ്വസനീയ': 967,\n",
              " 'ത്രില്ലര്': 968,\n",
              " 'പാദ': 969,\n",
              " 'സിറ്റിയും': 970,\n",
              " 'സബ്സിഡി': 971,\n",
              " 'ഐപിഎല്ലില്': 972,\n",
              " 'ആശങ്ക': 973,\n",
              " 'ബിസിനസ്': 974,\n",
              " 'നായികമാര്': 975,\n",
              " 'കൃഷ്ണന്': 976,\n",
              " 'കന്നി': 977,\n",
              " 'രാജ്യങ്ങള്': 978,\n",
              " '70': 979,\n",
              " 'സ്ഥാനത്ത്': 980,\n",
              " 'അന്വേഷണം': 981,\n",
              " 'പുറത്തായി': 982,\n",
              " 'ഇന്ഷൂറന്സ്': 983,\n",
              " 'ചെല്സിക്ക്': 984,\n",
              " 'മൊഹാലി': 985,\n",
              " 'ശ്രദ്ധ': 986,\n",
              " 'കോണ്ഗ്രസിന്': 987,\n",
              " 'ഷമ്മി': 988,\n",
              " 'ഫെബ്രുവരി': 989,\n",
              " 'മിന്നും': 990,\n",
              " 'നിക്ഷേപ': 991,\n",
              " 'വേള്ഡ്': 992,\n",
              " 'സെന്റര്': 993,\n",
              " 'ഇത്രയും': 994,\n",
              " 'യഥാര്ത്ഥ': 995,\n",
              " 'ധരിക്കുന്നത്': 996,\n",
              " 'നീക്കം': 997,\n",
              " 'ബൂം': 998,\n",
              " 'മനസ്സ്': 999,\n",
              " 'ലിയോണ്': 1000,\n",
              " ...}"
            ]
          },
          "metadata": {
            "tags": []
          },
          "execution_count": 161
        }
      ]
    },
    {
      "cell_type": "code",
      "metadata": {
        "colab": {
          "base_uri": "https://localhost:8080/"
        },
        "id": "HP8dArWOf25Y",
        "outputId": "3abb6239-04aa-4e2f-cd4e-7511f2f7a597"
      },
      "source": [
        "sequences_matrix"
      ],
      "execution_count": null,
      "outputs": [
        {
          "output_type": "execute_result",
          "data": {
            "text/plain": [
              "array([[  0,   0,   0, ..., 740,   7,  57],\n",
              "       [  0,   0,   0, ..., 123, 119, 865],\n",
              "       [  0,   0,   0, ..., 369, 626, 180],\n",
              "       ...,\n",
              "       [  0,   0,   0, ...,   0,   0, 653],\n",
              "       [  0,   0,   0, ...,   0,   0, 514],\n",
              "       [  0,   0,   0, ...,   2,  68, 187]], dtype=int32)"
            ]
          },
          "metadata": {
            "tags": []
          },
          "execution_count": 162
        }
      ]
    },
    {
      "cell_type": "code",
      "metadata": {
        "colab": {
          "base_uri": "https://localhost:8080/"
        },
        "id": "OwnjXFXif-tM",
        "outputId": "bbf1f04f-c845-473c-d05a-df49ae01d6b9"
      },
      "source": [
        "sequences"
      ],
      "execution_count": null,
      "outputs": [
        {
          "output_type": "execute_result",
          "data": {
            "text/plain": [
              "[[740, 7, 57],\n",
              " [331, 272, 530, 531, 123, 119, 865],\n",
              " [741, 229, 369, 626, 180],\n",
              " [52],\n",
              " [627, 181],\n",
              " [135, 8, 47, 80, 16, 149],\n",
              " [332, 230, 64, 370, 170, 742, 136, 97],\n",
              " [273],\n",
              " [628, 29, 274, 157],\n",
              " [],\n",
              " [22, 71, 86, 69, 87, 137, 532, 333, 137, 197, 138],\n",
              " [],\n",
              " [5, 474, 371],\n",
              " [58, 372, 103],\n",
              " [866, 301, 867, 275, 9, 93, 17, 11],\n",
              " [158, 8, 868, 533],\n",
              " [],\n",
              " [417, 124, 869, 870, 373, 98],\n",
              " [629, 871, 475, 476, 477, 249, 30, 418, 334],\n",
              " [276, 7, 18],\n",
              " [872, 99, 4, 18, 277],\n",
              " [88, 534],\n",
              " [373, 181, 419],\n",
              " [535, 104, 1, 42],\n",
              " [97, 2, 302, 100, 103],\n",
              " [15, 40, 15, 40, 15, 38, 159, 40, 77, 743, 374, 40, 231],\n",
              " [873, 303, 744, 112, 874, 160, 125],\n",
              " [375, 35, 182, 24, 420, 43, 478],\n",
              " [26, 112, 171, 5],\n",
              " [745, 875, 876],\n",
              " [250, 1, 877, 8, 47],\n",
              " [],\n",
              " [746, 27, 479, 9, 161, 198, 81],\n",
              " [213, 251, 376, 8, 57],\n",
              " [107],\n",
              " [304, 108, 126, 162, 370, 878],\n",
              " [747, 183, 184, 421, 480],\n",
              " [29, 879, 127, 868, 377, 748],\n",
              " [25, 13, 536, 163],\n",
              " [5, 123, 537],\n",
              " [481],\n",
              " [48, 232, 378, 66],\n",
              " [],\n",
              " [14, 630, 880],\n",
              " [538, 39, 119],\n",
              " [94],\n",
              " [70, 482, 44, 881, 11],\n",
              " [172, 539, 199],\n",
              " [882, 200, 38, 190, 150, 6, 278],\n",
              " [78, 305, 883, 6],\n",
              " [422, 1, 631, 7],\n",
              " [749, 19, 11],\n",
              " [],\n",
              " [173],\n",
              " [531, 379, 750, 213],\n",
              " [335, 7, 16, 20],\n",
              " [100],\n",
              " [82, 79, 1, 89, 36, 3],\n",
              " [191, 423, 139, 44, 95, 11],\n",
              " [29, 380, 535, 233, 4, 884, 158, 94],\n",
              " [483, 423, 885, 19, 10, 632, 43],\n",
              " [14, 865],\n",
              " [],\n",
              " [2, 633, 540, 109, 151],\n",
              " [72, 336],\n",
              " [64, 751, 541, 29, 21, 13],\n",
              " [337, 1, 99, 4, 16, 20],\n",
              " [164, 38, 886, 234, 886, 38, 200, 38],\n",
              " [22, 71, 634, 41, 87, 333, 174, 138, 90],\n",
              " [380, 535, 877, 23, 47, 83],\n",
              " [381],\n",
              " [9, 1],\n",
              " [5, 112, 90, 235, 881, 542],\n",
              " [9, 44, 752, 70],\n",
              " [175],\n",
              " [338],\n",
              " [236, 753, 24],\n",
              " [543, 635, 49, 279],\n",
              " [887, 280, 302],\n",
              " [22, 137, 339, 41],\n",
              " [176, 340, 888, 281, 889, 30, 306, 73],\n",
              " [754, 231, 636, 54],\n",
              " [252, 73, 544, 545, 637],\n",
              " [],\n",
              " [2, 755, 140, 382],\n",
              " [546, 214, 159, 2, 13],\n",
              " [341, 379, 756, 750, 213],\n",
              " [547],\n",
              " [49, 49, 40, 24],\n",
              " [231, 636, 890, 891, 890, 892],\n",
              " [15, 757, 126, 108],\n",
              " [14, 484],\n",
              " [8, 1, 4, 3],\n",
              " [126, 163, 15, 32],\n",
              " [8, 4, 3],\n",
              " [14, 383, 128, 83, 1],\n",
              " [113, 67, 893],\n",
              " [25, 424, 384, 548, 307],\n",
              " [],\n",
              " [201, 237, 758, 478, 172],\n",
              " [70, 6, 192],\n",
              " [342, 759, 343, 425, 17, 11, 77, 308],\n",
              " [98, 426],\n",
              " [13, 96, 59, 177, 109],\n",
              " [894, 45, 427, 282, 5],\n",
              " [164, 38, 895],\n",
              " [29, 233, 309, 193, 158],\n",
              " [283, 474, 10],\n",
              " [310],\n",
              " [638, 23, 549, 550, 639, 1, 253, 3],\n",
              " [385, 9, 344, 896, 897],\n",
              " [29, 157, 640],\n",
              " [551, 428, 429],\n",
              " [2, 13, 65, 69, 13, 373],\n",
              " [254, 898, 308, 63, 40, 38, 331, 760],\n",
              " [880, 630, 1],\n",
              " [21, 479, 548, 82, 552, 553],\n",
              " [],\n",
              " [899, 152, 485],\n",
              " [254, 158, 430, 761, 900, 57],\n",
              " [35, 81, 7],\n",
              " [345, 336, 164],\n",
              " [],\n",
              " [554, 311, 762, 901, 202],\n",
              " [555, 1, 89, 36, 3],\n",
              " [1],\n",
              " [641, 255, 902],\n",
              " [34, 79, 4, 3],\n",
              " [152, 386, 9, 11],\n",
              " [64, 100, 763, 903],\n",
              " [52, 58],\n",
              " [1, 4, 55],\n",
              " [904, 642, 8, 556, 346, 83],\n",
              " [120, 84, 347, 215],\n",
              " [486, 67, 643, 129, 97, 203, 557],\n",
              " [558, 487],\n",
              " [11, 348, 559, 30, 764, 37, 431],\n",
              " [12, 161, 905, 349, 165, 432, 130],\n",
              " [],\n",
              " [560, 387],\n",
              " [158, 8, 1, 36, 55],\n",
              " [765, 14, 350],\n",
              " [875, 876],\n",
              " [],\n",
              " [21, 541, 74, 153, 488, 45],\n",
              " [22],\n",
              " [906, 344, 753],\n",
              " [],\n",
              " [489, 2, 766, 52],\n",
              " [555],\n",
              " [100, 152, 907, 129, 644, 69],\n",
              " [890, 141, 8, 433, 908],\n",
              " [5, 124, 27, 204, 256, 909, 205, 284, 24],\n",
              " [21],\n",
              " [910, 629, 50, 434, 312, 418, 334],\n",
              " [164, 38, 234, 285],\n",
              " [427, 257],\n",
              " [767, 768, 140],\n",
              " [14, 142, 143, 2, 33],\n",
              " [6],\n",
              " [51, 50, 67, 10],\n",
              " [126, 911],\n",
              " [490, 23, 1, 99, 4, 3],\n",
              " [560, 13, 144],\n",
              " [90, 645, 97, 313, 286],\n",
              " [314, 65, 198, 145, 378, 66],\n",
              " [310, 912, 913, 1, 99, 4],\n",
              " [79, 1, 7, 42, 3],\n",
              " [25, 34, 249, 101, 49],\n",
              " [206, 351, 388, 914],\n",
              " [],\n",
              " [232, 48, 287, 258, 259, 171, 288, 60, 66],\n",
              " [],\n",
              " [131, 207, 238, 6, 139, 44, 389, 11],\n",
              " [194, 915, 180, 352],\n",
              " [644, 69, 136, 96, 435],\n",
              " [216, 67, 491, 492],\n",
              " [23, 1, 4, 3],\n",
              " [289],\n",
              " [105, 5, 390, 549],\n",
              " [105, 769],\n",
              " [436, 340, 146],\n",
              " [1, 4, 16, 20],\n",
              " [],\n",
              " [],\n",
              " [173, 56],\n",
              " [646, 10],\n",
              " [558],\n",
              " [1, 4, 55],\n",
              " [232, 287, 258, 259, 171, 288, 561, 647],\n",
              " [375, 166, 770],\n",
              " [159, 2, 13, 908, 633, 33, 771],\n",
              " [30, 315, 431, 916, 352, 91, 562],\n",
              " [917, 648],\n",
              " [64, 100, 649, 5, 86, 557],\n",
              " [59, 772, 437, 147, 158],\n",
              " [2, 22, 71, 333, 121, 260],\n",
              " [650, 129, 380, 773],\n",
              " [261],\n",
              " [563, 109, 43, 438, 45],\n",
              " [873, 160, 262, 10],\n",
              " [887],\n",
              " [213],\n",
              " [774, 343, 391, 30, 303],\n",
              " [2, 71, 26],\n",
              " [19, 651],\n",
              " [316, 477, 543, 317, 53],\n",
              " [389, 185, 775, 237, 2, 53],\n",
              " [10, 50, 15, 46, 110, 217, 439, 14],\n",
              " [564, 284, 564, 263],\n",
              " [],\n",
              " [868, 205, 888, 218],\n",
              " [172, 539, 6, 274],\n",
              " [565, 35, 128],\n",
              " [440, 112, 348, 208, 918, 421, 160],\n",
              " [114],\n",
              " [49, 250, 167, 202, 204, 219],\n",
              " [652, 353, 24, 136, 919, 769],\n",
              " [565, 128],\n",
              " [131, 191, 10, 209, 44, 776, 11, 43],\n",
              " [106, 546, 348, 214],\n",
              " [777, 778, 65, 31],\n",
              " [68, 219],\n",
              " [56, 186],\n",
              " [745, 7, 57],\n",
              " [779, 920, 757, 280, 653, 921],\n",
              " [48],\n",
              " [922, 923, 264, 165, 173],\n",
              " [135, 924, 8, 47, 3],\n",
              " [2, 22, 75],\n",
              " [54, 46, 265],\n",
              " [204, 925, 566, 2, 68, 28],\n",
              " [780, 302, 125, 567],\n",
              " [385],\n",
              " [781, 926],\n",
              " [1, 887, 120, 142, 782, 441, 139],\n",
              " [87, 121, 22, 634, 41],\n",
              " [388],\n",
              " [170, 563, 96, 435],\n",
              " [],\n",
              " [132, 26, 318, 220],\n",
              " [783, 26, 875, 221],\n",
              " [239],\n",
              " [387],\n",
              " [52, 784],\n",
              " [59, 124],\n",
              " [152, 141, 195, 3],\n",
              " [568, 58],\n",
              " [2, 187, 493],\n",
              " [113, 76],\n",
              " [319, 127, 494],\n",
              " [],\n",
              " [208, 22],\n",
              " [495, 132, 86, 41, 100],\n",
              " [],\n",
              " [654, 59, 569],\n",
              " [486],\n",
              " [13, 20],\n",
              " [5, 570, 81, 354],\n",
              " [873, 343, 160, 10, 262],\n",
              " [554, 311, 80, 240, 554, 311],\n",
              " [22, 75, 927, 423],\n",
              " [54, 928],\n",
              " [883, 196, 6, 78, 305, 210],\n",
              " [],\n",
              " [],\n",
              " [],\n",
              " [24],\n",
              " [5, 929],\n",
              " [241, 188, 125, 320, 160, 567],\n",
              " [14, 110, 77, 308, 103, 1, 494, 194, 46, 77, 231],\n",
              " [64, 751, 100, 96, 655, 785, 251],\n",
              " [486, 51, 5, 97, 76, 67],\n",
              " [229, 369, 922, 26],\n",
              " [80, 263, 84, 571],\n",
              " [90, 2, 22, 75, 87, 121, 260],\n",
              " [122, 27, 496, 786, 154],\n",
              " [50, 180, 21, 189, 266, 17, 184, 759],\n",
              " [639, 1, 42, 16, 20],\n",
              " [572, 48],\n",
              " [483, 6, 209],\n",
              " [547, 272, 442, 7, 57],\n",
              " [426],\n",
              " [494, 5],\n",
              " [],\n",
              " [545, 930],\n",
              " [235, 633, 787, 214],\n",
              " [782],\n",
              " [87, 121, 656, 634, 931, 20],\n",
              " [],\n",
              " [15, 54, 25, 13, 573, 788, 91, 233, 290],\n",
              " [789, 113, 133, 789, 24],\n",
              " [15, 46, 110, 21, 242, 115, 163, 63],\n",
              " [6, 78, 932, 196],\n",
              " [497, 12, 790, 657, 81, 6, 574, 243, 575, 198, 73, 498],\n",
              " [],\n",
              " [1, 552, 261, 111],\n",
              " [52, 58, 94],\n",
              " [167, 92, 112, 933],\n",
              " [443, 571, 1, 481],\n",
              " [309, 193, 4, 18, 277],\n",
              " [38, 86, 205],\n",
              " [37, 934, 444, 13, 392, 7],\n",
              " [1],\n",
              " [58, 48, 119, 499],\n",
              " [],\n",
              " [474, 9, 744],\n",
              " [282, 375],\n",
              " [278, 24],\n",
              " [935, 107, 658],\n",
              " [659, 534],\n",
              " [291, 8, 660, 1, 36, 3],\n",
              " [182],\n",
              " [70, 93, 382, 44, 254, 11],\n",
              " [92, 53, 438, 35],\n",
              " [164, 661, 662],\n",
              " [910, 629, 871, 50, 434, 477, 418, 334],\n",
              " [131, 207, 19, 192],\n",
              " [38, 779, 93, 17],\n",
              " [143, 5, 321, 17, 19, 636, 500, 54, 155],\n",
              " [],\n",
              " [576, 393, 28, 5, 791, 936, 792, 915],\n",
              " [200, 937, 538, 39, 119],\n",
              " [],\n",
              " [167, 445, 284, 50, 394, 56],\n",
              " [879, 17, 868],\n",
              " [90],\n",
              " [263],\n",
              " [222, 577, 85, 43],\n",
              " [334, 355, 108],\n",
              " [14],\n",
              " [446, 34, 395, 7, 3],\n",
              " [7],\n",
              " [21, 61, 351, 292],\n",
              " [938, 28, 88, 166, 344, 41],\n",
              " [76, 67, 10, 501, 783, 74, 51],\n",
              " [1, 77, 939, 892, 148, 72],\n",
              " [793, 790, 249, 306, 73],\n",
              " [2, 116, 396, 578, 567],\n",
              " [49, 447, 17],\n",
              " [122, 496, 10],\n",
              " [554, 311, 794, 107, 658],\n",
              " [12, 189, 255],\n",
              " [199, 795, 7],\n",
              " [32, 311],\n",
              " [1, 7, 42, 16, 20],\n",
              " [486, 67, 74, 448],\n",
              " [796, 180, 449, 34, 940],\n",
              " [100, 29],\n",
              " [941, 397, 190, 942, 200, 38, 579],\n",
              " [2, 502, 223, 547, 31],\n",
              " [14, 756, 383, 26, 663, 146],\n",
              " [82, 319, 580],\n",
              " [265, 797, 581, 582, 503, 914],\n",
              " [627, 98],\n",
              " [504, 662, 116],\n",
              " [293, 768, 140],\n",
              " [495, 650, 5, 648],\n",
              " [322],\n",
              " [123, 798, 398, 284],\n",
              " [768, 32, 27, 664],\n",
              " [323],\n",
              " [1, 4, 16, 20],\n",
              " [224, 505, 799, 943, 433, 399],\n",
              " [450, 14, 583, 584],\n",
              " [665, 27, 129, 250, 398, 506, 109],\n",
              " [113, 133, 893, 24],\n",
              " [294],\n",
              " [85, 127, 800],\n",
              " [883, 196, 6, 78, 305, 210],\n",
              " [229, 369, 626, 211, 658],\n",
              " [86],\n",
              " [585, 45, 801, 275, 2],\n",
              " [9, 802, 555],\n",
              " [6],\n",
              " [313, 386, 97, 907, 356],\n",
              " [88, 49],\n",
              " [501, 944, 803, 132, 488, 45, 801, 275],\n",
              " [9, 794, 314, 255],\n",
              " [779, 666, 241, 188, 125, 244, 295],\n",
              " [537, 586, 781],\n",
              " [174, 161, 163],\n",
              " [106, 744, 587, 418, 334],\n",
              " [507, 59],\n",
              " [5, 102, 216, 67, 220],\n",
              " [804, 400, 84],\n",
              " [945, 309, 193, 4, 3],\n",
              " [667, 451, 8, 804, 400, 84],\n",
              " [386, 316, 14, 49, 447, 69],\n",
              " [452, 175],\n",
              " [25, 13, 506, 178, 81],\n",
              " [63, 40],\n",
              " [170, 742, 491],\n",
              " [206, 450, 345, 668, 588, 20],\n",
              " [324, 243],\n",
              " [497, 865, 946],\n",
              " [503, 43, 12, 53, 9, 357, 92, 947, 91, 56],\n",
              " [46, 453, 669, 454],\n",
              " [2, 670, 342, 267, 145],\n",
              " [],\n",
              " [671, 455, 201, 948, 433, 399],\n",
              " [780, 302, 188, 125, 320, 160, 295, 949],\n",
              " [30, 73],\n",
              " [395, 749, 950, 135, 7, 478, 104],\n",
              " [131, 207, 19, 192, 589, 11],\n",
              " [],\n",
              " [555, 1, 89, 36, 3],\n",
              " [590, 142, 805, 268, 591, 220, 43, 103],\n",
              " [592, 14, 325],\n",
              " [30, 315, 593, 37, 431],\n",
              " [216, 67, 2, 28, 81],\n",
              " [386, 6, 640],\n",
              " [92, 28, 74],\n",
              " [241, 125, 295, 160, 112],\n",
              " [37, 58, 57],\n",
              " [477, 28, 573],\n",
              " [951],\n",
              " [916, 352, 672, 30, 315, 562, 91, 37, 431, 325, 29, 37],\n",
              " [79, 21, 42, 3],\n",
              " [450],\n",
              " [307, 56, 903],\n",
              " [925, 91, 890, 376, 1, 552],\n",
              " [581, 582, 503, 914],\n",
              " [358, 673, 146],\n",
              " [241, 188, 125, 244, 295, 806],\n",
              " [1, 631, 7, 3],\n",
              " [358, 41, 588, 588],\n",
              " [952, 242, 115, 807, 24],\n",
              " [953, 11, 935, 954, 419],\n",
              " [776, 40, 116, 314],\n",
              " [191, 139, 44, 389, 955, 482, 138, 371],\n",
              " [9, 158, 27, 479, 578],\n",
              " [25, 13, 157, 235, 187],\n",
              " [151, 167, 2],\n",
              " [170, 237, 293, 168, 56],\n",
              " [496, 98],\n",
              " [1, 71],\n",
              " [29, 305],\n",
              " [956, 456, 32, 594, 245, 10],\n",
              " [766, 52, 7],\n",
              " [592, 457, 322],\n",
              " [808, 957, 809, 958, 644],\n",
              " [211, 33, 59, 240, 551, 508, 401],\n",
              " [810, 64, 129],\n",
              " [937, 295],\n",
              " [595, 286],\n",
              " [571, 14, 811, 295, 674],\n",
              " [959, 199, 89, 58],\n",
              " [536, 163, 26, 112],\n",
              " [306, 73],\n",
              " [675, 509, 104],\n",
              " [551, 169, 446, 960, 428, 429],\n",
              " [263, 359, 127, 478, 17],\n",
              " [648, 5, 326, 153, 45],\n",
              " [10],\n",
              " [319, 184, 580],\n",
              " [812, 31],\n",
              " [961, 790, 594, 48],\n",
              " [],\n",
              " [134, 424, 233, 290],\n",
              " [61, 324, 61, 569, 596, 140],\n",
              " [672, 749, 12, 222, 536],\n",
              " [92, 2, 187, 458, 255],\n",
              " [38, 779, 9, 38],\n",
              " [813, 397, 59, 10, 814, 774, 343, 510, 30, 225, 813, 10, 320, 160],\n",
              " [5, 402, 15, 40, 40, 257, 929],\n",
              " [226, 51, 97, 21],\n",
              " [14, 815, 1],\n",
              " [],\n",
              " [],\n",
              " [544, 252, 73, 21, 8, 637],\n",
              " [23, 1, 4, 3],\n",
              " [335, 47, 80, 16, 149],\n",
              " [876],\n",
              " [511, 154, 181],\n",
              " [459, 89, 58, 18],\n",
              " [9, 31, 53, 914, 493],\n",
              " [169, 30, 44],\n",
              " [],\n",
              " [5],\n",
              " [676, 677, 962, 632, 403],\n",
              " [740, 9, 380, 101, 117, 212, 7, 83],\n",
              " [342, 759, 303, 743, 547],\n",
              " [391, 30],\n",
              " [87, 121, 22, 75, 927, 323],\n",
              " [280, 219],\n",
              " [674, 427],\n",
              " [118, 114, 10, 245, 162],\n",
              " [14, 816, 494, 454],\n",
              " [678, 437],\n",
              " [309, 193, 4, 10, 18],\n",
              " [27, 346],\n",
              " [460, 679, 597, 43, 963],\n",
              " [598, 599, 964, 404, 156, 508, 401],\n",
              " [457, 578, 222, 204, 222, 28],\n",
              " [817],\n",
              " [241, 188, 125, 567],\n",
              " [134, 303, 188, 125, 510, 680, 348, 681, 10, 262],\n",
              " [34, 965, 34, 42, 3],\n",
              " [404, 818, 898, 890, 891],\n",
              " [512, 19, 165, 388, 192],\n",
              " [],\n",
              " [405, 238, 423, 139, 19, 966],\n",
              " [590, 111],\n",
              " [34, 391, 23, 1, 4, 3],\n",
              " [436, 33, 90, 283, 21],\n",
              " [6, 938, 109, 51, 124],\n",
              " [341, 39, 34, 682, 14, 453, 49, 77, 223],\n",
              " [76, 938, 132, 51, 513],\n",
              " [1, 14, 292],\n",
              " [214, 495, 5],\n",
              " [917, 96, 435],\n",
              " [86],\n",
              " [10, 347, 461, 406, 514, 3],\n",
              " [],\n",
              " [5, 106, 683, 900],\n",
              " [1, 876, 82, 71],\n",
              " [874],\n",
              " [207, 238, 819, 44, 95, 955, 11],\n",
              " [938, 684, 56],\n",
              " [2, 53, 457],\n",
              " [76, 540, 256, 256, 967, 5],\n",
              " [968, 8, 120, 263, 84, 16, 149],\n",
              " [19, 43, 882, 512, 260],\n",
              " [],\n",
              " [685, 95],\n",
              " [122, 10, 439, 63, 40, 115, 163, 653, 27, 969, 496, 182],\n",
              " [820, 11, 512, 238, 686, 462],\n",
              " [35, 198, 348, 463, 147, 60, 66],\n",
              " [595, 496, 98],\n",
              " [181, 427, 464, 970, 63, 40],\n",
              " [515],\n",
              " [38, 474],\n",
              " [821, 82, 205, 93, 11, 971],\n",
              " [2, 687, 279, 514, 296, 3, 85, 219, 103, 69],\n",
              " [425, 516],\n",
              " [5, 102, 113, 133, 491, 24],\n",
              " [268, 150, 12, 600, 142],\n",
              " [822, 128, 37],\n",
              " [540, 355, 86, 69, 136],\n",
              " [],\n",
              " [200, 38, 190, 234, 200, 38],\n",
              " [886, 336],\n",
              " [],\n",
              " [660, 47, 16, 20],\n",
              " [823, 393, 665, 257, 510, 6, 929],\n",
              " [5, 688],\n",
              " [39, 65, 814],\n",
              " [87, 121, 532, 22, 339, 41],\n",
              " [967, 2, 13, 68, 601],\n",
              " [284, 64, 317],\n",
              " [972, 824],\n",
              " [113, 133, 893, 24],\n",
              " [],\n",
              " [671, 689, 227, 481, 147, 73],\n",
              " [],\n",
              " [116, 396, 407, 19, 583],\n",
              " [674, 257],\n",
              " [327],\n",
              " [378, 545, 959, 825, 911, 89, 58, 18, 911, 57, 393, 911, 58, 478],\n",
              " [458],\n",
              " [22, 71, 339, 41, 87, 137, 532, 333, 137, 197],\n",
              " [204, 25, 826, 517, 360],\n",
              " [586, 199, 8],\n",
              " [910, 629, 249, 418, 334, 50, 434, 103],\n",
              " [44, 19, 254, 361, 915, 973, 19, 6, 278],\n",
              " [518, 39, 65, 117, 230],\n",
              " [827],\n",
              " [932, 6, 196],\n",
              " [176, 198, 930, 60, 9, 9, 463, 690],\n",
              " [361, 141, 600],\n",
              " [208, 22, 19, 22],\n",
              " [818, 372, 575, 178, 572, 357],\n",
              " [14, 35, 109, 96, 223, 785, 316],\n",
              " [65, 31],\n",
              " [9, 903, 136],\n",
              " [157, 883, 196],\n",
              " [691, 6, 25, 10],\n",
              " [218, 346, 26],\n",
              " [587],\n",
              " [319, 602, 195],\n",
              " [24],\n",
              " [974, 949],\n",
              " [828, 740],\n",
              " [2, 219, 791, 692],\n",
              " [88, 534],\n",
              " [21, 352, 559, 764, 37, 431],\n",
              " [1, 693, 7, 16, 20],\n",
              " [457, 2],\n",
              " [829, 971, 764],\n",
              " [805, 558],\n",
              " [12, 13],\n",
              " [70, 6, 109, 151, 556],\n",
              " [486, 67, 491, 830],\n",
              " [92, 278, 12, 502, 694],\n",
              " [546, 214, 28, 5, 50, 61, 317, 226, 217, 783, 51, 69],\n",
              " [505, 799, 142, 459, 388, 225, 975, 94],\n",
              " [143, 313, 332, 161, 438, 517],\n",
              " [758],\n",
              " [976, 25, 695],\n",
              " [316, 293, 96, 435],\n",
              " [170, 230, 977, 250],\n",
              " [191, 819],\n",
              " [50, 826, 24],\n",
              " [30, 593, 348, 303, 29, 277],\n",
              " [128, 62, 696, 603],\n",
              " [598, 599, 404, 487, 508, 401],\n",
              " [8, 111],\n",
              " [],\n",
              " [335, 21, 99, 4, 3],\n",
              " [1, 89, 36, 3],\n",
              " [],\n",
              " [88, 269, 26, 885],\n",
              " [978, 19, 676],\n",
              " [512, 331, 119, 921],\n",
              " [47],\n",
              " [979, 11],\n",
              " [305],\n",
              " [548, 479, 111, 58, 83],\n",
              " [831],\n",
              " [21, 111],\n",
              " [560, 108, 62],\n",
              " [52, 408, 465],\n",
              " [37, 934, 444, 13, 392, 7],\n",
              " [674, 65],\n",
              " [872, 89, 36, 3],\n",
              " [183, 264, 179, 156, 451],\n",
              " [5],\n",
              " [458],\n",
              " [173, 206],\n",
              " [341, 464, 263, 898, 980],\n",
              " [981, 90],\n",
              " [832, 90, 296, 680],\n",
              " [246, 5],\n",
              " [225, 58, 57],\n",
              " [346, 18, 277],\n",
              " [825],\n",
              " [314, 866, 942],\n",
              " [118, 114, 33, 982, 697],\n",
              " [31, 233, 290],\n",
              " [604, 165, 421, 115, 17, 677, 983, 579, 604, 5],\n",
              " [204, 355, 74, 894, 45, 801, 275],\n",
              " [242, 324, 564, 63, 40, 154],\n",
              " [340, 23],\n",
              " [115, 439, 63, 40, 98],\n",
              " [64],\n",
              " [768, 114, 984, 64, 24, 767],\n",
              " [201, 904, 303, 14, 642],\n",
              " [334, 8, 47, 55],\n",
              " [409, 41],\n",
              " [985, 67, 5, 537, 688, 149, 312, 237, 157],\n",
              " [],\n",
              " [15, 114, 126, 162, 977, 108],\n",
              " [1, 7, 42],\n",
              " [986, 451, 833],\n",
              " [14, 311, 322, 1, 756],\n",
              " [886, 301, 371, 331],\n",
              " [189],\n",
              " [694, 605, 987, 362],\n",
              " [937],\n",
              " [1, 89, 36, 55],\n",
              " [443, 698, 254, 2, 698, 834, 223],\n",
              " [835, 118, 114, 236, 420, 920, 699, 140],\n",
              " [10, 464, 162, 63, 40, 154, 496, 182],\n",
              " [297, 507, 247, 384, 247, 374, 297, 156, 451],\n",
              " [201, 426, 194, 54, 49, 40, 487, 988],\n",
              " [],\n",
              " [25, 185, 2, 691],\n",
              " [185, 187, 239],\n",
              " [985, 104],\n",
              " [42, 16, 20],\n",
              " [606, 506, 1, 58, 57],\n",
              " [1],\n",
              " [484, 133, 132, 363, 45, 153],\n",
              " [14, 221, 33],\n",
              " [],\n",
              " [105, 51, 136, 102],\n",
              " [566],\n",
              " [25, 185, 164, 691, 174, 84],\n",
              " [53, 607, 168, 56],\n",
              " [298, 27, 24],\n",
              " [80, 27, 1, 4, 16, 20],\n",
              " [74],\n",
              " [512, 19, 43, 882, 260],\n",
              " [314, 270, 77, 989, 29],\n",
              " [10],\n",
              " [85, 29, 19, 260, 971, 82, 11, 43],\n",
              " [33, 408, 489, 465, 52],\n",
              " [700, 189, 27, 80, 84],\n",
              " [24, 298],\n",
              " [297, 507, 247, 179, 156, 451],\n",
              " [],\n",
              " [91, 756, 14],\n",
              " [81, 7, 18],\n",
              " [25, 701, 33, 304, 833],\n",
              " [],\n",
              " [298, 76, 466, 106],\n",
              " [15, 46, 110, 21, 969, 242, 115, 807, 990, 24],\n",
              " [353, 267, 398, 540, 702, 1],\n",
              " [328, 270, 991],\n",
              " [],\n",
              " [241, 813, 320, 160, 262, 10],\n",
              " [486, 133, 132, 488, 45, 153],\n",
              " [696, 603, 968],\n",
              " [417, 124, 18],\n",
              " [174, 992, 993, 85, 15, 155, 553],\n",
              " [307, 31, 506, 56, 2, 159, 13],\n",
              " [375, 24],\n",
              " [86],\n",
              " [],\n",
              " [],\n",
              " [456, 185, 222, 755],\n",
              " [994, 25, 424, 481, 186],\n",
              " [355, 21, 85],\n",
              " [1, 36, 55],\n",
              " [550, 377, 6, 47, 18],\n",
              " [23, 1, 4, 3],\n",
              " [18],\n",
              " [6, 594, 661, 680],\n",
              " [836, 129],\n",
              " [],\n",
              " [],\n",
              " [35, 284, 9, 31, 64, 7, 83],\n",
              " [62, 7, 83],\n",
              " [38, 12, 837],\n",
              " [12, 161, 256, 1, 597, 410, 460],\n",
              " [299, 29, 11],\n",
              " [349, 2, 28],\n",
              " [104],\n",
              " [],\n",
              " [5, 159, 307, 290],\n",
              " [995, 519, 249, 520, 103, 641],\n",
              " [143, 5, 321, 17, 19, 147, 636, 500, 54, 155, 62],\n",
              " [247, 996, 374, 297, 350, 201, 179, 156, 7],\n",
              " [390],\n",
              " [117, 27, 479, 261, 111],\n",
              " [313, 5],\n",
              " [223],\n",
              " [],\n",
              " [51, 5],\n",
              " [394, 45, 236, 773],\n",
              " [770, 135, 46, 453, 6, 34, 23, 47, 55],\n",
              " [1, 1, 255, 515],\n",
              " [49, 202, 540, 219],\n",
              " [657, 703, 243, 575, 198, 73, 498],\n",
              " [8, 80, 704, 84, 347, 215],\n",
              " [206, 117, 308, 54, 150, 192, 72, 189, 205, 462, 9],\n",
              " [31, 635, 276, 838],\n",
              " [997, 278],\n",
              " [955, 387],\n",
              " [509, 13, 252, 73, 545],\n",
              " [628, 29, 6, 172, 37, 274],\n",
              " [38, 441],\n",
              " [70, 752, 382, 44, 11, 411],\n",
              " [697],\n",
              " [],\n",
              " [92, 6, 5],\n",
              " [123, 644, 434, 795, 7, 18],\n",
              " [237, 53, 28],\n",
              " [572],\n",
              " [6, 104],\n",
              " [131, 70, 6, 676],\n",
              " [10],\n",
              " [1, 817],\n",
              " [],\n",
              " [5, 102, 109],\n",
              " [412, 480, 178, 91, 196],\n",
              " [839, 678, 1, 8, 47, 3],\n",
              " [146],\n",
              " [998, 34, 335, 47, 3],\n",
              " [25, 701, 187, 257, 49, 15, 63, 63],\n",
              " [251, 17, 11],\n",
              " [627, 123, 434, 26, 69],\n",
              " [176, 999, 705, 999],\n",
              " [439, 764, 115, 163],\n",
              " [21, 693, 220, 18],\n",
              " [22, 75, 927, 323],\n",
              " [456, 654, 182],\n",
              " [814, 26],\n",
              " [211, 33, 59, 240, 551, 994, 9, 314, 508, 401],\n",
              " [271, 85, 975],\n",
              " [81, 452, 12, 161, 513, 11],\n",
              " [34, 42],\n",
              " [946, 78],\n",
              " [27, 17, 11, 971, 103, 17],\n",
              " [285, 70, 6, 192],\n",
              " [15, 32],\n",
              " [378, 784],\n",
              " [1, 8],\n",
              " [14, 145],\n",
              " [448, 250, 492, 102, 18],\n",
              " [9, 903, 136, 765],\n",
              " [243],\n",
              " [156, 297, 243, 602, 793],\n",
              " [34, 1, 377, 608, 490],\n",
              " [1, 89, 36, 55],\n",
              " [76, 67, 10, 783, 51, 74],\n",
              " [],\n",
              " [938, 33, 5],\n",
              " [1],\n",
              " [267],\n",
              " [362, 39, 65, 148, 840],\n",
              " [2, 71],\n",
              " [436, 766, 52],\n",
              " [22, 383, 17, 208, 452],\n",
              " [122, 27, 664, 9, 920, 329, 154, 98, 21, 203, 205, 183, 24, 815, 775, 1],\n",
              " [253, 83],\n",
              " [353, 2, 341, 39, 578],\n",
              " [330, 129, 132, 105],\n",
              " [152, 340, 533, 271],\n",
              " [484, 642, 484, 253, 18, 277],\n",
              " [1, 4, 16, 20],\n",
              " [37, 328, 172, 444, 13],\n",
              " [122, 952, 242, 64, 154],\n",
              " [745],\n",
              " [232, 48, 287, 258, 259, 171, 288, 467, 60, 66],\n",
              " [244, 706, 440, 213, 325],\n",
              " [436, 128, 307],\n",
              " [393, 707, 30, 248, 413, 41, 61, 351, 83],\n",
              " [456, 32, 151, 560, 140],\n",
              " [953, 45, 330, 109, 151, 96, 435],\n",
              " [343, 440, 234],\n",
              " [2, 187, 9, 477],\n",
              " [34, 391, 23, 1, 4, 3],\n",
              " [117, 46, 155, 62],\n",
              " [1],\n",
              " [68, 28],\n",
              " [],\n",
              " [147, 7],\n",
              " [180, 797, 460, 254, 597],\n",
              " [269, 150],\n",
              " [296, 1, 279, 3, 808],\n",
              " [22, 197, 931, 20],\n",
              " [609, 437, 135, 900, 94],\n",
              " [6, 164, 691],\n",
              " [5, 448, 763, 491, 492],\n",
              " [33, 841, 74, 874],\n",
              " [],\n",
              " [],\n",
              " [77],\n",
              " [29, 6, 294, 696, 603],\n",
              " [796, 302],\n",
              " [5, 102, 67, 356, 250, 643],\n",
              " [72, 610, 145, 1, 77, 939, 892],\n",
              " [218, 79, 99, 4, 3],\n",
              " [115, 163],\n",
              " [87, 121, 197, 931, 20],\n",
              " [335, 47, 3],\n",
              " [52, 8],\n",
              " [],\n",
              " [206, 351, 388, 914],\n",
              " [],\n",
              " [50, 85, 45, 132, 9, 45],\n",
              " [708, 283, 106],\n",
              " [2, 611],\n",
              " [92, 278, 28, 81, 53, 896, 18],\n",
              " [168],\n",
              " [970],\n",
              " [329, 204, 187, 239],\n",
              " [282, 506, 911, 113, 361],\n",
              " [240, 554, 311, 195],\n",
              " [12, 300],\n",
              " [86, 580, 270],\n",
              " [199, 466, 7],\n",
              " [414, 96, 383],\n",
              " [1, 89, 36, 3],\n",
              " [842, 34, 23, 1, 4, 3],\n",
              " [266],\n",
              " [319],\n",
              " [709, 30, 707, 37],\n",
              " [111],\n",
              " [88, 414, 50, 217],\n",
              " [164, 38, 72, 200, 80, 958, 130, 692],\n",
              " [6, 9, 43],\n",
              " [9, 1, 4, 3],\n",
              " [394, 45, 236, 230, 606, 773],\n",
              " [298, 76, 466],\n",
              " [495, 683],\n",
              " [468, 17],\n",
              " [],\n",
              " [38, 554, 116],\n",
              " [710, 240, 38, 902, 9, 383],\n",
              " [223,\n",
              "  815,\n",
              "  313,\n",
              "  547,\n",
              "  102,\n",
              "  85,\n",
              "  612,\n",
              "  170,\n",
              "  51,\n",
              "  136,\n",
              "  102,\n",
              "  21,\n",
              "  61,\n",
              "  612,\n",
              "  51,\n",
              "  313,\n",
              "  809,\n",
              "  643],\n",
              " [2, 28, 257, 318],\n",
              " [707, 37],\n",
              " [711, 838, 742],\n",
              " [645, 389, 666],\n",
              " [712, 611, 219, 21],\n",
              " [135, 92, 53],\n",
              " [275, 503, 601, 703],\n",
              " [56, 841, 438, 12, 13, 713],\n",
              " [34, 79, 89, 36, 3],\n",
              " [155, 46, 534],\n",
              " [],\n",
              " [306, 657, 81, 73, 498],\n",
              " [283],\n",
              " [120, 205, 84, 16, 149],\n",
              " [1, 4, 3],\n",
              " [935, 935, 211, 62],\n",
              " [1, 392],\n",
              " [208],\n",
              " [105],\n",
              " [2, 26, 885],\n",
              " [211, 450, 268, 714, 613],\n",
              " [321, 710, 95, 1, 91],\n",
              " [145, 72, 556, 265, 217],\n",
              " [901, 715],\n",
              " [240, 77, 54, 63, 211, 613],\n",
              " [614, 107, 249],\n",
              " [50, 67, 270, 570],\n",
              " [983, 269, 580, 901, 314, 12, 266],\n",
              " [6, 112, 843, 504, 192],\n",
              " [364, 75, 145, 72, 77, 82, 205, 93, 11, 971],\n",
              " [232, 259, 171, 288, 467],\n",
              " [950, 135, 485, 7, 57, 94],\n",
              " [5, 267, 246],\n",
              " [575, 956],\n",
              " [23, 1, 253, 3],\n",
              " [145, 892, 18, 26, 607],\n",
              " [111],\n",
              " [135, 924, 8, 47, 3],\n",
              " [207, 19, 192],\n",
              " [25, 64, 129],\n",
              " [61, 711, 31, 469, 543, 317, 284],\n",
              " [566],\n",
              " [330, 88, 21, 51],\n",
              " [35, 217, 312, 56],\n",
              " [267, 757],\n",
              " [14, 973, 322, 88, 68, 102],\n",
              " [415, 169, 949, 296, 680],\n",
              " [878, 38, 342, 190, 150, 651],\n",
              " [1, 4, 16, 20],\n",
              " [490, 795, 83],\n",
              " [515, 300],\n",
              " [959, 57],\n",
              " [23, 1, 4, 3],\n",
              " [700, 189, 2, 71],\n",
              " [90],\n",
              " [56, 313],\n",
              " [341, 39, 106, 419],\n",
              " [],\n",
              " [128, 48, 48, 433, 696, 178],\n",
              " [19, 796, 43],\n",
              " [372, 820, 17, 11, 211],\n",
              " [102],\n",
              " [675, 201, 793, 62],\n",
              " [],\n",
              " [454, 26, 716, 760, 17, 11],\n",
              " [569, 157, 844, 28, 289, 717],\n",
              " [1, 718, 195, 845],\n",
              " [397, 12, 255],\n",
              " [],\n",
              " [341, 39, 296],\n",
              " [208, 452, 17, 184, 698, 716, 22, 130],\n",
              " [256, 2, 769],\n",
              " [985, 133, 202, 284, 24],\n",
              " [350, 452],\n",
              " [13, 279, 280, 653],\n",
              " [719],\n",
              " [309, 193, 4, 55],\n",
              " [404, 5, 846],\n",
              " [596, 13, 6, 144],\n",
              " [408, 489, 52, 465],\n",
              " [247, 996, 374, 297, 350, 247, 179, 156],\n",
              " [112, 13, 847],\n",
              " [606, 12],\n",
              " [77, 759, 534],\n",
              " [166, 182, 53, 6],\n",
              " [89, 36, 3],\n",
              " [744, 1, 4],\n",
              " [804],\n",
              " [],\n",
              " [358, 918],\n",
              " [158, 46, 500],\n",
              " [571, 933, 61, 220, 88],\n",
              " [22, 71, 26, 462],\n",
              " [268, 521, 26, 143, 530],\n",
              " [],\n",
              " [480, 409, 446, 34, 79, 86],\n",
              " [522, 72, 165, 283, 237, 758],\n",
              " [848, 47, 770],\n",
              " [1, 71],\n",
              " [180, 340, 12, 445],\n",
              " [803, 151, 495, 113, 133, 648, 5],\n",
              " [22, 423, 197, 137, 197, 138, 90],\n",
              " [309, 193, 4, 884, 945],\n",
              " [389, 187, 239, 53],\n",
              " [87, 121, 22, 75, 323],\n",
              " [517],\n",
              " [456, 32, 166, 236],\n",
              " [523, 402, 524, 929],\n",
              " [124, 53, 720],\n",
              " [118, 32, 373, 10],\n",
              " [953, 11, 935, 107, 658],\n",
              " [836, 236],\n",
              " [1],\n",
              " [],\n",
              " [15, 54, 110, 475, 12, 492, 888],\n",
              " [23, 1, 4, 3],\n",
              " [166],\n",
              " ...]"
            ]
          },
          "metadata": {
            "tags": []
          },
          "execution_count": 163
        }
      ]
    },
    {
      "cell_type": "code",
      "metadata": {
        "colab": {
          "base_uri": "https://localhost:8080/"
        },
        "id": "kpfpq57oqIl8",
        "outputId": "5875763b-0965-44cb-cbba-d95b660979a1"
      },
      "source": [
        "sequences_matrix.shape"
      ],
      "execution_count": null,
      "outputs": [
        {
          "output_type": "execute_result",
          "data": {
            "text/plain": [
              "(4280, 150)"
            ]
          },
          "metadata": {
            "tags": []
          },
          "execution_count": 30
        }
      ]
    },
    {
      "cell_type": "code",
      "metadata": {
        "colab": {
          "base_uri": "https://localhost:8080/"
        },
        "id": "o3SFDAA4zNHM",
        "outputId": "f9898448-8a36-43e4-d505-fea137d263da"
      },
      "source": [
        "Y_train.shape"
      ],
      "execution_count": null,
      "outputs": [
        {
          "output_type": "execute_result",
          "data": {
            "text/plain": [
              "(4280, 1)"
            ]
          },
          "metadata": {
            "tags": []
          },
          "execution_count": 31
        }
      ]
    },
    {
      "cell_type": "code",
      "metadata": {
        "colab": {
          "base_uri": "https://localhost:8080/"
        },
        "id": "_G-P_Y49m1fj",
        "outputId": "62a4fa8d-c061-4c88-e5b8-8427524304fe"
      },
      "source": [
        "model = RNN()\n",
        "model.summary()\n",
        "model.compile(loss='categorical_crossentropy',optimizer=RMSprop(),metrics=['accuracy'])"
      ],
      "execution_count": null,
      "outputs": [
        {
          "output_type": "stream",
          "text": [
            "Model: \"functional_1\"\n",
            "_________________________________________________________________\n",
            "Layer (type)                 Output Shape              Param #   \n",
            "=================================================================\n",
            "inputs (InputLayer)          [(None, 150)]             0         \n",
            "_________________________________________________________________\n",
            "embedding (Embedding)        (None, 150, 50)           50000     \n",
            "_________________________________________________________________\n",
            "lstm (LSTM)                  (None, 64)                29440     \n",
            "_________________________________________________________________\n",
            "FC1 (Dense)                  (None, 256)               16640     \n",
            "_________________________________________________________________\n",
            "activation (Activation)      (None, 256)               0         \n",
            "_________________________________________________________________\n",
            "dropout (Dropout)            (None, 256)               0         \n",
            "_________________________________________________________________\n",
            "out_layer (Dense)            (None, 3)                 771       \n",
            "_________________________________________________________________\n",
            "activation_1 (Activation)    (None, 3)                 0         \n",
            "=================================================================\n",
            "Total params: 96,851\n",
            "Trainable params: 96,851\n",
            "Non-trainable params: 0\n",
            "_________________________________________________________________\n"
          ],
          "name": "stdout"
        }
      ]
    },
    {
      "cell_type": "code",
      "metadata": {
        "colab": {
          "base_uri": "https://localhost:8080/",
          "height": 865
        },
        "id": "6qITlIOKnGIT",
        "outputId": "381d14b7-919d-4703-86ca-9dc4c9f44e9d"
      },
      "source": [
        "from keras.utils import plot_model\n",
        "plot_model(model,to_file='model.png',show_shapes=True)"
      ],
      "execution_count": null,
      "outputs": [
        {
          "output_type": "execute_result",
          "data": {
            "image/png": "[encoded data removed]",
            "text/plain": [
              "<IPython.core.display.Image object>"
            ]
          },
          "metadata": {
            "tags": []
          },
          "execution_count": 8
        }
      ]
    },
    {
      "cell_type": "code",
      "metadata": {
        "id": "Lkx1fWcOzUWW"
      },
      "source": [
        "def RNN():\n",
        "    inputs = Input(name='inputs',shape=[max_len])\n",
        "    layer = Embedding(max_words,50,input_length=max_len)(inputs)\n",
        "    layer = LSTM(64)(layer)\n",
        "    layer = Dense(256,name='FC1')(layer)\n",
        "    layer = Activation('relu')(layer)\n",
        "    layer = Dropout(0.5)(layer)\n",
        "    layer = Dense(3,name='out_layer')(layer)\n",
        "    layer = Activation('sigmoid')(layer)\n",
        "    model = Model(inputs=inputs,outputs=layer)\n",
        "    return model"
      ],
      "execution_count": null,
      "outputs": []
    },
    {
      "cell_type": "code",
      "metadata": {
        "colab": {
          "base_uri": "https://localhost:8080/"
        },
        "id": "GEpZjxD6zZpu",
        "outputId": "420c36b5-e617-497e-b186-47333fb8c98d"
      },
      "source": [
        "model = RNN()\n",
        "model.summary()\n",
        "model.compile(loss='categorical_crossentropy',optimizer=RMSprop(),metrics=['accuracy'])\n"
      ],
      "execution_count": null,
      "outputs": [
        {
          "output_type": "stream",
          "text": [
            "Model: \"functional_3\"\n",
            "_________________________________________________________________\n",
            "Layer (type)                 Output Shape              Param #   \n",
            "=================================================================\n",
            "inputs (InputLayer)          [(None, 150)]             0         \n",
            "_________________________________________________________________\n",
            "embedding_1 (Embedding)      (None, 150, 50)           50000     \n",
            "_________________________________________________________________\n",
            "lstm_1 (LSTM)                (None, 64)                29440     \n",
            "_________________________________________________________________\n",
            "FC1 (Dense)                  (None, 256)               16640     \n",
            "_________________________________________________________________\n",
            "activation_2 (Activation)    (None, 256)               0         \n",
            "_________________________________________________________________\n",
            "dropout_1 (Dropout)          (None, 256)               0         \n",
            "_________________________________________________________________\n",
            "out_layer (Dense)            (None, 3)                 771       \n",
            "_________________________________________________________________\n",
            "activation_3 (Activation)    (None, 3)                 0         \n",
            "=================================================================\n",
            "Total params: 96,851\n",
            "Trainable params: 96,851\n",
            "Non-trainable params: 0\n",
            "_________________________________________________________________\n"
          ],
          "name": "stdout"
        }
      ]
    },
    {
      "cell_type": "code",
      "metadata": {
        "id": "0qAKYK5FsFjZ"
      },
      "source": [
        "from keras.callbacks import ModelCheckpoint"
      ],
      "execution_count": null,
      "outputs": []
    },
    {
      "cell_type": "code",
      "metadata": {
        "id": "sAHF2qXxsouD"
      },
      "source": [
        "from keras.utils import to_categorical"
      ],
      "execution_count": null,
      "outputs": []
    },
    {
      "cell_type": "code",
      "metadata": {
        "id": "5lQBZGhgsscf"
      },
      "source": [
        "Y_train_=to_categorical(Y_train)"
      ],
      "execution_count": null,
      "outputs": []
    },
    {
      "cell_type": "code",
      "metadata": {
        "id": "chhI9NyWrLyG"
      },
      "source": [
        "filepath=\"/content/drive/MyDrive/Thirdsem/TimeSeries/NLP_malayalam.hdf5\"\n",
        "checkpoint = ModelCheckpoint(filepath, monitor='val_loss', verbose=1, save_best_only=True, mode='min')\n",
        "callbacks_list = [checkpoint]"
      ],
      "execution_count": null,
      "outputs": []
    },
    {
      "cell_type": "code",
      "metadata": {
        "colab": {
          "base_uri": "https://localhost:8080/"
        },
        "id": "IrVbI3D7tTKe",
        "outputId": "94085856-eac8-4915-cbd7-7f4fcfc14895"
      },
      "source": [
        "Y_train_"
      ],
      "execution_count": null,
      "outputs": [
        {
          "output_type": "execute_result",
          "data": {
            "text/plain": [
              "array([[0., 0., 1.],\n",
              "       [0., 1., 0.],\n",
              "       [0., 1., 0.],\n",
              "       ...,\n",
              "       [0., 1., 0.],\n",
              "       [1., 0., 0.],\n",
              "       [1., 0., 0.]], dtype=float32)"
            ]
          },
          "metadata": {
            "tags": []
          },
          "execution_count": 32
        }
      ]
    },
    {
      "cell_type": "code",
      "metadata": {
        "colab": {
          "base_uri": "https://localhost:8080/"
        },
        "id": "ro6Aki3f0E3L",
        "outputId": "cdcbf0de-7cdb-4ac5-f764-900d0212f2a4"
      },
      "source": [
        "model.fit(sequences_matrix,Y_train_,batch_size=128,epochs=100,\n",
        "          validation_split=0.2,callbacks=callbacks_list)"
      ],
      "execution_count": null,
      "outputs": [
        {
          "output_type": "stream",
          "text": [
            "Epoch 1/100\n",
            "25/27 [==========================>...] - ETA: 0s - loss: 0.1382 - accuracy: 0.9378\n",
            "Epoch 00001: val_loss did not improve from 0.35729\n",
            "27/27 [==============================] - 0s 17ms/step - loss: 0.1345 - accuracy: 0.9398 - val_loss: 0.4781 - val_accuracy: 0.8668\n",
            "Epoch 2/100\n",
            "26/27 [===========================>..] - ETA: 0s - loss: 0.1334 - accuracy: 0.9390\n",
            "Epoch 00002: val_loss did not improve from 0.35729\n",
            "27/27 [==============================] - 0s 12ms/step - loss: 0.1347 - accuracy: 0.9375 - val_loss: 0.4932 - val_accuracy: 0.8633\n",
            "Epoch 3/100\n",
            "27/27 [==============================] - ETA: 0s - loss: 0.1279 - accuracy: 0.9442\n",
            "Epoch 00003: val_loss did not improve from 0.35729\n",
            "27/27 [==============================] - 0s 12ms/step - loss: 0.1279 - accuracy: 0.9442 - val_loss: 0.5266 - val_accuracy: 0.8633\n",
            "Epoch 4/100\n",
            "27/27 [==============================] - ETA: 0s - loss: 0.1300 - accuracy: 0.9381\n",
            "Epoch 00004: val_loss did not improve from 0.35729\n",
            "27/27 [==============================] - 0s 12ms/step - loss: 0.1300 - accuracy: 0.9381 - val_loss: 0.5013 - val_accuracy: 0.8703\n",
            "Epoch 5/100\n",
            "27/27 [==============================] - ETA: 0s - loss: 0.1236 - accuracy: 0.9433\n",
            "Epoch 00005: val_loss did not improve from 0.35729\n",
            "27/27 [==============================] - 0s 12ms/step - loss: 0.1236 - accuracy: 0.9433 - val_loss: 0.5158 - val_accuracy: 0.8715\n",
            "Epoch 6/100\n",
            "26/27 [===========================>..] - ETA: 0s - loss: 0.1237 - accuracy: 0.9393\n",
            "Epoch 00006: val_loss did not improve from 0.35729\n",
            "27/27 [==============================] - 0s 13ms/step - loss: 0.1225 - accuracy: 0.9401 - val_loss: 0.5905 - val_accuracy: 0.8657\n",
            "Epoch 7/100\n",
            "27/27 [==============================] - ETA: 0s - loss: 0.1233 - accuracy: 0.9460\n",
            "Epoch 00007: val_loss did not improve from 0.35729\n",
            "27/27 [==============================] - 0s 12ms/step - loss: 0.1233 - accuracy: 0.9460 - val_loss: 0.5670 - val_accuracy: 0.8633\n",
            "Epoch 8/100\n",
            "27/27 [==============================] - ETA: 0s - loss: 0.1239 - accuracy: 0.9448\n",
            "Epoch 00008: val_loss did not improve from 0.35729\n",
            "27/27 [==============================] - 0s 12ms/step - loss: 0.1239 - accuracy: 0.9448 - val_loss: 0.5843 - val_accuracy: 0.8703\n",
            "Epoch 9/100\n",
            "23/27 [========================>.....] - ETA: 0s - loss: 0.1200 - accuracy: 0.9416\n",
            "Epoch 00009: val_loss did not improve from 0.35729\n",
            "27/27 [==============================] - 0s 11ms/step - loss: 0.1184 - accuracy: 0.9433 - val_loss: 0.6022 - val_accuracy: 0.8680\n",
            "Epoch 10/100\n",
            "27/27 [==============================] - ETA: 0s - loss: 0.1197 - accuracy: 0.9451\n",
            "Epoch 00010: val_loss did not improve from 0.35729\n",
            "27/27 [==============================] - 0s 11ms/step - loss: 0.1197 - accuracy: 0.9451 - val_loss: 0.6314 - val_accuracy: 0.8680\n",
            "Epoch 11/100\n",
            "23/27 [========================>.....] - ETA: 0s - loss: 0.1191 - accuracy: 0.9446\n",
            "Epoch 00011: val_loss did not improve from 0.35729\n",
            "27/27 [==============================] - 0s 11ms/step - loss: 0.1164 - accuracy: 0.9457 - val_loss: 0.6961 - val_accuracy: 0.8668\n",
            "Epoch 12/100\n",
            "24/27 [=========================>....] - ETA: 0s - loss: 0.1218 - accuracy: 0.9453\n",
            "Epoch 00012: val_loss did not improve from 0.35729\n",
            "27/27 [==============================] - 0s 11ms/step - loss: 0.1205 - accuracy: 0.9451 - val_loss: 0.6681 - val_accuracy: 0.8692\n",
            "Epoch 13/100\n",
            "26/27 [===========================>..] - ETA: 0s - loss: 0.1137 - accuracy: 0.9483\n",
            "Epoch 00013: val_loss did not improve from 0.35729\n",
            "27/27 [==============================] - 0s 12ms/step - loss: 0.1153 - accuracy: 0.9474 - val_loss: 0.6778 - val_accuracy: 0.8692\n",
            "Epoch 14/100\n",
            "27/27 [==============================] - ETA: 0s - loss: 0.1139 - accuracy: 0.9460\n",
            "Epoch 00014: val_loss did not improve from 0.35729\n",
            "27/27 [==============================] - 0s 12ms/step - loss: 0.1139 - accuracy: 0.9460 - val_loss: 0.7301 - val_accuracy: 0.8598\n",
            "Epoch 15/100\n",
            "26/27 [===========================>..] - ETA: 0s - loss: 0.1125 - accuracy: 0.9480\n",
            "Epoch 00015: val_loss did not improve from 0.35729\n",
            "27/27 [==============================] - 0s 12ms/step - loss: 0.1128 - accuracy: 0.9474 - val_loss: 0.7073 - val_accuracy: 0.8657\n",
            "Epoch 16/100\n",
            "23/27 [========================>.....] - ETA: 0s - loss: 0.1084 - accuracy: 0.9474\n",
            "Epoch 00016: val_loss did not improve from 0.35729\n",
            "27/27 [==============================] - 0s 11ms/step - loss: 0.1113 - accuracy: 0.9451 - val_loss: 0.7383 - val_accuracy: 0.8657\n",
            "Epoch 17/100\n",
            "22/27 [=======================>......] - ETA: 0s - loss: 0.1053 - accuracy: 0.9496\n",
            "Epoch 00017: val_loss did not improve from 0.35729\n",
            "27/27 [==============================] - 0s 11ms/step - loss: 0.1090 - accuracy: 0.9477 - val_loss: 0.7407 - val_accuracy: 0.8657\n",
            "Epoch 18/100\n",
            "27/27 [==============================] - ETA: 0s - loss: 0.1087 - accuracy: 0.9448\n",
            "Epoch 00018: val_loss did not improve from 0.35729\n",
            "27/27 [==============================] - 0s 12ms/step - loss: 0.1087 - accuracy: 0.9448 - val_loss: 0.7974 - val_accuracy: 0.8645\n",
            "Epoch 19/100\n",
            "25/27 [==========================>...] - ETA: 0s - loss: 0.1104 - accuracy: 0.9466\n",
            "Epoch 00019: val_loss did not improve from 0.35729\n",
            "27/27 [==============================] - 0s 12ms/step - loss: 0.1095 - accuracy: 0.9471 - val_loss: 0.8063 - val_accuracy: 0.8598\n",
            "Epoch 20/100\n",
            "24/27 [=========================>....] - ETA: 0s - loss: 0.1068 - accuracy: 0.9489\n",
            "Epoch 00020: val_loss did not improve from 0.35729\n",
            "27/27 [==============================] - 0s 11ms/step - loss: 0.1088 - accuracy: 0.9483 - val_loss: 0.7980 - val_accuracy: 0.8633\n",
            "Epoch 21/100\n",
            "24/27 [=========================>....] - ETA: 0s - loss: 0.1054 - accuracy: 0.9499\n",
            "Epoch 00021: val_loss did not improve from 0.35729\n",
            "27/27 [==============================] - 0s 11ms/step - loss: 0.1110 - accuracy: 0.9480 - val_loss: 0.8156 - val_accuracy: 0.8586\n",
            "Epoch 22/100\n",
            "24/27 [=========================>....] - ETA: 0s - loss: 0.1033 - accuracy: 0.9505\n",
            "Epoch 00022: val_loss did not improve from 0.35729\n",
            "27/27 [==============================] - 0s 11ms/step - loss: 0.1069 - accuracy: 0.9480 - val_loss: 0.8455 - val_accuracy: 0.8598\n",
            "Epoch 23/100\n",
            "22/27 [=======================>......] - ETA: 0s - loss: 0.1005 - accuracy: 0.9535\n",
            "Epoch 00023: val_loss did not improve from 0.35729\n",
            "27/27 [==============================] - 0s 12ms/step - loss: 0.1046 - accuracy: 0.9512 - val_loss: 0.8640 - val_accuracy: 0.8598\n",
            "Epoch 24/100\n",
            "23/27 [========================>.....] - ETA: 0s - loss: 0.1069 - accuracy: 0.9480\n",
            "Epoch 00024: val_loss did not improve from 0.35729\n",
            "27/27 [==============================] - 0s 12ms/step - loss: 0.1065 - accuracy: 0.9486 - val_loss: 0.9328 - val_accuracy: 0.8528\n",
            "Epoch 25/100\n",
            "26/27 [===========================>..] - ETA: 0s - loss: 0.1051 - accuracy: 0.9495\n",
            "Epoch 00025: val_loss did not improve from 0.35729\n",
            "27/27 [==============================] - 0s 12ms/step - loss: 0.1040 - accuracy: 0.9501 - val_loss: 0.9071 - val_accuracy: 0.8551\n",
            "Epoch 26/100\n",
            "27/27 [==============================] - ETA: 0s - loss: 0.1085 - accuracy: 0.9483\n",
            "Epoch 00026: val_loss did not improve from 0.35729\n",
            "27/27 [==============================] - 0s 12ms/step - loss: 0.1085 - accuracy: 0.9483 - val_loss: 0.9161 - val_accuracy: 0.8528\n",
            "Epoch 27/100\n",
            "26/27 [===========================>..] - ETA: 0s - loss: 0.1028 - accuracy: 0.9507\n",
            "Epoch 00027: val_loss did not improve from 0.35729\n",
            "27/27 [==============================] - 0s 12ms/step - loss: 0.1038 - accuracy: 0.9498 - val_loss: 0.9478 - val_accuracy: 0.8528\n",
            "Epoch 28/100\n",
            "26/27 [===========================>..] - ETA: 0s - loss: 0.1047 - accuracy: 0.9498\n",
            "Epoch 00028: val_loss did not improve from 0.35729\n",
            "27/27 [==============================] - 0s 12ms/step - loss: 0.1038 - accuracy: 0.9504 - val_loss: 0.9291 - val_accuracy: 0.8551\n",
            "Epoch 29/100\n",
            "27/27 [==============================] - ETA: 0s - loss: 0.1041 - accuracy: 0.9492\n",
            "Epoch 00029: val_loss did not improve from 0.35729\n",
            "27/27 [==============================] - 0s 12ms/step - loss: 0.1041 - accuracy: 0.9492 - val_loss: 0.9859 - val_accuracy: 0.8575\n",
            "Epoch 30/100\n",
            "25/27 [==========================>...] - ETA: 0s - loss: 0.1036 - accuracy: 0.9500\n",
            "Epoch 00030: val_loss did not improve from 0.35729\n",
            "27/27 [==============================] - 0s 11ms/step - loss: 0.1042 - accuracy: 0.9495 - val_loss: 0.9958 - val_accuracy: 0.8575\n",
            "Epoch 31/100\n",
            "26/27 [===========================>..] - ETA: 0s - loss: 0.1036 - accuracy: 0.9477\n",
            "Epoch 00031: val_loss did not improve from 0.35729\n",
            "27/27 [==============================] - 0s 12ms/step - loss: 0.1034 - accuracy: 0.9477 - val_loss: 1.0271 - val_accuracy: 0.8528\n",
            "Epoch 32/100\n",
            "27/27 [==============================] - ETA: 0s - loss: 0.1029 - accuracy: 0.9498\n",
            "Epoch 00032: val_loss did not improve from 0.35729\n",
            "27/27 [==============================] - 0s 12ms/step - loss: 0.1029 - accuracy: 0.9498 - val_loss: 1.0209 - val_accuracy: 0.8528\n",
            "Epoch 33/100\n",
            "23/27 [========================>.....] - ETA: 0s - loss: 0.1011 - accuracy: 0.9487\n",
            "Epoch 00033: val_loss did not improve from 0.35729\n",
            "27/27 [==============================] - 0s 11ms/step - loss: 0.1007 - accuracy: 0.9495 - val_loss: 1.0659 - val_accuracy: 0.8516\n",
            "Epoch 34/100\n",
            "27/27 [==============================] - ETA: 0s - loss: 0.1024 - accuracy: 0.9501\n",
            "Epoch 00034: val_loss did not improve from 0.35729\n",
            "27/27 [==============================] - 0s 12ms/step - loss: 0.1024 - accuracy: 0.9501 - val_loss: 1.0768 - val_accuracy: 0.8493\n",
            "Epoch 35/100\n",
            "23/27 [========================>.....] - ETA: 0s - loss: 0.1043 - accuracy: 0.9494\n",
            "Epoch 00035: val_loss did not improve from 0.35729\n",
            "27/27 [==============================] - 0s 12ms/step - loss: 0.1025 - accuracy: 0.9498 - val_loss: 1.1140 - val_accuracy: 0.8528\n",
            "Epoch 36/100\n",
            "26/27 [===========================>..] - ETA: 0s - loss: 0.1020 - accuracy: 0.9489\n",
            "Epoch 00036: val_loss did not improve from 0.35729\n",
            "27/27 [==============================] - 0s 13ms/step - loss: 0.1013 - accuracy: 0.9492 - val_loss: 1.0928 - val_accuracy: 0.8528\n",
            "Epoch 37/100\n",
            "26/27 [===========================>..] - ETA: 0s - loss: 0.1003 - accuracy: 0.9495\n",
            "Epoch 00037: val_loss did not improve from 0.35729\n",
            "27/27 [==============================] - 0s 13ms/step - loss: 0.1007 - accuracy: 0.9495 - val_loss: 1.1378 - val_accuracy: 0.8505\n",
            "Epoch 38/100\n",
            "26/27 [===========================>..] - ETA: 0s - loss: 0.1012 - accuracy: 0.9513\n",
            "Epoch 00038: val_loss did not improve from 0.35729\n",
            "27/27 [==============================] - 0s 13ms/step - loss: 0.1001 - accuracy: 0.9515 - val_loss: 1.1400 - val_accuracy: 0.8505\n",
            "Epoch 39/100\n",
            "24/27 [=========================>....] - ETA: 0s - loss: 0.1035 - accuracy: 0.9479\n",
            "Epoch 00039: val_loss did not improve from 0.35729\n",
            "27/27 [==============================] - 0s 13ms/step - loss: 0.1029 - accuracy: 0.9486 - val_loss: 1.1375 - val_accuracy: 0.8505\n",
            "Epoch 40/100\n",
            "27/27 [==============================] - ETA: 0s - loss: 0.1006 - accuracy: 0.9501\n",
            "Epoch 00040: val_loss did not improve from 0.35729\n",
            "27/27 [==============================] - 0s 12ms/step - loss: 0.1006 - accuracy: 0.9501 - val_loss: 1.1566 - val_accuracy: 0.8528\n",
            "Epoch 41/100\n",
            "24/27 [=========================>....] - ETA: 0s - loss: 0.1019 - accuracy: 0.9473\n",
            "Epoch 00041: val_loss did not improve from 0.35729\n",
            "27/27 [==============================] - 0s 11ms/step - loss: 0.1016 - accuracy: 0.9474 - val_loss: 1.1586 - val_accuracy: 0.8493\n",
            "Epoch 42/100\n",
            "26/27 [===========================>..] - ETA: 0s - loss: 0.1000 - accuracy: 0.9489\n",
            "Epoch 00042: val_loss did not improve from 0.35729\n",
            "27/27 [==============================] - 0s 12ms/step - loss: 0.0995 - accuracy: 0.9492 - val_loss: 1.1871 - val_accuracy: 0.8516\n",
            "Epoch 43/100\n",
            "27/27 [==============================] - ETA: 0s - loss: 0.0994 - accuracy: 0.9498\n",
            "Epoch 00043: val_loss did not improve from 0.35729\n",
            "27/27 [==============================] - 0s 12ms/step - loss: 0.0994 - accuracy: 0.9498 - val_loss: 1.1857 - val_accuracy: 0.8528\n",
            "Epoch 44/100\n",
            "26/27 [===========================>..] - ETA: 0s - loss: 0.0987 - accuracy: 0.9507\n",
            "Epoch 00044: val_loss did not improve from 0.35729\n",
            "27/27 [==============================] - 0s 13ms/step - loss: 0.0986 - accuracy: 0.9509 - val_loss: 1.2197 - val_accuracy: 0.8493\n",
            "Epoch 45/100\n",
            "25/27 [==========================>...] - ETA: 0s - loss: 0.1027 - accuracy: 0.9484\n",
            "Epoch 00045: val_loss did not improve from 0.35729\n",
            "27/27 [==============================] - 0s 12ms/step - loss: 0.1013 - accuracy: 0.9486 - val_loss: 1.2334 - val_accuracy: 0.8493\n",
            "Epoch 46/100\n",
            "26/27 [===========================>..] - ETA: 0s - loss: 0.0998 - accuracy: 0.9504\n",
            "Epoch 00046: val_loss did not improve from 0.35729\n",
            "27/27 [==============================] - 0s 12ms/step - loss: 0.0999 - accuracy: 0.9501 - val_loss: 1.2155 - val_accuracy: 0.8540\n",
            "Epoch 47/100\n",
            "26/27 [===========================>..] - ETA: 0s - loss: 0.1038 - accuracy: 0.9492\n",
            "Epoch 00047: val_loss did not improve from 0.35729\n",
            "27/27 [==============================] - 0s 12ms/step - loss: 0.1026 - accuracy: 0.9498 - val_loss: 1.2343 - val_accuracy: 0.8516\n",
            "Epoch 48/100\n",
            "23/27 [========================>.....] - ETA: 0s - loss: 0.1019 - accuracy: 0.9470\n",
            "Epoch 00048: val_loss did not improve from 0.35729\n",
            "27/27 [==============================] - 0s 11ms/step - loss: 0.0988 - accuracy: 0.9501 - val_loss: 1.2501 - val_accuracy: 0.8505\n",
            "Epoch 49/100\n",
            "23/27 [========================>.....] - ETA: 0s - loss: 0.1001 - accuracy: 0.9497\n",
            "Epoch 00049: val_loss did not improve from 0.35729\n",
            "27/27 [==============================] - 0s 11ms/step - loss: 0.0990 - accuracy: 0.9504 - val_loss: 1.2499 - val_accuracy: 0.8516\n",
            "Epoch 50/100\n",
            "26/27 [===========================>..] - ETA: 0s - loss: 0.0972 - accuracy: 0.9516\n",
            "Epoch 00050: val_loss did not improve from 0.35729\n",
            "27/27 [==============================] - 0s 13ms/step - loss: 0.0986 - accuracy: 0.9509 - val_loss: 1.2780 - val_accuracy: 0.8505\n",
            "Epoch 51/100\n",
            "26/27 [===========================>..] - ETA: 0s - loss: 0.0983 - accuracy: 0.9498\n",
            "Epoch 00051: val_loss did not improve from 0.35729\n",
            "27/27 [==============================] - 0s 12ms/step - loss: 0.0985 - accuracy: 0.9498 - val_loss: 1.2644 - val_accuracy: 0.8516\n",
            "Epoch 52/100\n",
            "22/27 [=======================>......] - ETA: 0s - loss: 0.0954 - accuracy: 0.9499\n",
            "Epoch 00052: val_loss did not improve from 0.35729\n",
            "27/27 [==============================] - 0s 12ms/step - loss: 0.0975 - accuracy: 0.9492 - val_loss: 1.2760 - val_accuracy: 0.8528\n",
            "Epoch 53/100\n",
            "26/27 [===========================>..] - ETA: 0s - loss: 0.0987 - accuracy: 0.9495\n",
            "Epoch 00053: val_loss did not improve from 0.35729\n",
            "27/27 [==============================] - 0s 12ms/step - loss: 0.0985 - accuracy: 0.9492 - val_loss: 1.2874 - val_accuracy: 0.8516\n",
            "Epoch 54/100\n",
            "27/27 [==============================] - ETA: 0s - loss: 0.0987 - accuracy: 0.9498\n",
            "Epoch 00054: val_loss did not improve from 0.35729\n",
            "27/27 [==============================] - 0s 12ms/step - loss: 0.0987 - accuracy: 0.9498 - val_loss: 1.2812 - val_accuracy: 0.8470\n",
            "Epoch 55/100\n",
            "23/27 [========================>.....] - ETA: 0s - loss: 0.1024 - accuracy: 0.9480\n",
            "Epoch 00055: val_loss did not improve from 0.35729\n",
            "27/27 [==============================] - 0s 11ms/step - loss: 0.0987 - accuracy: 0.9512 - val_loss: 1.3147 - val_accuracy: 0.8516\n",
            "Epoch 56/100\n",
            "26/27 [===========================>..] - ETA: 0s - loss: 0.0959 - accuracy: 0.9510\n",
            "Epoch 00056: val_loss did not improve from 0.35729\n",
            "27/27 [==============================] - 0s 12ms/step - loss: 0.0971 - accuracy: 0.9498 - val_loss: 1.2956 - val_accuracy: 0.8493\n",
            "Epoch 57/100\n",
            "27/27 [==============================] - ETA: 0s - loss: 0.0975 - accuracy: 0.9495\n",
            "Epoch 00057: val_loss did not improve from 0.35729\n",
            "27/27 [==============================] - 0s 12ms/step - loss: 0.0975 - accuracy: 0.9495 - val_loss: 1.3062 - val_accuracy: 0.8505\n",
            "Epoch 58/100\n",
            "27/27 [==============================] - ETA: 0s - loss: 0.0978 - accuracy: 0.9489\n",
            "Epoch 00058: val_loss did not improve from 0.35729\n",
            "27/27 [==============================] - 0s 11ms/step - loss: 0.0978 - accuracy: 0.9489 - val_loss: 1.2946 - val_accuracy: 0.8516\n",
            "Epoch 59/100\n",
            "26/27 [===========================>..] - ETA: 0s - loss: 0.0976 - accuracy: 0.9486\n",
            "Epoch 00059: val_loss did not improve from 0.35729\n",
            "27/27 [==============================] - 0s 12ms/step - loss: 0.0969 - accuracy: 0.9495 - val_loss: 1.2975 - val_accuracy: 0.8505\n",
            "Epoch 60/100\n",
            "23/27 [========================>.....] - ETA: 0s - loss: 0.0964 - accuracy: 0.9514\n",
            "Epoch 00060: val_loss did not improve from 0.35729\n",
            "27/27 [==============================] - 0s 12ms/step - loss: 0.0969 - accuracy: 0.9501 - val_loss: 1.3299 - val_accuracy: 0.8505\n",
            "Epoch 61/100\n",
            "26/27 [===========================>..] - ETA: 0s - loss: 0.0979 - accuracy: 0.9492\n",
            "Epoch 00061: val_loss did not improve from 0.35729\n",
            "27/27 [==============================] - 0s 12ms/step - loss: 0.0965 - accuracy: 0.9501 - val_loss: 1.3054 - val_accuracy: 0.8435\n",
            "Epoch 62/100\n",
            "23/27 [========================>.....] - ETA: 0s - loss: 0.0989 - accuracy: 0.9501\n",
            "Epoch 00062: val_loss did not improve from 0.35729\n",
            "27/27 [==============================] - 0s 12ms/step - loss: 0.0966 - accuracy: 0.9509 - val_loss: 1.3035 - val_accuracy: 0.8481\n",
            "Epoch 63/100\n",
            "27/27 [==============================] - ETA: 0s - loss: 0.0963 - accuracy: 0.9498\n",
            "Epoch 00063: val_loss did not improve from 0.35729\n",
            "27/27 [==============================] - 0s 12ms/step - loss: 0.0963 - accuracy: 0.9498 - val_loss: 1.3560 - val_accuracy: 0.8458\n",
            "Epoch 64/100\n",
            "25/27 [==========================>...] - ETA: 0s - loss: 0.0984 - accuracy: 0.9484\n",
            "Epoch 00064: val_loss did not improve from 0.35729\n",
            "27/27 [==============================] - 0s 12ms/step - loss: 0.0958 - accuracy: 0.9498 - val_loss: 1.3375 - val_accuracy: 0.8481\n",
            "Epoch 65/100\n",
            "23/27 [========================>.....] - ETA: 0s - loss: 0.0947 - accuracy: 0.9497\n",
            "Epoch 00065: val_loss did not improve from 0.35729\n",
            "27/27 [==============================] - 0s 11ms/step - loss: 0.0955 - accuracy: 0.9504 - val_loss: 1.3753 - val_accuracy: 0.8493\n",
            "Epoch 66/100\n",
            "26/27 [===========================>..] - ETA: 0s - loss: 0.0968 - accuracy: 0.9519\n",
            "Epoch 00066: val_loss did not improve from 0.35729\n",
            "27/27 [==============================] - 0s 12ms/step - loss: 0.0963 - accuracy: 0.9521 - val_loss: 1.3081 - val_accuracy: 0.8458\n",
            "Epoch 67/100\n",
            "26/27 [===========================>..] - ETA: 0s - loss: 0.0961 - accuracy: 0.9501\n",
            "Epoch 00067: val_loss did not improve from 0.35729\n",
            "27/27 [==============================] - 0s 12ms/step - loss: 0.0950 - accuracy: 0.9509 - val_loss: 1.3750 - val_accuracy: 0.8435\n",
            "Epoch 68/100\n",
            "27/27 [==============================] - ETA: 0s - loss: 0.0961 - accuracy: 0.9504\n",
            "Epoch 00068: val_loss did not improve from 0.35729\n",
            "27/27 [==============================] - 0s 12ms/step - loss: 0.0961 - accuracy: 0.9504 - val_loss: 1.3975 - val_accuracy: 0.8446\n",
            "Epoch 69/100\n",
            "25/27 [==========================>...] - ETA: 0s - loss: 0.0956 - accuracy: 0.9509\n",
            "Epoch 00069: val_loss did not improve from 0.35729\n",
            "27/27 [==============================] - 0s 12ms/step - loss: 0.0970 - accuracy: 0.9506 - val_loss: 1.3552 - val_accuracy: 0.8481\n",
            "Epoch 70/100\n",
            "26/27 [===========================>..] - ETA: 0s - loss: 0.0944 - accuracy: 0.9513\n",
            "Epoch 00070: val_loss did not improve from 0.35729\n",
            "27/27 [==============================] - 0s 12ms/step - loss: 0.0946 - accuracy: 0.9512 - val_loss: 1.3561 - val_accuracy: 0.8458\n",
            "Epoch 71/100\n",
            "24/27 [=========================>....] - ETA: 0s - loss: 0.1010 - accuracy: 0.9482\n",
            "Epoch 00071: val_loss did not improve from 0.35729\n",
            "27/27 [==============================] - 0s 11ms/step - loss: 0.0991 - accuracy: 0.9498 - val_loss: 1.3675 - val_accuracy: 0.8446\n",
            "Epoch 72/100\n",
            "26/27 [===========================>..] - ETA: 0s - loss: 0.0932 - accuracy: 0.9510\n",
            "Epoch 00072: val_loss did not improve from 0.35729\n",
            "27/27 [==============================] - 0s 12ms/step - loss: 0.0942 - accuracy: 0.9504 - val_loss: 1.4022 - val_accuracy: 0.8423\n",
            "Epoch 73/100\n",
            "27/27 [==============================] - ETA: 0s - loss: 0.0958 - accuracy: 0.9509\n",
            "Epoch 00073: val_loss did not improve from 0.35729\n",
            "27/27 [==============================] - 0s 12ms/step - loss: 0.0958 - accuracy: 0.9509 - val_loss: 1.4034 - val_accuracy: 0.8423\n",
            "Epoch 74/100\n",
            "25/27 [==========================>...] - ETA: 0s - loss: 0.0951 - accuracy: 0.9503\n",
            "Epoch 00074: val_loss did not improve from 0.35729\n",
            "27/27 [==============================] - 0s 11ms/step - loss: 0.0958 - accuracy: 0.9495 - val_loss: 1.4234 - val_accuracy: 0.8411\n",
            "Epoch 75/100\n",
            "27/27 [==============================] - ETA: 0s - loss: 0.0955 - accuracy: 0.9509\n",
            "Epoch 00075: val_loss did not improve from 0.35729\n",
            "27/27 [==============================] - 0s 12ms/step - loss: 0.0955 - accuracy: 0.9509 - val_loss: 1.3805 - val_accuracy: 0.8411\n",
            "Epoch 76/100\n",
            "27/27 [==============================] - ETA: 0s - loss: 0.0936 - accuracy: 0.9506\n",
            "Epoch 00076: val_loss did not improve from 0.35729\n",
            "27/27 [==============================] - 0s 12ms/step - loss: 0.0936 - accuracy: 0.9506 - val_loss: 1.3605 - val_accuracy: 0.8446\n",
            "Epoch 77/100\n",
            "26/27 [===========================>..] - ETA: 0s - loss: 0.0968 - accuracy: 0.9501\n",
            "Epoch 00077: val_loss did not improve from 0.35729\n",
            "27/27 [==============================] - 0s 12ms/step - loss: 0.0965 - accuracy: 0.9501 - val_loss: 1.4142 - val_accuracy: 0.8458\n",
            "Epoch 78/100\n",
            "27/27 [==============================] - ETA: 0s - loss: 0.0951 - accuracy: 0.9509\n",
            "Epoch 00078: val_loss did not improve from 0.35729\n",
            "27/27 [==============================] - 0s 12ms/step - loss: 0.0951 - accuracy: 0.9509 - val_loss: 1.3971 - val_accuracy: 0.8435\n",
            "Epoch 79/100\n",
            "26/27 [===========================>..] - ETA: 0s - loss: 0.0944 - accuracy: 0.9519\n",
            "Epoch 00079: val_loss did not improve from 0.35729\n",
            "27/27 [==============================] - 0s 12ms/step - loss: 0.0945 - accuracy: 0.9521 - val_loss: 1.4374 - val_accuracy: 0.8435\n",
            "Epoch 80/100\n",
            "26/27 [===========================>..] - ETA: 0s - loss: 0.0951 - accuracy: 0.9525\n",
            "Epoch 00080: val_loss did not improve from 0.35729\n",
            "27/27 [==============================] - 0s 12ms/step - loss: 0.0938 - accuracy: 0.9530 - val_loss: 1.4235 - val_accuracy: 0.8400\n",
            "Epoch 81/100\n",
            "26/27 [===========================>..] - ETA: 0s - loss: 0.0939 - accuracy: 0.9516\n",
            "Epoch 00081: val_loss did not improve from 0.35729\n",
            "27/27 [==============================] - 0s 13ms/step - loss: 0.0943 - accuracy: 0.9509 - val_loss: 1.4518 - val_accuracy: 0.8423\n",
            "Epoch 82/100\n",
            "26/27 [===========================>..] - ETA: 0s - loss: 0.0955 - accuracy: 0.9501\n",
            "Epoch 00082: val_loss did not improve from 0.35729\n",
            "27/27 [==============================] - 0s 13ms/step - loss: 0.0952 - accuracy: 0.9501 - val_loss: 1.4203 - val_accuracy: 0.8435\n",
            "Epoch 83/100\n",
            "26/27 [===========================>..] - ETA: 0s - loss: 0.0956 - accuracy: 0.9501\n",
            "Epoch 00083: val_loss did not improve from 0.35729\n",
            "27/27 [==============================] - 0s 13ms/step - loss: 0.0947 - accuracy: 0.9509 - val_loss: 1.4482 - val_accuracy: 0.8411\n",
            "Epoch 84/100\n",
            "25/27 [==========================>...] - ETA: 0s - loss: 0.0937 - accuracy: 0.9516\n",
            "Epoch 00084: val_loss did not improve from 0.35729\n",
            "27/27 [==============================] - 0s 12ms/step - loss: 0.0939 - accuracy: 0.9515 - val_loss: 1.4858 - val_accuracy: 0.8411\n",
            "Epoch 85/100\n",
            "26/27 [===========================>..] - ETA: 0s - loss: 0.0939 - accuracy: 0.9516\n",
            "Epoch 00085: val_loss did not improve from 0.35729\n",
            "27/27 [==============================] - 0s 12ms/step - loss: 0.0947 - accuracy: 0.9512 - val_loss: 1.4758 - val_accuracy: 0.8388\n",
            "Epoch 86/100\n",
            "27/27 [==============================] - ETA: 0s - loss: 0.0957 - accuracy: 0.9509\n",
            "Epoch 00086: val_loss did not improve from 0.35729\n",
            "27/27 [==============================] - 0s 12ms/step - loss: 0.0957 - accuracy: 0.9509 - val_loss: 1.4355 - val_accuracy: 0.8411\n",
            "Epoch 87/100\n",
            "27/27 [==============================] - ETA: 0s - loss: 0.0946 - accuracy: 0.9501\n",
            "Epoch 00087: val_loss did not improve from 0.35729\n",
            "27/27 [==============================] - 0s 12ms/step - loss: 0.0946 - accuracy: 0.9501 - val_loss: 1.4159 - val_accuracy: 0.8400\n",
            "Epoch 88/100\n",
            "26/27 [===========================>..] - ETA: 0s - loss: 0.0954 - accuracy: 0.9519\n",
            "Epoch 00088: val_loss did not improve from 0.35729\n",
            "27/27 [==============================] - 0s 12ms/step - loss: 0.0953 - accuracy: 0.9512 - val_loss: 1.3881 - val_accuracy: 0.8388\n",
            "Epoch 89/100\n",
            "26/27 [===========================>..] - ETA: 0s - loss: 0.0956 - accuracy: 0.9510\n",
            "Epoch 00089: val_loss did not improve from 0.35729\n",
            "27/27 [==============================] - 0s 12ms/step - loss: 0.0937 - accuracy: 0.9518 - val_loss: 1.4357 - val_accuracy: 0.8411\n",
            "Epoch 90/100\n",
            "27/27 [==============================] - ETA: 0s - loss: 0.0965 - accuracy: 0.9506\n",
            "Epoch 00090: val_loss did not improve from 0.35729\n",
            "27/27 [==============================] - 0s 12ms/step - loss: 0.0965 - accuracy: 0.9506 - val_loss: 1.4409 - val_accuracy: 0.8400\n",
            "Epoch 91/100\n",
            "26/27 [===========================>..] - ETA: 0s - loss: 0.0946 - accuracy: 0.9501\n",
            "Epoch 00091: val_loss did not improve from 0.35729\n",
            "27/27 [==============================] - 0s 12ms/step - loss: 0.0940 - accuracy: 0.9506 - val_loss: 1.4469 - val_accuracy: 0.8400\n",
            "Epoch 92/100\n",
            "27/27 [==============================] - ETA: 0s - loss: 0.0938 - accuracy: 0.9509\n",
            "Epoch 00092: val_loss did not improve from 0.35729\n",
            "27/27 [==============================] - 0s 12ms/step - loss: 0.0938 - accuracy: 0.9509 - val_loss: 1.4692 - val_accuracy: 0.8411\n",
            "Epoch 93/100\n",
            "26/27 [===========================>..] - ETA: 0s - loss: 0.0945 - accuracy: 0.9510\n",
            "Epoch 00093: val_loss did not improve from 0.35729\n",
            "27/27 [==============================] - 0s 13ms/step - loss: 0.0943 - accuracy: 0.9512 - val_loss: 1.4402 - val_accuracy: 0.8435\n",
            "Epoch 94/100\n",
            "27/27 [==============================] - ETA: 0s - loss: 0.0941 - accuracy: 0.9518\n",
            "Epoch 00094: val_loss did not improve from 0.35729\n",
            "27/27 [==============================] - 0s 12ms/step - loss: 0.0941 - accuracy: 0.9518 - val_loss: 1.4783 - val_accuracy: 0.8364\n",
            "Epoch 95/100\n",
            "23/27 [========================>.....] - ETA: 0s - loss: 0.0914 - accuracy: 0.9497\n",
            "Epoch 00095: val_loss did not improve from 0.35729\n",
            "27/27 [==============================] - 0s 12ms/step - loss: 0.0935 - accuracy: 0.9509 - val_loss: 1.4417 - val_accuracy: 0.8400\n",
            "Epoch 96/100\n",
            "25/27 [==========================>...] - ETA: 0s - loss: 0.0948 - accuracy: 0.9513\n",
            "Epoch 00096: val_loss did not improve from 0.35729\n",
            "27/27 [==============================] - 0s 13ms/step - loss: 0.0933 - accuracy: 0.9524 - val_loss: 1.4876 - val_accuracy: 0.8423\n",
            "Epoch 97/100\n",
            "26/27 [===========================>..] - ETA: 0s - loss: 0.0949 - accuracy: 0.9513\n",
            "Epoch 00097: val_loss did not improve from 0.35729\n",
            "27/27 [==============================] - 0s 13ms/step - loss: 0.0935 - accuracy: 0.9521 - val_loss: 1.4260 - val_accuracy: 0.8388\n",
            "Epoch 98/100\n",
            "26/27 [===========================>..] - ETA: 0s - loss: 0.0929 - accuracy: 0.9510\n",
            "Epoch 00098: val_loss did not improve from 0.35729\n",
            "27/27 [==============================] - 0s 12ms/step - loss: 0.0938 - accuracy: 0.9498 - val_loss: 1.4577 - val_accuracy: 0.8388\n",
            "Epoch 99/100\n",
            "24/27 [=========================>....] - ETA: 0s - loss: 0.0909 - accuracy: 0.9528\n",
            "Epoch 00099: val_loss did not improve from 0.35729\n",
            "27/27 [==============================] - 0s 13ms/step - loss: 0.0929 - accuracy: 0.9524 - val_loss: 1.4315 - val_accuracy: 0.8388\n",
            "Epoch 100/100\n",
            "24/27 [=========================>....] - ETA: 0s - loss: 0.0923 - accuracy: 0.9525\n",
            "Epoch 00100: val_loss did not improve from 0.35729\n",
            "27/27 [==============================] - 0s 14ms/step - loss: 0.0935 - accuracy: 0.9509 - val_loss: 1.4691 - val_accuracy: 0.8411\n"
          ],
          "name": "stdout"
        },
        {
          "output_type": "execute_result",
          "data": {
            "text/plain": [
              "<tensorflow.python.keras.callbacks.History at 0x7fa4f21e57f0>"
            ]
          },
          "metadata": {
            "tags": []
          },
          "execution_count": 36
        }
      ]
    },
    {
      "cell_type": "code",
      "metadata": {
        "id": "VVmwmT-CvmVc"
      },
      "source": [
        "import keras"
      ],
      "execution_count": null,
      "outputs": []
    },
    {
      "cell_type": "code",
      "metadata": {
        "id": "j0Rc9l0FurQq"
      },
      "source": [
        "mm=keras.models.load_model('/content/drive/MyDrive/Thirdsem/TimeSeries/NLP_malayalam.hdf5')"
      ],
      "execution_count": null,
      "outputs": []
    },
    {
      "cell_type": "code",
      "metadata": {
        "id": "HKbk7VdOwAxL"
      },
      "source": [
        "test_sequences = tok.texts_to_sequences(X_val)\n",
        "test_sequences_matrix = sequence.pad_sequences(test_sequences,maxlen=max_len)"
      ],
      "execution_count": null,
      "outputs": []
    },
    {
      "cell_type": "code",
      "metadata": {
        "id": "AhliZhnowFuL"
      },
      "source": [
        "y_pred=np.argmax(mm.predict(test_sequences_matrix),1)"
      ],
      "execution_count": null,
      "outputs": []
    },
    {
      "cell_type": "code",
      "metadata": {
        "id": "ZJE9uxXQ0mzd"
      },
      "source": [
        "y_pred_rn=np.argmax(model.predict(test_sequences_matrix),1)"
      ],
      "execution_count": null,
      "outputs": []
    },
    {
      "cell_type": "code",
      "metadata": {
        "id": "fuBkJQkY6y5h"
      },
      "source": [
        "from sklearn.metrics import confusion_matrix"
      ],
      "execution_count": null,
      "outputs": []
    },
    {
      "cell_type": "code",
      "metadata": {
        "id": "BxkTwCWw_HEJ"
      },
      "source": [
        "CF=confusion_matrix(y_pred_rn,Y_val)"
      ],
      "execution_count": null,
      "outputs": []
    },
    {
      "cell_type": "code",
      "metadata": {
        "colab": {
          "base_uri": "https://localhost:8080/"
        },
        "id": "KZGRmqCk_Rkx",
        "outputId": "628d124b-1d24-41de-adbb-c67f28322c46"
      },
      "source": [
        "CF #saved model"
      ],
      "execution_count": null,
      "outputs": [
        {
          "output_type": "execute_result",
          "data": {
            "text/plain": [
              "array([[171,  10,   5],\n",
              "       [ 13, 215,   5],\n",
              "       [ 51,  30, 256]])"
            ]
          },
          "metadata": {
            "tags": []
          },
          "execution_count": 76
        }
      ]
    },
    {
      "cell_type": "code",
      "metadata": {
        "colab": {
          "base_uri": "https://localhost:8080/"
        },
        "id": "xZ_cZjJKwx5S",
        "outputId": "9a4fba1c-044a-48d8-ae5a-0a5334a19e53"
      },
      "source": [
        "CF"
      ],
      "execution_count": null,
      "outputs": [
        {
          "output_type": "execute_result",
          "data": {
            "text/plain": [
              "array([[203,  25,  29],\n",
              "       [ 13, 213,  12],\n",
              "       [ 19,  17, 225]])"
            ]
          },
          "metadata": {
            "tags": []
          },
          "execution_count": 84
        }
      ]
    },
    {
      "cell_type": "code",
      "metadata": {
        "id": "Ans1pR7CA_qB"
      },
      "source": [
        "def metrics(CF):\n",
        "  TN=[]\n",
        "  D=np.diag(CF)\n",
        "  DS=np.sum(D)\n",
        "  D_=np.diagflat(D)\n",
        "  DF=CF-D_\n",
        "  FP=np.sum(DF,1)\n",
        "  FN=np.sum(DF,0)\n",
        "  TP=D\n",
        "  for i in D:\n",
        "   TN.append(DS-i)\n",
        "  A=np.divide(TP+TN,TP+TN+FP+FN)\n",
        "  P=np.divide(TP,TP+FP)\n",
        "  R=np.divide(TP,TP+FN)\n",
        "  F1=np.divide(2*(precision * recall),(precision + recall))\n",
        "  return A,P,R,F1"
      ],
      "execution_count": null,
      "outputs": []
    },
    {
      "cell_type": "code",
      "metadata": {
        "id": "0fe22B2wCBhI"
      },
      "source": [
        "import seaborn as sb"
      ],
      "execution_count": null,
      "outputs": []
    },
    {
      "cell_type": "code",
      "metadata": {
        "colab": {
          "base_uri": "https://localhost:8080/",
          "height": 280
        },
        "id": "nVriuPU4y7Bj",
        "outputId": "809310ca-e8e3-45cc-861e-39e03bf4920a"
      },
      "source": [
        "accuracy,precision,recall,f1score=metrics(CF) #for  running model\n",
        "CR={'accuracy':accuracy,'precision':precision,'recall':recall,'f1_score':f1score}\n",
        "data=pd.DataFrame(CR)\n",
        "#0 Business, 2 sports, 1 Entertainment\n",
        "newdata=data.rename(index={0:'Business',1:'sports',2:'Entertainment'})\n",
        "img=sb.heatmap(newdata,annot=True,fmt='f',robust=True,linewidths=2, cmap=\"YlGnBu\")\n",
        "img.figure.savefig('CB_25.png')"
      ],
      "execution_count": null,
      "outputs": [
        {
          "output_type": "display_data",
          "data": {
            "image/png": "[encoded data removed]",
            "text/plain": [
              "<Figure size 432x288 with 2 Axes>"
            ]
          },
          "metadata": {
            "tags": [],
            "needs_background": "light"
          }
        }
      ]
    },
    {
      "cell_type": "code",
      "metadata": {
        "colab": {
          "base_uri": "https://localhost:8080/"
        },
        "id": "PzYC4r90zeY8",
        "outputId": "e1ae7b88-3c2d-4cd2-9f68-ccf894203026"
      },
      "source": [
        "np.mean(f1score) # for the running  model"
      ],
      "execution_count": null,
      "outputs": [
        {
          "output_type": "execute_result",
          "data": {
            "text/plain": [
              "0.8477301860632295"
            ]
          },
          "metadata": {
            "tags": []
          },
          "execution_count": 68
        }
      ]
    },
    {
      "cell_type": "code",
      "metadata": {
        "colab": {
          "base_uri": "https://localhost:8080/",
          "height": 280
        },
        "id": "aiqdRtIdzktx",
        "outputId": "c015dabb-e79d-4673-da7b-4f05e9314f0e"
      },
      "source": [
        "accuracy,precision,recall,f1score=metrics(CF) #for  running model\n",
        "CR={'accuracy':accuracy,'precision':precision,'recall':recall,'f1_score':f1score}\n",
        "data=pd.DataFrame(CR)\n",
        "#0 Business, 2 sports, 1 Entertainment\n",
        "newdata=data.rename(index={0:'Business',1:'sports',2:'Entertainment'})\n",
        "img=sb.heatmap(newdata,annot=True,fmt='f',robust=True,linewidths=2, cmap=\"YlGnBu\")\n",
        "img.figure.savefig('NLP_saved_model.png')"
      ],
      "execution_count": null,
      "outputs": [
        {
          "output_type": "display_data",
          "data": {
            "image/png": "[encoded data removed]",
            "text/plain": [
              "<Figure size 432x288 with 2 Axes>"
            ]
          },
          "metadata": {
            "tags": [],
            "needs_background": "light"
          }
        }
      ]
    },
    {
      "cell_type": "code",
      "metadata": {
        "colab": {
          "base_uri": "https://localhost:8080/"
        },
        "id": "kTx5AIl30XYL",
        "outputId": "13bffa76-5cac-411f-8173-74a8fc91b3c8"
      },
      "source": [
        "np.mean(f1score) # for the saved  model"
      ],
      "execution_count": null,
      "outputs": [
        {
          "output_type": "execute_result",
          "data": {
            "text/plain": [
              "0.8477301860632295"
            ]
          },
          "metadata": {
            "tags": []
          },
          "execution_count": 78
        }
      ]
    },
    {
      "cell_type": "code",
      "metadata": {
        "colab": {
          "base_uri": "https://localhost:8080/",
          "height": 280
        },
        "id": "XCUpvHKQBGXN",
        "outputId": "02a1b05a-86da-475e-b7df-14f423d34581"
      },
      "source": [
        "accuracy,precision,recall=metrics(CF) #for  saved model\n",
        "CR={'accuracy':accuracy,'precision':precision,'recall':recall}\n",
        "data=pd.DataFrame(CR)\n",
        "#0 Business, 2 sports, 1 Entertainment\n",
        "newdata=data.rename(index={0:'Business',1:'sports',2:'Entertainment'})\n",
        "img=sb.heatmap(newdata,annot=True,fmt='f',robust=True,linewidths=2, cmap=\"YlGnBu\")\n",
        "img.figure.savefig('CB_25.png')"
      ],
      "execution_count": null,
      "outputs": [
        {
          "output_type": "display_data",
          "data": {
            "image/png": "[encoded data removed]",
            "text/plain": [
              "<Figure size 432x288 with 2 Axes>"
            ]
          },
          "metadata": {
            "tags": [],
            "needs_background": "light"
          }
        }
      ]
    },
    {
      "cell_type": "code",
      "metadata": {
        "colab": {
          "base_uri": "https://localhost:8080/",
          "height": 280
        },
        "id": "QqJTJwhs7Q-m",
        "outputId": "366f8392-258d-4afe-a43a-3437a9f54995"
      },
      "source": [
        "accuracy,precision,recall,f1score=metrics(CF) #for  running model\n",
        "CR={'accuracy':accuracy,'precision':precision,'recall':recall,'f1score':f1score}\n",
        "data=pd.DataFrame(CR)\n",
        "#0 Business, 1 sports, 2 Entertainment\n",
        "newdata=data.rename(index={0:'Business',1:'sports',2:'Entertainment'})\n",
        "img=sb.heatmap(newdata,annot=True,fmt='f',robust=True,linewidths=2, cmap=\"YlGnBu\")\n",
        "img.figure.savefig('Saved_model.png')"
      ],
      "execution_count": null,
      "outputs": [
        {
          "output_type": "display_data",
          "data": {
            "image/png": "[encoded data removed]",
            "text/plain": [
              "<Figure size 432x288 with 2 Axes>"
            ]
          },
          "metadata": {
            "tags": [],
            "needs_background": "light"
          }
        }
      ]
    },
    {
      "cell_type": "code",
      "metadata": {
        "id": "iBn7xjGt1QD5"
      },
      "source": [
        "#saved model is better"
      ],
      "execution_count": null,
      "outputs": []
    },
    {
      "cell_type": "code",
      "metadata": {
        "colab": {
          "base_uri": "https://localhost:8080/"
        },
        "id": "gUWqy_IP1SZS",
        "outputId": "3306acfc-05cc-4e95-8fdb-2393c1695e96"
      },
      "source": [
        "mm.summary()"
      ],
      "execution_count": null,
      "outputs": [
        {
          "output_type": "stream",
          "text": [
            "Model: \"functional_3\"\n",
            "_________________________________________________________________\n",
            "Layer (type)                 Output Shape              Param #   \n",
            "=================================================================\n",
            "inputs (InputLayer)          [(None, 150)]             0         \n",
            "_________________________________________________________________\n",
            "embedding_1 (Embedding)      (None, 150, 50)           50000     \n",
            "_________________________________________________________________\n",
            "lstm_1 (LSTM)                (None, 64)                29440     \n",
            "_________________________________________________________________\n",
            "FC1 (Dense)                  (None, 256)               16640     \n",
            "_________________________________________________________________\n",
            "activation_2 (Activation)    (None, 256)               0         \n",
            "_________________________________________________________________\n",
            "dropout_1 (Dropout)          (None, 256)               0         \n",
            "_________________________________________________________________\n",
            "out_layer (Dense)            (None, 3)                 771       \n",
            "_________________________________________________________________\n",
            "activation_3 (Activation)    (None, 3)                 0         \n",
            "=================================================================\n",
            "Total params: 96,851\n",
            "Trainable params: 96,851\n",
            "Non-trainable params: 0\n",
            "_________________________________________________________________\n"
          ],
          "name": "stdout"
        }
      ]
    },
    {
      "cell_type": "code",
      "metadata": {
        "colab": {
          "base_uri": "https://localhost:8080/",
          "height": 204
        },
        "id": "3QJHBVIn2boQ",
        "outputId": "e0f14ad5-e821-4469-88e0-7a115fc77af9"
      },
      "source": [
        "df = pd.read_csv('../content/malayalam_news_test.csv',delimiter=',',encoding='utf_8_sig')\n",
        "df.head()"
      ],
      "execution_count": null,
      "outputs": [
        {
          "output_type": "execute_result",
          "data": {
            "text/html": [
              "<div>\n",
              "<style scoped>\n",
              "    .dataframe tbody tr th:only-of-type {\n",
              "        vertical-align: middle;\n",
              "    }\n",
              "\n",
              "    .dataframe tbody tr th {\n",
              "        vertical-align: top;\n",
              "    }\n",
              "\n",
              "    .dataframe thead th {\n",
              "        text-align: right;\n",
              "    }\n",
              "</style>\n",
              "<table border=\"1\" class=\"dataframe\">\n",
              "  <thead>\n",
              "    <tr style=\"text-align: right;\">\n",
              "      <th></th>\n",
              "      <th>ID</th>\n",
              "      <th>headings</th>\n",
              "    </tr>\n",
              "  </thead>\n",
              "  <tbody>\n",
              "    <tr>\n",
              "      <th>0</th>\n",
              "      <td>MAL_0001</td>\n",
              "      <td>അന്താരാഷ്ട്ര ഇന്റര്‍നെറ്റ് സേവനം താല്‍ക്കാലികമ...</td>\n",
              "    </tr>\n",
              "    <tr>\n",
              "      <th>1</th>\n",
              "      <td>MAL_0002</td>\n",
              "      <td>മഞ്ഞ് ചതിച്ചാശാനേ!!!!, ഹാന്നോവറിന്റെ പ്രതീക്ഷക...</td>\n",
              "    </tr>\n",
              "    <tr>\n",
              "      <th>2</th>\n",
              "      <td>MAL_0003</td>\n",
              "      <td>12 സീസണ്‍ എട്ടു ചാമ്ബ്യന്മാര്‍, പ്രവചിക്കാന്‍ ...</td>\n",
              "    </tr>\n",
              "    <tr>\n",
              "      <th>3</th>\n",
              "      <td>MAL_0004</td>\n",
              "      <td>\\nമുംബൈ സിറ്റിയോടു തോറ്റിട്ടും യോഗ്യത നേടി ഗോവ...</td>\n",
              "    </tr>\n",
              "    <tr>\n",
              "      <th>4</th>\n",
              "      <td>MAL_0005</td>\n",
              "      <td>മദ്യപിച്ചെത്തിയ നടന്മാര്‍ തമ്മില്‍ കയ്യാങ്കളി;...</td>\n",
              "    </tr>\n",
              "  </tbody>\n",
              "</table>\n",
              "</div>"
            ],
            "text/plain": [
              "         ID                                           headings\n",
              "0  MAL_0001  അന്താരാഷ്ട്ര ഇന്റര്‍നെറ്റ് സേവനം താല്‍ക്കാലികമ...\n",
              "1  MAL_0002  മഞ്ഞ് ചതിച്ചാശാനേ!!!!, ഹാന്നോവറിന്റെ പ്രതീക്ഷക...\n",
              "2  MAL_0003  12 സീസണ്‍ എട്ടു ചാമ്ബ്യന്മാര്‍, പ്രവചിക്കാന്‍ ...\n",
              "3  MAL_0004  \\nമുംബൈ സിറ്റിയോടു തോറ്റിട്ടും യോഗ്യത നേടി ഗോവ...\n",
              "4  MAL_0005  മദ്യപിച്ചെത്തിയ നടന്മാര്‍ തമ്മില്‍ കയ്യാങ്കളി;..."
            ]
          },
          "metadata": {
            "tags": []
          },
          "execution_count": 99
        }
      ]
    },
    {
      "cell_type": "code",
      "metadata": {
        "colab": {
          "base_uri": "https://localhost:8080/"
        },
        "id": "CrHrckDR2v7H",
        "outputId": "40c6fa81-7103-4f2d-ae6b-3f09dad3d187"
      },
      "source": [
        "df.count"
      ],
      "execution_count": null,
      "outputs": [
        {
          "output_type": "execute_result",
          "data": {
            "text/plain": [
              "<bound method DataFrame.count of             ID                                           headings\n",
              "0     MAL_0001  അന്താരാഷ്ട്ര ഇന്റര്‍നെറ്റ് സേവനം താല്‍ക്കാലികമ...\n",
              "1     MAL_0002  മഞ്ഞ് ചതിച്ചാശാനേ!!!!, ഹാന്നോവറിന്റെ പ്രതീക്ഷക...\n",
              "2     MAL_0003  12 സീസണ്‍ എട്ടു ചാമ്ബ്യന്മാര്‍, പ്രവചിക്കാന്‍ ...\n",
              "3     MAL_0004  \\nമുംബൈ സിറ്റിയോടു തോറ്റിട്ടും യോഗ്യത നേടി ഗോവ...\n",
              "4     MAL_0005  മദ്യപിച്ചെത്തിയ നടന്മാര്‍ തമ്മില്‍ കയ്യാങ്കളി;...\n",
              "...        ...                                                ...\n",
              "1255  MAL_1256  സാക്ഷാല്‍ വിരാട് കോഹ്ലിയെ പോലും ഞെട്ടിച്ച്‌ ജസ...\n",
              "1256  MAL_1257  ചാമ്ബ്യന്‍സ് ലീഗ്; ബയേണിനെ തകര്‍ത്ത് ലിവര്‍പൂള...\n",
              "1257  MAL_1258  20 രൂപയുടെ നാണയമിറക്കാന്‍ കേന്ദ്ര ധനകാര്യ മന്ത...\n",
              "1258  MAL_1259  ഇന്ത്യന്‍ സമ്ബദ് വ്യവസ്ഥ 7.3 ശതമാനം വളര്‍ച്ച ന...\n",
              "1259  MAL_1260  വൈ ദിസ് കൊലച്ചതി? ഒറ്റ രാത്രികൊണ്ട് ലക്ഷക്കണക്...\n",
              "\n",
              "[1260 rows x 2 columns]>"
            ]
          },
          "metadata": {
            "tags": []
          },
          "execution_count": 100
        }
      ]
    },
    {
      "cell_type": "code",
      "metadata": {
        "id": "a8lueO9-3CrH"
      },
      "source": [
        "X_test=df.headings"
      ],
      "execution_count": null,
      "outputs": []
    },
    {
      "cell_type": "code",
      "metadata": {
        "id": "PZ6HM7C83MaD"
      },
      "source": [
        "T_ind=df.ID"
      ],
      "execution_count": null,
      "outputs": []
    },
    {
      "cell_type": "code",
      "metadata": {
        "colab": {
          "base_uri": "https://localhost:8080/"
        },
        "id": "63xK0kwg3S12",
        "outputId": "338f24c7-88e6-4492-b953-5d1fd3467f1b"
      },
      "source": [
        "T_ind"
      ],
      "execution_count": null,
      "outputs": [
        {
          "output_type": "execute_result",
          "data": {
            "text/plain": [
              "0       MAL_0001\n",
              "1       MAL_0002\n",
              "2       MAL_0003\n",
              "3       MAL_0004\n",
              "4       MAL_0005\n",
              "          ...   \n",
              "1255    MAL_1256\n",
              "1256    MAL_1257\n",
              "1257    MAL_1258\n",
              "1258    MAL_1259\n",
              "1259    MAL_1260\n",
              "Name: ID, Length: 1260, dtype: object"
            ]
          },
          "metadata": {
            "tags": []
          },
          "execution_count": 116
        }
      ]
    },
    {
      "cell_type": "code",
      "metadata": {
        "id": "7BO2gFl93iZk"
      },
      "source": [
        "eval_sequences = tok.texts_to_sequences(X_val)\n",
        "eval_sequences_matrix = sequence.pad_sequences(test_sequences,maxlen=max_len)"
      ],
      "execution_count": null,
      "outputs": []
    },
    {
      "cell_type": "code",
      "metadata": {
        "id": "FGj8IJxS8pZO"
      },
      "source": [
        "from keras.utils import to_categorical"
      ],
      "execution_count": null,
      "outputs": []
    },
    {
      "cell_type": "code",
      "metadata": {
        "id": "HZOJmwlt88cV"
      },
      "source": [
        "Y_train_=to_categorical(Y_train)"
      ],
      "execution_count": null,
      "outputs": []
    },
    {
      "cell_type": "code",
      "metadata": {
        "colab": {
          "base_uri": "https://localhost:8080/"
        },
        "id": "JwMb4DS97ck1",
        "outputId": "0100d191-cd0d-49d4-84cf-e6f5b8d4c21c"
      },
      "source": [
        "Y_train_.shape"
      ],
      "execution_count": null,
      "outputs": [
        {
          "output_type": "execute_result",
          "data": {
            "text/plain": [
              "(4280, 3)"
            ]
          },
          "metadata": {
            "tags": []
          },
          "execution_count": 190
        }
      ]
    },
    {
      "cell_type": "code",
      "metadata": {
        "id": "rZvcnbQh7Z-f"
      },
      "source": [
        "X_=[]\n",
        "for i in  X_test:\n",
        "  X_.append(i.replace('\\u200d',''))"
      ],
      "execution_count": null,
      "outputs": []
    },
    {
      "cell_type": "code",
      "metadata": {
        "id": "M7e21iGj39zA"
      },
      "source": [
        "X__=[]\n",
        "for i in  X_:\n",
        "  X__.append(i.replace('\\u200c',''))"
      ],
      "execution_count": null,
      "outputs": []
    },
    {
      "cell_type": "code",
      "metadata": {
        "id": "n2yDvuC131fM"
      },
      "source": [
        "X_test=np.asarray(X__)"
      ],
      "execution_count": null,
      "outputs": []
    },
    {
      "cell_type": "code",
      "metadata": {
        "colab": {
          "base_uri": "https://localhost:8080/"
        },
        "id": "I0gNlzgA50jn",
        "outputId": "ee0deafd-1b6b-4a42-d155-c35267da4f3b"
      },
      "source": [
        "X_test.shape"
      ],
      "execution_count": null,
      "outputs": [
        {
          "output_type": "execute_result",
          "data": {
            "text/plain": [
              "(1260,)"
            ]
          },
          "metadata": {
            "tags": []
          },
          "execution_count": 119
        }
      ]
    },
    {
      "cell_type": "code",
      "metadata": {
        "id": "fcnhi3n-4ZV5"
      },
      "source": [
        "eval_sequences = tok.texts_to_sequences(X_test)\n",
        "eval_sequences_matrix = sequence.pad_sequences(eval_sequences,maxlen=max_len)"
      ],
      "execution_count": null,
      "outputs": []
    },
    {
      "cell_type": "code",
      "metadata": {
        "id": "dnIEVLaN7JlX"
      },
      "source": [
        "S_label=np.argmax(mm.predict(eval_sequences_matrix),1)"
      ],
      "execution_count": null,
      "outputs": []
    },
    {
      "cell_type": "code",
      "metadata": {
        "colab": {
          "base_uri": "https://localhost:8080/"
        },
        "id": "6N-ajn9E0vb6",
        "outputId": "7b1e5693-bb52-4ec6-b2c1-cab486f92564"
      },
      "source": [
        "S_label.shape"
      ],
      "execution_count": null,
      "outputs": [
        {
          "output_type": "execute_result",
          "data": {
            "text/plain": [
              "(1260,)"
            ]
          },
          "metadata": {
            "tags": []
          },
          "execution_count": 123
        }
      ]
    },
    {
      "cell_type": "code",
      "metadata": {
        "id": "7XdgLLx37WpZ"
      },
      "source": [
        "S_L=np.zeros_like(S_label)"
      ],
      "execution_count": null,
      "outputs": []
    },
    {
      "cell_type": "code",
      "metadata": {
        "id": "3-HwPEF-5CkF"
      },
      "source": [
        "CR={'ID':T_ind,'Predicted_Labels':S_label}\n",
        "data=pd.DataFrame(CR)"
      ],
      "execution_count": null,
      "outputs": []
    },
    {
      "cell_type": "code",
      "metadata": {
        "colab": {
          "base_uri": "https://localhost:8080/",
          "height": 204
        },
        "id": "_OC062BX6HLC",
        "outputId": "2f536904-5663-42a9-fad8-1f8cc7150add"
      },
      "source": [
        "data.head()"
      ],
      "execution_count": null,
      "outputs": [
        {
          "output_type": "execute_result",
          "data": {
            "text/html": [
              "<div>\n",
              "<style scoped>\n",
              "    .dataframe tbody tr th:only-of-type {\n",
              "        vertical-align: middle;\n",
              "    }\n",
              "\n",
              "    .dataframe tbody tr th {\n",
              "        vertical-align: top;\n",
              "    }\n",
              "\n",
              "    .dataframe thead th {\n",
              "        text-align: right;\n",
              "    }\n",
              "</style>\n",
              "<table border=\"1\" class=\"dataframe\">\n",
              "  <thead>\n",
              "    <tr style=\"text-align: right;\">\n",
              "      <th></th>\n",
              "      <th>ID</th>\n",
              "      <th>Predicted_Labels</th>\n",
              "    </tr>\n",
              "  </thead>\n",
              "  <tbody>\n",
              "    <tr>\n",
              "      <th>0</th>\n",
              "      <td>MAL_0001</td>\n",
              "      <td>0</td>\n",
              "    </tr>\n",
              "    <tr>\n",
              "      <th>1</th>\n",
              "      <td>MAL_0002</td>\n",
              "      <td>0</td>\n",
              "    </tr>\n",
              "    <tr>\n",
              "      <th>2</th>\n",
              "      <td>MAL_0003</td>\n",
              "      <td>2</td>\n",
              "    </tr>\n",
              "    <tr>\n",
              "      <th>3</th>\n",
              "      <td>MAL_0004</td>\n",
              "      <td>2</td>\n",
              "    </tr>\n",
              "    <tr>\n",
              "      <th>4</th>\n",
              "      <td>MAL_0005</td>\n",
              "      <td>1</td>\n",
              "    </tr>\n",
              "  </tbody>\n",
              "</table>\n",
              "</div>"
            ],
            "text/plain": [
              "         ID  Predicted_Labels\n",
              "0  MAL_0001                 0\n",
              "1  MAL_0002                 0\n",
              "2  MAL_0003                 2\n",
              "3  MAL_0004                 2\n",
              "4  MAL_0005                 1"
            ]
          },
          "metadata": {
            "tags": []
          },
          "execution_count": 140
        }
      ]
    },
    {
      "cell_type": "code",
      "metadata": {
        "id": "l8xf10gp6Hp1"
      },
      "source": [
        "newdata=data.rename(data.Predicted_Labels=={0:'Business',1:'Entertainment',2:'Sports'})"
      ],
      "execution_count": null,
      "outputs": []
    },
    {
      "cell_type": "code",
      "metadata": {
        "id": "hXJjdw7O7Fwn"
      },
      "source": [
        "newdata=data.replace({'Predicted_Labels': {0:'Business',1:'Entertainment',2:'Sports'}})"
      ],
      "execution_count": null,
      "outputs": []
    },
    {
      "cell_type": "code",
      "metadata": {
        "colab": {
          "base_uri": "https://localhost:8080/",
          "height": 204
        },
        "id": "68WQC_H27HD-",
        "outputId": "52f1f7f5-18f9-4095-f70d-b7a07d540d53"
      },
      "source": [
        "data.head()"
      ],
      "execution_count": null,
      "outputs": [
        {
          "output_type": "execute_result",
          "data": {
            "text/html": [
              "<div>\n",
              "<style scoped>\n",
              "    .dataframe tbody tr th:only-of-type {\n",
              "        vertical-align: middle;\n",
              "    }\n",
              "\n",
              "    .dataframe tbody tr th {\n",
              "        vertical-align: top;\n",
              "    }\n",
              "\n",
              "    .dataframe thead th {\n",
              "        text-align: right;\n",
              "    }\n",
              "</style>\n",
              "<table border=\"1\" class=\"dataframe\">\n",
              "  <thead>\n",
              "    <tr style=\"text-align: right;\">\n",
              "      <th></th>\n",
              "      <th>ID</th>\n",
              "      <th>Predicted_Labels</th>\n",
              "    </tr>\n",
              "  </thead>\n",
              "  <tbody>\n",
              "    <tr>\n",
              "      <th>0</th>\n",
              "      <td>MAL_0001</td>\n",
              "      <td>0</td>\n",
              "    </tr>\n",
              "    <tr>\n",
              "      <th>1</th>\n",
              "      <td>MAL_0002</td>\n",
              "      <td>0</td>\n",
              "    </tr>\n",
              "    <tr>\n",
              "      <th>2</th>\n",
              "      <td>MAL_0003</td>\n",
              "      <td>2</td>\n",
              "    </tr>\n",
              "    <tr>\n",
              "      <th>3</th>\n",
              "      <td>MAL_0004</td>\n",
              "      <td>2</td>\n",
              "    </tr>\n",
              "    <tr>\n",
              "      <th>4</th>\n",
              "      <td>MAL_0005</td>\n",
              "      <td>1</td>\n",
              "    </tr>\n",
              "  </tbody>\n",
              "</table>\n",
              "</div>"
            ],
            "text/plain": [
              "         ID  Predicted_Labels\n",
              "0  MAL_0001                 0\n",
              "1  MAL_0002                 0\n",
              "2  MAL_0003                 2\n",
              "3  MAL_0004                 2\n",
              "4  MAL_0005                 1"
            ]
          },
          "metadata": {
            "tags": []
          },
          "execution_count": 150
        }
      ]
    },
    {
      "cell_type": "code",
      "metadata": {
        "colab": {
          "base_uri": "https://localhost:8080/",
          "height": 204
        },
        "id": "tiWjmCo-8edF",
        "outputId": "9e1d6fe8-00eb-40b4-b4fb-87f1a8d10972"
      },
      "source": [
        "newdata.head()"
      ],
      "execution_count": null,
      "outputs": [
        {
          "output_type": "execute_result",
          "data": {
            "text/html": [
              "<div>\n",
              "<style scoped>\n",
              "    .dataframe tbody tr th:only-of-type {\n",
              "        vertical-align: middle;\n",
              "    }\n",
              "\n",
              "    .dataframe tbody tr th {\n",
              "        vertical-align: top;\n",
              "    }\n",
              "\n",
              "    .dataframe thead th {\n",
              "        text-align: right;\n",
              "    }\n",
              "</style>\n",
              "<table border=\"1\" class=\"dataframe\">\n",
              "  <thead>\n",
              "    <tr style=\"text-align: right;\">\n",
              "      <th></th>\n",
              "      <th>ID</th>\n",
              "      <th>Predicted_Labels</th>\n",
              "    </tr>\n",
              "  </thead>\n",
              "  <tbody>\n",
              "    <tr>\n",
              "      <th>0</th>\n",
              "      <td>MAL_0001</td>\n",
              "      <td>Business</td>\n",
              "    </tr>\n",
              "    <tr>\n",
              "      <th>1</th>\n",
              "      <td>MAL_0002</td>\n",
              "      <td>Business</td>\n",
              "    </tr>\n",
              "    <tr>\n",
              "      <th>2</th>\n",
              "      <td>MAL_0003</td>\n",
              "      <td>Sports</td>\n",
              "    </tr>\n",
              "    <tr>\n",
              "      <th>3</th>\n",
              "      <td>MAL_0004</td>\n",
              "      <td>Sports</td>\n",
              "    </tr>\n",
              "    <tr>\n",
              "      <th>4</th>\n",
              "      <td>MAL_0005</td>\n",
              "      <td>Entertainment</td>\n",
              "    </tr>\n",
              "  </tbody>\n",
              "</table>\n",
              "</div>"
            ],
            "text/plain": [
              "         ID Predicted_Labels\n",
              "0  MAL_0001         Business\n",
              "1  MAL_0002         Business\n",
              "2  MAL_0003           Sports\n",
              "3  MAL_0004           Sports\n",
              "4  MAL_0005    Entertainment"
            ]
          },
          "metadata": {
            "tags": []
          },
          "execution_count": 152
        }
      ]
    },
    {
      "cell_type": "code",
      "metadata": {
        "id": "k4oc1vjY-zjt"
      },
      "source": [
        "newdata.to_csv('19015_Task_1_submission-1.csv')"
      ],
      "execution_count": null,
      "outputs": []
    }
  ]
}